{
 "cells": [
  {
   "cell_type": "markdown",
   "id": "1412ed3f-2d1c-41a5-9967-e40649596f29",
   "metadata": {},
   "source": [
    "常用的库：\n",
    "BeautifulSoup \n",
    "requests ，httpx， 前者不支持异步，后者支持。\n",
    "\n",
    "常使用的接口\n",
    "\n"
   ]
  },
  {
   "cell_type": "code",
   "execution_count": 2,
   "id": "4d121bf0-e839-40dd-9080-493ec3999190",
   "metadata": {},
   "outputs": [],
   "source": [
    "import requests\n",
    "response = requests.get('https://httpbin.org/get', headers={'User-Agent': 'My App'})"
   ]
  },
  {
   "cell_type": "code",
   "execution_count": 3,
   "id": "4428a3fb-8d3a-4fe5-a03d-a31ea13adc81",
   "metadata": {},
   "outputs": [],
   "source": [
    "response = requests.get('https://httpbin.org/cookies', cookies={'session_id': '12345'})"
   ]
  },
  {
   "cell_type": "code",
   "execution_count": 4,
   "id": "9e25e007-c825-40f9-b345-875499cae6ba",
   "metadata": {},
   "outputs": [],
   "source": [
    "response = requests.get('https://httpbin.org/basic-auth/user/passwd', auth=('user', 'passwd'))"
   ]
  },
  {
   "cell_type": "code",
   "execution_count": 2,
   "id": "b3cffb2c-3eb4-41d1-8863-031a272b553f",
   "metadata": {},
   "outputs": [],
   "source": [
    "#response = requests.get('https://httpbin.org/get', verify='/path/to/certfile')"
   ]
  },
  {
   "cell_type": "markdown",
   "id": "819e3cf5-7088-4cbb-9d27-4dcad70d3d05",
   "metadata": {},
   "source": [
    "response对象\n",
    "\n",
    ".text 返回网页字符串内容。HTML\n",
    "\n",
    ".content 返回网页二进制内容。图片文件\n",
    "\n",
    ".json 返回的json\n",
    "\n",
    ".cookies 返回服务器设置的 Cookie 信息"
   ]
  },
  {
   "cell_type": "markdown",
   "id": "6fe5976f-6926-4f87-bfdc-4bca725d34ba",
   "metadata": {},
   "source": [
    "Beautifulsoup\n",
    "[📄](https://www.crummy.com/software/BeautifulSoup/bs4/doc.zh/)"
   ]
  },
  {
   "cell_type": "code",
   "execution_count": 4,
   "id": "503e2b6b-160c-4275-a12b-945dada6d3b4",
   "metadata": {},
   "outputs": [
    {
     "ename": "NameError",
     "evalue": "name 'soup' is not defined",
     "output_type": "error",
     "traceback": [
      "\u001b[1;31m---------------------------------------------------------------------------\u001b[0m",
      "\u001b[1;31mNameError\u001b[0m                                 Traceback (most recent call last)",
      "Cell \u001b[1;32mIn[4], line 2\u001b[0m\n\u001b[0;32m      1\u001b[0m \u001b[38;5;66;03m# 找第一个class=\"price\"的元素\u001b[39;00m\n\u001b[1;32m----> 2\u001b[0m price \u001b[38;5;241m=\u001b[39m \u001b[43msoup\u001b[49m\u001b[38;5;241m.\u001b[39mfind(\u001b[38;5;124m'\u001b[39m\u001b[38;5;124mspan\u001b[39m\u001b[38;5;124m'\u001b[39m, class_\u001b[38;5;241m=\u001b[39m\u001b[38;5;124m'\u001b[39m\u001b[38;5;124mprice\u001b[39m\u001b[38;5;124m'\u001b[39m)\u001b[38;5;241m.\u001b[39mtext \u001b[38;5;66;03m# tag-class\u001b[39;00m\n\u001b[0;32m      3\u001b[0m \u001b[38;5;66;03m# 找所有商品标题\u001b[39;00m\n\u001b[0;32m      4\u001b[0m titles \u001b[38;5;241m=\u001b[39m soup\u001b[38;5;241m.\u001b[39mfind_all(\u001b[38;5;124m'\u001b[39m\u001b[38;5;124mh3\u001b[39m\u001b[38;5;124m'\u001b[39m, class_\u001b[38;5;241m=\u001b[39m\u001b[38;5;124m'\u001b[39m\u001b[38;5;124mproduct-title\u001b[39m\u001b[38;5;124m'\u001b[39m)\n",
      "\u001b[1;31mNameError\u001b[0m: name 'soup' is not defined"
     ]
    }
   ],
   "source": [
    "# 找第一个class=\"price\"的元素\n",
    "price = soup.find('span', class_='price').text # tag-class\n",
    "# 找所有商品标题\n",
    "titles = soup.find_all('h3', class_='product-title')\n",
    "# 用CSS选择器\n",
    "links = soup.select('div.product a') # css选择器\n",
    "for link in links:\n",
    "    print(link.get('href')) # 获取属性\n",
    "    \n",
    "select('[data-testid=\"product-item\"]') # data-* 属性"
   ]
  },
  {
   "cell_type": "code",
   "execution_count": null,
   "id": "116883a5-374b-4f56-a9ce-d5ed91d8858a",
   "metadata": {},
   "outputs": [],
   "source": []
  }
 ],
 "metadata": {
  "kernelspec": {
   "display_name": "Python 3 (ipykernel)",
   "language": "python",
   "name": "python3"
  },
  "language_info": {
   "codemirror_mode": {
    "name": "ipython",
    "version": 3
   },
   "file_extension": ".py",
   "mimetype": "text/x-python",
   "name": "python",
   "nbconvert_exporter": "python",
   "pygments_lexer": "ipython3",
   "version": "3.12.9"
  }
 },
 "nbformat": 4,
 "nbformat_minor": 5
}
