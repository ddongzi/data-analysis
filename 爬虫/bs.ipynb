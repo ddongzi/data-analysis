{
 "cells": [
  {
   "cell_type": "markdown",
   "id": "c349d14b-e49f-4cce-b4ce-8690cf5a38e3",
   "metadata": {},
   "source": [
    "数据分析岗位各地查询"
   ]
  },
  {
   "cell_type": "code",
   "execution_count": 8,
   "id": "04fd718f-2ab6-40f3-9528-12fed9a4a063",
   "metadata": {},
   "outputs": [],
   "source": [
    "import pandas as pd\n",
    "import time"
   ]
  },
  {
   "cell_type": "markdown",
   "id": "d8e42a3c-bcfd-4791-880c-050e8c569b83",
   "metadata": {},
   "source": [
    "# 数据爬取"
   ]
  },
  {
   "cell_type": "markdown",
   "id": "4f3e770d-fba0-4dec-83b7-7aa3af7800c7",
   "metadata": {},
   "source": [
    "检测到： {'code': 37, 'message': '您的访问行为异常.', 'zpData': {'name': '823dca69', 'seed': 'Qt0I/5byzEFz1Ignq67HMhnxEbz1W0Hm00KAO1E6YkM=', 'ts': 1745986904233}"
   ]
  },
  {
   "cell_type": "code",
   "execution_count": null,
   "id": "774f5897-c088-4684-b2e4-eb54897c01c3",
   "metadata": {},
   "outputs": [],
   "source": []
  },
  {
   "cell_type": "markdown",
   "id": "86f55792-f8b2-48a1-af9f-6cb987a9ccd2",
   "metadata": {},
   "source": [
    "## 热门城市代码\n",
    "全国默认是本地位置"
   ]
  },
  {
   "cell_type": "code",
   "execution_count": 5,
   "id": "13d84dee-5ced-4b69-8ad6-073fd8a5db4e",
   "metadata": {},
   "outputs": [],
   "source": [
    "import requests\n",
    "\n",
    "cookies = {\n",
    "    'ab_guid': '7787d41d-10fa-475b-8c64-5884f0b64fd9',\n",
    "    '__g': '-',\n",
    "    'Hm_lvt_194df3105ad7148dcf2b98a91b5e727a': '1745977504',\n",
    "    'Hm_lpvt_194df3105ad7148dcf2b98a91b5e727a': '1745977504',\n",
    "    'HMACCOUNT': 'B2926F6A1FF51613',\n",
    "    '__l': 'l=%2Fwww.zhipin.com%2Fweb%2Fgeek%2Fjobs%3Fcity%3D100010000%26query%3D%25E6%2595%25B0%25E6%258D%25AE%25E5%2588%2586%25E6%259E%2590&r=&g=&s=3&friend_source=0&s=3&friend_source=0',\n",
    "    '__zp_stoken__': '5fc2fPz7DkMK%2BwpvCsjUoDwIDCQQzKD4%2BLRAwPyI1PzQ%2FPjs9Sj8%2BMx84L14owrwtVsOPTD8uPz5KPz0xPjswHj9KxL3CvjI8IG0swrIvV8OCAsOrwr5YfhrDkMK%2FLMOywr8uwp3CviwtUsK9PzI2OMOuwrkywrPDqMK8P8K3w67Csj7DijI%2BOD4lPgADBws%2BPklJWAxIVU5WakQOQURFKDgzOTvCjsKXJTgEAAYABQsPDQ8OBwMBDAkLDw0PDgIOCA4PIz%2FCnMK%2Bwp3CisOqccOoxJnCnUPDuFvCr1nCtlnCmkbEiknCpcKYwpZLT8K2wpxNwpnCr8KTUUFtUsKzwqZATX3CpGBYw4rCrU51BmEGwrJhBQRXUAE7GsK7w7fDiQ%3D%3D',\n",
    "    'wt2': 'DadorIlG3_JEWP9MUxvxVX_wWYaQXjNBCowNg1ZIhC2y4w946BSZV-WQ2ELfx8JNR0smAysQO221s5e-9C2g3Cw~~',\n",
    "    'wbg': '0',\n",
    "    'zp_at': '7V-IOtB8flLdaWan4t0E9A3qGonw2g080z6KroDaAxY~',\n",
    "    'bst': 'V2RNomF-H53VxrVtRuyxsRKSi27DrRwSU~|RNomF-H53VxrVtRuyxsRKSi27DrTxS4~',\n",
    "    '__c': '1745977504',\n",
    "    '__a': '35794977.1745977504..1745977504.7.1.7.7',\n",
    "}\n",
    "\n",
    "headers = {\n",
    "    'accept': 'application/json, text/plain, */*',\n",
    "    'accept-language': 'zh-CN,zh;q=0.9,en-US;q=0.8,en-GB;q=0.7,en;q=0.6',\n",
    "    'priority': 'u=1, i',\n",
    "    'referer': 'https://www.zhipin.com/web/geek/jobs',\n",
    "    'sec-ch-ua': '\"Google Chrome\";v=\"135\", \"Not-A.Brand\";v=\"8\", \"Chromium\";v=\"135\"',\n",
    "    'sec-ch-ua-mobile': '?0',\n",
    "    'sec-ch-ua-platform': '\"Windows\"',\n",
    "    'sec-fetch-dest': 'empty',\n",
    "    'sec-fetch-mode': 'cors',\n",
    "    'sec-fetch-site': 'same-origin',\n",
    "    'token': '7POhjANg9h7YXynU',\n",
    "    'traceid': 'F-6730a6Snt7Ox4pR8',\n",
    "    'user-agent': 'Mozilla/5.0 (Windows NT 10.0; Win64; x64) AppleWebKit/537.36 (KHTML, like Gecko) Chrome/135.0.0.0 Safari/537.36',\n",
    "    'x-requested-with': 'XMLHttpRequest',\n",
    "    'zp_token': 'V2RNomF-H53VxrVtRuyxsRKSi27DrRwSU~|RNomF-H53VxrVtRuyxsRKSi27DrTxS4~',\n",
    "    # 'cookie': 'ab_guid=7787d41d-10fa-475b-8c64-5884f0b64fd9; __g=-; Hm_lvt_194df3105ad7148dcf2b98a91b5e727a=1745977504; Hm_lpvt_194df3105ad7148dcf2b98a91b5e727a=1745977504; HMACCOUNT=B2926F6A1FF51613; __l=l=%2Fwww.zhipin.com%2Fweb%2Fgeek%2Fjobs%3Fcity%3D100010000%26query%3D%25E6%2595%25B0%25E6%258D%25AE%25E5%2588%2586%25E6%259E%2590&r=&g=&s=3&friend_source=0&s=3&friend_source=0; __zp_stoken__=5fc2fPz7DkMK%2BwpvCsjUoDwIDCQQzKD4%2BLRAwPyI1PzQ%2FPjs9Sj8%2BMx84L14owrwtVsOPTD8uPz5KPz0xPjswHj9KxL3CvjI8IG0swrIvV8OCAsOrwr5YfhrDkMK%2FLMOywr8uwp3CviwtUsK9PzI2OMOuwrkywrPDqMK8P8K3w67Csj7DijI%2BOD4lPgADBws%2BPklJWAxIVU5WakQOQURFKDgzOTvCjsKXJTgEAAYABQsPDQ8OBwMBDAkLDw0PDgIOCA4PIz%2FCnMK%2Bwp3CisOqccOoxJnCnUPDuFvCr1nCtlnCmkbEiknCpcKYwpZLT8K2wpxNwpnCr8KTUUFtUsKzwqZATX3CpGBYw4rCrU51BmEGwrJhBQRXUAE7GsK7w7fDiQ%3D%3D; wt2=DadorIlG3_JEWP9MUxvxVX_wWYaQXjNBCowNg1ZIhC2y4w946BSZV-WQ2ELfx8JNR0smAysQO221s5e-9C2g3Cw~~; wbg=0; zp_at=7V-IOtB8flLdaWan4t0E9A3qGonw2g080z6KroDaAxY~; bst=V2RNomF-H53VxrVtRuyxsRKSi27DrRwSU~|RNomF-H53VxrVtRuyxsRKSi27DrTxS4~; __c=1745977504; __a=35794977.1745977504..1745977504.7.1.7.7',\n",
    "}\n",
    "\n",
    "params = {\n",
    "    '_': '1745978077350',\n",
    "}\n",
    "\n",
    "response = requests.get(\n",
    "    'https://www.zhipin.com/wapi/zpCommon/data/cityGroup.json',\n",
    "    params=params,\n",
    "    cookies=cookies,\n",
    "    headers=headers,\n",
    ")"
   ]
  },
  {
   "cell_type": "code",
   "execution_count": 94,
   "id": "fb9bdc84-922f-4912-aa1b-29a49557ccb2",
   "metadata": {},
   "outputs": [],
   "source": [
    "cities = []\n",
    "for city in response.json()['zpData']['hotCityList']:\n",
    "    cities.append({'name':city['name'], 'cityCode':city['cityCode'], 'code':city['code']})\n",
    "df_city=pd.DataFrame(cities)\n",
    "df_city.to_excel(f'cities.xlsx')"
   ]
  },
  {
   "cell_type": "code",
   "execution_count": 24,
   "id": "7f10c90c-28e0-40f2-9c01-fe0b9aed17c6",
   "metadata": {},
   "outputs": [],
   "source": [
    "cities = pd.read_excel('cities.xlsx')\n"
   ]
  },
  {
   "cell_type": "code",
   "execution_count": 25,
   "id": "247782c5-4e7e-4db7-9f88-b30aaa4089cd",
   "metadata": {},
   "outputs": [
    {
     "data": {
      "text/html": [
       "<div>\n",
       "<style scoped>\n",
       "    .dataframe tbody tr th:only-of-type {\n",
       "        vertical-align: middle;\n",
       "    }\n",
       "\n",
       "    .dataframe tbody tr th {\n",
       "        vertical-align: top;\n",
       "    }\n",
       "\n",
       "    .dataframe thead th {\n",
       "        text-align: right;\n",
       "    }\n",
       "</style>\n",
       "<table border=\"1\" class=\"dataframe\">\n",
       "  <thead>\n",
       "    <tr style=\"text-align: right;\">\n",
       "      <th></th>\n",
       "      <th>Unnamed: 0</th>\n",
       "      <th>name</th>\n",
       "      <th>cityCode</th>\n",
       "      <th>code</th>\n",
       "    </tr>\n",
       "  </thead>\n",
       "  <tbody>\n",
       "    <tr>\n",
       "      <th>0</th>\n",
       "      <td>0</td>\n",
       "      <td>全国</td>\n",
       "      <td>NaN</td>\n",
       "      <td>100010000</td>\n",
       "    </tr>\n",
       "    <tr>\n",
       "      <th>1</th>\n",
       "      <td>1</td>\n",
       "      <td>北京</td>\n",
       "      <td>10.0</td>\n",
       "      <td>101010100</td>\n",
       "    </tr>\n",
       "    <tr>\n",
       "      <th>2</th>\n",
       "      <td>2</td>\n",
       "      <td>上海</td>\n",
       "      <td>21.0</td>\n",
       "      <td>101020100</td>\n",
       "    </tr>\n",
       "    <tr>\n",
       "      <th>3</th>\n",
       "      <td>3</td>\n",
       "      <td>广州</td>\n",
       "      <td>20.0</td>\n",
       "      <td>101280100</td>\n",
       "    </tr>\n",
       "    <tr>\n",
       "      <th>4</th>\n",
       "      <td>4</td>\n",
       "      <td>深圳</td>\n",
       "      <td>755.0</td>\n",
       "      <td>101280600</td>\n",
       "    </tr>\n",
       "    <tr>\n",
       "      <th>5</th>\n",
       "      <td>5</td>\n",
       "      <td>杭州</td>\n",
       "      <td>571.0</td>\n",
       "      <td>101210100</td>\n",
       "    </tr>\n",
       "    <tr>\n",
       "      <th>6</th>\n",
       "      <td>6</td>\n",
       "      <td>天津</td>\n",
       "      <td>22.0</td>\n",
       "      <td>101030100</td>\n",
       "    </tr>\n",
       "    <tr>\n",
       "      <th>7</th>\n",
       "      <td>7</td>\n",
       "      <td>西安</td>\n",
       "      <td>29.0</td>\n",
       "      <td>101110100</td>\n",
       "    </tr>\n",
       "    <tr>\n",
       "      <th>8</th>\n",
       "      <td>8</td>\n",
       "      <td>苏州</td>\n",
       "      <td>512.0</td>\n",
       "      <td>101190400</td>\n",
       "    </tr>\n",
       "    <tr>\n",
       "      <th>9</th>\n",
       "      <td>9</td>\n",
       "      <td>武汉</td>\n",
       "      <td>27.0</td>\n",
       "      <td>101200100</td>\n",
       "    </tr>\n",
       "    <tr>\n",
       "      <th>10</th>\n",
       "      <td>10</td>\n",
       "      <td>厦门</td>\n",
       "      <td>592.0</td>\n",
       "      <td>101230200</td>\n",
       "    </tr>\n",
       "    <tr>\n",
       "      <th>11</th>\n",
       "      <td>11</td>\n",
       "      <td>长沙</td>\n",
       "      <td>731.0</td>\n",
       "      <td>101250100</td>\n",
       "    </tr>\n",
       "    <tr>\n",
       "      <th>12</th>\n",
       "      <td>12</td>\n",
       "      <td>成都</td>\n",
       "      <td>28.0</td>\n",
       "      <td>101270100</td>\n",
       "    </tr>\n",
       "    <tr>\n",
       "      <th>13</th>\n",
       "      <td>13</td>\n",
       "      <td>郑州</td>\n",
       "      <td>371.0</td>\n",
       "      <td>101180100</td>\n",
       "    </tr>\n",
       "    <tr>\n",
       "      <th>14</th>\n",
       "      <td>14</td>\n",
       "      <td>重庆</td>\n",
       "      <td>23.0</td>\n",
       "      <td>101040100</td>\n",
       "    </tr>\n",
       "  </tbody>\n",
       "</table>\n",
       "</div>"
      ],
      "text/plain": [
       "    Unnamed: 0 name  cityCode       code\n",
       "0            0   全国       NaN  100010000\n",
       "1            1   北京      10.0  101010100\n",
       "2            2   上海      21.0  101020100\n",
       "3            3   广州      20.0  101280100\n",
       "4            4   深圳     755.0  101280600\n",
       "5            5   杭州     571.0  101210100\n",
       "6            6   天津      22.0  101030100\n",
       "7            7   西安      29.0  101110100\n",
       "8            8   苏州     512.0  101190400\n",
       "9            9   武汉      27.0  101200100\n",
       "10          10   厦门     592.0  101230200\n",
       "11          11   长沙     731.0  101250100\n",
       "12          12   成都      28.0  101270100\n",
       "13          13   郑州     371.0  101180100\n",
       "14          14   重庆      23.0  101040100"
      ]
     },
     "execution_count": 25,
     "metadata": {},
     "output_type": "execute_result"
    }
   ],
   "source": [
    "cities"
   ]
  },
  {
   "cell_type": "markdown",
   "id": "9f64d7a4-566f-4155-b334-22014f44a3e6",
   "metadata": {},
   "source": [
    "## jobList"
   ]
  },
  {
   "cell_type": "code",
   "execution_count": 4,
   "id": "8ba2714f-9d5a-42c1-bf5f-87043256331d",
   "metadata": {},
   "outputs": [],
   "source": [
    "# list返回的信息\n",
    "columns = [\n",
    "    'areaDistrict', 'bossCert', 'bossName', 'bossTitle', 'brandIndustry',\n",
    "    'brandName', 'brandScaleName', 'brandStageName', 'businessDistrict',\n",
    "    'city', 'cityName', 'contact', 'daysPerWeekDesc', 'encryptBossId',\n",
    "    'encryptBrandId', 'encryptJobId', 'expectId', 'goldHunter',\n",
    "    'jobDegree', 'jobExperience', 'jobLabels', 'jobName',\n",
    "    'securityId', 'salaryDesc', 'skills', 'welfareList'\n",
    "]\n",
    "\n",
    "df_joblist = pd.DataFrame(columns=columns)\n",
    "df_joblist.set_index('securityId', inplace=True)"
   ]
  },
  {
   "cell_type": "code",
   "execution_count": null,
   "id": "d21d7891-483d-4d72-b971-814bc37984cc",
   "metadata": {},
   "outputs": [],
   "source": []
  },
  {
   "cell_type": "markdown",
   "id": "08f22930-3ad6-43c2-a77b-c1f405109daa",
   "metadata": {},
   "source": [
    "jobdetail "
   ]
  },
  {
   "cell_type": "code",
   "execution_count": 114,
   "id": "33b4a9a0-4036-46b7-b26a-3df6778fb297",
   "metadata": {},
   "outputs": [],
   "source": [
    "# 现在没有用\n",
    "import pandas as pd\n",
    "\n",
    "columns = [\n",
    "    'boss_brandName',\n",
    "    'boss_certificated',\n",
    "    'boss_name',\n",
    "    'boss_title',\n",
    "    'brand_name',\n",
    "    'brand_customerBrandName',\n",
    "    'brand_customerBrandStageName',\n",
    "    'brand_encryptBrandId',\n",
    "    'brand_industry',\n",
    "    'brand_industryName',\n",
    "    'brand_introduce',\n",
    "    'brand_labels',\n",
    "    'brand_scale',\n",
    "    'brand_scaleName',\n",
    "    'brand_stage',\n",
    "    'brand_stageName',\n",
    "    'job_address',\n",
    "    'job_degreeName',\n",
    "    'job_encryptAddressId',\n",
    "    'job_encryptId',\n",
    "    'job_encryptUserId',\n",
    "    'job_experienceName',\n",
    "    'job_invalidStatus',\n",
    "    'job_name',\n",
    "    'job_status',\n",
    "    'job_type',\n",
    "    'job_latitude',\n",
    "    'job_longitude',\n",
    "    'job_location',\n",
    "    'job_locationName',\n",
    "    'job_position',\n",
    "    'job_positionName',\n",
    "    'job_postDescription',\n",
    "    'job_proxyJob',\n",
    "    'job_proxyType',\n",
    "    'job_salaryDesc',\n",
    "    'job_showSkills',\n",
    "    'securityId'\n",
    "]\n",
    "\n",
    "df_jobdetail = pd.DataFrame(columns=columns)\n",
    "df_jobdetail.set_index('securityId', inplace=True)\n"
   ]
  },
  {
   "cell_type": "markdown",
   "id": "d81f48b8-cdce-4c8f-a7ce-a288235d7746",
   "metadata": {},
   "source": [
    "下面都是joblist"
   ]
  },
  {
   "cell_type": "code",
   "execution_count": 9,
   "id": "2e2db413-3cc5-4984-a6c9-ee7a32261b33",
   "metadata": {},
   "outputs": [],
   "source": [
    "import requests\n",
    "\n",
    "cookies = {\n",
    "    'ab_guid': '7787d41d-10fa-475b-8c64-5884f0b64fd9',\n",
    "    'wt2': 'DadorIlG3_JEWP9MUxvxVX_wWYaQXjNBCowNg1ZIhC2y4w946BSZV-WQ2ELfx8JNR0smAysQO221s5e-9C2g3Cw~~',\n",
    "    'wbg': '0',\n",
    "    'zp_at': '7V-IOtB8flLdaWan4t0E9A3qGonw2g080z6KroDaAxY~',\n",
    "    'lastCity': '101270100',\n",
    "    '__g': '-',\n",
    "    'Hm_lvt_194df3105ad7148dcf2b98a91b5e727a': '1745977504,1746523892',\n",
    "    'HMACCOUNT': 'B2926F6A1FF51613',\n",
    "    '__l': 'l=%2Fwww.zhipin.com%2Fchengdu%2F%3FseoRefer%3Dindex&r=&g=&s=3&friend_source=0&s=3&friend_source=0',\n",
    "    'Hm_lpvt_194df3105ad7148dcf2b98a91b5e727a': '1746523904',\n",
    "    '__zp_stoken__': '7ddffTlLDs8OQwq3DkU87KSUeIShXPE1SQDtUTkZYS1hOUkpNVk5SUitMPsSCw4xUxIVGccOhwplPO1JKWE9OUEpLUitSVsWRw4xPU0XEisORWcSAQnjDnCFbHcKDIFnDkx1qw48pw53Dij9Bb8OUUVBUTcSJw4tQw5PDvcOTUcOXw7zDj1nDllBMTVlHTCIkGh1MTFpobB5admlyeGYbYGhpOk1OS0vCnMK4PEwcICElHRoeHyMbJSkoHSUdISAkHBsfHiIaQ0%2FCssOZwqzCisaPesSHxKvCscOXw7vCuMKtacOFYsK2w4fDhcOKw4fChGhmwqPDhcOQX8OWW8OJbcKvwpLCrMKGfcOOw4hzZsKVw5bDjnTDjsOOa8KJwpbCkyEncnZzGk0oc8OI',\n",
    "    'bst': 'V2RNomF-H53VxrVtRuyxodKSO07DrexS4~|RNomF-H53VxrVtRuyxodKSO07DrWzCQ~',\n",
    "    '__c': '1746523892',\n",
    "    '__a': '35794977.1745977504.1745977504.1746523892.13.2.5.13',\n",
    "}\n",
    "\n",
    "headers = {\n",
    "    'accept': 'application/json, text/plain, */*',\n",
    "    'accept-language': 'zh-CN,zh;q=0.9,en-US;q=0.8,en-GB;q=0.7,en;q=0.6',\n",
    "    'priority': 'u=1, i',\n",
    "    'referer': 'https://www.zhipin.com/web/geek/jobs?city=101010100&query=%E6%95%B0%E6%8D%AE%E5%88%86%E6%9E%90%E5%B8%88',\n",
    "    'sec-ch-ua': '\"Google Chrome\";v=\"135\", \"Not-A.Brand\";v=\"8\", \"Chromium\";v=\"135\"',\n",
    "    'sec-ch-ua-mobile': '?0',\n",
    "    'sec-ch-ua-platform': '\"Windows\"',\n",
    "    'sec-fetch-dest': 'empty',\n",
    "    'sec-fetch-mode': 'cors',\n",
    "    'sec-fetch-site': 'same-origin',\n",
    "    'token': '7POhjANg9h7YXynU',\n",
    "    'traceid': 'F-f044555ieyRiXm27',\n",
    "    'user-agent': 'Mozilla/5.0 (Windows NT 10.0; Win64; x64) AppleWebKit/537.36 (KHTML, like Gecko) Chrome/135.0.0.0 Safari/537.36',\n",
    "    'x-requested-with': 'XMLHttpRequest',\n",
    "    'zp_token': 'V2RNomF-H53VxrVtRuyxodKSO07DrexS4~|RNomF-H53VxrVtRuyxodKSO07DrWzCQ~',\n",
    "    # 'cookie': 'ab_guid=7787d41d-10fa-475b-8c64-5884f0b64fd9; wt2=DadorIlG3_JEWP9MUxvxVX_wWYaQXjNBCowNg1ZIhC2y4w946BSZV-WQ2ELfx8JNR0smAysQO221s5e-9C2g3Cw~~; wbg=0; zp_at=7V-IOtB8flLdaWan4t0E9A3qGonw2g080z6KroDaAxY~; lastCity=101270100; __g=-; Hm_lvt_194df3105ad7148dcf2b98a91b5e727a=1745977504,1746523892; HMACCOUNT=B2926F6A1FF51613; __l=l=%2Fwww.zhipin.com%2Fchengdu%2F%3FseoRefer%3Dindex&r=&g=&s=3&friend_source=0&s=3&friend_source=0; Hm_lpvt_194df3105ad7148dcf2b98a91b5e727a=1746523904; __zp_stoken__=7ddffTlLDs8OQwq3DkU87KSUeIShXPE1SQDtUTkZYS1hOUkpNVk5SUitMPsSCw4xUxIVGccOhwplPO1JKWE9OUEpLUitSVsWRw4xPU0XEisORWcSAQnjDnCFbHcKDIFnDkx1qw48pw53Dij9Bb8OUUVBUTcSJw4tQw5PDvcOTUcOXw7zDj1nDllBMTVlHTCIkGh1MTFpobB5admlyeGYbYGhpOk1OS0vCnMK4PEwcICElHRoeHyMbJSkoHSUdISAkHBsfHiIaQ0%2FCssOZwqzCisaPesSHxKvCscOXw7vCuMKtacOFYsK2w4fDhcOKw4fChGhmwqPDhcOQX8OWW8OJbcKvwpLCrMKGfcOOw4hzZsKVw5bDjnTDjsOOa8KJwpbCkyEncnZzGk0oc8OI; bst=V2RNomF-H53VxrVtRuyxodKSO07DrexS4~|RNomF-H53VxrVtRuyxodKSO07DrWzCQ~; __c=1746523892; __a=35794977.1745977504.1745977504.1746523892.13.2.5.13',\n",
    "}\n",
    "\n",
    "params = {\n",
    "    'page': '1',\n",
    "    'pageSize': '15',\n",
    "    'city': '101010100',\n",
    "    'query': '数据分析师',\n",
    "    'expectInfo': '',\n",
    "    'multiSubway': '',\n",
    "    'multiBusinessDistrict': '',\n",
    "    'position': '',\n",
    "    'jobType': '',\n",
    "    'salary': '',\n",
    "    'experience': '',\n",
    "    'degree': '',\n",
    "    'industry': '',\n",
    "    'scale': '',\n",
    "    'stage': '',\n",
    "    'scene': '1',\n",
    "    '_': '1746523931733',\n",
    "}\n",
    "\n"
   ]
  },
  {
   "cell_type": "code",
   "execution_count": null,
   "id": "15c4eda5-3cef-4005-a232-d10927667479",
   "metadata": {},
   "outputs": [],
   "source": []
  },
  {
   "cell_type": "code",
   "execution_count": 10,
   "id": "4648cf98-ff1b-49a6-97b6-180f74a569d7",
   "metadata": {},
   "outputs": [],
   "source": [
    "# 测试：一次\n",
    "params['_'] = str(int(time.time() * 1000))\n",
    "response = requests.get('https://www.zhipin.com/wapi/zpgeek/search/joblist.json', params=params, cookies=cookies, headers=headers)"
   ]
  },
  {
   "cell_type": "code",
   "execution_count": null,
   "id": "150359a6-066e-4c75-9e45-62828b9abec3",
   "metadata": {},
   "outputs": [],
   "source": []
  },
  {
   "cell_type": "code",
   "execution_count": null,
   "id": "d8e17b90-796f-4398-bd0c-b412a0296483",
   "metadata": {},
   "outputs": [],
   "source": []
  },
  {
   "cell_type": "code",
   "execution_count": 12,
   "id": "e225fdf2-0e53-472e-8731-71a5ff2231e9",
   "metadata": {},
   "outputs": [],
   "source": [
    "# 解析一行 list返回的消息\n",
    "def parse_joblist(result):\n",
    "    row = {\n",
    "        'areaDistrict': result.get('areaDistrict', ''),\n",
    "        'bossCert': result.get('bossCert', 0),\n",
    "        'bossName': result.get('bossName', ''),\n",
    "        'bossTitle': result.get('bossTitle', ''),\n",
    "        'brandIndustry': result.get('brandIndustry', 0),\n",
    "        'brandName': result.get('brandName', ''),\n",
    "        'brandScaleName': result.get('brandScaleName', ''),\n",
    "        'brandStageName': result.get('brandStageName', ''),\n",
    "        'businessDistrict': result.get('businessDistrict', ''),\n",
    "        'city': result.get('city', 0),\n",
    "        'cityName': result.get('cityName', ''),\n",
    "        'contact': result.get('contact', False),\n",
    "        'daysPerWeekDesc': result.get('daysPerWeekDesc', ''),\n",
    "        'encryptBossId': result.get('encryptBossId', ''),\n",
    "        'encryptBrandId': result.get('encryptBrandId', ''),\n",
    "        'encryptJobId': result.get('encryptJobId', ''),\n",
    "        'expectId': result.get('expectId', ''),\n",
    "        'goldHunter': result.get('goldHunter', 0),\n",
    "        'jobDegree': result.get('jobDegree', ''),\n",
    "        'jobExperience': result.get('jobExperience', ''),\n",
    "        'jobName': result.get('jobName', ''),\n",
    "        'securityId': result.get('securityId', ''),\n",
    "        'salaryDesc': result.get('salaryDesc', ''),\n",
    "        'jobLabels': ','.join(result.get('jobLabels',[])) if isinstance(result.get('jobLabels',[]),list) else result.get('jobLabels',''),\n",
    "        'skills': ','.join(result.get('skills', [])) if isinstance(result.get('skills', []), list) else result.get('skills', ''),\n",
    "        'welfareList': ','.join(result.get('welfareList', [])) if isinstance(result.get('welfareList', []), list) else result.get('welfareList', ''),\n",
    "    }\n",
    "    return row\n"
   ]
  },
  {
   "cell_type": "code",
   "execution_count": 13,
   "id": "8ddbcefe-1db7-479d-881d-660fa1cabc86",
   "metadata": {},
   "outputs": [],
   "source": [
    "import time\n",
    "import random\n",
    "def crawel(params, cookies, headers, outs):\n",
    "    for pagei in range (1,30): # 页数不固定\n",
    "        t_start = time.time()\n",
    "        jobs = 0\n",
    "        params['page'] = str(pagei)\n",
    "        params['_'] = str(int(time.time() * 1000))\n",
    "        \n",
    "        try:\n",
    "            response = requests.get('https://www.zhipin.com/wapi/zpgeek/search/joblist.json', params=params, cookies=cookies, headers=headers)\n",
    "            resultlist = response.json().get('zpData',{}).get('jobList',[])\n",
    "            hasmore = response.json().get('zpData',{}).get('hasMore',False)\n",
    "            if len(resultlist) > 0:\n",
    "                for result in resultlist:\n",
    "                    outs.append(parse_joblist(result))\n",
    "                    jobs+=1\n",
    "            if hasmore == False:\n",
    "                print(f'#{pagei} is max page. done! {response.json()}')\n",
    "                break\n",
    "        except Exception as e:\n",
    "            print(f'#{pagei} failed. {e}')\n",
    "\n",
    "        delay = random.expovariate(1/4)  # 平均4秒，偏态指数分布\n",
    "        time.sleep(min(delay, 10))  # 设置上限为10秒\n",
    "\n",
    "        print(f\"#{pagei} done.Get {jobs} job. Counsume {(time.time()- t_start):.2f}s\")\n"
   ]
  },
  {
   "cell_type": "code",
   "execution_count": 187,
   "id": "a28ddc48-61a4-4dda-b50b-311752d864bf",
   "metadata": {},
   "outputs": [
    {
     "name": "stdout",
     "output_type": "stream",
     "text": [
      "#1 done.Get 15 job. Counsume 10.50s\n",
      "#2 done.Get 15 job. Counsume 9.08s\n",
      "#3 done.Get 15 job. Counsume 2.26s\n",
      "#4 is max page. done! {'code': 37, 'message': '您的访问行为异常.', 'zpData': {'name': '823dca69', 'seed': 'Qt0I/5byzEFz1Ignq67HMhnxEbz1W0Hm00KAO1E6YkM=', 'ts': 1745986904233}}\n"
     ]
    }
   ],
   "source": [
    "# 测试一个城市\n",
    "params['city'] = '101010100'\n",
    "crawel(params,cookies, headers, joblist)\n"
   ]
  },
  {
   "cell_type": "code",
   "execution_count": 29,
   "id": "6c4490ba-80f9-4f51-8d54-58ca86a4ad76",
   "metadata": {},
   "outputs": [
    {
     "data": {
      "text/plain": [
       "'北京'"
      ]
     },
     "execution_count": 29,
     "metadata": {},
     "output_type": "execute_result"
    }
   ],
   "source": [
    "cities.iloc[1]['name']"
   ]
  },
  {
   "cell_type": "code",
   "execution_count": 30,
   "id": "46e7a329-f12e-47c9-ac2f-62c38e70ea68",
   "metadata": {},
   "outputs": [
    {
     "name": "stdout",
     "output_type": "stream",
     "text": [
      "<<北京, 101010100>>\n",
      "#1 done.Get 15 job. Counsume 1.28s\n",
      "#2 done.Get 15 job. Counsume 1.04s\n",
      "#3 is max page. done! {'code': 37, 'message': '您的访问行为异常.', 'zpData': {'name': '08a47a96', 'seed': '28BEXouNpg4WSri2Cr2lRYrUoSjxYlQ2QI9vDzZYkE0=', 'ts': 1746524740626}}\n",
      "<<上海, 101020100>>\n",
      "#1 is max page. done! {'code': 37, 'message': '您的访问行为异常.', 'zpData': {'name': '08a47a96', 'seed': '28BEXouNpg4WSri2Cr2lRQf7rnSljKLubp3otly19dg=', 'ts': 1746524743437}}\n",
      "<<广州, 101280100>>\n",
      "#1 is max page. done! {'code': 37, 'message': '您的访问行为异常.', 'zpData': {'name': '08a47a96', 'seed': '28BEXouNpg4WSri2Cr2lRQf7rnSljKLubp3otly19dg=', 'ts': 1746524743768}}\n",
      "<<深圳, 101280600>>\n",
      "#1 is max page. done! {'code': 37, 'message': '您的访问行为异常.', 'zpData': {'name': '08a47a96', 'seed': '28BEXouNpg4WSri2Cr2lRd8MkZF0LtjO0f9eDhk2T1s=', 'ts': 1746524748679}}\n",
      "<<杭州, 101210100>>\n",
      "#1 is max page. done! {'code': 37, 'message': '您的访问行为异常.', 'zpData': {'name': '08a47a96', 'seed': '28BEXouNpg4WSri2Cr2lRa4ZqSZlGW1UK8CnNTUeIYs=', 'ts': 1746524765548}}\n",
      "<<天津, 101030100>>\n",
      "#1 is max page. done! {'code': 37, 'message': '您的访问行为异常.', 'zpData': {'name': '08a47a96', 'seed': '28BEXouNpg4WSri2Cr2lRa4ZqSZlGW1UK8CnNTUeIYs=', 'ts': 1746524765876}}\n",
      "<<西安, 101110100>>\n",
      "#1 is max page. done! {'code': 37, 'message': '您的访问行为异常.', 'zpData': {'name': '08a47a96', 'seed': '28BEXouNpg4WSri2Cr2lRaAwNajYs7EE5gtkwhFzvOs=', 'ts': 1746524770497}}\n",
      "<<苏州, 101190400>>\n",
      "#1 is max page. done! {'code': 37, 'message': '您的访问行为异常.', 'zpData': {'name': '08a47a96', 'seed': '28BEXouNpg4WSri2Cr2lRQk0+OiXTYOLHhUjHZvdczg=', 'ts': 1746524773198}}\n",
      "<<武汉, 101200100>>\n",
      "#1 is max page. done! {'code': 37, 'message': '您的访问行为异常.', 'zpData': {'name': '08a47a96', 'seed': '28BEXouNpg4WSri2Cr2lRaA7ZGdFeuWXRdHRzSw4YnM=', 'ts': 1746524782692}}\n",
      "<<厦门, 101230200>>\n",
      "#1 is max page. done! {'code': 37, 'message': '您的访问行为异常.', 'zpData': {'name': '08a47a96', 'seed': '28BEXouNpg4WSri2Cr2lRSMmIbMbhg1h8Ii7hKeqbhw=', 'ts': 1746524794809}}\n",
      "<<长沙, 101250100>>\n",
      "#1 is max page. done! {'code': 37, 'message': '您的访问行为异常.', 'zpData': {'name': '08a47a96', 'seed': '28BEXouNpg4WSri2Cr2lRZLQyo3+UsY5TRfikxUVprI=', 'ts': 1746524804180}}\n",
      "<<成都, 101270100>>\n",
      "#1 is max page. done! {'code': 37, 'message': '您的访问行为异常.', 'zpData': {'name': '08a47a96', 'seed': '28BEXouNpg4WSri2Cr2lRZLQyo3+UsY5TRfikxUVprI=', 'ts': 1746524804624}}\n",
      "<<郑州, 101180100>>\n",
      "#1 is max page. done! {'code': 37, 'message': '您的访问行为异常.', 'zpData': {'name': '08a47a96', 'seed': '28BEXouNpg4WSri2Cr2lRVN28GjZMNTH9qJ6nHSAGgk=', 'ts': 1746524806500}}\n",
      "<<重庆, 101040100>>\n",
      "#1 is max page. done! {'code': 37, 'message': '您的访问行为异常.', 'zpData': {'name': '08a47a96', 'seed': '28BEXouNpg4WSri2Cr2lRU1cCNNvq0vgDX7V01GQUvU=', 'ts': 1746524815992}}\n"
     ]
    }
   ],
   "source": [
    "# 入口\n",
    "joblist = []\n",
    "for i in range(1, len(cities)):\n",
    "    city = cities.iloc[i]\n",
    "    print(f'<<{city['name']}, {city['code']}>>')\n",
    "    params['city'] = str(city['code'])\n",
    "    crawel(params,cookies, headers, joblist)\n",
    "    delay = random.expovariate(1/10)  # 平均10秒，偏态指数分布\n",
    "    time.sleep(min(delay, 30))  # 设置上限为30秒"
   ]
  },
  {
   "cell_type": "code",
   "execution_count": null,
   "id": "1a5eaaef-101d-435d-960e-d6cbc70d54ad",
   "metadata": {},
   "outputs": [],
   "source": []
  },
  {
   "cell_type": "code",
   "execution_count": 77,
   "id": "9a12cfa1-14c2-4c14-81f4-12f3b738ca3c",
   "metadata": {},
   "outputs": [
    {
     "data": {
      "text/plain": [
       "435"
      ]
     },
     "execution_count": 77,
     "metadata": {},
     "output_type": "execute_result"
    }
   ],
   "source": [
    "len(joblist)"
   ]
  },
  {
   "cell_type": "code",
   "execution_count": 105,
   "id": "6c57fd8c-944f-40f9-b20c-e8c182d3d335",
   "metadata": {},
   "outputs": [],
   "source": [
    "df_joblist = pd.DataFrame(joblist)"
   ]
  },
  {
   "cell_type": "code",
   "execution_count": 106,
   "id": "41450184-9003-465e-8085-b0604fb03eb9",
   "metadata": {},
   "outputs": [],
   "source": [
    "from datetime import datetime\n",
    "today = datetime.today().strftime('%Y%m%d')\n",
    "df_joblist.to_excel(f'bs_joblist{today}.xlsx',index=False) # 保留索引列\n"
   ]
  },
  {
   "cell_type": "code",
   "execution_count": null,
   "id": "804cfa84-a80a-42fa-b399-d90516037de7",
   "metadata": {},
   "outputs": [],
   "source": []
  },
  {
   "cell_type": "markdown",
   "id": "174e0f52-e8df-4b76-abdc-2b8c2a73674b",
   "metadata": {},
   "source": [
    "# 数据分析"
   ]
  },
  {
   "cell_type": "code",
   "execution_count": 107,
   "id": "52414906-8ebe-435f-ba4b-37dec67dcf83",
   "metadata": {},
   "outputs": [],
   "source": [
    "df_joblist = pd.read_excel(f'bs_joblist20250430.xlsx')"
   ]
  },
  {
   "cell_type": "code",
   "execution_count": 113,
   "id": "cbe866ea-f3ab-4123-9c52-88f61948c5f8",
   "metadata": {},
   "outputs": [
    {
     "data": {
      "text/plain": [
       "count     435\n",
       "unique      1\n",
       "top        成都\n",
       "freq      435\n",
       "Name: cityName, dtype: object"
      ]
     },
     "execution_count": 113,
     "metadata": {},
     "output_type": "execute_result"
    }
   ],
   "source": [
    "df_joblist['cityName'].describe()"
   ]
  },
  {
   "cell_type": "code",
   "execution_count": null,
   "id": "89536c3e-eb72-4154-9214-379bf1acc85c",
   "metadata": {},
   "outputs": [],
   "source": []
  },
  {
   "cell_type": "code",
   "execution_count": null,
   "id": "d9303271-04c6-44f1-8398-297cc2bfd963",
   "metadata": {},
   "outputs": [],
   "source": []
  },
  {
   "cell_type": "code",
   "execution_count": null,
   "id": "734007e0-d445-4915-a9e2-1b5f467fa6df",
   "metadata": {},
   "outputs": [],
   "source": []
  },
  {
   "cell_type": "code",
   "execution_count": null,
   "id": "ad374c5f-065e-4d22-8013-419d496c1281",
   "metadata": {},
   "outputs": [],
   "source": []
  },
  {
   "cell_type": "code",
   "execution_count": null,
   "id": "c4dc8034-1562-43d5-94a4-c3b8e6dc0d6b",
   "metadata": {},
   "outputs": [],
   "source": []
  }
 ],
 "metadata": {
  "kernelspec": {
   "display_name": "Python 3 (ipykernel)",
   "language": "python",
   "name": "python3"
  },
  "language_info": {
   "codemirror_mode": {
    "name": "ipython",
    "version": 3
   },
   "file_extension": ".py",
   "mimetype": "text/x-python",
   "name": "python",
   "nbconvert_exporter": "python",
   "pygments_lexer": "ipython3",
   "version": "3.12.9"
  }
 },
 "nbformat": 4,
 "nbformat_minor": 5
}
