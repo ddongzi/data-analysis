{
 "cells": [
  {
   "cell_type": "markdown",
   "id": "dc969886-3ecd-42b5-87a9-8d9c48548aa8",
   "metadata": {},
   "source": [
    "## 6.3 preprocessing data\n",
    "The `sklearn.preprocessing` change **raw feature vectors** into more suitable representation for the estimators.\n",
    "\n",
    "In general, many learing alg such as linear models benefit from standardization. ❓"
   ]
  },
  {
   "cell_type": "markdown",
   "id": "4607257a-caa8-408b-a39b-7be184e71cca",
   "metadata": {},
   "source": [
    ">数据变换\n",
    "\n",
    "- Normalization (归一化)： min-max,max 。 数值小 方便优化计算\n",
    "- Standardization(): z-score 标准化。数据（近正态分布）转换为标准正态\n",
    "- Log(对数变化)：减少异常值影响。 使其更接近正态？\n",
    "- 非线性变换：使数据更容易被线性模型拟合。Box-cox\n",
    "- 二值化：0，1\n",
    "- 正交化：PCA降维"
   ]
  },
  {
   "cell_type": "markdown",
   "id": "bc2e2e74-9140-4931-a6b7-61b5aff6c272",
   "metadata": {},
   "source": [
    "### 6.3.1. Standardization, or mean removal and variance scaling\n",
    "Standardization of datasets is a **common requirement** for many machine learning estimators implemented in scikit-learn; they might **behave badly** if the individual features do not more or less look like standard normally distributed data: Gaussian with zero mean and unit variance."
   ]
  },
  {
   "cell_type": "code",
   "execution_count": 4,
   "id": "52985d25-bf4a-4e0c-86dd-324996d8df31",
   "metadata": {},
   "outputs": [],
   "source": [
    "from sklearn import preprocessing\n",
    "import numpy as np\n",
    "X_train = np.array([[ 1., -1.,  2.],\n",
    "                    [ 2.,  0.,  0.],\n",
    "                    [ 0.,  1., -1.]])\n",
    "scaler = preprocessing.StandardScaler().fit(X_train)"
   ]
  },
  {
   "cell_type": "code",
   "execution_count": 5,
   "id": "7628d8de-eacd-42df-9b30-30766d88931c",
   "metadata": {},
   "outputs": [
    {
     "data": {
      "text/plain": [
       "array([1.        , 0.        , 0.33333333])"
      ]
     },
     "execution_count": 5,
     "metadata": {},
     "output_type": "execute_result"
    }
   ],
   "source": [
    "scaler.mean_ # mean by column"
   ]
  },
  {
   "cell_type": "code",
   "execution_count": 7,
   "id": "5a9a8cc6-4ae5-4d9c-8939-b8a048e3acb7",
   "metadata": {},
   "outputs": [
    {
     "data": {
      "text/plain": [
       "array([0.81649658, 0.81649658, 1.24721913])"
      ]
     },
     "execution_count": 7,
     "metadata": {},
     "output_type": "execute_result"
    }
   ],
   "source": [
    "scaler.scale_ # var by column"
   ]
  },
  {
   "cell_type": "code",
   "execution_count": 9,
   "id": "dfc80bef-0576-41d4-9fc3-c93f66a9640e",
   "metadata": {},
   "outputs": [
    {
     "data": {
      "text/plain": [
       "array([[ 0.        , -1.22474487,  1.33630621],\n",
       "       [ 1.22474487,  0.        , -0.26726124],\n",
       "       [-1.22474487,  1.22474487, -1.06904497]])"
      ]
     },
     "execution_count": 9,
     "metadata": {},
     "output_type": "execute_result"
    }
   ],
   "source": [
    "X_scaled = scaler.transform(X_train)\n",
    "X_scaled"
   ]
  },
  {
   "cell_type": "markdown",
   "id": "0f207e70-2c2b-4b55-8242-071bafdcb96d",
   "metadata": {},
   "source": [
    "Scaled data has mean 0, var 1:"
   ]
  },
  {
   "cell_type": "code",
   "execution_count": 11,
   "id": "115734ee-a1d7-4d07-94f7-c2abcc8b07b4",
   "metadata": {},
   "outputs": [
    {
     "data": {
      "text/plain": [
       "array([0., 0., 0.])"
      ]
     },
     "execution_count": 11,
     "metadata": {},
     "output_type": "execute_result"
    }
   ],
   "source": [
    "X_scaled.mean(axis=0) # mean by column"
   ]
  },
  {
   "cell_type": "code",
   "execution_count": 13,
   "id": "be27117f-97f6-42f8-b61a-6980004bbe82",
   "metadata": {},
   "outputs": [
    {
     "data": {
      "text/plain": [
       "array([1., 1., 1.])"
      ]
     },
     "execution_count": 13,
     "metadata": {},
     "output_type": "execute_result"
    }
   ],
   "source": [
    "X_scaled.std(axis=0) # mean by column"
   ]
  },
  {
   "cell_type": "markdown",
   "id": "2361508c-b4e6-45a5-beda-24b949ceeddc",
   "metadata": {},
   "source": [
    "StandardScaler can **re-apply** the same transformation on the testing test. The test set will use the **same mean,std** to transfom data, otherwise recompute them."
   ]
  },
  {
   "cell_type": "code",
   "execution_count": 3,
   "id": "b8479c64-0c08-499d-af35-5010fa82db52",
   "metadata": {},
   "outputs": [
    {
     "data": {
      "text/plain": [
       "0.96"
      ]
     },
     "execution_count": 3,
     "metadata": {},
     "output_type": "execute_result"
    }
   ],
   "source": [
    "from sklearn.datasets import make_classification\n",
    "from sklearn.linear_model import LogisticRegression\n",
    "from sklearn.model_selection import train_test_split\n",
    "from sklearn.pipeline import make_pipeline\n",
    "from sklearn.preprocessing import StandardScaler\n",
    "\n",
    "X, y = make_classification(random_state=42)\n",
    "X_train, X_test, y_train, y_test = train_test_split(X, y, random_state=42)\n",
    "pipe = make_pipeline(StandardScaler(), LogisticRegression())\n",
    "pipe.fit(X_train, y_train) \n",
    "\n",
    "pipe.score(X_test, y_test) # re-applying scaling on test data"
   ]
  },
  {
   "cell_type": "markdown",
   "id": "f0e47349-171b-466a-89a3-c84927a244c3",
   "metadata": {},
   "source": [
    "#### 6.3.1.1. Scaling features to a range\n",
    "MinMaxScaler or MaxAbsScaler， range alwats is [0,1]"
   ]
  },
  {
   "cell_type": "code",
   "execution_count": 10,
   "id": "fe9b20db-60b3-405f-b29f-6160a8082a27",
   "metadata": {},
   "outputs": [
    {
     "data": {
      "text/plain": [
       "array([[0.5       , 0.        , 1.        ],\n",
       "       [1.        , 0.5       , 0.33333333],\n",
       "       [0.        , 1.        , 0.        ]])"
      ]
     },
     "execution_count": 10,
     "metadata": {},
     "output_type": "execute_result"
    }
   ],
   "source": [
    "import numpy as np\n",
    "from sklearn import preprocessing\n",
    "X_train = np.array([[ 1., -1.,  2.],\n",
    "                    [ 2.,  0.,  0.],\n",
    "                    [ 0.,  1., -1.]])\n",
    "min_max_scaler = preprocessing.MinMaxScaler()\n",
    "X_train_minmax = min_max_scaler.fit_transform(X_train)\n",
    "X_train_minmax"
   ]
  },
  {
   "cell_type": "code",
   "execution_count": 12,
   "id": "eb054eb3-e80e-4b67-bd1e-f74d8a8d980e",
   "metadata": {},
   "outputs": [
    {
     "name": "stdout",
     "output_type": "stream",
     "text": [
      "[ 0. -1. -1.] [2. 1. 2.]\n"
     ]
    }
   ],
   "source": [
    "print(min_max_scaler.data_min_, min_max_scaler.data_max_)"
   ]
  },
  {
   "cell_type": "markdown",
   "id": "e53427ab-c76a-4620-aec0-21fad4ecdc7f",
   "metadata": {},
   "source": [
    "The scaler can applied to test data.(Use the **same min/max**) But this outs the range."
   ]
  },
  {
   "cell_type": "code",
   "execution_count": 13,
   "id": "52b72ddb-94d4-4e95-ba07-aead9159e63a",
   "metadata": {},
   "outputs": [
    {
     "data": {
      "text/plain": [
       "array([[-1.5       ,  0.        ,  1.66666667]])"
      ]
     },
     "execution_count": 13,
     "metadata": {},
     "output_type": "execute_result"
    }
   ],
   "source": [
    "X_test = np.array([[-3,-1,4]])\n",
    "X_test_minmax=min_max_scaler.transform(X_test)\n",
    "X_test_minmax"
   ]
  },
  {
   "cell_type": "markdown",
   "id": "e883c78c-e1b7-4de1-9fc4-a83a5aae8b62",
   "metadata": {},
   "source": [
    "`MaxAbsScaler` :x/max. $[-1,1]$"
   ]
  },
  {
   "cell_type": "code",
   "execution_count": 16,
   "id": "7487eca8-b00c-4dbb-9a8d-cba84311901b",
   "metadata": {},
   "outputs": [
    {
     "data": {
      "text/plain": [
       "array([[ 0.5, -1. ,  1. ],\n",
       "       [ 1. ,  0. ,  0. ],\n",
       "       [ 0. ,  1. , -0.5]])"
      ]
     },
     "execution_count": 16,
     "metadata": {},
     "output_type": "execute_result"
    }
   ],
   "source": [
    "X_train = np.array([[ 1., -1.,  2.],\n",
    "                    [ 2.,  0.,  0.],\n",
    "                    [ 0.,  1., -1.]])\n",
    "max_abs_scaler = preprocessing.MaxAbsScaler()\n",
    "X_train_maxabs = max_abs_scaler.fit_transform(X_train)\n",
    "X_train_maxabs"
   ]
  },
  {
   "cell_type": "code",
   "execution_count": 17,
   "id": "7905b1ef-6dfe-46cf-80d5-9c23fb33f6bf",
   "metadata": {},
   "outputs": [
    {
     "data": {
      "text/plain": [
       "array([2., 1., 2.])"
      ]
     },
     "execution_count": 17,
     "metadata": {},
     "output_type": "execute_result"
    }
   ],
   "source": [
    "max_abs_scaler.max_abs_"
   ]
  },
  {
   "cell_type": "code",
   "execution_count": 1,
   "id": "9ed7f7b2-e5a0-49bf-b5a3-141c65ae75f0",
   "metadata": {},
   "outputs": [
    {
     "ename": "NameError",
     "evalue": "name 'np' is not defined",
     "output_type": "error",
     "traceback": [
      "\u001b[1;31m---------------------------------------------------------------------------\u001b[0m",
      "\u001b[1;31mNameError\u001b[0m                                 Traceback (most recent call last)",
      "Cell \u001b[1;32mIn[1], line 1\u001b[0m\n\u001b[1;32m----> 1\u001b[0m X_test \u001b[38;5;241m=\u001b[39m \u001b[43mnp\u001b[49m\u001b[38;5;241m.\u001b[39marray([[\u001b[38;5;241m-\u001b[39m\u001b[38;5;241m3\u001b[39m,\u001b[38;5;241m-\u001b[39m\u001b[38;5;241m1\u001b[39m,\u001b[38;5;241m4\u001b[39m]])\n\u001b[0;32m      2\u001b[0m X_test_maxabs \u001b[38;5;241m=\u001b[39m max_abs_scaler\u001b[38;5;241m.\u001b[39mtransform(X_test)\n\u001b[0;32m      3\u001b[0m X_test_maxabs\n",
      "\u001b[1;31mNameError\u001b[0m: name 'np' is not defined"
     ]
    }
   ],
   "source": [
    "X_test = np.array([[-3,-1,4]])\n",
    "X_test_maxabs = max_abs_scaler.transform(X_test)\n",
    "X_test_maxabs"
   ]
  },
  {
   "cell_type": "code",
   "execution_count": null,
   "id": "567a5475-76db-40d5-9409-6fc89adab1c6",
   "metadata": {},
   "outputs": [],
   "source": []
  },
  {
   "cell_type": "code",
   "execution_count": null,
   "id": "badeac96-b6eb-4a7e-812c-ee0a53d237ae",
   "metadata": {},
   "outputs": [],
   "source": [
    "你问得很好！`QuantileTransformer`中`output_distribution='normal'`确实会让输出符合正态分布，而不是所有分位数变换都只是均匀分布（uniform）。让我详细解释一下它是怎么做到的，以及为什么它不是简单地停留在均匀分布。\n",
    "\n",
    "---\n",
    "\n",
    "### 分位数变换的基本原理\n",
    "分位数变换的核心思想是基于数据的**分位数（quantiles）**，通过单调变换将原始数据映射到一个目标分布。过程可以分为两步：\n",
    "1. **映射到均匀分布（Uniform Distribution）**  \n",
    "   - 先计算每个数据点的分位数（排名），将其映射到0到1之间的均匀分布。\n",
    "   - 比如，数据`[10, 20, 30, 100, 1000]`会被映射到`[0.0, 0.25, 0.5, 0.75, 1.0]`。\n",
    "   - 如果`output_distribution='uniform'`，这里就结束了，结果就是均匀分布。\n",
    "\n",
    "2. **从均匀分布映射到目标分布**  \n",
    "   - 如果指定了`output_distribution='normal'`，会多一步：将均匀分布的值通过正态分布的反累积分布函数（Inverse CDF，也叫分位函数或PPF，Percent Point Function）转换为正态分布。\n",
    "\n",
    "---\n",
    "\n",
    "### 具体怎么做到正态分布？\n",
    "为了让输出变成标准正态分布（均值0，标准差1），`QuantileTransformer`是这样操作的：\n",
    "\n",
    "#### 步骤分解：\n",
    "1. **计算原始数据的分位数（均匀分布）**  \n",
    "   - 对输入数据排序，计算每个值对应的分位数（0到1之间的值）。\n",
    "   - 比如，`[10, 20, 30, 100, 1000]`变成`[0.0, 0.25, 0.5, 0.75, 1.0]`。\n",
    "\n",
    "2. **应用标准正态分布的反CDF**  \n",
    "   - 标准正态分布的反CDF（Inverse CDF）是一个数学函数，它接受一个0到1之间的概率值（均匀分布），输出对应的正态分布值。\n",
    "   - 比如：\n",
    "     - 均匀分布0.5 → 正态分布0（正态分布的中位数）。\n",
    "     - 均匀分布0.975 → 正态分布约1.96（正态分布的97.5%分位点）。\n",
    "     - 均匀分布0.025 → 正态分布约-1.96。\n",
    "   - 对于`[0.0, 0.25, 0.5, 0.75, 1.0]`：\n",
    "     - 0.0（接近最小值）→ 负无穷（实际用有限值近似，如-2.33）。\n",
    "     - 0.25 → 约-0.67（正态分布的25%分位点）。\n",
    "     - 0.5 → 0.0（正态分布的50%分位点）。\n",
    "     - 0.75 → 约0.67（正态分布的75%分位点）。\n",
    "     - 1.0（接近最大值）→ 正无穷（实际用有限值近似，如2.33）。\n",
    "\n",
    "3. **结果**  \n",
    "   - 变换后可能是`[-2.33, -0.67, 0.0, 0.67, 2.33]`（具体值取决于分位数数量和插值方式）。\n",
    "   - 这些值符合标准正态分布的特性：均值≈0，标准差≈1。\n",
    "\n",
    "---\n",
    "\n",
    "### 数学依据\n",
    "- **均匀分布到正态分布的转换**  \n",
    "  - 如果 \\( U \\) 是均匀分布在[0, 1]上的随机变量，那么 \\( Z = \\Phi^{-1}(U) \\) 是一个标准正态分布的随机变量，其中 \\( \\Phi^{-1} \\) 是标准正态分布的反CDF。\n",
    "  - `QuantileTransformer`利用这个原理，先把数据变成均匀分布 \\( U \\)，再通过 \\( \\Phi^{-1} \\) 转为正态分布。\n",
    "\n",
    "- **单调性保持**  \n",
    "  - 因为反CDF是单调递增的，整个变换过程不会改变数据的相对顺序（排名）。\n",
    "\n",
    "---\n",
    "\n",
    "### 为什么不一直是均匀分布？\n",
    "- 当时，变换停在第一步，输出就是均匀分布（0到1）。\n",
    "- 当`output_distribution='normal'`时，多加了第二步，使用正态分布的反CDF，把均匀分布“拉伸”成正态分布的形状。\n",
    "- **区别**：\n",
    "  - 均匀分布：值均匀分布在固定区间（0到1），没有“钟形曲线”。\n",
    "  - 正态分布：值集中在均值附近（0），两端逐渐减少，形成典型的正态“钟形”。\n",
    "\n",
    "---\n",
    "\n",
    "### 举个例子\n",
    "原始数据：`[10, 20, 30, 100, 1000]`\n",
    "1. **均匀分布（第一步）**：`[0.0, 0.25, 0.5, 0.75, 1.0]`  \n",
    "   - 如果`output_distribution='uniform'`，结果就是这个。\n",
    "2. **正态分布（第二步）**：  \n",
    "   - 0.0 → 约-1.28（正态分布的0%分位点，用有限值近似）。\n",
    "   - 0.25 → 约-0.67。\n",
    "   - 0.5 → 0.0。\n",
    "   - 0.75 → 约0.67。\n",
    "   - 1.0 → 约1.28（正态分布的100%分位点，用有限值近似）。\n",
    "   - 结果：`[-1.28, -0.67, 0.0, 0.67, 1.28]`。\n",
    "\n",
    "---\n",
    "\n",
    "### 代码验证\n",
    "```python\n",
    "from sklearn.preprocessing import QuantileTransformer\n",
    "import numpy as np\n",
    "\n",
    "data = np.array([10, 20, 30, 100, 1000]).reshape(-1, 1)\n",
    "\n",
    "# uniform分布\n",
    "qt_uniform = QuantileTransformer(output_distribution='uniform')\n",
    "uniform_data = qt_uniform.fit_transform(data)\n",
    "print(\"Uniform:\", uniform_data.flatten())\n",
    "\n",
    "# normal分布\n",
    "qt_normal = QuantileTransformer(output_distribution='normal')\n",
    "normal_data = qt_normal.fit_transform(data)\n",
    "print(\"Normal:\", normal_data.flatten())\n",
    "```\n",
    "\n",
    "**输出**:\n",
    "```\n",
    "Uniform: [0.   0.25 0.5  0.75 1.  ]\n",
    "Normal:  [-1.28155157 -0.67448975  0.          0.67448975  1.28155157]\n",
    "```\n",
    "\n",
    "---\n",
    "\n",
    "### 适合正态性场景\n",
    "- 很多机器学习模型（比如线性回归、逻辑回归）假设输入特征接近正态分布。\n",
    "- 通过上述步骤，把偏态数据（比如右偏的`[10, 20, 30, 100, 1000]`）调整为正态分布，提升模型性能。\n",
    "\n",
    "希望这解释清楚了！如果还有疑问，比如想看反CDF的具体计算，可以再问我！"
   ]
  },
  {
   "cell_type": "markdown",
   "id": "3b867625-d08d-472f-b034-cff5c5c504f3",
   "metadata": {},
   "source": [
    "### 6.3.2. Non-linear transformation\n",
    "**Quantile Transform** based on the $G^{-1}(F(X))$.\n",
    "- F is cumulative distribution function:\n",
    "$$F(X) = P(X>=x)$$\n",
    "- $G^{-1}$ is the **quantile function** of the **desired output distribution** G. If $G(x)=p$, then $G^{-1}(p)=x$\n",
    "  \n",
    "This formula is using two following facts:\n",
    "1. If $X$ is a random variable with CDF, $F(X)$ is uniformly distributed on $[0,1]$\n",
    "2. If $U$ is a random variable with uniform distribution on $[0,1]$, $G^{-1}(U)$ has distribution $G$\n",
    "\n",
    "For example:   \n",
    "$[10,20,30,100,1000]$, $CDF(X) = [0,0.25,0.5,0.75,1.0]$  \n",
    "if target $G$ is Guassian,OUT $[-1.28, -0.67, 0, 0.67, 1.28]$\n",
    "- $G^{-1}(0.0) = -1.28$\n",
    "- $G^{-1}(0.5) = 0$  \n",
    "\n",
    "**Power Transform**(`log` $x^k$)  makes distribution close to Gaussian distribution.For example, $ln(10)=2.3, ln(1000)=6.91$, compress range."
   ]
  },
  {
   "cell_type": "markdown",
   "id": "fbb51275-437b-400e-b847-1b9ed7d37a07",
   "metadata": {},
   "source": [
    "#### 6.3.2.1. Mapping to a Uniform distribution"
   ]
  },
  {
   "cell_type": "code",
   "execution_count": 11,
   "id": "87d146e5-af2c-4691-b45b-b8aefbbd4bf1",
   "metadata": {},
   "outputs": [
    {
     "name": "stderr",
     "output_type": "stream",
     "text": [
      "d:\\miniconda3\\Lib\\site-packages\\sklearn\\preprocessing\\_data.py:2829: UserWarning: n_quantiles (1000) is greater than the total number of samples (112). n_quantiles is set to n_samples.\n",
      "  warnings.warn(\n"
     ]
    }
   ],
   "source": [
    "from sklearn.datasets import load_iris\n",
    "from sklearn.model_selection import train_test_split\n",
    "X, y = load_iris(return_X_y=True)\n",
    "X_train, X_test, y_train, y_test = train_test_split(X, y, random_state=0)\n",
    "quantile_transformer = preprocessing.QuantileTransformer(random_state=0)\n",
    "X_train_trans = quantile_transformer.fit_transform(X_train)\n",
    "X_test_trans = quantile_transformer.transform(X_test)"
   ]
  },
  {
   "cell_type": "code",
   "execution_count": null,
   "id": "a144c121-6fb7-47c1-8b76-ff8ba75447b6",
   "metadata": {},
   "outputs": [],
   "source": [
    "X_train"
   ]
  },
  {
   "cell_type": "code",
   "execution_count": 9,
   "id": "93999132-ed35-403a-adf3-b398839bbe77",
   "metadata": {},
   "outputs": [
    {
     "data": {
      "text/plain": [
       "array([[0.54954955, 0.43693694, 0.48198198, 0.59009009],\n",
       "       [0.50900901, 0.16216216, 0.42342342, 0.41441441],\n",
       "       [0.85135135, 0.43693694, 0.80630631, 0.85135135],\n",
       "       [0.06756757, 0.66666667, 0.04504505, 0.13513514],\n",
       "       [0.87837838, 0.57657658, 0.71621622, 0.93243243],\n",
       "       [0.17567568, 0.86936937, 0.27927928, 0.32432432],\n",
       "       [0.31981982, 0.91441441, 0.1981982 , 0.13513514],\n",
       "       [0.17567568, 0.        , 0.35135135, 0.35585586],\n",
       "       [0.74324324, 0.43693694, 0.80630631, 0.7027027 ],\n",
       "       [0.80630631, 0.74774775, 0.86486486, 1.        ],\n",
       "       [0.57657658, 0.01351351, 0.67117117, 0.59009009],\n",
       "       [0.80630631, 0.11261261, 0.89189189, 0.7027027 ],\n",
       "       [0.4009009 , 0.11261261, 0.4009009 , 0.38738739],\n",
       "       [0.97747748, 0.43693694, 0.94144144, 0.93243243],\n",
       "       [0.65315315, 0.74774775, 0.5990991 , 0.63063063],\n",
       "       [0.36036036, 0.06306306, 0.38738739, 0.38738739],\n",
       "       [0.65315315, 0.20720721, 0.63963964, 0.7027027 ],\n",
       "       [0.65315315, 0.26576577, 0.71621622, 0.59009009],\n",
       "       [0.12612613, 0.11261261, 0.55405405, 0.65315315],\n",
       "       [0.65315315, 0.11261261, 0.67117117, 0.75675676],\n",
       "       [0.9009009 , 0.66666667, 0.5990991 , 0.54504505],\n",
       "       [0.74324324, 0.43693694, 0.75225225, 0.8018018 ],\n",
       "       [0.57657658, 0.81081081, 0.55405405, 0.63063063],\n",
       "       [0.09009009, 0.57657658, 0.27927928, 0.13513514],\n",
       "       [0.50900901, 0.20720721, 0.71621622, 0.75675676],\n",
       "       [0.4009009 , 0.20720721, 0.48198198, 0.47747748],\n",
       "       [0.4009009 , 0.31531532, 0.36936937, 0.47747748],\n",
       "       [0.36036036, 0.11261261, 0.42342342, 0.47747748],\n",
       "       [0.59459459, 0.43693694, 0.58108108, 0.54504505],\n",
       "       [0.92792793, 0.66666667, 0.92792793, 0.7027027 ],\n",
       "       [0.2972973 , 0.91441441, 0.1981982 , 0.13513514],\n",
       "       [0.        , 0.43693694, 0.        , 0.        ],\n",
       "       [0.7027027 , 0.20720721, 0.77027027, 0.75675676],\n",
       "       [0.44594595, 0.43693694, 0.48198198, 0.41441441],\n",
       "       [0.31981982, 0.81081081, 0.31531532, 0.13513514],\n",
       "       [0.44594595, 1.        , 0.1981982 , 0.2972973 ],\n",
       "       [0.87837838, 0.57657658, 0.63963964, 0.59009009],\n",
       "       [0.04504505, 0.57657658, 0.1981982 , 0.13513514],\n",
       "       [0.54954955, 0.43693694, 0.71621622, 0.7027027 ],\n",
       "       [0.23873874, 0.11261261, 0.33333333, 0.38738739],\n",
       "       [0.04504505, 0.81081081, 0.10810811, 0.25675676],\n",
       "       [0.60810811, 0.01351351, 0.55405405, 0.59009009],\n",
       "       [0.92792793, 0.8963964 , 0.94144144, 1.        ],\n",
       "       [0.44594595, 0.31531532, 0.48198198, 0.47747748],\n",
       "       [0.09009009, 0.43693694, 0.10810811, 0.        ],\n",
       "       [0.90990991, 0.43693694, 0.91441441, 0.85135135],\n",
       "       [0.87837838, 0.66666667, 0.86486486, 0.93243243],\n",
       "       [0.74324324, 0.43693694, 0.89189189, 0.88738739],\n",
       "       [0.7027027 , 0.26576577, 0.83333333, 0.85135135],\n",
       "       [0.23873874, 0.95045045, 0.27927928, 0.13513514],\n",
       "       [0.09009009, 0.81081081, 0.27927928, 0.13513514],\n",
       "       [0.74324324, 0.66666667, 0.71621622, 0.8018018 ],\n",
       "       [0.80630631, 0.74774775, 0.86486486, 0.85135135],\n",
       "       [0.02702703, 0.03603604, 0.04504505, 0.25675676],\n",
       "       [0.60810811, 0.81081081, 0.78828829, 0.93243243],\n",
       "       [0.12612613, 0.43693694, 0.10810811, 0.13513514],\n",
       "       [0.44594595, 0.11261261, 0.67117117, 0.8018018 ],\n",
       "       [0.87837838, 0.57657658, 0.78828829, 0.85135135],\n",
       "       [0.01351351, 0.66666667, 0.04504505, 0.13513514],\n",
       "       [0.17567568, 0.8963964 , 0.10810811, 0.13513514],\n",
       "       [0.92792793, 0.43693694, 0.89189189, 0.63063063],\n",
       "       [0.23873874, 0.86936937, 0.10810811, 0.25675676],\n",
       "       [0.01351351, 0.43693694, 0.04504505, 0.13513514],\n",
       "       [0.31981982, 0.97297297, 0.31531532, 0.2972973 ],\n",
       "       [0.36036036, 0.03603604, 0.42342342, 0.47747748],\n",
       "       [0.85135135, 0.66666667, 0.91441441, 0.93243243],\n",
       "       [0.95495495, 0.43693694, 0.97297297, 0.85135135],\n",
       "       [0.23873874, 0.86936937, 0.10810811, 0.13513514],\n",
       "       [0.12612613, 0.57657658, 0.1981982 , 0.13513514],\n",
       "       [0.28378378, 0.81081081, 0.10810811, 0.13513514],\n",
       "       [0.44594595, 0.26576577, 0.55405405, 0.47747748],\n",
       "       [0.77027027, 0.43693694, 0.52252252, 0.54504505],\n",
       "       [0.17567568, 0.66666667, 0.01351351, 0.13513514],\n",
       "       [0.23873874, 0.74774775, 0.31531532, 0.31531532],\n",
       "       [0.7027027 , 0.31531532, 0.5045045 , 0.47747748],\n",
       "       [0.31981982, 0.81081081, 0.1981982 , 0.2972973 ],\n",
       "       [0.97747748, 0.16216216, 1.        , 0.93243243],\n",
       "       [0.12612613, 0.06306306, 0.34234234, 0.35585586],\n",
       "       [1.        , 0.95045045, 0.96396396, 0.8018018 ],\n",
       "       [0.80630631, 0.57657658, 0.52252252, 0.54504505],\n",
       "       [0.28378378, 0.99099099, 0.1981982 , 0.        ],\n",
       "       [0.57657658, 0.43693694, 0.61711712, 0.7027027 ],\n",
       "       [0.50900901, 0.98198198, 0.01351351, 0.13513514],\n",
       "       [0.97747748, 0.26576577, 0.98648649, 0.8018018 ],\n",
       "       [0.23873874, 0.95045045, 0.1981982 , 0.25675676],\n",
       "       [0.06756757, 0.66666667, 0.27927928, 0.13513514],\n",
       "       [0.94594595, 0.26576577, 0.94144144, 0.75675676],\n",
       "       [0.17567568, 0.74774775, 0.10810811, 0.13513514],\n",
       "       [0.65315315, 0.81081081, 0.83333333, 0.97747748],\n",
       "       [0.44594595, 0.26576577, 0.45045045, 0.47747748],\n",
       "       [0.50900901, 0.20720721, 0.4009009 , 0.41441441],\n",
       "       [0.44594595, 0.16216216, 0.35135135, 0.35585586],\n",
       "       [0.7027027 , 0.66666667, 0.77027027, 0.93243243],\n",
       "       [0.80630631, 0.43693694, 0.75225225, 0.93243243],\n",
       "       [0.65315315, 0.11261261, 0.63963964, 0.59009009],\n",
       "       [0.80630631, 0.43693694, 0.67117117, 0.65315315],\n",
       "       [0.17567568, 0.43693694, 0.27927928, 0.13513514],\n",
       "       [0.36036036, 0.06306306, 0.37837838, 0.35585586],\n",
       "       [0.80630631, 0.57657658, 0.83333333, 0.97747748],\n",
       "       [0.50900901, 0.20720721, 0.71621622, 0.75675676],\n",
       "       [0.23873874, 0.81081081, 0.1981982 , 0.13513514],\n",
       "       [0.77027027, 0.31531532, 0.58108108, 0.47747748],\n",
       "       [0.4009009 , 0.43693694, 0.45045045, 0.47747748],\n",
       "       [0.54954955, 0.66666667, 0.61711712, 0.7027027 ],\n",
       "       [0.65315315, 0.03603604, 0.52252252, 0.47747748],\n",
       "       [0.36036036, 0.86936937, 0.04504505, 0.13513514],\n",
       "       [0.23873874, 0.91441441, 0.1981982 , 0.2972973 ],\n",
       "       [0.12612613, 0.57657658, 0.1981982 , 0.        ],\n",
       "       [0.65315315, 0.31531532, 0.83333333, 0.7027027 ],\n",
       "       [0.50900901, 0.20720721, 0.45045045, 0.35585586],\n",
       "       [0.97747748, 0.95045045, 0.98648649, 0.88738739],\n",
       "       [0.04504505, 0.66666667, 0.10810811, 0.13513514]])"
      ]
     },
     "execution_count": 9,
     "metadata": {},
     "output_type": "execute_result"
    }
   ],
   "source": [
    "X_train_trans"
   ]
  },
  {
   "cell_type": "code",
   "execution_count": 10,
   "id": "5750e9d0-700d-4d3c-ba26-df57b7ed5ba9",
   "metadata": {},
   "outputs": [
    {
     "data": {
      "text/plain": [
       "array([0.        , 0.23873874, 0.50900901, 0.74324324, 1.        ])"
      ]
     },
     "execution_count": 10,
     "metadata": {},
     "output_type": "execute_result"
    }
   ],
   "source": [
    "import numpy as np\n",
    "np.percentile(X_train_trans[:,0],[0,25,50,75,100])"
   ]
  },
  {
   "cell_type": "code",
   "execution_count": 13,
   "id": "7d4d9ae5-58ae-40a3-aa18-14098619ba6e",
   "metadata": {},
   "outputs": [
    {
     "data": {
      "text/plain": [
       "array([4.3, 5.1, 5.8, 6.5, 7.9])"
      ]
     },
     "execution_count": 13,
     "metadata": {},
     "output_type": "execute_result"
    }
   ],
   "source": [
    "np.percentile(X_train[:,0],[0,25,50,75,100])\n"
   ]
  },
  {
   "cell_type": "markdown",
   "id": "d8b94c3a-f359-43a4-af40-4c452928e82c",
   "metadata": {},
   "source": [
    "#### 6.3.2.2. Mapping to a Gaussian distribution"
   ]
  },
  {
   "cell_type": "markdown",
   "id": "c70a414b-f248-4eab-bd21-20831c10236a",
   "metadata": {},
   "source": [
    "PowerTransformer:  \n"
   ]
  },
  {
   "cell_type": "markdown",
   "id": "c30b0361-3a50-49e1-ae2e-4040292e30e5",
   "metadata": {},
   "source": [
    "🔗Map data to a normal distribution"
   ]
  },
  {
   "cell_type": "markdown",
   "id": "f555904a-5498-4c24-8287-992d1ad70484",
   "metadata": {},
   "source": [
    "## 6.4 Normalization\n",
    "Normalization is the process of scaling individual smaples to have **unit norm**(长度/范数).  \n",
    "Normalization simplify to **compare the similarity** within samples. Specially when we use dot / kernel to compute similarity  "
   ]
  },
  {
   "cell_type": "markdown",
   "id": "5d144cb0-71af-44e6-aadb-1c95a6326166",
   "metadata": {},
   "source": [
    "`normalize` function provides this operation with different `norm`.( L1, L2, max..).   \n",
    "normalize each row.!"
   ]
  },
  {
   "cell_type": "code",
   "execution_count": 4,
   "id": "3a563443-24d1-41c1-bb4d-ebd287b1f8ee",
   "metadata": {},
   "outputs": [
    {
     "data": {
      "text/plain": [
       "array([[ 0.40824829, -0.40824829,  0.81649658],\n",
       "       [ 1.        ,  0.        ,  0.        ],\n",
       "       [ 0.        ,  0.70710678, -0.70710678]])"
      ]
     },
     "execution_count": 4,
     "metadata": {},
     "output_type": "execute_result"
    }
   ],
   "source": [
    "from sklearn import preprocessing\n",
    "X = [[ 1., -1.,  2.],\n",
    "     [ 2.,  0.,  0.],\n",
    "     [ 0.,  1., -1.]]\n",
    "X_normalized = preprocessing.normalize(X, norm='l2')\n",
    "X_normalized"
   ]
  },
  {
   "cell_type": "markdown",
   "id": "65b9c314-22f2-4124-8e4f-5f1eddfee64c",
   "metadata": {},
   "source": [
    "Alaso there is a `Normalizer` class, It's a `Transformer`. It can be used in pipeline."
   ]
  },
  {
   "cell_type": "code",
   "execution_count": 8,
   "id": "43e70c94-46be-4681-b664-68cf911d7023",
   "metadata": {},
   "outputs": [
    {
     "data": {
      "text/html": [
       "<style>#sk-container-id-1 {\n",
       "  /* Definition of color scheme common for light and dark mode */\n",
       "  --sklearn-color-text: #000;\n",
       "  --sklearn-color-text-muted: #666;\n",
       "  --sklearn-color-line: gray;\n",
       "  /* Definition of color scheme for unfitted estimators */\n",
       "  --sklearn-color-unfitted-level-0: #fff5e6;\n",
       "  --sklearn-color-unfitted-level-1: #f6e4d2;\n",
       "  --sklearn-color-unfitted-level-2: #ffe0b3;\n",
       "  --sklearn-color-unfitted-level-3: chocolate;\n",
       "  /* Definition of color scheme for fitted estimators */\n",
       "  --sklearn-color-fitted-level-0: #f0f8ff;\n",
       "  --sklearn-color-fitted-level-1: #d4ebff;\n",
       "  --sklearn-color-fitted-level-2: #b3dbfd;\n",
       "  --sklearn-color-fitted-level-3: cornflowerblue;\n",
       "\n",
       "  /* Specific color for light theme */\n",
       "  --sklearn-color-text-on-default-background: var(--sg-text-color, var(--theme-code-foreground, var(--jp-content-font-color1, black)));\n",
       "  --sklearn-color-background: var(--sg-background-color, var(--theme-background, var(--jp-layout-color0, white)));\n",
       "  --sklearn-color-border-box: var(--sg-text-color, var(--theme-code-foreground, var(--jp-content-font-color1, black)));\n",
       "  --sklearn-color-icon: #696969;\n",
       "\n",
       "  @media (prefers-color-scheme: dark) {\n",
       "    /* Redefinition of color scheme for dark theme */\n",
       "    --sklearn-color-text-on-default-background: var(--sg-text-color, var(--theme-code-foreground, var(--jp-content-font-color1, white)));\n",
       "    --sklearn-color-background: var(--sg-background-color, var(--theme-background, var(--jp-layout-color0, #111)));\n",
       "    --sklearn-color-border-box: var(--sg-text-color, var(--theme-code-foreground, var(--jp-content-font-color1, white)));\n",
       "    --sklearn-color-icon: #878787;\n",
       "  }\n",
       "}\n",
       "\n",
       "#sk-container-id-1 {\n",
       "  color: var(--sklearn-color-text);\n",
       "}\n",
       "\n",
       "#sk-container-id-1 pre {\n",
       "  padding: 0;\n",
       "}\n",
       "\n",
       "#sk-container-id-1 input.sk-hidden--visually {\n",
       "  border: 0;\n",
       "  clip: rect(1px 1px 1px 1px);\n",
       "  clip: rect(1px, 1px, 1px, 1px);\n",
       "  height: 1px;\n",
       "  margin: -1px;\n",
       "  overflow: hidden;\n",
       "  padding: 0;\n",
       "  position: absolute;\n",
       "  width: 1px;\n",
       "}\n",
       "\n",
       "#sk-container-id-1 div.sk-dashed-wrapped {\n",
       "  border: 1px dashed var(--sklearn-color-line);\n",
       "  margin: 0 0.4em 0.5em 0.4em;\n",
       "  box-sizing: border-box;\n",
       "  padding-bottom: 0.4em;\n",
       "  background-color: var(--sklearn-color-background);\n",
       "}\n",
       "\n",
       "#sk-container-id-1 div.sk-container {\n",
       "  /* jupyter's `normalize.less` sets `[hidden] { display: none; }`\n",
       "     but bootstrap.min.css set `[hidden] { display: none !important; }`\n",
       "     so we also need the `!important` here to be able to override the\n",
       "     default hidden behavior on the sphinx rendered scikit-learn.org.\n",
       "     See: https://github.com/scikit-learn/scikit-learn/issues/21755 */\n",
       "  display: inline-block !important;\n",
       "  position: relative;\n",
       "}\n",
       "\n",
       "#sk-container-id-1 div.sk-text-repr-fallback {\n",
       "  display: none;\n",
       "}\n",
       "\n",
       "div.sk-parallel-item,\n",
       "div.sk-serial,\n",
       "div.sk-item {\n",
       "  /* draw centered vertical line to link estimators */\n",
       "  background-image: linear-gradient(var(--sklearn-color-text-on-default-background), var(--sklearn-color-text-on-default-background));\n",
       "  background-size: 2px 100%;\n",
       "  background-repeat: no-repeat;\n",
       "  background-position: center center;\n",
       "}\n",
       "\n",
       "/* Parallel-specific style estimator block */\n",
       "\n",
       "#sk-container-id-1 div.sk-parallel-item::after {\n",
       "  content: \"\";\n",
       "  width: 100%;\n",
       "  border-bottom: 2px solid var(--sklearn-color-text-on-default-background);\n",
       "  flex-grow: 1;\n",
       "}\n",
       "\n",
       "#sk-container-id-1 div.sk-parallel {\n",
       "  display: flex;\n",
       "  align-items: stretch;\n",
       "  justify-content: center;\n",
       "  background-color: var(--sklearn-color-background);\n",
       "  position: relative;\n",
       "}\n",
       "\n",
       "#sk-container-id-1 div.sk-parallel-item {\n",
       "  display: flex;\n",
       "  flex-direction: column;\n",
       "}\n",
       "\n",
       "#sk-container-id-1 div.sk-parallel-item:first-child::after {\n",
       "  align-self: flex-end;\n",
       "  width: 50%;\n",
       "}\n",
       "\n",
       "#sk-container-id-1 div.sk-parallel-item:last-child::after {\n",
       "  align-self: flex-start;\n",
       "  width: 50%;\n",
       "}\n",
       "\n",
       "#sk-container-id-1 div.sk-parallel-item:only-child::after {\n",
       "  width: 0;\n",
       "}\n",
       "\n",
       "/* Serial-specific style estimator block */\n",
       "\n",
       "#sk-container-id-1 div.sk-serial {\n",
       "  display: flex;\n",
       "  flex-direction: column;\n",
       "  align-items: center;\n",
       "  background-color: var(--sklearn-color-background);\n",
       "  padding-right: 1em;\n",
       "  padding-left: 1em;\n",
       "}\n",
       "\n",
       "\n",
       "/* Toggleable style: style used for estimator/Pipeline/ColumnTransformer box that is\n",
       "clickable and can be expanded/collapsed.\n",
       "- Pipeline and ColumnTransformer use this feature and define the default style\n",
       "- Estimators will overwrite some part of the style using the `sk-estimator` class\n",
       "*/\n",
       "\n",
       "/* Pipeline and ColumnTransformer style (default) */\n",
       "\n",
       "#sk-container-id-1 div.sk-toggleable {\n",
       "  /* Default theme specific background. It is overwritten whether we have a\n",
       "  specific estimator or a Pipeline/ColumnTransformer */\n",
       "  background-color: var(--sklearn-color-background);\n",
       "}\n",
       "\n",
       "/* Toggleable label */\n",
       "#sk-container-id-1 label.sk-toggleable__label {\n",
       "  cursor: pointer;\n",
       "  display: flex;\n",
       "  width: 100%;\n",
       "  margin-bottom: 0;\n",
       "  padding: 0.5em;\n",
       "  box-sizing: border-box;\n",
       "  text-align: center;\n",
       "  align-items: start;\n",
       "  justify-content: space-between;\n",
       "  gap: 0.5em;\n",
       "}\n",
       "\n",
       "#sk-container-id-1 label.sk-toggleable__label .caption {\n",
       "  font-size: 0.6rem;\n",
       "  font-weight: lighter;\n",
       "  color: var(--sklearn-color-text-muted);\n",
       "}\n",
       "\n",
       "#sk-container-id-1 label.sk-toggleable__label-arrow:before {\n",
       "  /* Arrow on the left of the label */\n",
       "  content: \"▸\";\n",
       "  float: left;\n",
       "  margin-right: 0.25em;\n",
       "  color: var(--sklearn-color-icon);\n",
       "}\n",
       "\n",
       "#sk-container-id-1 label.sk-toggleable__label-arrow:hover:before {\n",
       "  color: var(--sklearn-color-text);\n",
       "}\n",
       "\n",
       "/* Toggleable content - dropdown */\n",
       "\n",
       "#sk-container-id-1 div.sk-toggleable__content {\n",
       "  max-height: 0;\n",
       "  max-width: 0;\n",
       "  overflow: hidden;\n",
       "  text-align: left;\n",
       "  /* unfitted */\n",
       "  background-color: var(--sklearn-color-unfitted-level-0);\n",
       "}\n",
       "\n",
       "#sk-container-id-1 div.sk-toggleable__content.fitted {\n",
       "  /* fitted */\n",
       "  background-color: var(--sklearn-color-fitted-level-0);\n",
       "}\n",
       "\n",
       "#sk-container-id-1 div.sk-toggleable__content pre {\n",
       "  margin: 0.2em;\n",
       "  border-radius: 0.25em;\n",
       "  color: var(--sklearn-color-text);\n",
       "  /* unfitted */\n",
       "  background-color: var(--sklearn-color-unfitted-level-0);\n",
       "}\n",
       "\n",
       "#sk-container-id-1 div.sk-toggleable__content.fitted pre {\n",
       "  /* unfitted */\n",
       "  background-color: var(--sklearn-color-fitted-level-0);\n",
       "}\n",
       "\n",
       "#sk-container-id-1 input.sk-toggleable__control:checked~div.sk-toggleable__content {\n",
       "  /* Expand drop-down */\n",
       "  max-height: 200px;\n",
       "  max-width: 100%;\n",
       "  overflow: auto;\n",
       "}\n",
       "\n",
       "#sk-container-id-1 input.sk-toggleable__control:checked~label.sk-toggleable__label-arrow:before {\n",
       "  content: \"▾\";\n",
       "}\n",
       "\n",
       "/* Pipeline/ColumnTransformer-specific style */\n",
       "\n",
       "#sk-container-id-1 div.sk-label input.sk-toggleable__control:checked~label.sk-toggleable__label {\n",
       "  color: var(--sklearn-color-text);\n",
       "  background-color: var(--sklearn-color-unfitted-level-2);\n",
       "}\n",
       "\n",
       "#sk-container-id-1 div.sk-label.fitted input.sk-toggleable__control:checked~label.sk-toggleable__label {\n",
       "  background-color: var(--sklearn-color-fitted-level-2);\n",
       "}\n",
       "\n",
       "/* Estimator-specific style */\n",
       "\n",
       "/* Colorize estimator box */\n",
       "#sk-container-id-1 div.sk-estimator input.sk-toggleable__control:checked~label.sk-toggleable__label {\n",
       "  /* unfitted */\n",
       "  background-color: var(--sklearn-color-unfitted-level-2);\n",
       "}\n",
       "\n",
       "#sk-container-id-1 div.sk-estimator.fitted input.sk-toggleable__control:checked~label.sk-toggleable__label {\n",
       "  /* fitted */\n",
       "  background-color: var(--sklearn-color-fitted-level-2);\n",
       "}\n",
       "\n",
       "#sk-container-id-1 div.sk-label label.sk-toggleable__label,\n",
       "#sk-container-id-1 div.sk-label label {\n",
       "  /* The background is the default theme color */\n",
       "  color: var(--sklearn-color-text-on-default-background);\n",
       "}\n",
       "\n",
       "/* On hover, darken the color of the background */\n",
       "#sk-container-id-1 div.sk-label:hover label.sk-toggleable__label {\n",
       "  color: var(--sklearn-color-text);\n",
       "  background-color: var(--sklearn-color-unfitted-level-2);\n",
       "}\n",
       "\n",
       "/* Label box, darken color on hover, fitted */\n",
       "#sk-container-id-1 div.sk-label.fitted:hover label.sk-toggleable__label.fitted {\n",
       "  color: var(--sklearn-color-text);\n",
       "  background-color: var(--sklearn-color-fitted-level-2);\n",
       "}\n",
       "\n",
       "/* Estimator label */\n",
       "\n",
       "#sk-container-id-1 div.sk-label label {\n",
       "  font-family: monospace;\n",
       "  font-weight: bold;\n",
       "  display: inline-block;\n",
       "  line-height: 1.2em;\n",
       "}\n",
       "\n",
       "#sk-container-id-1 div.sk-label-container {\n",
       "  text-align: center;\n",
       "}\n",
       "\n",
       "/* Estimator-specific */\n",
       "#sk-container-id-1 div.sk-estimator {\n",
       "  font-family: monospace;\n",
       "  border: 1px dotted var(--sklearn-color-border-box);\n",
       "  border-radius: 0.25em;\n",
       "  box-sizing: border-box;\n",
       "  margin-bottom: 0.5em;\n",
       "  /* unfitted */\n",
       "  background-color: var(--sklearn-color-unfitted-level-0);\n",
       "}\n",
       "\n",
       "#sk-container-id-1 div.sk-estimator.fitted {\n",
       "  /* fitted */\n",
       "  background-color: var(--sklearn-color-fitted-level-0);\n",
       "}\n",
       "\n",
       "/* on hover */\n",
       "#sk-container-id-1 div.sk-estimator:hover {\n",
       "  /* unfitted */\n",
       "  background-color: var(--sklearn-color-unfitted-level-2);\n",
       "}\n",
       "\n",
       "#sk-container-id-1 div.sk-estimator.fitted:hover {\n",
       "  /* fitted */\n",
       "  background-color: var(--sklearn-color-fitted-level-2);\n",
       "}\n",
       "\n",
       "/* Specification for estimator info (e.g. \"i\" and \"?\") */\n",
       "\n",
       "/* Common style for \"i\" and \"?\" */\n",
       "\n",
       ".sk-estimator-doc-link,\n",
       "a:link.sk-estimator-doc-link,\n",
       "a:visited.sk-estimator-doc-link {\n",
       "  float: right;\n",
       "  font-size: smaller;\n",
       "  line-height: 1em;\n",
       "  font-family: monospace;\n",
       "  background-color: var(--sklearn-color-background);\n",
       "  border-radius: 1em;\n",
       "  height: 1em;\n",
       "  width: 1em;\n",
       "  text-decoration: none !important;\n",
       "  margin-left: 0.5em;\n",
       "  text-align: center;\n",
       "  /* unfitted */\n",
       "  border: var(--sklearn-color-unfitted-level-1) 1pt solid;\n",
       "  color: var(--sklearn-color-unfitted-level-1);\n",
       "}\n",
       "\n",
       ".sk-estimator-doc-link.fitted,\n",
       "a:link.sk-estimator-doc-link.fitted,\n",
       "a:visited.sk-estimator-doc-link.fitted {\n",
       "  /* fitted */\n",
       "  border: var(--sklearn-color-fitted-level-1) 1pt solid;\n",
       "  color: var(--sklearn-color-fitted-level-1);\n",
       "}\n",
       "\n",
       "/* On hover */\n",
       "div.sk-estimator:hover .sk-estimator-doc-link:hover,\n",
       ".sk-estimator-doc-link:hover,\n",
       "div.sk-label-container:hover .sk-estimator-doc-link:hover,\n",
       ".sk-estimator-doc-link:hover {\n",
       "  /* unfitted */\n",
       "  background-color: var(--sklearn-color-unfitted-level-3);\n",
       "  color: var(--sklearn-color-background);\n",
       "  text-decoration: none;\n",
       "}\n",
       "\n",
       "div.sk-estimator.fitted:hover .sk-estimator-doc-link.fitted:hover,\n",
       ".sk-estimator-doc-link.fitted:hover,\n",
       "div.sk-label-container:hover .sk-estimator-doc-link.fitted:hover,\n",
       ".sk-estimator-doc-link.fitted:hover {\n",
       "  /* fitted */\n",
       "  background-color: var(--sklearn-color-fitted-level-3);\n",
       "  color: var(--sklearn-color-background);\n",
       "  text-decoration: none;\n",
       "}\n",
       "\n",
       "/* Span, style for the box shown on hovering the info icon */\n",
       ".sk-estimator-doc-link span {\n",
       "  display: none;\n",
       "  z-index: 9999;\n",
       "  position: relative;\n",
       "  font-weight: normal;\n",
       "  right: .2ex;\n",
       "  padding: .5ex;\n",
       "  margin: .5ex;\n",
       "  width: min-content;\n",
       "  min-width: 20ex;\n",
       "  max-width: 50ex;\n",
       "  color: var(--sklearn-color-text);\n",
       "  box-shadow: 2pt 2pt 4pt #999;\n",
       "  /* unfitted */\n",
       "  background: var(--sklearn-color-unfitted-level-0);\n",
       "  border: .5pt solid var(--sklearn-color-unfitted-level-3);\n",
       "}\n",
       "\n",
       ".sk-estimator-doc-link.fitted span {\n",
       "  /* fitted */\n",
       "  background: var(--sklearn-color-fitted-level-0);\n",
       "  border: var(--sklearn-color-fitted-level-3);\n",
       "}\n",
       "\n",
       ".sk-estimator-doc-link:hover span {\n",
       "  display: block;\n",
       "}\n",
       "\n",
       "/* \"?\"-specific style due to the `<a>` HTML tag */\n",
       "\n",
       "#sk-container-id-1 a.estimator_doc_link {\n",
       "  float: right;\n",
       "  font-size: 1rem;\n",
       "  line-height: 1em;\n",
       "  font-family: monospace;\n",
       "  background-color: var(--sklearn-color-background);\n",
       "  border-radius: 1rem;\n",
       "  height: 1rem;\n",
       "  width: 1rem;\n",
       "  text-decoration: none;\n",
       "  /* unfitted */\n",
       "  color: var(--sklearn-color-unfitted-level-1);\n",
       "  border: var(--sklearn-color-unfitted-level-1) 1pt solid;\n",
       "}\n",
       "\n",
       "#sk-container-id-1 a.estimator_doc_link.fitted {\n",
       "  /* fitted */\n",
       "  border: var(--sklearn-color-fitted-level-1) 1pt solid;\n",
       "  color: var(--sklearn-color-fitted-level-1);\n",
       "}\n",
       "\n",
       "/* On hover */\n",
       "#sk-container-id-1 a.estimator_doc_link:hover {\n",
       "  /* unfitted */\n",
       "  background-color: var(--sklearn-color-unfitted-level-3);\n",
       "  color: var(--sklearn-color-background);\n",
       "  text-decoration: none;\n",
       "}\n",
       "\n",
       "#sk-container-id-1 a.estimator_doc_link.fitted:hover {\n",
       "  /* fitted */\n",
       "  background-color: var(--sklearn-color-fitted-level-3);\n",
       "}\n",
       "</style><div id=\"sk-container-id-1\" class=\"sk-top-container\"><div class=\"sk-text-repr-fallback\"><pre>Normalizer()</pre><b>In a Jupyter environment, please rerun this cell to show the HTML representation or trust the notebook. <br />On GitHub, the HTML representation is unable to render, please try loading this page with nbviewer.org.</b></div><div class=\"sk-container\" hidden><div class=\"sk-item\"><div class=\"sk-estimator fitted sk-toggleable\"><input class=\"sk-toggleable__control sk-hidden--visually\" id=\"sk-estimator-id-1\" type=\"checkbox\" checked><label for=\"sk-estimator-id-1\" class=\"sk-toggleable__label fitted sk-toggleable__label-arrow\"><div><div>Normalizer</div></div><div><a class=\"sk-estimator-doc-link fitted\" rel=\"noreferrer\" target=\"_blank\" href=\"https://scikit-learn.org/1.6/modules/generated/sklearn.preprocessing.Normalizer.html\">?<span>Documentation for Normalizer</span></a><span class=\"sk-estimator-doc-link fitted\">i<span>Fitted</span></span></div></label><div class=\"sk-toggleable__content fitted\"><pre>Normalizer()</pre></div> </div></div></div></div>"
      ],
      "text/plain": [
       "Normalizer()"
      ]
     },
     "execution_count": 8,
     "metadata": {},
     "output_type": "execute_result"
    }
   ],
   "source": [
    "normalizer = preprocessing.Normalizer().fit(X)\n",
    "normalizer"
   ]
  },
  {
   "cell_type": "code",
   "execution_count": 10,
   "id": "3a988de1-8b30-457c-ab26-0618b182c6a9",
   "metadata": {},
   "outputs": [
    {
     "data": {
      "text/plain": [
       "array([[ 0.40824829, -0.40824829,  0.81649658],\n",
       "       [ 1.        ,  0.        ,  0.        ],\n",
       "       [ 0.        ,  0.70710678, -0.70710678]])"
      ]
     },
     "execution_count": 10,
     "metadata": {},
     "output_type": "execute_result"
    }
   ],
   "source": [
    "normalizer.transform(X)"
   ]
  },
  {
   "cell_type": "markdown",
   "id": "55afc482-73dd-4527-a266-b06b3ae0ea8d",
   "metadata": {},
   "source": [
    "### 6.3.4. Encoding categorical features\n",
    "To convert categorical features to int codes, we can use `OrignalEncoder`. "
   ]
  },
  {
   "cell_type": "markdown",
   "id": "6695eea4-19c0-4c6e-8770-7d184e627045",
   "metadata": {},
   "source": [
    "For example, there are some features: `[\"male\", \"female\"], [\"from Europe\", \"from US\", \"from Asia\"], [\"uses Firefox\", \"uses Chrome\", \"uses Safari\", \"uses Internet Explorer\"].`Now, `[\"male\", \"from US\", \"uses Internet Explorer\"]` could be expressed as `[0, 1, 3]` while `[\"female\", \"from Asia\", \"uses Chrome\"]` would be `[1, 2, 1].`"
   ]
  },
  {
   "cell_type": "code",
   "execution_count": 22,
   "id": "50d9e8dd-5a13-44bb-a65e-2305f7fbe18e",
   "metadata": {},
   "outputs": [
    {
     "data": {
      "text/html": [
       "<style>#sk-container-id-5 {\n",
       "  /* Definition of color scheme common for light and dark mode */\n",
       "  --sklearn-color-text: #000;\n",
       "  --sklearn-color-text-muted: #666;\n",
       "  --sklearn-color-line: gray;\n",
       "  /* Definition of color scheme for unfitted estimators */\n",
       "  --sklearn-color-unfitted-level-0: #fff5e6;\n",
       "  --sklearn-color-unfitted-level-1: #f6e4d2;\n",
       "  --sklearn-color-unfitted-level-2: #ffe0b3;\n",
       "  --sklearn-color-unfitted-level-3: chocolate;\n",
       "  /* Definition of color scheme for fitted estimators */\n",
       "  --sklearn-color-fitted-level-0: #f0f8ff;\n",
       "  --sklearn-color-fitted-level-1: #d4ebff;\n",
       "  --sklearn-color-fitted-level-2: #b3dbfd;\n",
       "  --sklearn-color-fitted-level-3: cornflowerblue;\n",
       "\n",
       "  /* Specific color for light theme */\n",
       "  --sklearn-color-text-on-default-background: var(--sg-text-color, var(--theme-code-foreground, var(--jp-content-font-color1, black)));\n",
       "  --sklearn-color-background: var(--sg-background-color, var(--theme-background, var(--jp-layout-color0, white)));\n",
       "  --sklearn-color-border-box: var(--sg-text-color, var(--theme-code-foreground, var(--jp-content-font-color1, black)));\n",
       "  --sklearn-color-icon: #696969;\n",
       "\n",
       "  @media (prefers-color-scheme: dark) {\n",
       "    /* Redefinition of color scheme for dark theme */\n",
       "    --sklearn-color-text-on-default-background: var(--sg-text-color, var(--theme-code-foreground, var(--jp-content-font-color1, white)));\n",
       "    --sklearn-color-background: var(--sg-background-color, var(--theme-background, var(--jp-layout-color0, #111)));\n",
       "    --sklearn-color-border-box: var(--sg-text-color, var(--theme-code-foreground, var(--jp-content-font-color1, white)));\n",
       "    --sklearn-color-icon: #878787;\n",
       "  }\n",
       "}\n",
       "\n",
       "#sk-container-id-5 {\n",
       "  color: var(--sklearn-color-text);\n",
       "}\n",
       "\n",
       "#sk-container-id-5 pre {\n",
       "  padding: 0;\n",
       "}\n",
       "\n",
       "#sk-container-id-5 input.sk-hidden--visually {\n",
       "  border: 0;\n",
       "  clip: rect(1px 1px 1px 1px);\n",
       "  clip: rect(1px, 1px, 1px, 1px);\n",
       "  height: 1px;\n",
       "  margin: -1px;\n",
       "  overflow: hidden;\n",
       "  padding: 0;\n",
       "  position: absolute;\n",
       "  width: 1px;\n",
       "}\n",
       "\n",
       "#sk-container-id-5 div.sk-dashed-wrapped {\n",
       "  border: 1px dashed var(--sklearn-color-line);\n",
       "  margin: 0 0.4em 0.5em 0.4em;\n",
       "  box-sizing: border-box;\n",
       "  padding-bottom: 0.4em;\n",
       "  background-color: var(--sklearn-color-background);\n",
       "}\n",
       "\n",
       "#sk-container-id-5 div.sk-container {\n",
       "  /* jupyter's `normalize.less` sets `[hidden] { display: none; }`\n",
       "     but bootstrap.min.css set `[hidden] { display: none !important; }`\n",
       "     so we also need the `!important` here to be able to override the\n",
       "     default hidden behavior on the sphinx rendered scikit-learn.org.\n",
       "     See: https://github.com/scikit-learn/scikit-learn/issues/21755 */\n",
       "  display: inline-block !important;\n",
       "  position: relative;\n",
       "}\n",
       "\n",
       "#sk-container-id-5 div.sk-text-repr-fallback {\n",
       "  display: none;\n",
       "}\n",
       "\n",
       "div.sk-parallel-item,\n",
       "div.sk-serial,\n",
       "div.sk-item {\n",
       "  /* draw centered vertical line to link estimators */\n",
       "  background-image: linear-gradient(var(--sklearn-color-text-on-default-background), var(--sklearn-color-text-on-default-background));\n",
       "  background-size: 2px 100%;\n",
       "  background-repeat: no-repeat;\n",
       "  background-position: center center;\n",
       "}\n",
       "\n",
       "/* Parallel-specific style estimator block */\n",
       "\n",
       "#sk-container-id-5 div.sk-parallel-item::after {\n",
       "  content: \"\";\n",
       "  width: 100%;\n",
       "  border-bottom: 2px solid var(--sklearn-color-text-on-default-background);\n",
       "  flex-grow: 1;\n",
       "}\n",
       "\n",
       "#sk-container-id-5 div.sk-parallel {\n",
       "  display: flex;\n",
       "  align-items: stretch;\n",
       "  justify-content: center;\n",
       "  background-color: var(--sklearn-color-background);\n",
       "  position: relative;\n",
       "}\n",
       "\n",
       "#sk-container-id-5 div.sk-parallel-item {\n",
       "  display: flex;\n",
       "  flex-direction: column;\n",
       "}\n",
       "\n",
       "#sk-container-id-5 div.sk-parallel-item:first-child::after {\n",
       "  align-self: flex-end;\n",
       "  width: 50%;\n",
       "}\n",
       "\n",
       "#sk-container-id-5 div.sk-parallel-item:last-child::after {\n",
       "  align-self: flex-start;\n",
       "  width: 50%;\n",
       "}\n",
       "\n",
       "#sk-container-id-5 div.sk-parallel-item:only-child::after {\n",
       "  width: 0;\n",
       "}\n",
       "\n",
       "/* Serial-specific style estimator block */\n",
       "\n",
       "#sk-container-id-5 div.sk-serial {\n",
       "  display: flex;\n",
       "  flex-direction: column;\n",
       "  align-items: center;\n",
       "  background-color: var(--sklearn-color-background);\n",
       "  padding-right: 1em;\n",
       "  padding-left: 1em;\n",
       "}\n",
       "\n",
       "\n",
       "/* Toggleable style: style used for estimator/Pipeline/ColumnTransformer box that is\n",
       "clickable and can be expanded/collapsed.\n",
       "- Pipeline and ColumnTransformer use this feature and define the default style\n",
       "- Estimators will overwrite some part of the style using the `sk-estimator` class\n",
       "*/\n",
       "\n",
       "/* Pipeline and ColumnTransformer style (default) */\n",
       "\n",
       "#sk-container-id-5 div.sk-toggleable {\n",
       "  /* Default theme specific background. It is overwritten whether we have a\n",
       "  specific estimator or a Pipeline/ColumnTransformer */\n",
       "  background-color: var(--sklearn-color-background);\n",
       "}\n",
       "\n",
       "/* Toggleable label */\n",
       "#sk-container-id-5 label.sk-toggleable__label {\n",
       "  cursor: pointer;\n",
       "  display: flex;\n",
       "  width: 100%;\n",
       "  margin-bottom: 0;\n",
       "  padding: 0.5em;\n",
       "  box-sizing: border-box;\n",
       "  text-align: center;\n",
       "  align-items: start;\n",
       "  justify-content: space-between;\n",
       "  gap: 0.5em;\n",
       "}\n",
       "\n",
       "#sk-container-id-5 label.sk-toggleable__label .caption {\n",
       "  font-size: 0.6rem;\n",
       "  font-weight: lighter;\n",
       "  color: var(--sklearn-color-text-muted);\n",
       "}\n",
       "\n",
       "#sk-container-id-5 label.sk-toggleable__label-arrow:before {\n",
       "  /* Arrow on the left of the label */\n",
       "  content: \"▸\";\n",
       "  float: left;\n",
       "  margin-right: 0.25em;\n",
       "  color: var(--sklearn-color-icon);\n",
       "}\n",
       "\n",
       "#sk-container-id-5 label.sk-toggleable__label-arrow:hover:before {\n",
       "  color: var(--sklearn-color-text);\n",
       "}\n",
       "\n",
       "/* Toggleable content - dropdown */\n",
       "\n",
       "#sk-container-id-5 div.sk-toggleable__content {\n",
       "  max-height: 0;\n",
       "  max-width: 0;\n",
       "  overflow: hidden;\n",
       "  text-align: left;\n",
       "  /* unfitted */\n",
       "  background-color: var(--sklearn-color-unfitted-level-0);\n",
       "}\n",
       "\n",
       "#sk-container-id-5 div.sk-toggleable__content.fitted {\n",
       "  /* fitted */\n",
       "  background-color: var(--sklearn-color-fitted-level-0);\n",
       "}\n",
       "\n",
       "#sk-container-id-5 div.sk-toggleable__content pre {\n",
       "  margin: 0.2em;\n",
       "  border-radius: 0.25em;\n",
       "  color: var(--sklearn-color-text);\n",
       "  /* unfitted */\n",
       "  background-color: var(--sklearn-color-unfitted-level-0);\n",
       "}\n",
       "\n",
       "#sk-container-id-5 div.sk-toggleable__content.fitted pre {\n",
       "  /* unfitted */\n",
       "  background-color: var(--sklearn-color-fitted-level-0);\n",
       "}\n",
       "\n",
       "#sk-container-id-5 input.sk-toggleable__control:checked~div.sk-toggleable__content {\n",
       "  /* Expand drop-down */\n",
       "  max-height: 200px;\n",
       "  max-width: 100%;\n",
       "  overflow: auto;\n",
       "}\n",
       "\n",
       "#sk-container-id-5 input.sk-toggleable__control:checked~label.sk-toggleable__label-arrow:before {\n",
       "  content: \"▾\";\n",
       "}\n",
       "\n",
       "/* Pipeline/ColumnTransformer-specific style */\n",
       "\n",
       "#sk-container-id-5 div.sk-label input.sk-toggleable__control:checked~label.sk-toggleable__label {\n",
       "  color: var(--sklearn-color-text);\n",
       "  background-color: var(--sklearn-color-unfitted-level-2);\n",
       "}\n",
       "\n",
       "#sk-container-id-5 div.sk-label.fitted input.sk-toggleable__control:checked~label.sk-toggleable__label {\n",
       "  background-color: var(--sklearn-color-fitted-level-2);\n",
       "}\n",
       "\n",
       "/* Estimator-specific style */\n",
       "\n",
       "/* Colorize estimator box */\n",
       "#sk-container-id-5 div.sk-estimator input.sk-toggleable__control:checked~label.sk-toggleable__label {\n",
       "  /* unfitted */\n",
       "  background-color: var(--sklearn-color-unfitted-level-2);\n",
       "}\n",
       "\n",
       "#sk-container-id-5 div.sk-estimator.fitted input.sk-toggleable__control:checked~label.sk-toggleable__label {\n",
       "  /* fitted */\n",
       "  background-color: var(--sklearn-color-fitted-level-2);\n",
       "}\n",
       "\n",
       "#sk-container-id-5 div.sk-label label.sk-toggleable__label,\n",
       "#sk-container-id-5 div.sk-label label {\n",
       "  /* The background is the default theme color */\n",
       "  color: var(--sklearn-color-text-on-default-background);\n",
       "}\n",
       "\n",
       "/* On hover, darken the color of the background */\n",
       "#sk-container-id-5 div.sk-label:hover label.sk-toggleable__label {\n",
       "  color: var(--sklearn-color-text);\n",
       "  background-color: var(--sklearn-color-unfitted-level-2);\n",
       "}\n",
       "\n",
       "/* Label box, darken color on hover, fitted */\n",
       "#sk-container-id-5 div.sk-label.fitted:hover label.sk-toggleable__label.fitted {\n",
       "  color: var(--sklearn-color-text);\n",
       "  background-color: var(--sklearn-color-fitted-level-2);\n",
       "}\n",
       "\n",
       "/* Estimator label */\n",
       "\n",
       "#sk-container-id-5 div.sk-label label {\n",
       "  font-family: monospace;\n",
       "  font-weight: bold;\n",
       "  display: inline-block;\n",
       "  line-height: 1.2em;\n",
       "}\n",
       "\n",
       "#sk-container-id-5 div.sk-label-container {\n",
       "  text-align: center;\n",
       "}\n",
       "\n",
       "/* Estimator-specific */\n",
       "#sk-container-id-5 div.sk-estimator {\n",
       "  font-family: monospace;\n",
       "  border: 1px dotted var(--sklearn-color-border-box);\n",
       "  border-radius: 0.25em;\n",
       "  box-sizing: border-box;\n",
       "  margin-bottom: 0.5em;\n",
       "  /* unfitted */\n",
       "  background-color: var(--sklearn-color-unfitted-level-0);\n",
       "}\n",
       "\n",
       "#sk-container-id-5 div.sk-estimator.fitted {\n",
       "  /* fitted */\n",
       "  background-color: var(--sklearn-color-fitted-level-0);\n",
       "}\n",
       "\n",
       "/* on hover */\n",
       "#sk-container-id-5 div.sk-estimator:hover {\n",
       "  /* unfitted */\n",
       "  background-color: var(--sklearn-color-unfitted-level-2);\n",
       "}\n",
       "\n",
       "#sk-container-id-5 div.sk-estimator.fitted:hover {\n",
       "  /* fitted */\n",
       "  background-color: var(--sklearn-color-fitted-level-2);\n",
       "}\n",
       "\n",
       "/* Specification for estimator info (e.g. \"i\" and \"?\") */\n",
       "\n",
       "/* Common style for \"i\" and \"?\" */\n",
       "\n",
       ".sk-estimator-doc-link,\n",
       "a:link.sk-estimator-doc-link,\n",
       "a:visited.sk-estimator-doc-link {\n",
       "  float: right;\n",
       "  font-size: smaller;\n",
       "  line-height: 1em;\n",
       "  font-family: monospace;\n",
       "  background-color: var(--sklearn-color-background);\n",
       "  border-radius: 1em;\n",
       "  height: 1em;\n",
       "  width: 1em;\n",
       "  text-decoration: none !important;\n",
       "  margin-left: 0.5em;\n",
       "  text-align: center;\n",
       "  /* unfitted */\n",
       "  border: var(--sklearn-color-unfitted-level-1) 1pt solid;\n",
       "  color: var(--sklearn-color-unfitted-level-1);\n",
       "}\n",
       "\n",
       ".sk-estimator-doc-link.fitted,\n",
       "a:link.sk-estimator-doc-link.fitted,\n",
       "a:visited.sk-estimator-doc-link.fitted {\n",
       "  /* fitted */\n",
       "  border: var(--sklearn-color-fitted-level-1) 1pt solid;\n",
       "  color: var(--sklearn-color-fitted-level-1);\n",
       "}\n",
       "\n",
       "/* On hover */\n",
       "div.sk-estimator:hover .sk-estimator-doc-link:hover,\n",
       ".sk-estimator-doc-link:hover,\n",
       "div.sk-label-container:hover .sk-estimator-doc-link:hover,\n",
       ".sk-estimator-doc-link:hover {\n",
       "  /* unfitted */\n",
       "  background-color: var(--sklearn-color-unfitted-level-3);\n",
       "  color: var(--sklearn-color-background);\n",
       "  text-decoration: none;\n",
       "}\n",
       "\n",
       "div.sk-estimator.fitted:hover .sk-estimator-doc-link.fitted:hover,\n",
       ".sk-estimator-doc-link.fitted:hover,\n",
       "div.sk-label-container:hover .sk-estimator-doc-link.fitted:hover,\n",
       ".sk-estimator-doc-link.fitted:hover {\n",
       "  /* fitted */\n",
       "  background-color: var(--sklearn-color-fitted-level-3);\n",
       "  color: var(--sklearn-color-background);\n",
       "  text-decoration: none;\n",
       "}\n",
       "\n",
       "/* Span, style for the box shown on hovering the info icon */\n",
       ".sk-estimator-doc-link span {\n",
       "  display: none;\n",
       "  z-index: 9999;\n",
       "  position: relative;\n",
       "  font-weight: normal;\n",
       "  right: .2ex;\n",
       "  padding: .5ex;\n",
       "  margin: .5ex;\n",
       "  width: min-content;\n",
       "  min-width: 20ex;\n",
       "  max-width: 50ex;\n",
       "  color: var(--sklearn-color-text);\n",
       "  box-shadow: 2pt 2pt 4pt #999;\n",
       "  /* unfitted */\n",
       "  background: var(--sklearn-color-unfitted-level-0);\n",
       "  border: .5pt solid var(--sklearn-color-unfitted-level-3);\n",
       "}\n",
       "\n",
       ".sk-estimator-doc-link.fitted span {\n",
       "  /* fitted */\n",
       "  background: var(--sklearn-color-fitted-level-0);\n",
       "  border: var(--sklearn-color-fitted-level-3);\n",
       "}\n",
       "\n",
       ".sk-estimator-doc-link:hover span {\n",
       "  display: block;\n",
       "}\n",
       "\n",
       "/* \"?\"-specific style due to the `<a>` HTML tag */\n",
       "\n",
       "#sk-container-id-5 a.estimator_doc_link {\n",
       "  float: right;\n",
       "  font-size: 1rem;\n",
       "  line-height: 1em;\n",
       "  font-family: monospace;\n",
       "  background-color: var(--sklearn-color-background);\n",
       "  border-radius: 1rem;\n",
       "  height: 1rem;\n",
       "  width: 1rem;\n",
       "  text-decoration: none;\n",
       "  /* unfitted */\n",
       "  color: var(--sklearn-color-unfitted-level-1);\n",
       "  border: var(--sklearn-color-unfitted-level-1) 1pt solid;\n",
       "}\n",
       "\n",
       "#sk-container-id-5 a.estimator_doc_link.fitted {\n",
       "  /* fitted */\n",
       "  border: var(--sklearn-color-fitted-level-1) 1pt solid;\n",
       "  color: var(--sklearn-color-fitted-level-1);\n",
       "}\n",
       "\n",
       "/* On hover */\n",
       "#sk-container-id-5 a.estimator_doc_link:hover {\n",
       "  /* unfitted */\n",
       "  background-color: var(--sklearn-color-unfitted-level-3);\n",
       "  color: var(--sklearn-color-background);\n",
       "  text-decoration: none;\n",
       "}\n",
       "\n",
       "#sk-container-id-5 a.estimator_doc_link.fitted:hover {\n",
       "  /* fitted */\n",
       "  background-color: var(--sklearn-color-fitted-level-3);\n",
       "}\n",
       "</style><div id=\"sk-container-id-5\" class=\"sk-top-container\"><div class=\"sk-text-repr-fallback\"><pre>OrdinalEncoder()</pre><b>In a Jupyter environment, please rerun this cell to show the HTML representation or trust the notebook. <br />On GitHub, the HTML representation is unable to render, please try loading this page with nbviewer.org.</b></div><div class=\"sk-container\" hidden><div class=\"sk-item\"><div class=\"sk-estimator fitted sk-toggleable\"><input class=\"sk-toggleable__control sk-hidden--visually\" id=\"sk-estimator-id-5\" type=\"checkbox\" checked><label for=\"sk-estimator-id-5\" class=\"sk-toggleable__label fitted sk-toggleable__label-arrow\"><div><div>OrdinalEncoder</div></div><div><a class=\"sk-estimator-doc-link fitted\" rel=\"noreferrer\" target=\"_blank\" href=\"https://scikit-learn.org/1.6/modules/generated/sklearn.preprocessing.OrdinalEncoder.html\">?<span>Documentation for OrdinalEncoder</span></a><span class=\"sk-estimator-doc-link fitted\">i<span>Fitted</span></span></div></label><div class=\"sk-toggleable__content fitted\"><pre>OrdinalEncoder()</pre></div> </div></div></div></div>"
      ],
      "text/plain": [
       "OrdinalEncoder()"
      ]
     },
     "execution_count": 22,
     "metadata": {},
     "output_type": "execute_result"
    }
   ],
   "source": [
    "enc = preprocessing.OrdinalEncoder()\n",
    "X= [\n",
    "    ['male','from us','uses safari'],\n",
    "    ['female','from eu','uses chrome']\n",
    "]\n",
    "enc.fit(X)"
   ]
  },
  {
   "cell_type": "code",
   "execution_count": 23,
   "id": "207ba1a4-d4a6-4ea7-ba32-04ab424d39b8",
   "metadata": {},
   "outputs": [
    {
     "data": {
      "text/plain": [
       "array([[0., 1., 0.]])"
      ]
     },
     "execution_count": 23,
     "metadata": {},
     "output_type": "execute_result"
    }
   ],
   "source": [
    "enc.transform([['female','from us', 'uses chrome']])"
   ]
  },
  {
   "cell_type": "code",
   "execution_count": 24,
   "id": "6bdef4da-15c1-4273-86c5-4fb23710efad",
   "metadata": {},
   "outputs": [
    {
     "ename": "ValueError",
     "evalue": "Found unknown categories [nan] in column 0 during transform",
     "output_type": "error",
     "traceback": [
      "\u001b[1;31m---------------------------------------------------------------------------\u001b[0m",
      "\u001b[1;31mValueError\u001b[0m                                Traceback (most recent call last)",
      "Cell \u001b[1;32mIn[24], line 1\u001b[0m\n\u001b[1;32m----> 1\u001b[0m \u001b[43menc\u001b[49m\u001b[38;5;241;43m.\u001b[39;49m\u001b[43mtransform\u001b[49m\u001b[43m(\u001b[49m\u001b[43m[\u001b[49m\u001b[43m[\u001b[49m\u001b[43mnp\u001b[49m\u001b[38;5;241;43m.\u001b[39;49m\u001b[43mnan\u001b[49m\u001b[43m,\u001b[49m\u001b[43m \u001b[49m\u001b[43mnp\u001b[49m\u001b[38;5;241;43m.\u001b[39;49m\u001b[43mnan\u001b[49m\u001b[43m,\u001b[49m\u001b[43m \u001b[49m\u001b[38;5;124;43m'\u001b[39;49m\u001b[38;5;124;43muses chrome\u001b[39;49m\u001b[38;5;124;43m'\u001b[39;49m\u001b[43m]\u001b[49m\u001b[43m]\u001b[49m\u001b[43m)\u001b[49m\n",
      "File \u001b[1;32md:\\miniconda3\\Lib\\site-packages\\sklearn\\utils\\_set_output.py:319\u001b[0m, in \u001b[0;36m_wrap_method_output.<locals>.wrapped\u001b[1;34m(self, X, *args, **kwargs)\u001b[0m\n\u001b[0;32m    317\u001b[0m \u001b[38;5;129m@wraps\u001b[39m(f)\n\u001b[0;32m    318\u001b[0m \u001b[38;5;28;01mdef\u001b[39;00m \u001b[38;5;21mwrapped\u001b[39m(\u001b[38;5;28mself\u001b[39m, X, \u001b[38;5;241m*\u001b[39margs, \u001b[38;5;241m*\u001b[39m\u001b[38;5;241m*\u001b[39mkwargs):\n\u001b[1;32m--> 319\u001b[0m     data_to_wrap \u001b[38;5;241m=\u001b[39m \u001b[43mf\u001b[49m\u001b[43m(\u001b[49m\u001b[38;5;28;43mself\u001b[39;49m\u001b[43m,\u001b[49m\u001b[43m \u001b[49m\u001b[43mX\u001b[49m\u001b[43m,\u001b[49m\u001b[43m \u001b[49m\u001b[38;5;241;43m*\u001b[39;49m\u001b[43margs\u001b[49m\u001b[43m,\u001b[49m\u001b[43m \u001b[49m\u001b[38;5;241;43m*\u001b[39;49m\u001b[38;5;241;43m*\u001b[39;49m\u001b[43mkwargs\u001b[49m\u001b[43m)\u001b[49m\n\u001b[0;32m    320\u001b[0m     \u001b[38;5;28;01mif\u001b[39;00m \u001b[38;5;28misinstance\u001b[39m(data_to_wrap, \u001b[38;5;28mtuple\u001b[39m):\n\u001b[0;32m    321\u001b[0m         \u001b[38;5;66;03m# only wrap the first output for cross decomposition\u001b[39;00m\n\u001b[0;32m    322\u001b[0m         return_tuple \u001b[38;5;241m=\u001b[39m (\n\u001b[0;32m    323\u001b[0m             _wrap_data_with_container(method, data_to_wrap[\u001b[38;5;241m0\u001b[39m], X, \u001b[38;5;28mself\u001b[39m),\n\u001b[0;32m    324\u001b[0m             \u001b[38;5;241m*\u001b[39mdata_to_wrap[\u001b[38;5;241m1\u001b[39m:],\n\u001b[0;32m    325\u001b[0m         )\n",
      "File \u001b[1;32md:\\miniconda3\\Lib\\site-packages\\sklearn\\preprocessing\\_encoders.py:1597\u001b[0m, in \u001b[0;36mOrdinalEncoder.transform\u001b[1;34m(self, X)\u001b[0m\n\u001b[0;32m   1583\u001b[0m \u001b[38;5;250m\u001b[39m\u001b[38;5;124;03m\"\"\"\u001b[39;00m\n\u001b[0;32m   1584\u001b[0m \u001b[38;5;124;03mTransform X to ordinal codes.\u001b[39;00m\n\u001b[0;32m   1585\u001b[0m \n\u001b[1;32m   (...)\u001b[0m\n\u001b[0;32m   1594\u001b[0m \u001b[38;5;124;03m    Transformed input.\u001b[39;00m\n\u001b[0;32m   1595\u001b[0m \u001b[38;5;124;03m\"\"\"\u001b[39;00m\n\u001b[0;32m   1596\u001b[0m check_is_fitted(\u001b[38;5;28mself\u001b[39m, \u001b[38;5;124m\"\u001b[39m\u001b[38;5;124mcategories_\u001b[39m\u001b[38;5;124m\"\u001b[39m)\n\u001b[1;32m-> 1597\u001b[0m X_int, X_mask \u001b[38;5;241m=\u001b[39m \u001b[38;5;28;43mself\u001b[39;49m\u001b[38;5;241;43m.\u001b[39;49m\u001b[43m_transform\u001b[49m\u001b[43m(\u001b[49m\n\u001b[0;32m   1598\u001b[0m \u001b[43m    \u001b[49m\u001b[43mX\u001b[49m\u001b[43m,\u001b[49m\n\u001b[0;32m   1599\u001b[0m \u001b[43m    \u001b[49m\u001b[43mhandle_unknown\u001b[49m\u001b[38;5;241;43m=\u001b[39;49m\u001b[38;5;28;43mself\u001b[39;49m\u001b[38;5;241;43m.\u001b[39;49m\u001b[43mhandle_unknown\u001b[49m\u001b[43m,\u001b[49m\n\u001b[0;32m   1600\u001b[0m \u001b[43m    \u001b[49m\u001b[43mensure_all_finite\u001b[49m\u001b[38;5;241;43m=\u001b[39;49m\u001b[38;5;124;43m\"\u001b[39;49m\u001b[38;5;124;43mallow-nan\u001b[39;49m\u001b[38;5;124;43m\"\u001b[39;49m\u001b[43m,\u001b[49m\n\u001b[0;32m   1601\u001b[0m \u001b[43m    \u001b[49m\u001b[43mignore_category_indices\u001b[49m\u001b[38;5;241;43m=\u001b[39;49m\u001b[38;5;28;43mself\u001b[39;49m\u001b[38;5;241;43m.\u001b[39;49m\u001b[43m_missing_indices\u001b[49m\u001b[43m,\u001b[49m\n\u001b[0;32m   1602\u001b[0m \u001b[43m\u001b[49m\u001b[43m)\u001b[49m\n\u001b[0;32m   1603\u001b[0m X_trans \u001b[38;5;241m=\u001b[39m X_int\u001b[38;5;241m.\u001b[39mastype(\u001b[38;5;28mself\u001b[39m\u001b[38;5;241m.\u001b[39mdtype, copy\u001b[38;5;241m=\u001b[39m\u001b[38;5;28;01mFalse\u001b[39;00m)\n\u001b[0;32m   1605\u001b[0m \u001b[38;5;28;01mfor\u001b[39;00m cat_idx, missing_idx \u001b[38;5;129;01min\u001b[39;00m \u001b[38;5;28mself\u001b[39m\u001b[38;5;241m.\u001b[39m_missing_indices\u001b[38;5;241m.\u001b[39mitems():\n",
      "File \u001b[1;32md:\\miniconda3\\Lib\\site-packages\\sklearn\\preprocessing\\_encoders.py:218\u001b[0m, in \u001b[0;36m_BaseEncoder._transform\u001b[1;34m(self, X, handle_unknown, ensure_all_finite, warn_on_unknown, ignore_category_indices)\u001b[0m\n\u001b[0;32m    213\u001b[0m \u001b[38;5;28;01mif\u001b[39;00m handle_unknown \u001b[38;5;241m==\u001b[39m \u001b[38;5;124m\"\u001b[39m\u001b[38;5;124merror\u001b[39m\u001b[38;5;124m\"\u001b[39m:\n\u001b[0;32m    214\u001b[0m     msg \u001b[38;5;241m=\u001b[39m (\n\u001b[0;32m    215\u001b[0m         \u001b[38;5;124m\"\u001b[39m\u001b[38;5;124mFound unknown categories \u001b[39m\u001b[38;5;132;01m{0}\u001b[39;00m\u001b[38;5;124m in column \u001b[39m\u001b[38;5;132;01m{1}\u001b[39;00m\u001b[38;5;124m\"\u001b[39m\n\u001b[0;32m    216\u001b[0m         \u001b[38;5;124m\"\u001b[39m\u001b[38;5;124m during transform\u001b[39m\u001b[38;5;124m\"\u001b[39m\u001b[38;5;241m.\u001b[39mformat(diff, i)\n\u001b[0;32m    217\u001b[0m     )\n\u001b[1;32m--> 218\u001b[0m     \u001b[38;5;28;01mraise\u001b[39;00m \u001b[38;5;167;01mValueError\u001b[39;00m(msg)\n\u001b[0;32m    219\u001b[0m \u001b[38;5;28;01melse\u001b[39;00m:\n\u001b[0;32m    220\u001b[0m     \u001b[38;5;28;01mif\u001b[39;00m warn_on_unknown:\n",
      "\u001b[1;31mValueError\u001b[0m: Found unknown categories [nan] in column 0 during transform"
     ]
    }
   ],
   "source": [
    "enc.transform([[np.nan, np.nan, 'uses chrome']])"
   ]
  },
  {
   "cell_type": "markdown",
   "id": "ddf1135d-1c02-4bd0-9624-e64777fdf4ee",
   "metadata": {},
   "source": [
    "`encoded_missing_value` to encode the missing values"
   ]
  },
  {
   "cell_type": "code",
   "execution_count": 25,
   "id": "b56ac323-ad27-42ff-b9b6-5c3d676ad8ff",
   "metadata": {},
   "outputs": [
    {
     "data": {
      "text/plain": [
       "array([[ 1.],\n",
       "       [ 0.],\n",
       "       [-1.],\n",
       "       [ 0.]])"
      ]
     },
     "execution_count": 25,
     "metadata": {},
     "output_type": "execute_result"
    }
   ],
   "source": [
    "import numpy as np\n",
    "enc = preprocessing.OrdinalEncoder(encoded_missing_value=-1)\n",
    "X = [['male'], ['female'], [np.nan], ['female']]\n",
    "enc.fit_transform(X)"
   ]
  },
  {
   "cell_type": "code",
   "execution_count": null,
   "id": "48b65329-7eaa-495b-98ad-91110e094250",
   "metadata": {},
   "outputs": [],
   "source": []
  },
  {
   "cell_type": "code",
   "execution_count": null,
   "id": "0e688e9a-90ad-4f27-80e2-6566255b7635",
   "metadata": {},
   "outputs": [],
   "source": []
  },
  {
   "cell_type": "code",
   "execution_count": null,
   "id": "e9ffbeb8-39aa-4167-ac89-0dfb7cd26816",
   "metadata": {},
   "outputs": [],
   "source": []
  }
 ],
 "metadata": {
  "kernelspec": {
   "display_name": "Python 3 (ipykernel)",
   "language": "python",
   "name": "python3"
  },
  "language_info": {
   "codemirror_mode": {
    "name": "ipython",
    "version": 3
   },
   "file_extension": ".py",
   "mimetype": "text/x-python",
   "name": "python",
   "nbconvert_exporter": "python",
   "pygments_lexer": "ipython3",
   "version": "3.9.23"
  }
 },
 "nbformat": 4,
 "nbformat_minor": 5
}
