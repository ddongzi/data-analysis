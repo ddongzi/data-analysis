{
 "cells": [
  {
   "cell_type": "markdown",
   "id": "13146da2-fd2f-4098-aea1-ae79fe485720",
   "metadata": {},
   "source": [
    "\n",
    "## Ensembles\n",
    "compine basic estimators. "
   ]
  },
  {
   "cell_type": "code",
   "execution_count": null,
   "id": "ecf87e92-d293-4769-8c68-5ee17c92d0e7",
   "metadata": {},
   "outputs": [],
   "source": []
  },
  {
   "cell_type": "code",
   "execution_count": null,
   "id": "1ffa5b2a-3f04-4e24-bc7f-9e2e1b7e6476",
   "metadata": {},
   "outputs": [],
   "source": []
  },
  {
   "cell_type": "markdown",
   "id": "4e221ad4-d9fd-449e-8e64-003ff55dea6f",
   "metadata": {},
   "source": [
    "### random forest\n",
    "[▶️Youtube-random forest](https://youtu.be/J4Wdy0Wc_xQ?si=rvyPCO3CkZoOka-6)\n",
    "决策树对训练数据很好，easy to build / use / intercpt, 但是对新测试样本Inaccuracy"
   ]
  },
  {
   "cell_type": "markdown",
   "id": "e228b5cc-16ab-432c-86d3-2728ea8ecea5",
   "metadata": {},
   "source": [
    "[▶️Youtube-Adaboost](https://youtu.be/LsK-xG1cLYA?si=qUL8pOxKBL25niDE)"
   ]
  },
  {
   "cell_type": "code",
   "execution_count": null,
   "id": "d0c9de1b-be68-4f9e-b8b9-aea6e80c0125",
   "metadata": {},
   "outputs": [],
   "source": []
  }
 ],
 "metadata": {
  "kernelspec": {
   "display_name": "Python 3 (ipykernel)",
   "language": "python",
   "name": "python3"
  },
  "language_info": {
   "codemirror_mode": {
    "name": "ipython",
    "version": 3
   },
   "file_extension": ".py",
   "mimetype": "text/x-python",
   "name": "python",
   "nbconvert_exporter": "python",
   "pygments_lexer": "ipython3",
   "version": "3.12.9"
  }
 },
 "nbformat": 4,
 "nbformat_minor": 5
}
