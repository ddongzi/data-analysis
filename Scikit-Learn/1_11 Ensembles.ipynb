{
 "cells": [
  {
   "cell_type": "markdown",
   "id": "13146da2-fd2f-4098-aea1-ae79fe485720",
   "metadata": {},
   "source": [
    "\n",
    "1_11 Ensembles"
   ]
  },
  {
   "cell_type": "code",
   "execution_count": null,
   "id": "1ffa5b2a-3f04-4e24-bc7f-9e2e1b7e6476",
   "metadata": {},
   "outputs": [],
   "source": []
  }
 ],
 "metadata": {
  "kernelspec": {
   "display_name": "Python 3 (ipykernel)",
   "language": "python",
   "name": "python3"
  },
  "language_info": {
   "codemirror_mode": {
    "name": "ipython",
    "version": 3
   },
   "file_extension": ".py",
   "mimetype": "text/x-python",
   "name": "python",
   "nbconvert_exporter": "python",
   "pygments_lexer": "ipython3",
   "version": "3.12.9"
  }
 },
 "nbformat": 4,
 "nbformat_minor": 5
}
