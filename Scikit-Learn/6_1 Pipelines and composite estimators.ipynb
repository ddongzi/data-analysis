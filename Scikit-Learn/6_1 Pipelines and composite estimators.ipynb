{
 "cells": [
  {
   "cell_type": "markdown",
   "id": "d8a3f336-1c9b-4b91-b72e-21936bb96261",
   "metadata": {},
   "source": [
    "6.1. Pipelines and composite estimators"
   ]
  },
  {
   "cell_type": "code",
   "execution_count": null,
   "id": "35c89939-789c-4501-bcb5-2a86bfa72ddd",
   "metadata": {},
   "outputs": [],
   "source": []
  },
  {
   "cell_type": "markdown",
   "id": "de0e9db3-b677-40df-9d8c-92fbb1ff762d",
   "metadata": {},
   "source": [
    "make_pipeline vs. Pipeline\n",
    "\n",
    "- Pipeline is more flexible.make_pipeline is more simple\n",
    "- Pipeline needs us manually define name."
   ]
  },
  {
   "cell_type": "code",
   "execution_count": 4,
   "id": "d173ea06-c23a-4cda-8631-28f6c462431a",
   "metadata": {},
   "outputs": [
    {
     "name": "stdout",
     "output_type": "stream",
     "text": [
      "StandardScaler()\n"
     ]
    }
   ],
   "source": [
    "from sklearn.pipeline import Pipeline\n",
    "from sklearn.preprocessing import StandardScaler\n",
    "from sklearn.linear_model import LogisticRegression\n",
    "\n",
    "pipe = Pipeline([\n",
    "    ('my_scaler', StandardScaler()),\n",
    "    ('my_classifier', LogisticRegression())\n",
    "])\n",
    "print(pipe.named_steps['my_scaler'])  "
   ]
  },
  {
   "cell_type": "code",
   "execution_count": 3,
   "id": "c7261b32-5425-4b01-97c1-d95b48a267bc",
   "metadata": {},
   "outputs": [
    {
     "name": "stdout",
     "output_type": "stream",
     "text": [
      "StandardScaler()\n"
     ]
    }
   ],
   "source": [
    "from sklearn.pipeline import make_pipeline\n",
    "from sklearn.preprocessing import StandardScaler\n",
    "from sklearn.linear_model import LogisticRegression\n",
    "\n",
    "pipe = make_pipeline(\n",
    "    StandardScaler(),\n",
    "    LogisticRegression()\n",
    ")\n",
    "print(pipe.named_steps['standardscaler'])  # auto-generated name"
   ]
  },
  {
   "cell_type": "code",
   "execution_count": null,
   "id": "857eb8b0-9b60-4c64-8425-cc62da20efc3",
   "metadata": {},
   "outputs": [],
   "source": []
  }
 ],
 "metadata": {
  "kernelspec": {
   "display_name": "Python 3 (ipykernel)",
   "language": "python",
   "name": "python3"
  },
  "language_info": {
   "codemirror_mode": {
    "name": "ipython",
    "version": 3
   },
   "file_extension": ".py",
   "mimetype": "text/x-python",
   "name": "python",
   "nbconvert_exporter": "python",
   "pygments_lexer": "ipython3",
   "version": "3.9.23"
  }
 },
 "nbformat": 4,
 "nbformat_minor": 5
}
