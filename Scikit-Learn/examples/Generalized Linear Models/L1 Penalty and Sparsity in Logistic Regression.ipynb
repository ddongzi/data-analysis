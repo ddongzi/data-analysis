{
 "cells": [
  {
   "cell_type": "markdown",
   "id": "f4b57db6-c0a1-4d43-adda-498fb3400522",
   "metadata": {},
   "source": [
    "# L1 Penalty and Sparsity in Logistic Regression \n",
    "\n",
    "We classify 8*8 images of digits into two classes: 0-4, 5-9.\n",
    "\n",
    "This example shows that different **C(Inverse of regularization strength 正则化强度)** for diffenent model(L1,L2,Elastic)\n",
    "\n",
    "- C↓，Regularizaion ↑ "
   ]
  },
  {
   "cell_type": "code",
   "execution_count": 6,
   "id": "a9ce28b6-e2ee-45f9-b4ff-d5ef87374296",
   "metadata": {},
   "outputs": [],
   "source": [
    "import numpy as np\n",
    "import matplotlib.pyplot as plt\n",
    "\n",
    "from sklearn.linear_model import LogisticRegression\n",
    "from sklearn import datasets\n",
    "from sklearn.preprocessing import StandardScaler"
   ]
  },
  {
   "cell_type": "code",
   "execution_count": 7,
   "id": "482a59cb-a639-49e0-bdb8-7d1c7881d5ab",
   "metadata": {},
   "outputs": [],
   "source": [
    "\n",
    "X, y = datasets.load_digits(return_X_y=True)"
   ]
  },
  {
   "cell_type": "code",
   "execution_count": 8,
   "id": "f8d29328-c258-48e4-95cd-6fdb7979cc67",
   "metadata": {},
   "outputs": [],
   "source": [
    "X = StandardScaler().fit_transform(X)"
   ]
  },
  {
   "cell_type": "code",
   "execution_count": 9,
   "id": "70b53a6b-5a43-41ec-a8a4-07375b8c3ad3",
   "metadata": {},
   "outputs": [],
   "source": [
    "y = (y>4).astype(int)"
   ]
  },
  {
   "cell_type": "code",
   "execution_count": 12,
   "id": "8627c4f9-06d6-45fa-8cbc-37fcc396c6c1",
   "metadata": {},
   "outputs": [],
   "source": [
    "l1_ratio = 0.5"
   ]
  },
  {
   "cell_type": "code",
   "execution_count": 52,
   "id": "f5ef8b7d-8129-4fa7-816a-dff9cc3dccb5",
   "metadata": {},
   "outputs": [
    {
     "name": "stdout",
     "output_type": "stream",
     "text": [
      "C=1.00\n",
      "Sparsity with L1 penalty: 0.06\n",
      "Sparsity with L2 penalty: 0.05\n",
      "Sparsity with EN penalty: 0.05\n",
      "Score with L1 penalty: 0.90\n",
      "Score with L2 penalty: 0.90\n",
      "Score with EN penalty: 0.90\n",
      "C=0.10\n",
      "Sparsity with L1 penalty: 0.30\n",
      "Sparsity with L2 penalty: 0.05\n",
      "Sparsity with EN penalty: 0.11\n",
      "Score with L1 penalty: 0.90\n",
      "Score with L2 penalty: 0.90\n",
      "Score with EN penalty: 0.90\n",
      "C=0.01\n",
      "Sparsity with L1 penalty: 0.84\n",
      "Sparsity with L2 penalty: 0.05\n",
      "Sparsity with EN penalty: 0.69\n",
      "Score with L1 penalty: 0.86\n",
      "Score with L2 penalty: 0.89\n",
      "Score with EN penalty: 0.88\n"
     ]
    },
    {
     "data": {
      "image/png": "[encoded data removed]",
      "text/plain": [
       "<Figure size 640x480 with 10 Axes>"
      ]
     },
     "metadata": {},
     "output_type": "display_data"
    }
   ],
   "source": [
    "fig,axes = plt.subplots(3,3)\n",
    "# 创建一个全局的颜色映射\n",
    "vmin, vmax = 0, 1  # 设定 colorbar 的范围\n",
    "sm = plt.cm.ScalarMappable(cmap=\"binary\", norm=plt.Normalize(vmin=vmin, vmax=vmax))\n",
    "\n",
    "for i, (C,axes_row) in enumerate(zip((1,0.1,0.01), axes)):\n",
    "    clf_l1_LR = LogisticRegression(C=C,penalty='l1',tol=0.01,solver='saga')\n",
    "    clf_l2_LR = LogisticRegression(C=C,penalty='l2',tol=0.01,solver='saga')\n",
    "    clf_en_LR = LogisticRegression(C=C,penalty='elasticnet',l1_ratio=l1_ratio,\n",
    "                                   tol=0.01,solver='saga')\n",
    "    clf_l1_LR.fit(X,y)\n",
    "    clf_l2_LR.fit(X,y)\n",
    "    clf_en_LR.fit(X,y)\n",
    "    coef_l1_LR = clf_l1_LR.coef_.ravel()\n",
    "    coef_l2_LR = clf_l2_LR.coef_.ravel()\n",
    "    coef_en_LR = clf_en_LR.coef_.ravel()\n",
    "\n",
    "    # Sparity ratio \n",
    "    print(f\"C={C:.2f}\") \n",
    "    print(f\"Sparsity with L1 penalty: {np.mean(coef_l1_LR==0):.2f}\")\n",
    "    print(f\"Sparsity with L2 penalty: {np.mean(coef_l2_LR==0):.2f}\")\n",
    "    print(f\"Sparsity with EN penalty: {np.mean(coef_en_LR==0):.2f}\")\n",
    "    # accuracy\n",
    "    print(f\"Score with L1 penalty: {clf_l1_LR.score(X,y):.2f}\")\n",
    "    print(f\"Score with L2 penalty: {clf_l2_LR.score(X,y):.2f}\")\n",
    "    print(f\"Score with EN penalty: {clf_en_LR.score(X,y):.2f}\")\n",
    "    # plot\n",
    "    if i==0:\n",
    "        axes_row[0].set_title(\"L1 penalty\")\n",
    "        axes_row[1].set_title(f\"Elastic-Net l1_ratio={l1_ratio}\")\n",
    "        axes_row[2].set_title('L2 penalty')\n",
    "    for ax,coefs in zip(axes_row, [coef_l1_LR, coef_en_LR, coef_l2_LR]):\n",
    "        ax.imshow(\n",
    "            np.abs(coefs.reshape(8,8)),\n",
    "            vmin = vmin,\n",
    "            vmax=vmax,\n",
    "            cmap='binary'\n",
    "        )\n",
    "        ax.set_xticks(())\n",
    "        ax.set_yticks(())\n",
    "        \n",
    "    axes_row[0].set_ylabel(f\"C={C}\")\n",
    "cbar = fig.colorbar(sm,ax=axes.ravel())\n",
    "cbar.set_label(\"Abs coefficient value.\")\n"
   ]
  },
  {
   "cell_type": "markdown",
   "id": "7d45be8a-6f0d-4cc0-b060-cbd189e2ee60",
   "metadata": {},
   "source": [
    "📊\n",
    "- the stronger is regularization, the sparser is $w$\n",
    "- L1 has more sparse ratio. When C=0.01, L1 sparsity ratio is **90%**! Only **1/7** features are useful!\n",
    "- Even sparsity is 80%, accuracy is 86%! **SO SPARSE!**"
   ]
  },
  {
   "cell_type": "code",
   "execution_count": null,
   "id": "7a366389-dc4e-424b-a3bc-ea2f524efafa",
   "metadata": {},
   "outputs": [],
   "source": []
  }
 ],
 "metadata": {
  "kernelspec": {
   "display_name": "Python 3 (ipykernel)",
   "language": "python",
   "name": "python3"
  },
  "language_info": {
   "codemirror_mode": {
    "name": "ipython",
    "version": 3
   },
   "file_extension": ".py",
   "mimetype": "text/x-python",
   "name": "python",
   "nbconvert_exporter": "python",
   "pygments_lexer": "ipython3",
   "version": "3.12.9"
  }
 },
 "nbformat": 4,
 "nbformat_minor": 5
}
