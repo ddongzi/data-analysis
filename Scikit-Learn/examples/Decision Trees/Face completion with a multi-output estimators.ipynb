{
 "cells": [
  {
   "cell_type": "markdown",
   "id": "382ea0c2-3d3f-4984-a350-d3c9f194dcae",
   "metadata": {},
   "source": [
    "# Face completion with a multi-output estimators"
   ]
  },
  {
   "cell_type": "code",
   "execution_count": null,
   "id": "6fc1ed2d-6e74-44f1-92cc-21e9e904a660",
   "metadata": {},
   "outputs": [],
   "source": []
  }
 ],
 "metadata": {
  "kernelspec": {
   "display_name": "Python 3 (ipykernel)",
   "language": "python",
   "name": "python3"
  },
  "language_info": {
   "codemirror_mode": {
    "name": "ipython",
    "version": 3
   },
   "file_extension": ".py",
   "mimetype": "text/x-python",
   "name": "python",
   "nbconvert_exporter": "python",
   "pygments_lexer": "ipython3",
   "version": "3.12.9"
  }
 },
 "nbformat": 4,
 "nbformat_minor": 5
}
