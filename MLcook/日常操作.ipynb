{
 "cells": [
  {
   "cell_type": "code",
   "execution_count": null,
   "id": "ffb52b59-dfb6-4e07-955a-2a3333299cf4",
   "metadata": {},
   "outputs": [],
   "source": [
    "import os\n",
    "print(\"当前路径:\", os.getcwd())"
   ]
  }
 ],
 "metadata": {
  "kernelspec": {
   "display_name": "Python 3 (ipykernel)",
   "language": "python",
   "name": "python3"
  },
  "language_info": {
   "codemirror_mode": {
    "name": "ipython",
    "version": 3
   },
   "file_extension": ".py",
   "mimetype": "text/x-python",
   "name": "python",
   "nbconvert_exporter": "python",
   "pygments_lexer": "ipython3",
   "version": "3.9.23"
  }
 },
 "nbformat": 4,
 "nbformat_minor": 5
}
