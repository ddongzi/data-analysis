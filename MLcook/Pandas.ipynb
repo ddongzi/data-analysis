{
 "cells": [
  {
   "cell_type": "markdown",
   "id": "79340549-cb73-47ea-8cfb-5b92bf257c3a",
   "metadata": {},
   "source": [
    "# 3. pandas"
   ]
  },
  {
   "cell_type": "code",
   "execution_count": 1,
   "id": "22629333-3565-4355-abcd-377a90bf6087",
   "metadata": {},
   "outputs": [
    {
     "data": {
      "text/plain": [
       "'2.2.3'"
      ]
     },
     "execution_count": 1,
     "metadata": {},
     "output_type": "execute_result"
    }
   ],
   "source": [
    "import numpy as np\n",
    "import pandas as pd\n",
    "pd.__version__"
   ]
  },
  {
   "cell_type": "markdown",
   "id": "20711e17-381d-42ff-9159-3a0696c8ff9d",
   "metadata": {},
   "source": [
    "## 3.1 基本"
   ]
  },
  {
   "cell_type": "markdown",
   "id": "17700c64-e44f-4d5e-b639-996b146c3c67",
   "metadata": {},
   "source": [
    "`read_csv`"
   ]
  },
  {
   "cell_type": "code",
   "execution_count": 58,
   "id": "9012d40d-ad23-4797-b89c-83a7dd3408be",
   "metadata": {},
   "outputs": [
    {
     "data": {
      "text/plain": [
       "np.float64(2.775)"
      ]
     },
     "execution_count": 58,
     "metadata": {},
     "output_type": "execute_result"
    }
   ],
   "source": []
  },
  {
   "cell_type": "code",
   "execution_count": null,
   "id": "56a12130-7d4a-4a93-9162-6bedd618b941",
   "metadata": {},
   "outputs": [],
   "source": [
    "# 读取网页内table标签内容，返回table列表，可能多个table\n",
    "# 需要lxml底层库 解析网页\n",
    "pd.read_html()"
   ]
  },
  {
   "cell_type": "code",
   "execution_count": 51,
   "id": "45d0a948-5f9d-495a-a423-f3095bc3acc1",
   "metadata": {},
   "outputs": [],
   "source": [
    "# pd.read_csv('.csv', sep='|', index_col='')\n",
    "# pd.read_csv('URL', sep='|', index_col='')\n",
    "# pd.read_csv('URL', sep=r'\\s+')"
   ]
  },
  {
   "cell_type": "code",
   "execution_count": 52,
   "id": "789bd324-9802-447d-978c-397557f8e992",
   "metadata": {},
   "outputs": [],
   "source": [
    "#df.head(10)\n",
    "#users.tail(10)"
   ]
  },
  {
   "cell_type": "code",
   "execution_count": 53,
   "id": "22dd835c-e374-4823-ac3f-00777599dc9b",
   "metadata": {},
   "outputs": [],
   "source": [
    "#users.describe(include='all')"
   ]
  },
  {
   "cell_type": "code",
   "execution_count": 2,
   "id": "ef3760dc-60ea-4a53-a451-1d3da1f81c43",
   "metadata": {},
   "outputs": [],
   "source": [
    "# train_data[['col1', 'col2', 'col3']].describe()"
   ]
  },
  {
   "cell_type": "code",
   "execution_count": null,
   "id": "88fc7a6e-3d92-42f3-a461-e65cbd766227",
   "metadata": {},
   "outputs": [],
   "source": []
  },
  {
   "cell_type": "code",
   "execution_count": null,
   "id": "86227c96-8626-41d8-a44c-eb446857baa0",
   "metadata": {},
   "outputs": [],
   "source": []
  },
  {
   "cell_type": "markdown",
   "id": "010b78d8-cfd0-43a6-a648-a4d67c09e79b",
   "metadata": {},
   "source": [
    "include 不能直接通过列名"
   ]
  },
  {
   "cell_type": "markdown",
   "id": "21bea93b-09d6-40bf-a280-27cc06bc2cfa",
   "metadata": {},
   "source": [
    "## 3.2 pandas 对象\n",
    "增强版的 NumPy 结构化数组"
   ]
  },
  {
   "cell_type": "markdown",
   "id": "47421c57-ad14-442e-8d30-a1a3ed1f61ac",
   "metadata": {},
   "source": [
    "### 3.2.1 Series 对象"
   ]
  },
  {
   "cell_type": "markdown",
   "id": "e09f17bf-492c-4f4a-adef-cfda2b39e251",
   "metadata": {},
   "source": [
    "\n",
    "#### 初识\n",
    "1. Series对象 带有索引的 一维数组。\n",
    "2. 通过 .index 和 .values 属性访问\n",
    "    - values返回类np数组\n",
    "    - index返回pd.index对象"
   ]
  },
  {
   "cell_type": "code",
   "execution_count": 55,
   "id": "ad3a95e5-c0ec-47df-b240-ce238a7b4362",
   "metadata": {},
   "outputs": [
    {
     "data": {
      "text/plain": [
       "1    0.5\n",
       "2    0.1\n",
       "dtype: float64"
      ]
     },
     "execution_count": 55,
     "metadata": {},
     "output_type": "execute_result"
    }
   ],
   "source": [
    "data = pd.Series([0.25, 0.5, 0.1, 0.2])\n",
    "values = data.values\n",
    "index = data.index\n",
    "data[1]\n",
    "data[1:3]"
   ]
  },
  {
   "cell_type": "markdown",
   "id": "9fcc165e-cdc4-4bb3-bd3d-cecbf71c7e07",
   "metadata": {},
   "source": [
    "#### Series灵活的特性 ： 数组和字典。\n",
    "1. 与np数组最大不同：Series对象是显示的索引，索引可以是任意类型。\n",
    "2. Series对象是特殊的字典。特殊：一类数据映射到另一类数据。\n",
    "- 就像np数组比py列表高效一样， Series对象比py字典会高效。\n",
    "- 因此可以从py字典创建一个Series对象\n",
    "> 因为具有数组和字典双重特性 所以可以对字典进行切片操作！！\n",
    "\n",
    "3. 创建Series对象\n",
    "   pd.Series(data, index = index)"
   ]
  },
  {
   "cell_type": "code",
   "execution_count": 56,
   "id": "51a1b5d5-8c66-477c-970a-bac5bd40308b",
   "metadata": {},
   "outputs": [
    {
     "data": {
      "text/plain": [
       "a    0.25\n",
       "b    0.50\n",
       "c    0.10\n",
       "d    0.20\n",
       "Name: score, dtype: float64"
      ]
     },
     "execution_count": 56,
     "metadata": {},
     "output_type": "execute_result"
    }
   ],
   "source": [
    "data = pd.Series([0.25, 0.5, 0.1, 0.2], \n",
    "                index = ['a', 'b', 'c', 'd'], name='score') # name在合并df时候标记为列名\n",
    "data"
   ]
  },
  {
   "cell_type": "code",
   "execution_count": null,
   "id": "e0e60a0d-5b9c-4f73-b63a-996a3a7c4043",
   "metadata": {},
   "outputs": [],
   "source": []
  },
  {
   "cell_type": "code",
   "execution_count": 57,
   "id": "c46fb429-0b4c-44ed-b80f-bf9703eb87f7",
   "metadata": {},
   "outputs": [
    {
     "data": {
      "text/plain": [
       "California    38332521\n",
       "Texas         26448193\n",
       "New York      19651127\n",
       "Florida       19552860\n",
       "Illinois      12882135\n",
       "dtype: int64"
      ]
     },
     "execution_count": 57,
     "metadata": {},
     "output_type": "execute_result"
    }
   ],
   "source": [
    "popular_dict = {\n",
    "    'California': 38332521,\n",
    "    'Texas': 26448193,\n",
    "    'New York': 19651127,\n",
    "    'Florida': 19552860,\n",
    "    'Illinois': 12882135\n",
    "}\n",
    "population = pd.Series(popular_dict)\n",
    "population"
   ]
  },
  {
   "cell_type": "code",
   "execution_count": 58,
   "id": "9bde5d77-0142-43eb-87aa-c9422ba9dccb",
   "metadata": {},
   "outputs": [
    {
     "data": {
      "text/plain": [
       "California    38332521\n",
       "Texas         26448193\n",
       "New York      19651127\n",
       "Florida       19552860\n",
       "dtype: int64"
      ]
     },
     "execution_count": 58,
     "metadata": {},
     "output_type": "execute_result"
    }
   ],
   "source": [
    "population['California' : 'Florida']"
   ]
  },
  {
   "cell_type": "code",
   "execution_count": 59,
   "id": "c7d51fb9-606b-47a7-ba61-6879d73412e4",
   "metadata": {},
   "outputs": [
    {
     "data": {
      "text/plain": [
       "1    A\n",
       "2    B\n",
       "dtype: object"
      ]
     },
     "execution_count": 59,
     "metadata": {},
     "output_type": "execute_result"
    }
   ],
   "source": [
    "pd.Series([2, 4, 6]) # 列表或者np数组\n",
    "pd.Series(5, index = [1,2,3]) # 标量  , 填充到每个索引上\n",
    "pd.Series({1 : 'A', 2 : 'B'})\n"
   ]
  },
  {
   "cell_type": "markdown",
   "id": "5e709276-5cd2-488a-b873-33957616d16a",
   "metadata": {},
   "source": [
    "### 3.2.2 DataFrame对象\n",
    "- 与Series对象一样，数组和字典双重特性。\n",
    "- DataFrame对象既有行索引又有列索引。是具有同样索引Series对象的集合\n",
    "- DataFrame 的基本索引是列索引, 直接[]访问的是列"
   ]
  },
  {
   "cell_type": "markdown",
   "id": "5fa9813d-e568-46f8-b11f-e61563ad9e6e",
   "metadata": {},
   "source": [
    "#### 数组角度\n",
    "- 如何获取一行数据？不能直接通过[]这样索引，而是loc。\n",
    "  - 因为这个每一列是一个元素（series)，[]是访问列的"
   ]
  },
  {
   "cell_type": "code",
   "execution_count": 8,
   "id": "889598e3-8512-40ee-bfa3-ba4f63ab2b6f",
   "metadata": {},
   "outputs": [
    {
     "data": {
      "text/html": [
       "<div>\n",
       "<style scoped>\n",
       "    .dataframe tbody tr th:only-of-type {\n",
       "        vertical-align: middle;\n",
       "    }\n",
       "\n",
       "    .dataframe tbody tr th {\n",
       "        vertical-align: top;\n",
       "    }\n",
       "\n",
       "    .dataframe thead th {\n",
       "        text-align: right;\n",
       "    }\n",
       "</style>\n",
       "<table border=\"1\" class=\"dataframe\">\n",
       "  <thead>\n",
       "    <tr style=\"text-align: right;\">\n",
       "      <th></th>\n",
       "      <th>col1</th>\n",
       "      <th>col2</th>\n",
       "    </tr>\n",
       "  </thead>\n",
       "  <tbody>\n",
       "  </tbody>\n",
       "</table>\n",
       "</div>"
      ],
      "text/plain": [
       "Empty DataFrame\n",
       "Columns: [col1, col2]\n",
       "Index: []"
      ]
     },
     "execution_count": 8,
     "metadata": {},
     "output_type": "execute_result"
    }
   ],
   "source": [
    "# 创建一个只有列名没有数据的\n",
    "pd.DataFrame(columns=['col1', 'col2'])"
   ]
  },
  {
   "cell_type": "code",
   "execution_count": 7,
   "id": "1deac289-e8bf-4b51-8adc-03d320b18be2",
   "metadata": {},
   "outputs": [
    {
     "data": {
      "text/html": [
       "<div>\n",
       "<style scoped>\n",
       "    .dataframe tbody tr th:only-of-type {\n",
       "        vertical-align: middle;\n",
       "    }\n",
       "\n",
       "    .dataframe tbody tr th {\n",
       "        vertical-align: top;\n",
       "    }\n",
       "\n",
       "    .dataframe thead th {\n",
       "        text-align: right;\n",
       "    }\n",
       "</style>\n",
       "<table border=\"1\" class=\"dataframe\">\n",
       "  <thead>\n",
       "    <tr style=\"text-align: right;\">\n",
       "      <th></th>\n",
       "      <th>id</th>\n",
       "      <th>name</th>\n",
       "    </tr>\n",
       "  </thead>\n",
       "  <tbody>\n",
       "  </tbody>\n",
       "</table>\n",
       "</div>"
      ],
      "text/plain": [
       "Empty DataFrame\n",
       "Columns: [id, name]\n",
       "Index: []"
      ]
     },
     "execution_count": 7,
     "metadata": {},
     "output_type": "execute_result"
    }
   ],
   "source": [
    "# 创建一个只有列名没有数据，但指定类型\n",
    "pd.DataFrame({\n",
    " 'id':pd.Series(dtype=int),\n",
    "    'name':pd.Series(dtype=str)\n",
    "})"
   ]
  },
  {
   "cell_type": "code",
   "execution_count": 60,
   "id": "deeacb1e-d773-48e5-8f48-0a008ccea9ee",
   "metadata": {},
   "outputs": [
    {
     "data": {
      "text/html": [
       "<div>\n",
       "<style scoped>\n",
       "    .dataframe tbody tr th:only-of-type {\n",
       "        vertical-align: middle;\n",
       "    }\n",
       "\n",
       "    .dataframe tbody tr th {\n",
       "        vertical-align: top;\n",
       "    }\n",
       "\n",
       "    .dataframe thead th {\n",
       "        text-align: right;\n",
       "    }\n",
       "</style>\n",
       "<table border=\"1\" class=\"dataframe\">\n",
       "  <thead>\n",
       "    <tr style=\"text-align: right;\">\n",
       "      <th></th>\n",
       "      <th>population</th>\n",
       "      <th>area</th>\n",
       "    </tr>\n",
       "  </thead>\n",
       "  <tbody>\n",
       "    <tr>\n",
       "      <th>California</th>\n",
       "      <td>38332521</td>\n",
       "      <td>423967</td>\n",
       "    </tr>\n",
       "    <tr>\n",
       "      <th>Texas</th>\n",
       "      <td>26448193</td>\n",
       "      <td>695662</td>\n",
       "    </tr>\n",
       "    <tr>\n",
       "      <th>New York</th>\n",
       "      <td>19651127</td>\n",
       "      <td>141297</td>\n",
       "    </tr>\n",
       "    <tr>\n",
       "      <th>Florida</th>\n",
       "      <td>19552860</td>\n",
       "      <td>170312</td>\n",
       "    </tr>\n",
       "    <tr>\n",
       "      <th>Illinois</th>\n",
       "      <td>12882135</td>\n",
       "      <td>149995</td>\n",
       "    </tr>\n",
       "  </tbody>\n",
       "</table>\n",
       "</div>"
      ],
      "text/plain": [
       "            population    area\n",
       "California    38332521  423967\n",
       "Texas         26448193  695662\n",
       "New York      19651127  141297\n",
       "Florida       19552860  170312\n",
       "Illinois      12882135  149995"
      ]
     },
     "execution_count": 60,
     "metadata": {},
     "output_type": "execute_result"
    }
   ],
   "source": [
    "import pandas as pd\n",
    "area_dict = {'California': 423967, 'Texas': 695662, 'New York': 141297,\n",
    "    'Florida': 170312, 'Illinois': 149995}\n",
    "area = pd.Series(area_dict)\n",
    "states = pd.DataFrame({'population' : population, 'area' : area})\n",
    "states"
   ]
  },
  {
   "cell_type": "code",
   "execution_count": 62,
   "id": "78ad4814-5b4c-4496-a29b-1435beede750",
   "metadata": {},
   "outputs": [
    {
     "data": {
      "text/plain": [
       "Index(['California', 'Texas', 'New York', 'Florida', 'Illinois'], dtype='object')"
      ]
     },
     "execution_count": 62,
     "metadata": {},
     "output_type": "execute_result"
    }
   ],
   "source": [
    "states.columns\n",
    "states.index\n"
   ]
  },
  {
   "cell_type": "code",
   "execution_count": 2,
   "id": "e9e72628-ef59-4c3d-b6cb-b6cedf679896",
   "metadata": {},
   "outputs": [
    {
     "ename": "NameError",
     "evalue": "name 'states' is not defined",
     "output_type": "error",
     "traceback": [
      "\u001b[1;31m---------------------------------------------------------------------------\u001b[0m",
      "\u001b[1;31mNameError\u001b[0m                                 Traceback (most recent call last)",
      "Cell \u001b[1;32mIn[2], line 1\u001b[0m\n\u001b[1;32m----> 1\u001b[0m \u001b[43mstates\u001b[49m\u001b[38;5;241m.\u001b[39mvalues \u001b[38;5;66;03m# 返回对应的数组\u001b[39;00m\n",
      "\u001b[1;31mNameError\u001b[0m: name 'states' is not defined"
     ]
    }
   ],
   "source": [
    "states.values # 返回对应的数组"
   ]
  },
  {
   "cell_type": "code",
   "execution_count": null,
   "id": "23092e79-5b22-420f-b2a7-34e5a93a29d8",
   "metadata": {},
   "outputs": [],
   "source": [
    "# 改列名\n",
    "df.rename(columns={'旧列名': '新列名'}, inplace=True)\n",
    "\n",
    "# 改行索引名\n",
    "df.rename(index={'旧行名': '新行名'}, inplace=True)"
   ]
  },
  {
   "cell_type": "markdown",
   "id": "73e126ba-c0e1-4824-b3ce-9f7674568338",
   "metadata": {},
   "source": [
    "#### 字典角度\n",
    "1. 注意不能直接通过行名获取，因为字典看来，字段是列名！"
   ]
  },
  {
   "cell_type": "code",
   "execution_count": 9,
   "id": "abaf4565-40a0-4034-8a82-f52bfa5b566c",
   "metadata": {},
   "outputs": [
    {
     "data": {
      "text/plain": [
       "California    423967\n",
       "Texas         695662\n",
       "New York      141297\n",
       "Florida       170312\n",
       "Illinois      149995\n",
       "Name: area, dtype: int64"
      ]
     },
     "execution_count": 9,
     "metadata": {},
     "output_type": "execute_result"
    }
   ],
   "source": [
    "states['area']\n",
    "#states['Texas'] # !!"
   ]
  },
  {
   "cell_type": "markdown",
   "id": "8c90b62b-4076-4ed7-b293-f47441522882",
   "metadata": {},
   "source": [
    "#### 创建DataFram对象"
   ]
  },
  {
   "cell_type": "code",
   "execution_count": 10,
   "id": "b8c11539-0452-4157-a399-abbd1d09803d",
   "metadata": {},
   "outputs": [
    {
     "data": {
      "text/html": [
       "<div>\n",
       "<style scoped>\n",
       "    .dataframe tbody tr th:only-of-type {\n",
       "        vertical-align: middle;\n",
       "    }\n",
       "\n",
       "    .dataframe tbody tr th {\n",
       "        vertical-align: top;\n",
       "    }\n",
       "\n",
       "    .dataframe thead th {\n",
       "        text-align: right;\n",
       "    }\n",
       "</style>\n",
       "<table border=\"1\" class=\"dataframe\">\n",
       "  <thead>\n",
       "    <tr style=\"text-align: right;\">\n",
       "      <th></th>\n",
       "      <th>A</th>\n",
       "      <th>B</th>\n",
       "    </tr>\n",
       "  </thead>\n",
       "  <tbody>\n",
       "    <tr>\n",
       "      <th>0</th>\n",
       "      <td>0</td>\n",
       "      <td>0.0</td>\n",
       "    </tr>\n",
       "    <tr>\n",
       "      <th>1</th>\n",
       "      <td>0</td>\n",
       "      <td>0.0</td>\n",
       "    </tr>\n",
       "    <tr>\n",
       "      <th>2</th>\n",
       "      <td>0</td>\n",
       "      <td>0.0</td>\n",
       "    </tr>\n",
       "  </tbody>\n",
       "</table>\n",
       "</div>"
      ],
      "text/plain": [
       "   A    B\n",
       "0  0  0.0\n",
       "1  0  0.0\n",
       "2  0  0.0"
      ]
     },
     "execution_count": 10,
     "metadata": {},
     "output_type": "execute_result"
    }
   ],
   "source": [
    "pd.DataFrame(population, columns=['population']) # 通过一个series对象创建\n",
    "pd.DataFrame([ {'a' : i, 'b' : 2 * i} for i in range(4)]) # 元素是字典的列表\n",
    "pd.DataFrame([{'a':1, 'b':2}, {'c':3, 'd':4}]) \n",
    "pd.DataFrame({'population' : population, 'area' : area}) # 具有同样索引多个series对象\n",
    "pd.DataFrame(np.random.rand(3,2), columns = ['foo', 'bar'], index = ['a', 'b', 'c']) # np二维数组,指定行索引index,列索引columns\n",
    "A = np.zeros(3, dtype=[('A', 'i8'), ('B', 'f8')]) \n",
    "pd.DataFrame(A) # 从np结构化数组构建"
   ]
  },
  {
   "cell_type": "markdown",
   "id": "04b78574-04fa-40d8-9828-7ce6f89639be",
   "metadata": {},
   "source": [
    "### 3.2.3 Index对象\n",
    "- 可以看作是 **不可变数组** 或 有序集合。\n",
    "- 默认索引是RangeIndex,"
   ]
  },
  {
   "cell_type": "code",
   "execution_count": 11,
   "id": "d0771ab5-82b0-4d0e-bcad-b9af759b616c",
   "metadata": {},
   "outputs": [
    {
     "data": {
      "text/plain": [
       "Index([2, 3, 5, 7], dtype='int64')"
      ]
     },
     "execution_count": 11,
     "metadata": {},
     "output_type": "execute_result"
    }
   ],
   "source": [
    "ind = pd.Index([2, 3, 5, 7])\n",
    "ind"
   ]
  },
  {
   "cell_type": "markdown",
   "id": "703283ee-4735-4bad-a3f8-8f4a9ff7199b",
   "metadata": {},
   "source": [
    "#### 从不可变数组角度:类似np数组\n",
    "- 值不可修改！"
   ]
  },
  {
   "cell_type": "code",
   "execution_count": 12,
   "id": "cd20c4ae-b27b-4cf4-8f22-cb7f4bf24b23",
   "metadata": {},
   "outputs": [
    {
     "name": "stdout",
     "output_type": "stream",
     "text": [
      "(4,) 4 1 int64\n"
     ]
    }
   ],
   "source": [
    "ind[1]\n",
    "ind[::2]\n",
    "print(ind.shape, ind.size, ind.ndim, ind.dtype)"
   ]
  },
  {
   "cell_type": "code",
   "execution_count": 13,
   "id": "d9a966c7-e8b2-4380-9a87-bdaf526610a4",
   "metadata": {},
   "outputs": [],
   "source": [
    "# ind[1] = 0"
   ]
  },
  {
   "cell_type": "markdown",
   "id": "3e1e3c5a-b0f4-43c2-a290-b3697393cf57",
   "metadata": {},
   "source": [
    "#### 从有序集合角度：\n",
    "- 可以使用集合操作。  但必须size相同！"
   ]
  },
  {
   "cell_type": "code",
   "execution_count": 72,
   "id": "e336912b-6b86-496c-983b-837be5a24124",
   "metadata": {},
   "outputs": [
    {
     "data": {
      "text/plain": [
       "Index([1, 3, 6, 7], dtype='int64')"
      ]
     },
     "execution_count": 72,
     "metadata": {},
     "output_type": "execute_result"
    }
   ],
   "source": [
    "indA = pd.Index([1, 3, 2, 5])\n",
    "indB = pd.Index([1, 2, 4, 6])\n",
    "indA | indB"
   ]
  },
  {
   "cell_type": "markdown",
   "id": "8e44881d-5a09-481e-9612-4e74525cb8f0",
   "metadata": {},
   "source": [
    "- so, 可以for"
   ]
  },
  {
   "cell_type": "code",
   "execution_count": 71,
   "id": "5d274ced-a037-4f88-9010-8f6a3b7672e4",
   "metadata": {},
   "outputs": [
    {
     "name": "stdout",
     "output_type": "stream",
     "text": [
      "2\n",
      "3\n",
      "5\n",
      "7\n"
     ]
    }
   ],
   "source": [
    "for i in ind:\n",
    "    print(i)"
   ]
  },
  {
   "cell_type": "code",
   "execution_count": null,
   "id": "f2e7768b-85e3-4e97-b1fd-9556ae9f5d52",
   "metadata": {},
   "outputs": [],
   "source": []
  },
  {
   "cell_type": "code",
   "execution_count": null,
   "id": "3052d1d6-e1c3-4c9f-b4d1-de7c90b19e3d",
   "metadata": {},
   "outputs": [],
   "source": []
  },
  {
   "cell_type": "markdown",
   "id": "6c3063b1-b5dd-4757-8738-e5e3cebb1d76",
   "metadata": {},
   "source": [
    "## 3.3　数据取值与选择"
   ]
  },
  {
   "cell_type": "markdown",
   "id": "c7fd02bf-303c-4332-b2c9-f3a8c33d1f14",
   "metadata": {},
   "source": [
    "### 3.3.1 Series对象"
   ]
  },
  {
   "cell_type": "markdown",
   "id": "ba477bf4-ca3d-4aa5-9ed6-af9a1f41ce7b",
   "metadata": {},
   "source": [
    "#### 1. 作为字典"
   ]
  },
  {
   "cell_type": "code",
   "execution_count": 2,
   "id": "27a4cdb1-b034-49cf-8845-2a47249e70ac",
   "metadata": {},
   "outputs": [
    {
     "ename": "NameError",
     "evalue": "name 'pd' is not defined",
     "output_type": "error",
     "traceback": [
      "\u001b[1;31m---------------------------------------------------------------------------\u001b[0m",
      "\u001b[1;31mNameError\u001b[0m                                 Traceback (most recent call last)",
      "Cell \u001b[1;32mIn[2], line 1\u001b[0m\n\u001b[1;32m----> 1\u001b[0m data \u001b[38;5;241m=\u001b[39m \u001b[43mpd\u001b[49m\u001b[38;5;241m.\u001b[39mSeries([\u001b[38;5;241m0.25\u001b[39m, \u001b[38;5;241m0.5\u001b[39m, \u001b[38;5;241m0.75\u001b[39m, \u001b[38;5;241m1.0\u001b[39m],index\u001b[38;5;241m=\u001b[39m[\u001b[38;5;124m'\u001b[39m\u001b[38;5;124ma\u001b[39m\u001b[38;5;124m'\u001b[39m, \u001b[38;5;124m'\u001b[39m\u001b[38;5;124mb\u001b[39m\u001b[38;5;124m'\u001b[39m, \u001b[38;5;124m'\u001b[39m\u001b[38;5;124mc\u001b[39m\u001b[38;5;124m'\u001b[39m, \u001b[38;5;124m'\u001b[39m\u001b[38;5;124md\u001b[39m\u001b[38;5;124m'\u001b[39m])\n\u001b[0;32m      2\u001b[0m data\n",
      "\u001b[1;31mNameError\u001b[0m: name 'pd' is not defined"
     ]
    }
   ],
   "source": [
    "data = pd.Series([0.25, 0.5, 0.75, 1.0],index=['a', 'b', 'c', 'd'])\n",
    "data"
   ]
  },
  {
   "cell_type": "code",
   "execution_count": 3,
   "id": "528c0a46-0b27-4fef-a535-107c6f0eb4e3",
   "metadata": {},
   "outputs": [
    {
     "ename": "NameError",
     "evalue": "name 'data' is not defined",
     "output_type": "error",
     "traceback": [
      "\u001b[1;31m---------------------------------------------------------------------------\u001b[0m",
      "\u001b[1;31mNameError\u001b[0m                                 Traceback (most recent call last)",
      "Cell \u001b[1;32mIn[3], line 1\u001b[0m\n\u001b[1;32m----> 1\u001b[0m \u001b[38;5;124m'\u001b[39m\u001b[38;5;124ma\u001b[39m\u001b[38;5;124m'\u001b[39m \u001b[38;5;129;01min\u001b[39;00m \u001b[43mdata\u001b[49m\n\u001b[0;32m      2\u001b[0m data\u001b[38;5;241m.\u001b[39mkeys()\n\u001b[0;32m      3\u001b[0m \u001b[38;5;28mlist\u001b[39m(data\u001b[38;5;241m.\u001b[39mitems())\n",
      "\u001b[1;31mNameError\u001b[0m: name 'data' is not defined"
     ]
    }
   ],
   "source": [
    "'a' in data\n",
    "data.keys()\n",
    "list(data.items())"
   ]
  },
  {
   "cell_type": "code",
   "execution_count": 17,
   "id": "6c7ecec0-48cc-4698-9d3b-d0d3adf80dd6",
   "metadata": {},
   "outputs": [],
   "source": [
    "data['e'] = 1.2 #添加索引和数据"
   ]
  },
  {
   "cell_type": "markdown",
   "id": "617898d6-b7b5-44b7-bd9e-f8ce3187ea0c",
   "metadata": {},
   "source": [
    "#### 2. 作为数组"
   ]
  },
  {
   "cell_type": "code",
   "execution_count": 18,
   "id": "a0d9c9e0-e381-4eb1-97f6-559da39b945b",
   "metadata": {},
   "outputs": [
    {
     "data": {
      "text/plain": [
       "a    0.25\n",
       "b    0.50\n",
       "c    0.75\n",
       "dtype: float64"
      ]
     },
     "execution_count": 18,
     "metadata": {},
     "output_type": "execute_result"
    }
   ],
   "source": [
    "data['a':'c']"
   ]
  },
  {
   "cell_type": "code",
   "execution_count": 19,
   "id": "b3111cac-1ce5-42b0-b914-b63dc557b4db",
   "metadata": {},
   "outputs": [
    {
     "data": {
      "text/plain": [
       "a    0.25\n",
       "b    0.50\n",
       "dtype: float64"
      ]
     },
     "execution_count": 19,
     "metadata": {},
     "output_type": "execute_result"
    }
   ],
   "source": [
    "data[0:2] # 隐式整数索引"
   ]
  },
  {
   "cell_type": "code",
   "execution_count": 20,
   "id": "9cdef413-0c31-40f8-8f0d-785792f33ecd",
   "metadata": {},
   "outputs": [
    {
     "data": {
      "text/plain": [
       "a    False\n",
       "b    False\n",
       "c     True\n",
       "d     True\n",
       "e     True\n",
       "dtype: bool"
      ]
     },
     "execution_count": 20,
     "metadata": {},
     "output_type": "execute_result"
    }
   ],
   "source": [
    "data > 0.5"
   ]
  },
  {
   "cell_type": "code",
   "execution_count": 21,
   "id": "87ca0288-a5f0-4942-85c7-33594fed8377",
   "metadata": {},
   "outputs": [
    {
     "data": {
      "text/plain": [
       "c    0.75\n",
       "d    1.00\n",
       "e    1.20\n",
       "dtype: float64"
      ]
     },
     "execution_count": 21,
     "metadata": {},
     "output_type": "execute_result"
    }
   ],
   "source": [
    "data[data > 0.5]"
   ]
  },
  {
   "cell_type": "code",
   "execution_count": 22,
   "id": "c8a6e378-6bd2-4e37-8531-2ccc96abf97b",
   "metadata": {},
   "outputs": [
    {
     "data": {
      "text/plain": [
       "a    0.25\n",
       "e    1.20\n",
       "dtype: float64"
      ]
     },
     "execution_count": 22,
     "metadata": {},
     "output_type": "execute_result"
    }
   ],
   "source": [
    "data[['a', 'e']] # 花哨索引"
   ]
  },
  {
   "cell_type": "markdown",
   "id": "477ea401-4bb8-408a-b06c-c4ed54862440",
   "metadata": {},
   "source": [
    "#### 3. 索引器 loc, ilod, ix"
   ]
  },
  {
   "cell_type": "code",
   "execution_count": 23,
   "id": "e8b88c89-4a58-4718-831e-55c72c940d1b",
   "metadata": {},
   "outputs": [
    {
     "data": {
      "text/plain": [
       "np.float64(0.5)"
      ]
     },
     "execution_count": 23,
     "metadata": {},
     "output_type": "execute_result"
    }
   ],
   "source": [
    "data.loc['a'] # 显示索引\n",
    "data.iloc[1]"
   ]
  },
  {
   "cell_type": "markdown",
   "id": "c2b881bd-40d8-4cb6-b1c6-2ca1bc464310",
   "metadata": {},
   "source": [
    "### 3.3.2　DataFrame数据选择方法"
   ]
  },
  {
   "cell_type": "markdown",
   "id": "f76aec5e-d8b8-47d7-a2da-d5fa27509327",
   "metadata": {},
   "source": []
  },
  {
   "cell_type": "markdown",
   "id": "c8008bdb-8444-4011-ac85-b833d096df7e",
   "metadata": {},
   "source": [
    "插入一列"
   ]
  },
  {
   "cell_type": "code",
   "execution_count": 2,
   "id": "d0900da0-18ff-4554-b165-f5bba1bedae9",
   "metadata": {},
   "outputs": [],
   "source": [
    "#train_dataset.insert(0, \"WAGE\", y_train)"
   ]
  },
  {
   "cell_type": "code",
   "execution_count": null,
   "id": "945541e8-4579-4bf5-9ad8-2cc3a1513d22",
   "metadata": {},
   "outputs": [],
   "source": []
  },
  {
   "cell_type": "markdown",
   "id": "53c48d28-cc5b-44b7-81f0-b431984a84cb",
   "metadata": {},
   "source": [
    "#### 1. DataFrame作为字典, value是Series对象"
   ]
  },
  {
   "cell_type": "code",
   "execution_count": 5,
   "id": "224d1665-708a-4e4c-9c64-4184ff5b711f",
   "metadata": {},
   "outputs": [
    {
     "data": {
      "text/html": [
       "<div>\n",
       "<style scoped>\n",
       "    .dataframe tbody tr th:only-of-type {\n",
       "        vertical-align: middle;\n",
       "    }\n",
       "\n",
       "    .dataframe tbody tr th {\n",
       "        vertical-align: top;\n",
       "    }\n",
       "\n",
       "    .dataframe thead th {\n",
       "        text-align: right;\n",
       "    }\n",
       "</style>\n",
       "<table border=\"1\" class=\"dataframe\">\n",
       "  <thead>\n",
       "    <tr style=\"text-align: right;\">\n",
       "      <th></th>\n",
       "      <th>area</th>\n",
       "      <th>pop</th>\n",
       "    </tr>\n",
       "  </thead>\n",
       "  <tbody>\n",
       "    <tr>\n",
       "      <th>California</th>\n",
       "      <td>423967</td>\n",
       "      <td>38332521</td>\n",
       "    </tr>\n",
       "    <tr>\n",
       "      <th>Texas</th>\n",
       "      <td>695662</td>\n",
       "      <td>26448193</td>\n",
       "    </tr>\n",
       "    <tr>\n",
       "      <th>New York</th>\n",
       "      <td>141297</td>\n",
       "      <td>19651127</td>\n",
       "    </tr>\n",
       "    <tr>\n",
       "      <th>Florida</th>\n",
       "      <td>170312</td>\n",
       "      <td>19552860</td>\n",
       "    </tr>\n",
       "    <tr>\n",
       "      <th>Illinois</th>\n",
       "      <td>149995</td>\n",
       "      <td>12882135</td>\n",
       "    </tr>\n",
       "  </tbody>\n",
       "</table>\n",
       "</div>"
      ],
      "text/plain": [
       "              area       pop\n",
       "California  423967  38332521\n",
       "Texas       695662  26448193\n",
       "New York    141297  19651127\n",
       "Florida     170312  19552860\n",
       "Illinois    149995  12882135"
      ]
     },
     "execution_count": 5,
     "metadata": {},
     "output_type": "execute_result"
    }
   ],
   "source": [
    "import pandas as pd\n",
    "area = pd.Series({'California': 423967, 'Texas': 695662,\n",
    "    'New York': 141297, 'Florida': 170312,\n",
    "    'Illinois': 149995})\n",
    "pop = pd.Series({'California': 38332521, 'Texas': 26448193,\n",
    "    'New York': 19651127, 'Florida': 19552860,\n",
    "    'Illinois': 12882135})\n",
    "data = pd.DataFrame({'area' : area, 'pop' : pop})\n",
    "data"
   ]
  },
  {
   "cell_type": "code",
   "execution_count": 6,
   "id": "6ac968d9-0705-454e-871f-0814d57d2ac2",
   "metadata": {},
   "outputs": [
    {
     "data": {
      "text/plain": [
       "California    423967\n",
       "Texas         695662\n",
       "New York      141297\n",
       "Florida       170312\n",
       "Illinois      149995\n",
       "Name: area, dtype: int64"
      ]
     },
     "execution_count": 6,
     "metadata": {},
     "output_type": "execute_result"
    }
   ],
   "source": [
    "data['area']\n",
    "data.area"
   ]
  },
  {
   "cell_type": "code",
   "execution_count": 7,
   "id": "4a59d763-8b13-4d4a-8587-8bcab1029cf6",
   "metadata": {},
   "outputs": [
    {
     "data": {
      "text/html": [
       "<div>\n",
       "<style scoped>\n",
       "    .dataframe tbody tr th:only-of-type {\n",
       "        vertical-align: middle;\n",
       "    }\n",
       "\n",
       "    .dataframe tbody tr th {\n",
       "        vertical-align: top;\n",
       "    }\n",
       "\n",
       "    .dataframe thead th {\n",
       "        text-align: right;\n",
       "    }\n",
       "</style>\n",
       "<table border=\"1\" class=\"dataframe\">\n",
       "  <thead>\n",
       "    <tr style=\"text-align: right;\">\n",
       "      <th></th>\n",
       "      <th>area</th>\n",
       "      <th>pop</th>\n",
       "      <th>density</th>\n",
       "    </tr>\n",
       "  </thead>\n",
       "  <tbody>\n",
       "    <tr>\n",
       "      <th>California</th>\n",
       "      <td>423967</td>\n",
       "      <td>38332521</td>\n",
       "      <td>90.413926</td>\n",
       "    </tr>\n",
       "    <tr>\n",
       "      <th>Texas</th>\n",
       "      <td>695662</td>\n",
       "      <td>26448193</td>\n",
       "      <td>38.018740</td>\n",
       "    </tr>\n",
       "    <tr>\n",
       "      <th>New York</th>\n",
       "      <td>141297</td>\n",
       "      <td>19651127</td>\n",
       "      <td>139.076746</td>\n",
       "    </tr>\n",
       "    <tr>\n",
       "      <th>Florida</th>\n",
       "      <td>170312</td>\n",
       "      <td>19552860</td>\n",
       "      <td>114.806121</td>\n",
       "    </tr>\n",
       "    <tr>\n",
       "      <th>Illinois</th>\n",
       "      <td>149995</td>\n",
       "      <td>12882135</td>\n",
       "      <td>85.883763</td>\n",
       "    </tr>\n",
       "  </tbody>\n",
       "</table>\n",
       "</div>"
      ],
      "text/plain": [
       "              area       pop     density\n",
       "California  423967  38332521   90.413926\n",
       "Texas       695662  26448193   38.018740\n",
       "New York    141297  19651127  139.076746\n",
       "Florida     170312  19552860  114.806121\n",
       "Illinois    149995  12882135   85.883763"
      ]
     },
     "execution_count": 7,
     "metadata": {},
     "output_type": "execute_result"
    }
   ],
   "source": [
    "data['density'] = data['pop'] / data['area']\n",
    "data"
   ]
  },
  {
   "cell_type": "code",
   "execution_count": null,
   "id": "231af5bf-8e1a-4178-b122-3cd0b4615860",
   "metadata": {},
   "outputs": [],
   "source": []
  },
  {
   "cell_type": "markdown",
   "id": "7da5cc6b-0a8b-4655-aab1-1222ce1ed938",
   "metadata": {},
   "source": [
    "#### 2. 看作二维数组\n",
    "得到的结果也是np数组\n",
    "\n",
    "通过loc,iloc索引访问 Index对象！"
   ]
  },
  {
   "cell_type": "code",
   "execution_count": 8,
   "id": "3478b9a2-3972-4946-9a31-d970aaf8a2a0",
   "metadata": {},
   "outputs": [
    {
     "data": {
      "text/plain": [
       "array([[4.23967000e+05, 3.83325210e+07, 9.04139261e+01],\n",
       "       [6.95662000e+05, 2.64481930e+07, 3.80187404e+01],\n",
       "       [1.41297000e+05, 1.96511270e+07, 1.39076746e+02],\n",
       "       [1.70312000e+05, 1.95528600e+07, 1.14806121e+02],\n",
       "       [1.49995000e+05, 1.28821350e+07, 8.58837628e+01]])"
      ]
     },
     "execution_count": 8,
     "metadata": {},
     "output_type": "execute_result"
    }
   ],
   "source": [
    "data.values"
   ]
  },
  {
   "cell_type": "code",
   "execution_count": 9,
   "id": "ac9a53f4-e8e6-41e9-aec0-e8d95f7bb64e",
   "metadata": {},
   "outputs": [
    {
     "data": {
      "text/html": [
       "<div>\n",
       "<style scoped>\n",
       "    .dataframe tbody tr th:only-of-type {\n",
       "        vertical-align: middle;\n",
       "    }\n",
       "\n",
       "    .dataframe tbody tr th {\n",
       "        vertical-align: top;\n",
       "    }\n",
       "\n",
       "    .dataframe thead th {\n",
       "        text-align: right;\n",
       "    }\n",
       "</style>\n",
       "<table border=\"1\" class=\"dataframe\">\n",
       "  <thead>\n",
       "    <tr style=\"text-align: right;\">\n",
       "      <th></th>\n",
       "      <th>California</th>\n",
       "      <th>Texas</th>\n",
       "      <th>New York</th>\n",
       "      <th>Florida</th>\n",
       "      <th>Illinois</th>\n",
       "    </tr>\n",
       "  </thead>\n",
       "  <tbody>\n",
       "    <tr>\n",
       "      <th>area</th>\n",
       "      <td>4.239670e+05</td>\n",
       "      <td>6.956620e+05</td>\n",
       "      <td>1.412970e+05</td>\n",
       "      <td>1.703120e+05</td>\n",
       "      <td>1.499950e+05</td>\n",
       "    </tr>\n",
       "    <tr>\n",
       "      <th>pop</th>\n",
       "      <td>3.833252e+07</td>\n",
       "      <td>2.644819e+07</td>\n",
       "      <td>1.965113e+07</td>\n",
       "      <td>1.955286e+07</td>\n",
       "      <td>1.288214e+07</td>\n",
       "    </tr>\n",
       "    <tr>\n",
       "      <th>density</th>\n",
       "      <td>9.041393e+01</td>\n",
       "      <td>3.801874e+01</td>\n",
       "      <td>1.390767e+02</td>\n",
       "      <td>1.148061e+02</td>\n",
       "      <td>8.588376e+01</td>\n",
       "    </tr>\n",
       "  </tbody>\n",
       "</table>\n",
       "</div>"
      ],
      "text/plain": [
       "           California         Texas      New York       Florida      Illinois\n",
       "area     4.239670e+05  6.956620e+05  1.412970e+05  1.703120e+05  1.499950e+05\n",
       "pop      3.833252e+07  2.644819e+07  1.965113e+07  1.955286e+07  1.288214e+07\n",
       "density  9.041393e+01  3.801874e+01  1.390767e+02  1.148061e+02  8.588376e+01"
      ]
     },
     "execution_count": 9,
     "metadata": {},
     "output_type": "execute_result"
    }
   ],
   "source": [
    "data.T"
   ]
  },
  {
   "cell_type": "code",
   "execution_count": 10,
   "id": "a3df95b1-b405-49f4-b589-49e2cbf2b706",
   "metadata": {},
   "outputs": [
    {
     "data": {
      "text/plain": [
       "array([4.23967000e+05, 3.83325210e+07, 9.04139261e+01])"
      ]
     },
     "execution_count": 10,
     "metadata": {},
     "output_type": "execute_result"
    }
   ],
   "source": [
    "data.values[0]"
   ]
  },
  {
   "cell_type": "code",
   "execution_count": 11,
   "id": "4f722a4e-d22d-4e3c-9276-acf827b29cf8",
   "metadata": {},
   "outputs": [
    {
     "data": {
      "text/html": [
       "<div>\n",
       "<style scoped>\n",
       "    .dataframe tbody tr th:only-of-type {\n",
       "        vertical-align: middle;\n",
       "    }\n",
       "\n",
       "    .dataframe tbody tr th {\n",
       "        vertical-align: top;\n",
       "    }\n",
       "\n",
       "    .dataframe thead th {\n",
       "        text-align: right;\n",
       "    }\n",
       "</style>\n",
       "<table border=\"1\" class=\"dataframe\">\n",
       "  <thead>\n",
       "    <tr style=\"text-align: right;\">\n",
       "      <th></th>\n",
       "      <th>area</th>\n",
       "      <th>pop</th>\n",
       "    </tr>\n",
       "  </thead>\n",
       "  <tbody>\n",
       "    <tr>\n",
       "      <th>California</th>\n",
       "      <td>423967</td>\n",
       "      <td>38332521</td>\n",
       "    </tr>\n",
       "    <tr>\n",
       "      <th>Texas</th>\n",
       "      <td>695662</td>\n",
       "      <td>26448193</td>\n",
       "    </tr>\n",
       "    <tr>\n",
       "      <th>New York</th>\n",
       "      <td>141297</td>\n",
       "      <td>19651127</td>\n",
       "    </tr>\n",
       "  </tbody>\n",
       "</table>\n",
       "</div>"
      ],
      "text/plain": [
       "              area       pop\n",
       "California  423967  38332521\n",
       "Texas       695662  26448193\n",
       "New York    141297  19651127"
      ]
     },
     "execution_count": 11,
     "metadata": {},
     "output_type": "execute_result"
    }
   ],
   "source": [
    "data.iloc[:3, :2] # 按位置索引。  "
   ]
  },
  {
   "cell_type": "code",
   "execution_count": 12,
   "id": "131ab097-60c0-4d01-8266-3c12acbc9a9b",
   "metadata": {},
   "outputs": [
    {
     "data": {
      "text/plain": [
       "Index(['California', 'Texas', 'New York', 'Florida', 'Illinois'], dtype='object')"
      ]
     },
     "execution_count": 12,
     "metadata": {},
     "output_type": "execute_result"
    }
   ],
   "source": [
    "data.index"
   ]
  },
  {
   "cell_type": "markdown",
   "id": "2022f80e-8168-4409-8a62-00429053459e",
   "metadata": {},
   "source": [
    "iloc依赖整数索引，如果索引被修改过，可能iloc失效"
   ]
  },
  {
   "cell_type": "code",
   "execution_count": 14,
   "id": "653d8ead-b06f-47ae-9710-ba68637879cd",
   "metadata": {},
   "outputs": [
    {
     "data": {
      "text/html": [
       "<div>\n",
       "<style scoped>\n",
       "    .dataframe tbody tr th:only-of-type {\n",
       "        vertical-align: middle;\n",
       "    }\n",
       "\n",
       "    .dataframe tbody tr th {\n",
       "        vertical-align: top;\n",
       "    }\n",
       "\n",
       "    .dataframe thead th {\n",
       "        text-align: right;\n",
       "    }\n",
       "</style>\n",
       "<table border=\"1\" class=\"dataframe\">\n",
       "  <thead>\n",
       "    <tr style=\"text-align: right;\">\n",
       "      <th></th>\n",
       "      <th>area</th>\n",
       "    </tr>\n",
       "  </thead>\n",
       "  <tbody>\n",
       "    <tr>\n",
       "      <th>Texas</th>\n",
       "      <td>695662</td>\n",
       "    </tr>\n",
       "    <tr>\n",
       "      <th>Florida</th>\n",
       "      <td>170312</td>\n",
       "    </tr>\n",
       "  </tbody>\n",
       "</table>\n",
       "</div>"
      ],
      "text/plain": [
       "           area\n",
       "Texas    695662\n",
       "Florida  170312"
      ]
     },
     "execution_count": 14,
     "metadata": {},
     "output_type": "execute_result"
    }
   ],
   "source": [
    "data.loc[['Texas', 'Florida'], ['area']]"
   ]
  },
  {
   "cell_type": "code",
   "execution_count": 1,
   "id": "ea7f5505-2b83-4278-8ed2-1cc1d25270ce",
   "metadata": {},
   "outputs": [
    {
     "ename": "NameError",
     "evalue": "name 'data' is not defined",
     "output_type": "error",
     "traceback": [
      "\u001b[1;31m---------------------------------------------------------------------------\u001b[0m",
      "\u001b[1;31mNameError\u001b[0m                                 Traceback (most recent call last)",
      "Cell \u001b[1;32mIn[1], line 1\u001b[0m\n\u001b[1;32m----> 1\u001b[0m \u001b[43mdata\u001b[49m\u001b[38;5;241m.\u001b[39mloc[:\u001b[38;5;124m'\u001b[39m\u001b[38;5;124mTexas\u001b[39m\u001b[38;5;124m'\u001b[39m, \u001b[38;5;124m'\u001b[39m\u001b[38;5;124marea\u001b[39m\u001b[38;5;124m'\u001b[39m:] \u001b[38;5;66;03m# 按照名字索引\u001b[39;00m\n",
      "\u001b[1;31mNameError\u001b[0m: name 'data' is not defined"
     ]
    }
   ],
   "source": [
    "data.loc[:'Texas', 'area':] # 按照名字索引"
   ]
  },
  {
   "cell_type": "markdown",
   "id": "a5c14022-b6ea-4a39-8d34-145bfd470139",
   "metadata": {},
   "source": [
    "切片是基于行索引切片的， 最好通过loc显式切片"
   ]
  },
  {
   "cell_type": "code",
   "execution_count": 2,
   "id": "6d57b622-d762-4128-95c5-aa4334558409",
   "metadata": {},
   "outputs": [
    {
     "ename": "NameError",
     "evalue": "name 'data' is not defined",
     "output_type": "error",
     "traceback": [
      "\u001b[1;31m---------------------------------------------------------------------------\u001b[0m",
      "\u001b[1;31mNameError\u001b[0m                                 Traceback (most recent call last)",
      "Cell \u001b[1;32mIn[2], line 1\u001b[0m\n\u001b[1;32m----> 1\u001b[0m \u001b[43mdata\u001b[49m[:\u001b[38;5;241m1\u001b[39m] \u001b[38;5;66;03m# 表示第一行 而非第一列。  \u001b[39;00m\n",
      "\u001b[1;31mNameError\u001b[0m: name 'data' is not defined"
     ]
    }
   ],
   "source": [
    "data[:1] # 表示第一行 而非第一列。  "
   ]
  },
  {
   "cell_type": "markdown",
   "id": "da98762c-97d0-4c5e-8718-6a7d870e3cc0",
   "metadata": {},
   "source": [
    "#### 3. 删除行列"
   ]
  },
  {
   "cell_type": "code",
   "execution_count": 13,
   "id": "1a006bb5-7b3c-419a-b791-a0d82e03304a",
   "metadata": {},
   "outputs": [],
   "source": [
    "import pandas as pd\n",
    "crime = pd.DataFrame({\n",
    "      'id':[1,2,3],\n",
    "    'country':['CH','US','EU'],\n",
    "    'total':[1,2,3],\n",
    "    'dead':[4,6,7]\n",
    "})\n",
    "crime.set_index('id',inplace=True)"
   ]
  },
  {
   "cell_type": "markdown",
   "id": "80fad266-5d39-4f9f-9242-a9d40ff2ed82",
   "metadata": {},
   "source": [
    "1. del原地删除列。\n",
    "- 不能用于删除行"
   ]
  },
  {
   "cell_type": "code",
   "execution_count": 14,
   "id": "d4ccf482-336b-4929-b080-feb462c850c3",
   "metadata": {},
   "outputs": [],
   "source": [
    "del crime['total']"
   ]
  },
  {
   "cell_type": "code",
   "execution_count": 15,
   "id": "ba409608-cab0-4776-b655-886537c2c3f4",
   "metadata": {},
   "outputs": [
    {
     "data": {
      "text/html": [
       "<div>\n",
       "<style scoped>\n",
       "    .dataframe tbody tr th:only-of-type {\n",
       "        vertical-align: middle;\n",
       "    }\n",
       "\n",
       "    .dataframe tbody tr th {\n",
       "        vertical-align: top;\n",
       "    }\n",
       "\n",
       "    .dataframe thead th {\n",
       "        text-align: right;\n",
       "    }\n",
       "</style>\n",
       "<table border=\"1\" class=\"dataframe\">\n",
       "  <thead>\n",
       "    <tr style=\"text-align: right;\">\n",
       "      <th></th>\n",
       "      <th>country</th>\n",
       "      <th>dead</th>\n",
       "    </tr>\n",
       "    <tr>\n",
       "      <th>id</th>\n",
       "      <th></th>\n",
       "      <th></th>\n",
       "    </tr>\n",
       "  </thead>\n",
       "  <tbody>\n",
       "    <tr>\n",
       "      <th>1</th>\n",
       "      <td>CH</td>\n",
       "      <td>4</td>\n",
       "    </tr>\n",
       "    <tr>\n",
       "      <th>2</th>\n",
       "      <td>US</td>\n",
       "      <td>6</td>\n",
       "    </tr>\n",
       "    <tr>\n",
       "      <th>3</th>\n",
       "      <td>EU</td>\n",
       "      <td>7</td>\n",
       "    </tr>\n",
       "  </tbody>\n",
       "</table>\n",
       "</div>"
      ],
      "text/plain": [
       "   country  dead\n",
       "id              \n",
       "1       CH     4\n",
       "2       US     6\n",
       "3       EU     7"
      ]
     },
     "execution_count": 15,
     "metadata": {},
     "output_type": "execute_result"
    }
   ],
   "source": [
    "crime"
   ]
  },
  {
   "cell_type": "markdown",
   "id": "dce5a5d3-9c93-4fa1-ad25-a3f2727e1891",
   "metadata": {},
   "source": [
    "2. drop\n",
    "- inplace原地修改\n",
    "- 必须axis指定行列方向"
   ]
  },
  {
   "cell_type": "code",
   "execution_count": 21,
   "id": "078cd54d-0faa-43a5-9a07-704cbee9cdaa",
   "metadata": {},
   "outputs": [
    {
     "data": {
      "text/html": [
       "<div>\n",
       "<style scoped>\n",
       "    .dataframe tbody tr th:only-of-type {\n",
       "        vertical-align: middle;\n",
       "    }\n",
       "\n",
       "    .dataframe tbody tr th {\n",
       "        vertical-align: top;\n",
       "    }\n",
       "\n",
       "    .dataframe thead th {\n",
       "        text-align: right;\n",
       "    }\n",
       "</style>\n",
       "<table border=\"1\" class=\"dataframe\">\n",
       "  <thead>\n",
       "    <tr style=\"text-align: right;\">\n",
       "      <th></th>\n",
       "      <th>country</th>\n",
       "    </tr>\n",
       "    <tr>\n",
       "      <th>id</th>\n",
       "      <th></th>\n",
       "    </tr>\n",
       "  </thead>\n",
       "  <tbody>\n",
       "    <tr>\n",
       "      <th>1</th>\n",
       "      <td>CH</td>\n",
       "    </tr>\n",
       "    <tr>\n",
       "      <th>2</th>\n",
       "      <td>US</td>\n",
       "    </tr>\n",
       "    <tr>\n",
       "      <th>3</th>\n",
       "      <td>EU</td>\n",
       "    </tr>\n",
       "  </tbody>\n",
       "</table>\n",
       "</div>"
      ],
      "text/plain": [
       "   country\n",
       "id        \n",
       "1       CH\n",
       "2       US\n",
       "3       EU"
      ]
     },
     "execution_count": 21,
     "metadata": {},
     "output_type": "execute_result"
    }
   ],
   "source": [
    "# 删除列\n",
    "crime.drop(columns=['dead'])"
   ]
  },
  {
   "cell_type": "code",
   "execution_count": 23,
   "id": "b22bef3e-6d99-4fc0-9b96-058f1de81d69",
   "metadata": {},
   "outputs": [
    {
     "data": {
      "text/html": [
       "<div>\n",
       "<style scoped>\n",
       "    .dataframe tbody tr th:only-of-type {\n",
       "        vertical-align: middle;\n",
       "    }\n",
       "\n",
       "    .dataframe tbody tr th {\n",
       "        vertical-align: top;\n",
       "    }\n",
       "\n",
       "    .dataframe thead th {\n",
       "        text-align: right;\n",
       "    }\n",
       "</style>\n",
       "<table border=\"1\" class=\"dataframe\">\n",
       "  <thead>\n",
       "    <tr style=\"text-align: right;\">\n",
       "      <th></th>\n",
       "      <th>country</th>\n",
       "      <th>dead</th>\n",
       "    </tr>\n",
       "    <tr>\n",
       "      <th>id</th>\n",
       "      <th></th>\n",
       "      <th></th>\n",
       "    </tr>\n",
       "  </thead>\n",
       "  <tbody>\n",
       "    <tr>\n",
       "      <th>2</th>\n",
       "      <td>US</td>\n",
       "      <td>6</td>\n",
       "    </tr>\n",
       "    <tr>\n",
       "      <th>3</th>\n",
       "      <td>EU</td>\n",
       "      <td>7</td>\n",
       "    </tr>\n",
       "  </tbody>\n",
       "</table>\n",
       "</div>"
      ],
      "text/plain": [
       "   country  dead\n",
       "id              \n",
       "2       US     6\n",
       "3       EU     7"
      ]
     },
     "execution_count": 23,
     "metadata": {},
     "output_type": "execute_result"
    }
   ],
   "source": [
    "# 删除行\n",
    "crime.drop([1], axis=0)"
   ]
  },
  {
   "cell_type": "markdown",
   "id": "1a1bcdb4-6e08-4e52-9f8b-34c64c80d1fd",
   "metadata": {},
   "source": [
    "#### 4. 通过dtypes选取列"
   ]
  },
  {
   "cell_type": "code",
   "execution_count": 25,
   "id": "0dec278a-cadc-4cc2-9393-8fee0305ad2d",
   "metadata": {},
   "outputs": [],
   "source": [
    "df = pd.DataFrame({\n",
    "    'age':[1,2],\n",
    "    'name':['aa','bb'],\n",
    "    'married':[False, True]\n",
    "})"
   ]
  },
  {
   "cell_type": "code",
   "execution_count": 27,
   "id": "908dfa44-ab04-41cb-aa3f-27005f0ffa14",
   "metadata": {},
   "outputs": [
    {
     "data": {
      "text/plain": [
       "age         int64\n",
       "name       object\n",
       "married      bool\n",
       "dtype: object"
      ]
     },
     "execution_count": 27,
     "metadata": {},
     "output_type": "execute_result"
    }
   ],
   "source": [
    "df.dtypes"
   ]
  },
  {
   "cell_type": "code",
   "execution_count": 29,
   "id": "477ab888-9dd2-467e-a3e6-55067e5e031b",
   "metadata": {},
   "outputs": [
    {
     "data": {
      "text/html": [
       "<div>\n",
       "<style scoped>\n",
       "    .dataframe tbody tr th:only-of-type {\n",
       "        vertical-align: middle;\n",
       "    }\n",
       "\n",
       "    .dataframe tbody tr th {\n",
       "        vertical-align: top;\n",
       "    }\n",
       "\n",
       "    .dataframe thead th {\n",
       "        text-align: right;\n",
       "    }\n",
       "</style>\n",
       "<table border=\"1\" class=\"dataframe\">\n",
       "  <thead>\n",
       "    <tr style=\"text-align: right;\">\n",
       "      <th></th>\n",
       "      <th>age</th>\n",
       "    </tr>\n",
       "  </thead>\n",
       "  <tbody>\n",
       "    <tr>\n",
       "      <th>0</th>\n",
       "      <td>1</td>\n",
       "    </tr>\n",
       "    <tr>\n",
       "      <th>1</th>\n",
       "      <td>2</td>\n",
       "    </tr>\n",
       "  </tbody>\n",
       "</table>\n",
       "</div>"
      ],
      "text/plain": [
       "   age\n",
       "0    1\n",
       "1    2"
      ]
     },
     "execution_count": 29,
     "metadata": {},
     "output_type": "execute_result"
    }
   ],
   "source": [
    "df.select_dtypes(include=['int64'])"
   ]
  },
  {
   "cell_type": "markdown",
   "id": "42ab5231-ee5b-4713-9f93-92e2e1a777d8",
   "metadata": {},
   "source": [
    "## 3.4　Pandas数值运算方法\n",
    "pd底层是np通用函数，"
   ]
  },
  {
   "cell_type": "markdown",
   "id": "bd051ad2-2d80-4c33-acde-1f65cf306d27",
   "metadata": {},
   "source": [
    "### 3.4.1　通用函数特性1：保留索引\n",
    "所有通用函数的结果都是保留索引，即np值加索引"
   ]
  },
  {
   "cell_type": "code",
   "execution_count": 60,
   "id": "0e6750ce-779d-4e9d-939f-e1368cfd0ee0",
   "metadata": {},
   "outputs": [
    {
     "data": {
      "text/plain": [
       "0    6\n",
       "1    3\n",
       "2    7\n",
       "3    4\n",
       "dtype: int32"
      ]
     },
     "execution_count": 60,
     "metadata": {},
     "output_type": "execute_result"
    }
   ],
   "source": [
    "rng = np.random.RandomState(42)\n",
    "s = pd.Series(rng.randint(0, 10, 4))\n",
    "s"
   ]
  },
  {
   "cell_type": "code",
   "execution_count": 63,
   "id": "dc39a28c-6a5c-4d52-855a-e067569cdcce",
   "metadata": {},
   "outputs": [
    {
     "data": {
      "text/plain": [
       "np.float64(2.775)"
      ]
     },
     "execution_count": 63,
     "metadata": {},
     "output_type": "execute_result"
    }
   ],
   "source": [
    "s = pd.Series([2.1, 3.2,3,4])\n",
    "s.quantile(0.25) # 直接调用接口"
   ]
  },
  {
   "cell_type": "code",
   "execution_count": null,
   "id": "cb14ded0-935f-4079-a163-c8e220e20b13",
   "metadata": {},
   "outputs": [],
   "source": [
    "df = pd.DataFrame(rng.randint(0,10, (3,4)), columns=['A', 'B', 'C', 'D'])\n",
    "df"
   ]
  },
  {
   "cell_type": "code",
   "execution_count": 53,
   "id": "6fd20a76-8a07-4855-a6eb-f28a9737951e",
   "metadata": {},
   "outputs": [
    {
     "ename": "NameError",
     "evalue": "name 's' is not defined",
     "output_type": "error",
     "traceback": [
      "\u001b[1;31m---------------------------------------------------------------------------\u001b[0m",
      "\u001b[1;31mNameError\u001b[0m                                 Traceback (most recent call last)",
      "Cell \u001b[1;32mIn[53], line 1\u001b[0m\n\u001b[1;32m----> 1\u001b[0m np\u001b[38;5;241m.\u001b[39mexp(\u001b[43ms\u001b[49m)\n\u001b[0;32m      2\u001b[0m np\u001b[38;5;241m.\u001b[39msin(df)\n",
      "\u001b[1;31mNameError\u001b[0m: name 's' is not defined"
     ]
    }
   ],
   "source": [
    "np.exp(s)\n",
    "np.sin(df)"
   ]
  },
  {
   "cell_type": "code",
   "execution_count": null,
   "id": "1d4c4bc7-8cf7-404f-b2bd-c997c62a1333",
   "metadata": {},
   "outputs": [],
   "source": []
  },
  {
   "cell_type": "markdown",
   "id": "40e2a57d-d92e-4353-8907-29beaf432fd3",
   "metadata": {},
   "source": [
    "### 3.4.2　通用函数特性：索引对齐\n",
    "自动对齐 索引不一致、不完整的数据，使其具备共同索引。（并集）\n",
    "\n",
    "没有对齐的数据缺失值用NAN填充，或者设置参数fill_value"
   ]
  },
  {
   "cell_type": "code",
   "execution_count": null,
   "id": "f8c11232-53ee-4f21-aaa6-da9624668c07",
   "metadata": {},
   "outputs": [],
   "source": [
    "# 索引不同的两个Series对象\n",
    "area = pd.Series({'Alaska': 1723337, 'Texas': 695662,\n",
    "    'California': 423967}, name='area')\n",
    "population = pd.Series({'California': 38332521, 'Texas': 26448193,\n",
    "    'New York': 19651127}, name='population')"
   ]
  },
  {
   "cell_type": "code",
   "execution_count": null,
   "id": "d92097c9-9e65-48e7-9485-c0ba42360155",
   "metadata": {},
   "outputs": [],
   "source": [
    "population / area"
   ]
  },
  {
   "cell_type": "code",
   "execution_count": null,
   "id": "13f37bb5-411d-4c7d-94b7-0455b98b87b4",
   "metadata": {},
   "outputs": [],
   "source": [
    "population.divide(area, fill_value = 0)"
   ]
  },
  {
   "cell_type": "code",
   "execution_count": null,
   "id": "6ee5cbe9-7827-4208-8aa4-b6a340b397b8",
   "metadata": {},
   "outputs": [],
   "source": [
    "df1 = pd.DataFrame(rng.randint(0,10, (3,4)), columns=['A', 'B', 'C', 'D'])\n",
    "df2 = pd.DataFrame(rng.randint(0,10, (4,2)), columns=['A', 'F'])\n",
    "print(df1, '\\n', df2)"
   ]
  },
  {
   "cell_type": "code",
   "execution_count": null,
   "id": "e17f8605-532c-4be1-b192-33393e2206c6",
   "metadata": {},
   "outputs": [],
   "source": [
    "df1.add(df2, fill_value=0)"
   ]
  },
  {
   "cell_type": "markdown",
   "id": "0085a5e8-86fb-4c51-8071-b35e7e04b177",
   "metadata": {},
   "source": [
    "使用均值填充！\n",
    "stack将二维数组压成一维"
   ]
  },
  {
   "cell_type": "code",
   "execution_count": null,
   "id": "05968aa9-50a2-49b7-a608-0c82b78a2e10",
   "metadata": {},
   "outputs": [],
   "source": [
    "fill = df2.stack().mean()\n",
    "df1.add(df2, fill_value = fill)"
   ]
  },
  {
   "cell_type": "markdown",
   "id": "64f59284-e903-4391-82ba-6af9cbe957eb",
   "metadata": {},
   "source": [
    "### 3.4.3　通用函数：DataFrame与Series的运算\n"
   ]
  },
  {
   "cell_type": "code",
   "execution_count": null,
   "id": "463d79c1-11c6-4c77-8bb3-5f41da3f1ae3",
   "metadata": {},
   "outputs": [],
   "source": [
    "A = rng.randint(10, size=(3, 4))\n",
    "A"
   ]
  },
  {
   "cell_type": "code",
   "execution_count": null,
   "id": "f71297c2-11b5-45a4-812d-fd57760c62d8",
   "metadata": {},
   "outputs": [],
   "source": [
    "df = pd.DataFrame(A, columns=list('QRST'))\n",
    "df"
   ]
  },
  {
   "cell_type": "code",
   "execution_count": null,
   "id": "b0fa790a-dcf7-4e40-9970-7f0021bbc5c4",
   "metadata": {},
   "outputs": [],
   "source": [
    "df - df.loc[0]"
   ]
  },
  {
   "cell_type": "code",
   "execution_count": null,
   "id": "4dd4065f-d511-4fbe-ae77-ddab895c3003",
   "metadata": {},
   "outputs": [],
   "source": [
    "df.subtract(df['R'], axis=0)"
   ]
  },
  {
   "cell_type": "markdown",
   "id": "16f1a929-2c61-42f5-82f2-b0c21e58e418",
   "metadata": {},
   "source": [
    "## 3.5　处理缺失值\n",
    "? 缺失值有3种形式；null, NaN, NA \n",
    "\n",
    "pd的缺失值表示：NaN，None对象"
   ]
  },
  {
   "cell_type": "markdown",
   "id": "b6ec8cbb-1c41-4ee0-90f3-c05b491643b7",
   "metadata": {
    "jp-MarkdownHeadingCollapsed": true
   },
   "source": [
    "### 3.5.2　Pandas的缺失值\n"
   ]
  },
  {
   "cell_type": "markdown",
   "id": "a4f25840-8406-4858-95e0-d696031c3a8b",
   "metadata": {},
   "source": [
    "1. None：Python对象类型的缺失值\n",
    "\n",
    "   只有在object数组类型用到"
   ]
  },
  {
   "cell_type": "code",
   "execution_count": null,
   "id": "f63ac7b4-621d-4e83-b61a-4bb4e694f461",
   "metadata": {},
   "outputs": [],
   "source": [
    "np.array([1, None, 3 ,4], dtype = object)"
   ]
  },
  {
   "cell_type": "markdown",
   "id": "898d6c7d-424e-49c5-94f0-28773362662f",
   "metadata": {},
   "source": [
    "2. NaN（全称Not a Number，不是一个数字)： 数值类型缺失\n",
    "- 是一个特殊的浮点数！！！\n",
    "- 无论和NaN 进行何种操作，最终结果都是NaN。不会抛出异常\n",
    "- np有一些特殊函数，忽略nan聚合影响"
   ]
  },
  {
   "cell_type": "code",
   "execution_count": null,
   "id": "e8286f3e-3ce5-4514-81ea-a0abd7b0965f",
   "metadata": {},
   "outputs": [],
   "source": [
    "x = np.array([1, np.nan, 3, 4])"
   ]
  },
  {
   "cell_type": "code",
   "execution_count": null,
   "id": "55d9e559-fd3b-4648-9e0a-647c99c2d365",
   "metadata": {},
   "outputs": [],
   "source": [
    "x + 2"
   ]
  },
  {
   "cell_type": "code",
   "execution_count": null,
   "id": "1c9803f8-331b-44a8-ba09-500f1f8add53",
   "metadata": {},
   "outputs": [],
   "source": [
    "np.nanmax(x)"
   ]
  },
  {
   "cell_type": "markdown",
   "id": "1d0e1f6d-9839-4ef8-b9c0-8b3b87ba5a80",
   "metadata": {},
   "source": [
    "3. Pandas中NaN与None的差异\n",
    "\n",
    "基本上可以看作等价交换的"
   ]
  },
  {
   "cell_type": "code",
   "execution_count": null,
   "id": "8952a4f7-e445-49bb-a4d6-f40456938e85",
   "metadata": {},
   "outputs": [],
   "source": [
    "pd.Series([1, np.nan, 3, None])"
   ]
  },
  {
   "cell_type": "markdown",
   "id": "94a6f8a1-da6f-4189-aa1d-e906820b4619",
   "metadata": {},
   "source": [
    "### 3.5.3　处理缺失值\n",
    "发现、剔除、替换缺失值\n",
    "- isnull()\n",
    "- notnull()\n",
    "- dropna()\n",
    "- fillna()"
   ]
  },
  {
   "cell_type": "markdown",
   "id": "5a9fb820-9c4f-4578-bc45-8d420641a73b",
   "metadata": {},
   "source": [
    "1. 发现"
   ]
  },
  {
   "cell_type": "code",
   "execution_count": null,
   "id": "02a8409c-8d2b-4b57-be7d-858e5b106956",
   "metadata": {},
   "outputs": [],
   "source": [
    "data = pd.Series([1, np.nan, 'hello', None])\n",
    "data"
   ]
  },
  {
   "cell_type": "code",
   "execution_count": null,
   "id": "1e21de9f-6359-406f-956f-80403c5014e4",
   "metadata": {},
   "outputs": [],
   "source": [
    "data.isnull() # 返回掩码数组"
   ]
  },
  {
   "cell_type": "code",
   "execution_count": null,
   "id": "8daff2aa-821e-48de-92c8-7d5d2f60043d",
   "metadata": {},
   "outputs": [],
   "source": [
    "data[data.notnull()] # 通过掩码筛选,索引去除"
   ]
  },
  {
   "cell_type": "markdown",
   "id": "8c0eb983-c1fb-43dd-99ff-1a6ac3b7acdd",
   "metadata": {},
   "source": [
    "2. 剔除"
   ]
  },
  {
   "cell_type": "code",
   "execution_count": null,
   "id": "425542af-18a0-4302-882a-79e247e9c95c",
   "metadata": {},
   "outputs": [],
   "source": [
    "data.dropna() # 快速剔除！"
   ]
  },
  {
   "cell_type": "code",
   "execution_count": null,
   "id": "8db62dc6-77a8-4090-87cd-24a8bbc7dcc5",
   "metadata": {},
   "outputs": [],
   "source": [
    "df = pd.DataFrame([[1, np.nan, 2],\n",
    "    [2, 3, 5],\n",
    "    [np.nan, 4, 6]])\n",
    "df"
   ]
  },
  {
   "cell_type": "code",
   "execution_count": null,
   "id": "02e10921-8279-4fcf-be71-ef5a8af154f1",
   "metadata": {},
   "outputs": [],
   "source": [
    "df.dropna() # 默认剔除行"
   ]
  },
  {
   "cell_type": "code",
   "execution_count": null,
   "id": "f19b0999-931b-4001-8c74-562e6426e363",
   "metadata": {},
   "outputs": [],
   "source": [
    "df.dropna(axis='columns') # 剔除列"
   ]
  },
  {
   "cell_type": "markdown",
   "id": "8d1930bb-5aee-48e3-8c12-7f939532fcce",
   "metadata": {},
   "source": [
    "剔除行列对数据影响太大，\n",
    "- 通过how属性选择策略\n",
    "- thresh设置阈值：非缺失值最小数量"
   ]
  },
  {
   "cell_type": "code",
   "execution_count": null,
   "id": "305a4934-5c06-4408-bc20-533d41a22c04",
   "metadata": {},
   "outputs": [],
   "source": [
    "df.dropna(how = 'any') # 只要有缺失就剔除"
   ]
  },
  {
   "cell_type": "code",
   "execution_count": null,
   "id": "f973e71e-6f09-436a-8413-d8989e527108",
   "metadata": {},
   "outputs": [],
   "source": [
    "df.dropna(axis = 1)"
   ]
  },
  {
   "cell_type": "code",
   "execution_count": null,
   "id": "0954fac3-c791-4c89-94bf-5f1794d06729",
   "metadata": {},
   "outputs": [],
   "source": [
    "df.dropna(axis='columns', how='all') # 只有一列全部缺失才剔除"
   ]
  },
  {
   "cell_type": "code",
   "execution_count": null,
   "id": "bb4409d1-a961-4f10-a2eb-672077484419",
   "metadata": {},
   "outputs": [],
   "source": [
    "df.dropna(axis='rows', thresh= 3)\n"
   ]
  },
  {
   "cell_type": "markdown",
   "id": "b1748873-ae05-45d8-b087-1dc3b72beee3",
   "metadata": {},
   "source": [
    "3. 填充缺失值"
   ]
  },
  {
   "cell_type": "code",
   "execution_count": null,
   "id": "1e5bd330-1bb5-4b65-be80-8958af7d63f3",
   "metadata": {},
   "outputs": [],
   "source": [
    "data = pd.Series([1, np.nan, 2, None, 3], index=list('abcde'))\n",
    "data"
   ]
  },
  {
   "cell_type": "code",
   "execution_count": null,
   "id": "83c31a1b-c24a-428a-a5fb-2233eaa9982a",
   "metadata": {},
   "outputs": [],
   "source": [
    "data.fillna(0) # 0填充"
   ]
  },
  {
   "cell_type": "code",
   "execution_count": null,
   "id": "e41d5e8d-f79e-42f5-8ba2-1f6e687eb217",
   "metadata": {},
   "outputs": [],
   "source": [
    "data.fillna(method='ffill') # 通过前面的值填充"
   ]
  },
  {
   "cell_type": "code",
   "execution_count": null,
   "id": "ad6d00d1-ba01-48c4-8b16-490f4bc168d6",
   "metadata": {},
   "outputs": [],
   "source": [
    "data.fillna(method = 'bfill')"
   ]
  },
  {
   "cell_type": "code",
   "execution_count": null,
   "id": "cf400e83-6e8c-438e-a016-f39850790035",
   "metadata": {},
   "outputs": [],
   "source": [
    "df"
   ]
  },
  {
   "cell_type": "code",
   "execution_count": null,
   "id": "9608e81c-3b26-4121-99ac-bff334d62300",
   "metadata": {},
   "outputs": [],
   "source": [
    "df.fillna(method = 'ffill', axis=0)"
   ]
  },
  {
   "cell_type": "code",
   "execution_count": null,
   "id": "62d9efe2-27aa-4388-9343-0577ff8b7e9e",
   "metadata": {},
   "outputs": [],
   "source": []
  },
  {
   "cell_type": "markdown",
   "id": "9ea4bd20-ddf9-4435-bdd2-6d95e64aba44",
   "metadata": {},
   "source": [
    "## 3.6　层级索引\n",
    "三维四维索引"
   ]
  },
  {
   "cell_type": "code",
   "execution_count": null,
   "id": "8e384a4c-ceca-46b7-a5f2-17ca55c667e6",
   "metadata": {},
   "outputs": [],
   "source": [
    "index = [('California', 2000), ('California', 2010),\n",
    "    ('New York', 2000), ('New York', 2010),\n",
    "    ('Texas', 2000), ('Texas', 2010)]\n",
    "index"
   ]
  },
  {
   "cell_type": "code",
   "execution_count": null,
   "id": "d89795a2-9544-4368-b1ff-e6ba36c52793",
   "metadata": {},
   "outputs": [],
   "source": [
    "index = pd.MultiIndex.from_tuples(index)\n",
    "index"
   ]
  },
  {
   "cell_type": "code",
   "execution_count": null,
   "id": "2d896182-c2a7-4952-ae7c-cac57cd71040",
   "metadata": {},
   "outputs": [],
   "source": [
    "populations = [33871648, 37253956,\n",
    "    18976457, 19378102,\n",
    "    20851820, 25145561]\n",
    "pop = pd.Series(populations, index=index)\n",
    "pop"
   ]
  },
  {
   "cell_type": "markdown",
   "id": "cf77728b-6cab-4da7-bce6-327dd5ceee3b",
   "metadata": {},
   "source": [
    "一级索引缺失忽略就是多级索引的表现形式！。"
   ]
  },
  {
   "cell_type": "code",
   "execution_count": null,
   "id": "0f84e074-aea0-40bc-89d0-fa59fa0187ca",
   "metadata": {},
   "outputs": [],
   "source": [
    "pop[:,2010] # 二级索引获取2010年数据"
   ]
  },
  {
   "cell_type": "markdown",
   "id": "c0bc1f3c-89a5-46a9-b091-f30fff3131cc",
   "metadata": {},
   "source": [
    "！多级索引如二级索引 可以与 dataframe互换！\n"
   ]
  },
  {
   "cell_type": "code",
   "execution_count": null,
   "id": "d8167884-a7be-40f1-aec5-e6b4ce474d51",
   "metadata": {},
   "outputs": [],
   "source": [
    "pop_df = pop.unstack()\n",
    "pop_df"
   ]
  },
  {
   "cell_type": "code",
   "execution_count": null,
   "id": "b7ea5226-6796-4a21-ad16-efa8f0243d82",
   "metadata": {},
   "outputs": [],
   "source": [
    "pop_df.stack()"
   ]
  },
  {
   "cell_type": "markdown",
   "id": "907332af-efff-4ef8-9dd6-12d4b3fefadc",
   "metadata": {},
   "source": [
    "三级索引！"
   ]
  },
  {
   "cell_type": "code",
   "execution_count": null,
   "id": "f85954ba-0122-4a37-be5b-55f82d6dac3d",
   "metadata": {},
   "outputs": [],
   "source": [
    "pop_df = pd.DataFrame({'total' : pop, 'under18' : [9267089, 9284094,4687374, 4318033,5906301, 6879014]})\n",
    "pop_df"
   ]
  },
  {
   "cell_type": "markdown",
   "id": "a81457db-fb40-42ee-9560-0ae6b9eeb503",
   "metadata": {},
   "source": [
    "### 3.6.2　多级索引的创建方法"
   ]
  },
  {
   "cell_type": "markdown",
   "id": "81eda97f-0156-42bb-8404-4cb85c7ad492",
   "metadata": {},
   "source": [
    "1. 最直接的就是，index设置为多维数组 (隐式)"
   ]
  },
  {
   "cell_type": "code",
   "execution_count": null,
   "id": "eebdd0df-8082-4d41-9b93-d5e4ebdd20fe",
   "metadata": {},
   "outputs": [],
   "source": [
    "df = pd.DataFrame(np.random.rand(4, 2),\n",
    "    index=[['a', 'a', 'b', 'b'], [1, 2, 1, 2]],\n",
    "    columns=['data1', 'data2'])\n",
    "df"
   ]
  },
  {
   "cell_type": "markdown",
   "id": "1c5b64da-b3e7-4c76-9015-49d4df324c0b",
   "metadata": {},
   "source": [
    "2. 元组为键的字典（隐式）"
   ]
  },
  {
   "cell_type": "code",
   "execution_count": null,
   "id": "a5638f5f-3381-450b-9e8d-3548bc26dcec",
   "metadata": {},
   "outputs": [],
   "source": [
    "data = {('California', 2000): 33871648,\n",
    "    ('California', 2010): 37253956,\n",
    "    ('Texas', 2000): 20851820,\n",
    "    ('Texas', 2010): 25145561,\n",
    "    ('New York', 2000): 18976457,\n",
    "    ('New York', 2010): 19378102}\n",
    "pd.Series(data)"
   ]
  },
  {
   "cell_type": "markdown",
   "id": "e4c03544-84e1-40e1-8cbc-502b0cb78ae4",
   "metadata": {},
   "source": [
    "3. MultiIndex显示创建"
   ]
  },
  {
   "cell_type": "code",
   "execution_count": null,
   "id": "8277781f-abae-44fd-9a77-682f00ff1ac6",
   "metadata": {},
   "outputs": [],
   "source": [
    "pd.MultiIndex.from_arrays([['a', 'a', 'b', 'b'], [1, 2, 1, 2]]) # 规格的多维数组"
   ]
  },
  {
   "cell_type": "code",
   "execution_count": null,
   "id": "d04e71a7-58e4-470a-b6e1-1a1931cd8154",
   "metadata": {},
   "outputs": [],
   "source": [
    "pd.MultiIndex.from_tuples([('a', 1),('a', 2),('b', 1),('b', 2)]) # 直接用元组"
   ]
  },
  {
   "cell_type": "code",
   "execution_count": null,
   "id": "358af549-b4c8-41d2-bee0-901432b3938e",
   "metadata": {},
   "outputs": [],
   "source": [
    "pd.MultiIndex.from_product([['a', 'b'], [1, 2]]) # 笛卡尔积"
   ]
  },
  {
   "cell_type": "markdown",
   "id": "5f11ce06-ff41-49fd-9e52-cfa892996cae",
   "metadata": {},
   "source": [
    "3. 为多级索引添加名字"
   ]
  },
  {
   "cell_type": "code",
   "execution_count": null,
   "id": "b0db6553-c054-4015-a7f5-d9c512d12702",
   "metadata": {},
   "outputs": [],
   "source": [
    "pop"
   ]
  },
  {
   "cell_type": "code",
   "execution_count": null,
   "id": "821765cd-3b7f-4ee9-a2db-f956a3a1de6d",
   "metadata": {},
   "outputs": [],
   "source": [
    "pop.index.names = ['state', 'years']"
   ]
  },
  {
   "cell_type": "code",
   "execution_count": null,
   "id": "2828acb1-bcf7-4064-9a75-a901c3df12b7",
   "metadata": {},
   "outputs": [],
   "source": [
    "pop"
   ]
  },
  {
   "cell_type": "markdown",
   "id": "165713d5-d998-4e92-b89b-4f3c233dd769",
   "metadata": {},
   "source": [
    "4. DF的多级列索引"
   ]
  },
  {
   "cell_type": "code",
   "execution_count": null,
   "id": "cd01d903-d4d3-4fd6-9257-076bba8dd56a",
   "metadata": {},
   "outputs": [],
   "source": [
    "# 两个多级索引\n",
    "index = pd.MultiIndex.from_product([[2013, 2014], [1, 2]],\n",
    "    names=['year', 'visit'])\n",
    "columns = pd.MultiIndex.from_product([['Bob', 'Guido', 'Sue'], ['HR', 'Temp']],\n",
    "    names=['subject', 'type'])"
   ]
  },
  {
   "cell_type": "code",
   "execution_count": null,
   "id": "f0823923-426f-4705-b02a-3097fab3ad88",
   "metadata": {},
   "outputs": [],
   "source": [
    "data = np.round(np.random.randn(4,6), 1)\n",
    "health_data = pd.DataFrame(data, index = index, columns = columns)\n",
    "health_data"
   ]
  },
  {
   "cell_type": "markdown",
   "id": "b2f54bd2-b755-4cc7-8dbc-2873656f1c0a",
   "metadata": {},
   "source": [
    "这是一个四维数据"
   ]
  },
  {
   "cell_type": "code",
   "execution_count": null,
   "id": "ca85590e-d927-4f28-a413-8e08d69550c7",
   "metadata": {},
   "outputs": [],
   "source": [
    "health_data['Sue'] # 列的一级索引直接访问"
   ]
  },
  {
   "cell_type": "code",
   "execution_count": null,
   "id": "cc60e4e4-3e75-4092-811f-5fef347a95b2",
   "metadata": {},
   "outputs": [],
   "source": [
    "health_data.loc[2013] # 行一级索引"
   ]
  },
  {
   "cell_type": "markdown",
   "id": "7129dd7e-f111-4743-a29f-ce6ed7aa65e7",
   "metadata": {},
   "source": [
    "### 3.6.3　多级索引的取值与切片"
   ]
  },
  {
   "cell_type": "markdown",
   "id": "a86b3cae-8c14-4728-a7a0-633179f564d0",
   "metadata": {},
   "source": [
    "1. Series多级索引取值"
   ]
  },
  {
   "cell_type": "code",
   "execution_count": null,
   "id": "5051278b-ab96-4c97-98ba-99784f950c70",
   "metadata": {},
   "outputs": [],
   "source": [
    "pop"
   ]
  },
  {
   "cell_type": "code",
   "execution_count": null,
   "id": "c3cfe25b-489c-48e7-9c82-ad8d205ba2b0",
   "metadata": {},
   "outputs": [],
   "source": [
    "pop['California',2000]"
   ]
  },
  {
   "cell_type": "code",
   "execution_count": null,
   "id": "b0d92bec-50c8-4cbe-be65-6fb155ee8e47",
   "metadata": {},
   "outputs": [],
   "source": [
    "pop['California']"
   ]
  },
  {
   "cell_type": "code",
   "execution_count": null,
   "id": "3221d1a7-b351-423a-9be4-5dbaae2d1d8a",
   "metadata": {},
   "outputs": [],
   "source": [
    "pop[:, 2000]"
   ]
  },
  {
   "cell_type": "code",
   "execution_count": null,
   "id": "d858d790-86c5-42a5-8969-067f62feda17",
   "metadata": {},
   "outputs": [],
   "source": [
    "pop[pop > 100]"
   ]
  },
  {
   "cell_type": "code",
   "execution_count": null,
   "id": "88327143-9f60-43fc-ab17-a6fbe8374824",
   "metadata": {},
   "outputs": [],
   "source": [
    "pop[['California', 'Texas']]"
   ]
  },
  {
   "cell_type": "markdown",
   "id": "d6a66672-9509-4446-9dac-9e882eac0a5a",
   "metadata": {},
   "source": [
    "2. DataFrame多级索引"
   ]
  },
  {
   "cell_type": "code",
   "execution_count": null,
   "id": "85ef4a57-9425-4934-944b-93af686dfbd8",
   "metadata": {},
   "outputs": [],
   "source": [
    "health_data"
   ]
  },
  {
   "cell_type": "code",
   "execution_count": null,
   "id": "b0fa4688-fd47-4440-b499-0deb792d9a6e",
   "metadata": {},
   "outputs": [],
   "source": [
    "health_data['Bob', 'HR'] # 列的二级索引访问"
   ]
  },
  {
   "cell_type": "code",
   "execution_count": null,
   "id": "cf540ab5-463d-4a73-8f34-39a20bc6648e",
   "metadata": {},
   "outputs": [],
   "source": [
    "health_data.iloc[:2, :2] # 看作二维数组"
   ]
  },
  {
   "cell_type": "markdown",
   "id": "2b909f3e-4583-4117-98d9-d2651b050675",
   "metadata": {},
   "source": [
    "Indeslice来快速处理多级索引取值: 比如要访问行索引的第二级"
   ]
  },
  {
   "cell_type": "code",
   "execution_count": null,
   "id": "6f7c8853-7c2a-48b2-a3c1-96351444152a",
   "metadata": {},
   "outputs": [],
   "source": [
    "idx = pd.IndexSlice\n",
    "health_data.loc[idx[:, 1], idx[:, 'HR']]"
   ]
  },
  {
   "cell_type": "markdown",
   "id": "95eea665-66b9-48cc-9790-e7bfe2e5f48c",
   "metadata": {},
   "source": [
    "### 3.6.4　多级索引行列转换"
   ]
  },
  {
   "cell_type": "markdown",
   "id": "015d5b6d-dfa1-432a-93c4-49a3aef2909e",
   "metadata": {},
   "source": [
    "1. 有序的索引和无序的索引\n",
    "   - MultiIndex如果不是有序索引，那么切片就会失败！因此必须保证索引有序\n",
    "   - pd提供了方法来排序索引"
   ]
  },
  {
   "cell_type": "code",
   "execution_count": null,
   "id": "0c48c7c4-a106-4b81-a7d8-4faf3e58f993",
   "metadata": {},
   "outputs": [],
   "source": [
    "index = pd.MultiIndex.from_product([['a', 'c', 'b'], [1, 2]])\n",
    "data = pd.Series(np.random.rand(6), index = index)\n",
    "data.index.names = ['char', 'int']\n",
    "data"
   ]
  },
  {
   "cell_type": "code",
   "execution_count": null,
   "id": "cac0b76f-02a5-4413-a7bb-3d710dbf441e",
   "metadata": {},
   "outputs": [],
   "source": [
    "# data['a' : 'b'] # 切片失败"
   ]
  },
  {
   "cell_type": "code",
   "execution_count": null,
   "id": "81c5b2ec-477e-4bd7-bcee-e55567a28f26",
   "metadata": {},
   "outputs": [],
   "source": [
    "data.sort_index()"
   ]
  },
  {
   "cell_type": "markdown",
   "id": "bd925cb1-4e9a-4be9-af69-b4e990b752fe",
   "metadata": {},
   "source": [
    "2. 索引stack与unstack"
   ]
  },
  {
   "cell_type": "code",
   "execution_count": 15,
   "id": "3726e5eb-d541-4055-baed-d7cc4bcea63c",
   "metadata": {},
   "outputs": [
    {
     "data": {
      "text/plain": [
       "California    38332521\n",
       "Texas         26448193\n",
       "New York      19651127\n",
       "Florida       19552860\n",
       "Illinois      12882135\n",
       "dtype: int64"
      ]
     },
     "execution_count": 15,
     "metadata": {},
     "output_type": "execute_result"
    }
   ],
   "source": [
    "pop"
   ]
  },
  {
   "cell_type": "markdown",
   "id": "17f140f2-000f-4c34-964a-2e6154289944",
   "metadata": {},
   "source": [
    "展开索引， 比如多级，要展1级"
   ]
  },
  {
   "cell_type": "code",
   "execution_count": null,
   "id": "4ad63b0d-4b84-48e6-a09f-0cd1fe277c34",
   "metadata": {},
   "outputs": [],
   "source": [
    "pop.unstack() "
   ]
  },
  {
   "cell_type": "code",
   "execution_count": null,
   "id": "65829bf9-8b77-4c6f-aad5-1958de390939",
   "metadata": {},
   "outputs": [],
   "source": [
    "pop.unstack(level = 0) # 设置第一级索引去列"
   ]
  },
  {
   "cell_type": "code",
   "execution_count": null,
   "id": "b1c3a9bf-a40e-4beb-b3cd-b7b6362ba54e",
   "metadata": {},
   "outputs": [],
   "source": [
    "pop"
   ]
  },
  {
   "cell_type": "markdown",
   "id": "8f0b2ea5-1502-4ae0-86f7-c5795e3a439d",
   "metadata": {},
   "source": [
    "3. 索引的设置与重置\n",
    "- 重置索引，则会生成一个DataFrame。\n",
    "- 重置时候，需要补充数据列名\n",
    "- 将这样数据转化为MultiIndex可以设置索引!"
   ]
  },
  {
   "cell_type": "code",
   "execution_count": 1,
   "id": "91150c2c-f53a-49b0-88e9-c37f14268b1a",
   "metadata": {},
   "outputs": [
    {
     "ename": "NameError",
     "evalue": "name 'pop' is not defined",
     "output_type": "error",
     "traceback": [
      "\u001b[1;31m---------------------------------------------------------------------------\u001b[0m",
      "\u001b[1;31mNameError\u001b[0m                                 Traceback (most recent call last)",
      "Cell \u001b[1;32mIn[1], line 1\u001b[0m\n\u001b[1;32m----> 1\u001b[0m pop_flat \u001b[38;5;241m=\u001b[39m \u001b[43mpop\u001b[49m\u001b[38;5;241m.\u001b[39mreset_index(name \u001b[38;5;241m=\u001b[39m \u001b[38;5;124m'\u001b[39m\u001b[38;5;124mpopulation\u001b[39m\u001b[38;5;124m'\u001b[39m)\n\u001b[0;32m      2\u001b[0m pop_flat\n",
      "\u001b[1;31mNameError\u001b[0m: name 'pop' is not defined"
     ]
    }
   ],
   "source": [
    "pop_flat = pop.reset_index(name = 'population')\n",
    "pop_flat"
   ]
  },
  {
   "cell_type": "markdown",
   "id": "36f16fdb-5fc2-4a78-b68f-c4966289e894",
   "metadata": {},
   "source": [
    "set_index()没有inplace必须手动赋值"
   ]
  },
  {
   "cell_type": "code",
   "execution_count": 98,
   "id": "270a0b0b-e97f-4c1c-8da3-f5d6770c8a6f",
   "metadata": {},
   "outputs": [
    {
     "ename": "NameError",
     "evalue": "name 'pop_flat' is not defined",
     "output_type": "error",
     "traceback": [
      "\u001b[1;31m---------------------------------------------------------------------------\u001b[0m",
      "\u001b[1;31mNameError\u001b[0m                                 Traceback (most recent call last)",
      "Cell \u001b[1;32mIn[98], line 1\u001b[0m\n\u001b[1;32m----> 1\u001b[0m \u001b[43mpop_flat\u001b[49m\u001b[38;5;241m.\u001b[39mset_index([\u001b[38;5;124m'\u001b[39m\u001b[38;5;124mstate\u001b[39m\u001b[38;5;124m'\u001b[39m,\u001b[38;5;124m'\u001b[39m\u001b[38;5;124myears\u001b[39m\u001b[38;5;124m'\u001b[39m])\n",
      "\u001b[1;31mNameError\u001b[0m: name 'pop_flat' is not defined"
     ]
    }
   ],
   "source": [
    "pop_flat.set_index(['state','years']) # 设置某列为索引"
   ]
  },
  {
   "cell_type": "code",
   "execution_count": 99,
   "id": "d6b14262-b28d-4267-8c92-ccba5ae890a9",
   "metadata": {},
   "outputs": [
    {
     "ename": "NameError",
     "evalue": "name 'pop_flat' is not defined",
     "output_type": "error",
     "traceback": [
      "\u001b[1;31m---------------------------------------------------------------------------\u001b[0m",
      "\u001b[1;31mNameError\u001b[0m                                 Traceback (most recent call last)",
      "Cell \u001b[1;32mIn[99], line 1\u001b[0m\n\u001b[1;32m----> 1\u001b[0m \u001b[43mpop_flat\u001b[49m\u001b[38;5;241m.\u001b[39mreset_index()\n",
      "\u001b[1;31mNameError\u001b[0m: name 'pop_flat' is not defined"
     ]
    }
   ],
   "source": [
    "pop_flat.reset_index()"
   ]
  },
  {
   "cell_type": "markdown",
   "id": "be3c2053-f0a1-40a8-9193-102544007090",
   "metadata": {},
   "source": [
    "### 3.6.5　多级索引的数据累计方法"
   ]
  },
  {
   "cell_type": "code",
   "execution_count": null,
   "id": "c7fa53ff-c472-4803-9542-2bcd38a0998b",
   "metadata": {},
   "outputs": [],
   "source": [
    "health_data"
   ]
  },
  {
   "cell_type": "markdown",
   "id": "a567890b-d576-4d90-856d-3939b8db2712",
   "metadata": {},
   "source": [
    "1. 行计算："
   ]
  },
  {
   "cell_type": "code",
   "execution_count": null,
   "id": "7ac3b277-d8d6-4ff8-bb31-0ddf8517443f",
   "metadata": {},
   "outputs": [],
   "source": [
    "health_data.groupby(level = 'year').mean()"
   ]
  },
  {
   "cell_type": "code",
   "execution_count": null,
   "id": "b7ad3395-e40b-4402-8c0f-2db25123d405",
   "metadata": {},
   "outputs": [],
   "source": [
    "health_data.groupby(level = 'visit').mean()"
   ]
  },
  {
   "cell_type": "code",
   "execution_count": null,
   "id": "54e97685-2a4f-46dd-861c-2b12341abc44",
   "metadata": {},
   "outputs": [],
   "source": [
    "year_mean = health_data.groupby(level = 'year').mean()\n",
    "year_mean.groupby(axis = 1, level = 'type').mean()"
   ]
  },
  {
   "cell_type": "markdown",
   "id": "0c1aeba4-9eb3-40af-a95b-e12c2f6863a4",
   "metadata": {},
   "source": [
    "2. 列计算"
   ]
  },
  {
   "cell_type": "code",
   "execution_count": null,
   "id": "c8a3ffdf-38d5-47de-aca7-bba4591b81e5",
   "metadata": {},
   "outputs": [],
   "source": [
    "health_data.groupby(axis = 1, level ='type').mean()"
   ]
  },
  {
   "cell_type": "markdown",
   "id": "84cc392a-9a60-4a4f-b2f3-a006ad1f93c1",
   "metadata": {},
   "source": [
    "## 3.7　合并数据concat\n",
    "df之间、series之间、df与series之间\n",
    "- concat axis指定行列"
   ]
  },
  {
   "cell_type": "markdown",
   "id": "ef1af4db-00c9-479b-b224-224600fed1af",
   "metadata": {},
   "source": [
    "### 3.7.1 concat连接"
   ]
  },
  {
   "cell_type": "code",
   "execution_count": 9,
   "id": "93fb519d-930e-49f6-9861-053a59457cee",
   "metadata": {},
   "outputs": [
    {
     "data": {
      "text/html": [
       "<div>\n",
       "<style scoped>\n",
       "    .dataframe tbody tr th:only-of-type {\n",
       "        vertical-align: middle;\n",
       "    }\n",
       "\n",
       "    .dataframe tbody tr th {\n",
       "        vertical-align: top;\n",
       "    }\n",
       "\n",
       "    .dataframe thead th {\n",
       "        text-align: right;\n",
       "    }\n",
       "</style>\n",
       "<table border=\"1\" class=\"dataframe\">\n",
       "  <thead>\n",
       "    <tr style=\"text-align: right;\">\n",
       "      <th></th>\n",
       "      <th>A</th>\n",
       "      <th>B</th>\n",
       "      <th>C</th>\n",
       "    </tr>\n",
       "  </thead>\n",
       "  <tbody>\n",
       "    <tr>\n",
       "      <th>0</th>\n",
       "      <td>A0</td>\n",
       "      <td>B0</td>\n",
       "      <td>C0</td>\n",
       "    </tr>\n",
       "    <tr>\n",
       "      <th>1</th>\n",
       "      <td>A1</td>\n",
       "      <td>B1</td>\n",
       "      <td>C1</td>\n",
       "    </tr>\n",
       "    <tr>\n",
       "      <th>2</th>\n",
       "      <td>A2</td>\n",
       "      <td>B2</td>\n",
       "      <td>C2</td>\n",
       "    </tr>\n",
       "  </tbody>\n",
       "</table>\n",
       "</div>"
      ],
      "text/plain": [
       "    A   B   C\n",
       "0  A0  B0  C0\n",
       "1  A1  B1  C1\n",
       "2  A2  B2  C2"
      ]
     },
     "execution_count": 9,
     "metadata": {},
     "output_type": "execute_result"
    }
   ],
   "source": [
    "import pandas as pd\n",
    "import numpy as np\n",
    "def make_df(cols, ind):\n",
    "    data = {c : [str(c) + str(i) for i in ind] for c in cols}\n",
    "    return pd.DataFrame(data, index= ind)\n",
    "make_df(\"ABC\", range(3))"
   ]
  },
  {
   "cell_type": "code",
   "execution_count": 14,
   "id": "8975da1d-69ad-4faa-8b1b-ad2696416a25",
   "metadata": {},
   "outputs": [
    {
     "data": {
      "text/html": [
       "<div>\n",
       "<style scoped>\n",
       "    .dataframe tbody tr th:only-of-type {\n",
       "        vertical-align: middle;\n",
       "    }\n",
       "\n",
       "    .dataframe tbody tr th {\n",
       "        vertical-align: top;\n",
       "    }\n",
       "\n",
       "    .dataframe thead th {\n",
       "        text-align: right;\n",
       "    }\n",
       "</style>\n",
       "<table border=\"1\" class=\"dataframe\">\n",
       "  <thead>\n",
       "    <tr style=\"text-align: right;\">\n",
       "      <th></th>\n",
       "      <th>s1</th>\n",
       "      <th>s2</th>\n",
       "    </tr>\n",
       "  </thead>\n",
       "  <tbody>\n",
       "    <tr>\n",
       "      <th>0</th>\n",
       "      <td>7</td>\n",
       "      <td>1</td>\n",
       "    </tr>\n",
       "    <tr>\n",
       "      <th>1</th>\n",
       "      <td>7</td>\n",
       "      <td>1</td>\n",
       "    </tr>\n",
       "    <tr>\n",
       "      <th>2</th>\n",
       "      <td>3</td>\n",
       "      <td>1</td>\n",
       "    </tr>\n",
       "    <tr>\n",
       "      <th>3</th>\n",
       "      <td>5</td>\n",
       "      <td>9</td>\n",
       "    </tr>\n",
       "    <tr>\n",
       "      <th>4</th>\n",
       "      <td>4</td>\n",
       "      <td>3</td>\n",
       "    </tr>\n",
       "    <tr>\n",
       "      <th>5</th>\n",
       "      <td>6</td>\n",
       "      <td>1</td>\n",
       "    </tr>\n",
       "    <tr>\n",
       "      <th>6</th>\n",
       "      <td>3</td>\n",
       "      <td>2</td>\n",
       "    </tr>\n",
       "    <tr>\n",
       "      <th>7</th>\n",
       "      <td>3</td>\n",
       "      <td>9</td>\n",
       "    </tr>\n",
       "    <tr>\n",
       "      <th>8</th>\n",
       "      <td>1</td>\n",
       "      <td>9</td>\n",
       "    </tr>\n",
       "    <tr>\n",
       "      <th>9</th>\n",
       "      <td>5</td>\n",
       "      <td>8</td>\n",
       "    </tr>\n",
       "  </tbody>\n",
       "</table>\n",
       "</div>"
      ],
      "text/plain": [
       "   s1  s2\n",
       "0   7   1\n",
       "1   7   1\n",
       "2   3   1\n",
       "3   5   9\n",
       "4   4   3\n",
       "5   6   1\n",
       "6   3   2\n",
       "7   3   9\n",
       "8   1   9\n",
       "9   5   8"
      ]
     },
     "execution_count": 14,
     "metadata": {},
     "output_type": "execute_result"
    }
   ],
   "source": [
    "s1 = pd.Series(np.random.randint(1,10,10))\n",
    "s2 = pd.Series(np.random.randint(1,10,10))\n",
    "pd.concat([s1,s2], axis=1, keys=['s1','s2']) # keys重新命名列"
   ]
  },
  {
   "cell_type": "code",
   "execution_count": 7,
   "id": "d3309877-b1b3-4e58-89b2-c1d11bfd3743",
   "metadata": {},
   "outputs": [
    {
     "data": {
      "text/plain": [
       "1    A\n",
       "2    B\n",
       "3    C\n",
       "4    D\n",
       "5    E\n",
       "6    F\n",
       "dtype: object"
      ]
     },
     "execution_count": 7,
     "metadata": {},
     "output_type": "execute_result"
    }
   ],
   "source": [
    "ser1 = pd.Series(['A', 'B', 'C'], index=[1, 2, 3])\n",
    "ser2 = pd.Series(['D', 'E', 'F'], index=[4, 5, 6])\n",
    "pd.concat([ser1, ser2])"
   ]
  },
  {
   "cell_type": "code",
   "execution_count": 8,
   "id": "05e904da-b523-48f9-ac3f-d1f578cc29f9",
   "metadata": {},
   "outputs": [
    {
     "data": {
      "text/html": [
       "<div>\n",
       "<style scoped>\n",
       "    .dataframe tbody tr th:only-of-type {\n",
       "        vertical-align: middle;\n",
       "    }\n",
       "\n",
       "    .dataframe tbody tr th {\n",
       "        vertical-align: top;\n",
       "    }\n",
       "\n",
       "    .dataframe thead th {\n",
       "        text-align: right;\n",
       "    }\n",
       "</style>\n",
       "<table border=\"1\" class=\"dataframe\">\n",
       "  <thead>\n",
       "    <tr style=\"text-align: right;\">\n",
       "      <th></th>\n",
       "      <th>0</th>\n",
       "      <th>1</th>\n",
       "    </tr>\n",
       "  </thead>\n",
       "  <tbody>\n",
       "    <tr>\n",
       "      <th>1</th>\n",
       "      <td>A</td>\n",
       "      <td>NaN</td>\n",
       "    </tr>\n",
       "    <tr>\n",
       "      <th>2</th>\n",
       "      <td>B</td>\n",
       "      <td>NaN</td>\n",
       "    </tr>\n",
       "    <tr>\n",
       "      <th>3</th>\n",
       "      <td>C</td>\n",
       "      <td>NaN</td>\n",
       "    </tr>\n",
       "    <tr>\n",
       "      <th>4</th>\n",
       "      <td>NaN</td>\n",
       "      <td>D</td>\n",
       "    </tr>\n",
       "    <tr>\n",
       "      <th>5</th>\n",
       "      <td>NaN</td>\n",
       "      <td>E</td>\n",
       "    </tr>\n",
       "    <tr>\n",
       "      <th>6</th>\n",
       "      <td>NaN</td>\n",
       "      <td>F</td>\n",
       "    </tr>\n",
       "  </tbody>\n",
       "</table>\n",
       "</div>"
      ],
      "text/plain": [
       "     0    1\n",
       "1    A  NaN\n",
       "2    B  NaN\n",
       "3    C  NaN\n",
       "4  NaN    D\n",
       "5  NaN    E\n",
       "6  NaN    F"
      ]
     },
     "execution_count": 8,
     "metadata": {},
     "output_type": "execute_result"
    }
   ],
   "source": []
  },
  {
   "cell_type": "code",
   "execution_count": 3,
   "id": "13fff70e-7194-46b4-8738-2a0f001db71e",
   "metadata": {},
   "outputs": [
    {
     "data": {
      "text/html": [
       "<div>\n",
       "<style scoped>\n",
       "    .dataframe tbody tr th:only-of-type {\n",
       "        vertical-align: middle;\n",
       "    }\n",
       "\n",
       "    .dataframe tbody tr th {\n",
       "        vertical-align: top;\n",
       "    }\n",
       "\n",
       "    .dataframe thead th {\n",
       "        text-align: right;\n",
       "    }\n",
       "</style>\n",
       "<table border=\"1\" class=\"dataframe\">\n",
       "  <thead>\n",
       "    <tr style=\"text-align: right;\">\n",
       "      <th></th>\n",
       "      <th>A</th>\n",
       "      <th>B</th>\n",
       "    </tr>\n",
       "  </thead>\n",
       "  <tbody>\n",
       "    <tr>\n",
       "      <th>1</th>\n",
       "      <td>A1</td>\n",
       "      <td>B1</td>\n",
       "    </tr>\n",
       "    <tr>\n",
       "      <th>2</th>\n",
       "      <td>A2</td>\n",
       "      <td>B2</td>\n",
       "    </tr>\n",
       "    <tr>\n",
       "      <th>3</th>\n",
       "      <td>A3</td>\n",
       "      <td>B3</td>\n",
       "    </tr>\n",
       "    <tr>\n",
       "      <th>4</th>\n",
       "      <td>A4</td>\n",
       "      <td>B4</td>\n",
       "    </tr>\n",
       "  </tbody>\n",
       "</table>\n",
       "</div>"
      ],
      "text/plain": [
       "    A   B\n",
       "1  A1  B1\n",
       "2  A2  B2\n",
       "3  A3  B3\n",
       "4  A4  B4"
      ]
     },
     "execution_count": 3,
     "metadata": {},
     "output_type": "execute_result"
    }
   ],
   "source": [
    "df1 = make_df('AB', [1, 2])\n",
    "df2 = make_df('AB', [3, 4])\n",
    "pd.concat([df1, df2])"
   ]
  },
  {
   "cell_type": "code",
   "execution_count": 4,
   "id": "86e70a0d-7fa0-4f71-9bfe-f81f4523f092",
   "metadata": {},
   "outputs": [
    {
     "data": {
      "text/html": [
       "<div>\n",
       "<style scoped>\n",
       "    .dataframe tbody tr th:only-of-type {\n",
       "        vertical-align: middle;\n",
       "    }\n",
       "\n",
       "    .dataframe tbody tr th {\n",
       "        vertical-align: top;\n",
       "    }\n",
       "\n",
       "    .dataframe thead th {\n",
       "        text-align: right;\n",
       "    }\n",
       "</style>\n",
       "<table border=\"1\" class=\"dataframe\">\n",
       "  <thead>\n",
       "    <tr style=\"text-align: right;\">\n",
       "      <th></th>\n",
       "      <th>A</th>\n",
       "      <th>B</th>\n",
       "      <th>A</th>\n",
       "      <th>B</th>\n",
       "    </tr>\n",
       "  </thead>\n",
       "  <tbody>\n",
       "    <tr>\n",
       "      <th>1</th>\n",
       "      <td>A1</td>\n",
       "      <td>B1</td>\n",
       "      <td>NaN</td>\n",
       "      <td>NaN</td>\n",
       "    </tr>\n",
       "    <tr>\n",
       "      <th>2</th>\n",
       "      <td>A2</td>\n",
       "      <td>B2</td>\n",
       "      <td>NaN</td>\n",
       "      <td>NaN</td>\n",
       "    </tr>\n",
       "    <tr>\n",
       "      <th>3</th>\n",
       "      <td>NaN</td>\n",
       "      <td>NaN</td>\n",
       "      <td>A3</td>\n",
       "      <td>B3</td>\n",
       "    </tr>\n",
       "    <tr>\n",
       "      <th>4</th>\n",
       "      <td>NaN</td>\n",
       "      <td>NaN</td>\n",
       "      <td>A4</td>\n",
       "      <td>B4</td>\n",
       "    </tr>\n",
       "  </tbody>\n",
       "</table>\n",
       "</div>"
      ],
      "text/plain": [
       "     A    B    A    B\n",
       "1   A1   B1  NaN  NaN\n",
       "2   A2   B2  NaN  NaN\n",
       "3  NaN  NaN   A3   B3\n",
       "4  NaN  NaN   A4   B4"
      ]
     },
     "execution_count": 4,
     "metadata": {},
     "output_type": "execute_result"
    }
   ],
   "source": [
    "pd.concat([df1, df2], axis = 1)"
   ]
  },
  {
   "cell_type": "code",
   "execution_count": 5,
   "id": "45c09f49-2173-401f-8006-0ddab2fc68ba",
   "metadata": {},
   "outputs": [
    {
     "data": {
      "text/html": [
       "<div>\n",
       "<style scoped>\n",
       "    .dataframe tbody tr th:only-of-type {\n",
       "        vertical-align: middle;\n",
       "    }\n",
       "\n",
       "    .dataframe tbody tr th {\n",
       "        vertical-align: top;\n",
       "    }\n",
       "\n",
       "    .dataframe thead th {\n",
       "        text-align: right;\n",
       "    }\n",
       "</style>\n",
       "<table border=\"1\" class=\"dataframe\">\n",
       "  <thead>\n",
       "    <tr style=\"text-align: right;\">\n",
       "      <th></th>\n",
       "      <th>A</th>\n",
       "      <th>B</th>\n",
       "      <th>A</th>\n",
       "      <th>B</th>\n",
       "    </tr>\n",
       "  </thead>\n",
       "  <tbody>\n",
       "    <tr>\n",
       "      <th>1</th>\n",
       "      <td>A1</td>\n",
       "      <td>B1</td>\n",
       "      <td>NaN</td>\n",
       "      <td>NaN</td>\n",
       "    </tr>\n",
       "    <tr>\n",
       "      <th>2</th>\n",
       "      <td>A2</td>\n",
       "      <td>B2</td>\n",
       "      <td>NaN</td>\n",
       "      <td>NaN</td>\n",
       "    </tr>\n",
       "    <tr>\n",
       "      <th>3</th>\n",
       "      <td>NaN</td>\n",
       "      <td>NaN</td>\n",
       "      <td>A3</td>\n",
       "      <td>B3</td>\n",
       "    </tr>\n",
       "    <tr>\n",
       "      <th>4</th>\n",
       "      <td>NaN</td>\n",
       "      <td>NaN</td>\n",
       "      <td>A4</td>\n",
       "      <td>B4</td>\n",
       "    </tr>\n",
       "  </tbody>\n",
       "</table>\n",
       "</div>"
      ],
      "text/plain": [
       "     A    B    A    B\n",
       "1   A1   B1  NaN  NaN\n",
       "2   A2   B2  NaN  NaN\n",
       "3  NaN  NaN   A3   B3\n",
       "4  NaN  NaN   A4   B4"
      ]
     },
     "execution_count": 5,
     "metadata": {},
     "output_type": "execute_result"
    }
   ],
   "source": [
    "pd.concat([df1, df2], axis = 1)"
   ]
  },
  {
   "cell_type": "markdown",
   "id": "265027fd-c1e3-404d-b02a-e49ba46167ff",
   "metadata": {},
   "source": [
    "#### 索引重复时候如何连接?\n",
    "- pd默认是允许的，结果会有重复索引\n",
    "- 但我们想要结果肯定是唯一索引\n",
    "\n",
    "1. 捕获重复索引错误。\n",
    "2. 忽略索引\n",
    "3. 增加多级索引 "
   ]
  },
  {
   "cell_type": "code",
   "execution_count": 32,
   "id": "24107831-5c16-415b-8f01-8cbd92866167",
   "metadata": {},
   "outputs": [],
   "source": [
    "s1=pd.Series(np.random.randint(1,4,10))\n",
    "s2=pd.Series(np.random.randint(1,3,10))\n",
    "s3=pd.Series(np.random.randint(10000,30000,10))\n",
    "d= pd.concat([s1,s2,s3], axis=0)\n"
   ]
  },
  {
   "cell_type": "code",
   "execution_count": 33,
   "id": "da23d96e-434a-465b-9e3a-b3e53a7c2307",
   "metadata": {},
   "outputs": [
    {
     "data": {
      "text/plain": [
       "Index([0, 1, 2, 3, 4, 5, 6, 7, 8, 9, 0, 1, 2, 3, 4, 5, 6, 7, 8, 9, 0, 1, 2, 3,\n",
       "       4, 5, 6, 7, 8, 9],\n",
       "      dtype='int64')"
      ]
     },
     "execution_count": 33,
     "metadata": {},
     "output_type": "execute_result"
    }
   ],
   "source": [
    "d.index"
   ]
  },
  {
   "cell_type": "markdown",
   "id": "eb7c7aa1-ee33-4eff-a7f4-4057b0462f70",
   "metadata": {},
   "source": [
    "重复索引合理的不会自动合并"
   ]
  },
  {
   "cell_type": "code",
   "execution_count": 23,
   "id": "35eeb3b5-e940-4f52-891c-70cc8e1c4aa6",
   "metadata": {},
   "outputs": [
    {
     "data": {
      "text/plain": [
       "0          1\n",
       "1          3\n",
       "2          3\n",
       "3          3\n",
       "4          2\n",
       "       ...  \n",
       "295    13715\n",
       "296    29372\n",
       "297    23352\n",
       "298    28118\n",
       "299    24099\n",
       "Length: 300, dtype: int32"
      ]
     },
     "execution_count": 23,
     "metadata": {},
     "output_type": "execute_result"
    }
   ],
   "source": [
    "pd.concat([s1,s2,s3], axis=0, ignore_index=True) "
   ]
  },
  {
   "cell_type": "markdown",
   "id": "2d7013eb-895a-4798-b1ce-4234ffd8355c",
   "metadata": {},
   "source": [
    "注意这样合并，还是series，通过to_frame()"
   ]
  },
  {
   "cell_type": "code",
   "execution_count": null,
   "id": "18f01370-960e-4433-b440-04e356e9a105",
   "metadata": {},
   "outputs": [],
   "source": []
  },
  {
   "cell_type": "code",
   "execution_count": null,
   "id": "d497a53f-9ed6-4227-b5f9-6ceed13ad076",
   "metadata": {},
   "outputs": [],
   "source": []
  },
  {
   "cell_type": "code",
   "execution_count": 19,
   "id": "c02017c2-08a9-4d08-ab63-b52a8ff75899",
   "metadata": {},
   "outputs": [
    {
     "data": {
      "text/html": [
       "<div>\n",
       "<style scoped>\n",
       "    .dataframe tbody tr th:only-of-type {\n",
       "        vertical-align: middle;\n",
       "    }\n",
       "\n",
       "    .dataframe tbody tr th {\n",
       "        vertical-align: top;\n",
       "    }\n",
       "\n",
       "    .dataframe thead th {\n",
       "        text-align: right;\n",
       "    }\n",
       "</style>\n",
       "<table border=\"1\" class=\"dataframe\">\n",
       "  <thead>\n",
       "    <tr style=\"text-align: right;\">\n",
       "      <th></th>\n",
       "      <th>A</th>\n",
       "      <th>B</th>\n",
       "    </tr>\n",
       "  </thead>\n",
       "  <tbody>\n",
       "    <tr>\n",
       "      <th>0</th>\n",
       "      <td>A0</td>\n",
       "      <td>B0</td>\n",
       "    </tr>\n",
       "    <tr>\n",
       "      <th>1</th>\n",
       "      <td>A1</td>\n",
       "      <td>B1</td>\n",
       "    </tr>\n",
       "    <tr>\n",
       "      <th>0</th>\n",
       "      <td>A0</td>\n",
       "      <td>B0</td>\n",
       "    </tr>\n",
       "    <tr>\n",
       "      <th>3</th>\n",
       "      <td>A3</td>\n",
       "      <td>B3</td>\n",
       "    </tr>\n",
       "  </tbody>\n",
       "</table>\n",
       "</div>"
      ],
      "text/plain": [
       "    A   B\n",
       "0  A0  B0\n",
       "1  A1  B1\n",
       "0  A0  B0\n",
       "3  A3  B3"
      ]
     },
     "execution_count": 19,
     "metadata": {},
     "output_type": "execute_result"
    }
   ],
   "source": [
    "x = make_df('AB', [0, 1])\n",
    "y = make_df('AB', [0, 3])\n",
    "pd.concat([x ,y])\n"
   ]
  },
  {
   "cell_type": "code",
   "execution_count": null,
   "id": "76b12d35-0ae3-48e3-b5ee-b5eb5564732f",
   "metadata": {},
   "outputs": [],
   "source": [
    "try:\n",
    "    pd.concat([x,y], verify_integrity = True)\n",
    "except ValueError as e:\n",
    "    print(\"ValueError:\", e)"
   ]
  },
  {
   "cell_type": "code",
   "execution_count": null,
   "id": "8f8a0d84-537c-47b3-a993-23d858d61d52",
   "metadata": {},
   "outputs": [],
   "source": [
    "pd.concat([x,y], ignore_index=True) #默认行为忽略"
   ]
  },
  {
   "cell_type": "code",
   "execution_count": null,
   "id": "42759107-aa9d-46c6-b9b2-fcd077283583",
   "metadata": {},
   "outputs": [],
   "source": [
    "pd.concat([x, y], keys = ['x', 'y']) # 连接时候加上层级索引"
   ]
  },
  {
   "cell_type": "markdown",
   "id": "dec96db6-c2ee-4637-a536-97055956e8d0",
   "metadata": {},
   "source": [
    "#### 合并:数据缺失NaN\n",
    "- concat连接时候会出现NaN， 数据缺失。\n",
    "- 设置join属性，决定合并连接策略"
   ]
  },
  {
   "cell_type": "code",
   "execution_count": 27,
   "id": "8b6c31fb-4a3d-4fbb-8557-5d2cb4a5ef5d",
   "metadata": {},
   "outputs": [
    {
     "name": "stdout",
     "output_type": "stream",
     "text": [
      "    A   B   C\n",
      "1  A1  B1  C1\n",
      "2  A2  B2  C2\n",
      "    B   C   D\n",
      "3  B3  C3  D3\n",
      "4  B4  C4  D4\n"
     ]
    }
   ],
   "source": [
    "df5 = make_df('ABC', [1, 2])\n",
    "df6 = make_df('BCD', [3, 4])\n",
    "print(df5)\n",
    "print(df6)\n"
   ]
  },
  {
   "cell_type": "code",
   "execution_count": 28,
   "id": "3fa66df8-9d4a-463b-9c7f-6080a3df6624",
   "metadata": {},
   "outputs": [
    {
     "data": {
      "text/html": [
       "<div>\n",
       "<style scoped>\n",
       "    .dataframe tbody tr th:only-of-type {\n",
       "        vertical-align: middle;\n",
       "    }\n",
       "\n",
       "    .dataframe tbody tr th {\n",
       "        vertical-align: top;\n",
       "    }\n",
       "\n",
       "    .dataframe thead th {\n",
       "        text-align: right;\n",
       "    }\n",
       "</style>\n",
       "<table border=\"1\" class=\"dataframe\">\n",
       "  <thead>\n",
       "    <tr style=\"text-align: right;\">\n",
       "      <th></th>\n",
       "      <th>A</th>\n",
       "      <th>B</th>\n",
       "      <th>C</th>\n",
       "      <th>D</th>\n",
       "    </tr>\n",
       "  </thead>\n",
       "  <tbody>\n",
       "    <tr>\n",
       "      <th>1</th>\n",
       "      <td>A1</td>\n",
       "      <td>B1</td>\n",
       "      <td>C1</td>\n",
       "      <td>NaN</td>\n",
       "    </tr>\n",
       "    <tr>\n",
       "      <th>2</th>\n",
       "      <td>A2</td>\n",
       "      <td>B2</td>\n",
       "      <td>C2</td>\n",
       "      <td>NaN</td>\n",
       "    </tr>\n",
       "    <tr>\n",
       "      <th>3</th>\n",
       "      <td>NaN</td>\n",
       "      <td>B3</td>\n",
       "      <td>C3</td>\n",
       "      <td>D3</td>\n",
       "    </tr>\n",
       "    <tr>\n",
       "      <th>4</th>\n",
       "      <td>NaN</td>\n",
       "      <td>B4</td>\n",
       "      <td>C4</td>\n",
       "      <td>D4</td>\n",
       "    </tr>\n",
       "  </tbody>\n",
       "</table>\n",
       "</div>"
      ],
      "text/plain": [
       "     A   B   C    D\n",
       "1   A1  B1  C1  NaN\n",
       "2   A2  B2  C2  NaN\n",
       "3  NaN  B3  C3   D3\n",
       "4  NaN  B4  C4   D4"
      ]
     },
     "execution_count": 28,
     "metadata": {},
     "output_type": "execute_result"
    }
   ],
   "source": [
    "pd.concat([df5, df6])\n"
   ]
  },
  {
   "cell_type": "code",
   "execution_count": null,
   "id": "2041065e-30c7-4100-9f32-a99c6f7ce6b4",
   "metadata": {},
   "outputs": [],
   "source": [
    " pd.concat([df5, df6], join ='outer') # 默认行为并集"
   ]
  },
  {
   "cell_type": "code",
   "execution_count": null,
   "id": "c0c12605-4013-48d8-8cf4-7c8e59185a43",
   "metadata": {},
   "outputs": [],
   "source": [
    "pd.concat([df5, df6], join = 'inner') # 交集"
   ]
  },
  {
   "cell_type": "code",
   "execution_count": null,
   "id": "b9782de2-986e-4e48-bb0b-cf65ae749db9",
   "metadata": {},
   "outputs": [],
   "source": [
    "# pd.concat([df5, df6], join_axies = [df5.columns])"
   ]
  },
  {
   "cell_type": "markdown",
   "id": "e851a3e5-39a8-4425-9571-65394175602e",
   "metadata": {},
   "source": [
    "## 3.8　合并数据集df：merge\n",
    "- 类似数据库,实现不同数据源的连接：一对一、一对多、多对多\n",
    "- 源于关系代数，通过一些基本操作来实现复杂操作\n",
    "- pd.merge和 Serier、DataFrame的join\n",
    "\n",
    "**contact vs merge**\n",
    "- contact只是按照行列进行拼接， 重复索引和值缺失\n",
    "- merge是基于列进行连接匹配,  \n",
    "merge更加高级，比如内外也可做出contact效果\n"
   ]
  },
  {
   "cell_type": "markdown",
   "id": "fb54f994-b140-4ec6-8260-1b014282f9bd",
   "metadata": {},
   "source": []
  },
  {
   "cell_type": "markdown",
   "id": "51f4f53e-fca0-4064-887d-d3e6d1ee09d3",
   "metadata": {},
   "source": [
    "### 3.8.2　数据连接的类型"
   ]
  },
  {
   "cell_type": "markdown",
   "id": "2ff17c67-823e-4fb3-b008-e00a49e99706",
   "metadata": {},
   "source": [
    "1. 一对一连接"
   ]
  },
  {
   "cell_type": "code",
   "execution_count": 24,
   "id": "bf365a9f-f173-48bd-9052-686a96d5c4c7",
   "metadata": {},
   "outputs": [
    {
     "name": "stdout",
     "output_type": "stream",
     "text": [
      "  employee        group\n",
      "0      Bob   Accounting\n",
      "1     Jake  Engineering\n",
      "2     Lisa  Engineering\n",
      "3      Sue           HR\n",
      "  employee  hire_date\n",
      "0     Lisa       2004\n",
      "1      Bob       2008\n",
      "2     Jake       2012\n",
      "3      Sue       2014\n"
     ]
    }
   ],
   "source": [
    "df1 = pd.DataFrame({'employee': ['Bob', 'Jake', 'Lisa', 'Sue'],\n",
    "    'group': ['Accounting', 'Engineering', 'Engineering', 'HR']})\n",
    "df2 = pd.DataFrame({'employee': ['Lisa', 'Bob', 'Jake', 'Sue'],\n",
    "    'hire_date': [2004, 2008, 2012, 2014]})\n",
    "print(df1); print(df2)"
   ]
  },
  {
   "cell_type": "code",
   "execution_count": null,
   "id": "bde87a28-f077-4812-9b10-481d154c84b5",
   "metadata": {},
   "outputs": [],
   "source": [
    "df3 = pd.merge(df1, df2)\n",
    "df3"
   ]
  },
  {
   "cell_type": "markdown",
   "id": "4a5c724e-723c-430d-84cf-9b9a86c337cc",
   "metadata": {},
   "source": [
    "两个df有一个共同列，merge就会自动根据这个列进行合并！且行数据不冲突！"
   ]
  },
  {
   "cell_type": "markdown",
   "id": "4230e05a-b561-4bde-bded-dde7f21a515c",
   "metadata": {},
   "source": [
    "2. 多对一连接\n",
    "- 合并两个列时候，有一个列有重复值。\n",
    "- merge会保留重复值。并填充缺失"
   ]
  },
  {
   "cell_type": "code",
   "execution_count": null,
   "id": "fd7a9200-825f-4c25-9df2-36eaa64b5795",
   "metadata": {},
   "outputs": [],
   "source": [
    "df4 = pd.DataFrame({'group': ['Accounting', 'Engineering', 'HR'],\n",
    "    'supervisor': ['Carly', 'Guido', 'Steve']})\n",
    "print(df3);print(df4)"
   ]
  },
  {
   "cell_type": "code",
   "execution_count": null,
   "id": "3d4ecaab-147b-4ff5-b1c1-16bc483ef8d3",
   "metadata": {},
   "outputs": [],
   "source": [
    "pd.merge(df3, df4)"
   ]
  },
  {
   "cell_type": "markdown",
   "id": "2057921f-c6c0-4920-a16e-e7aa7a7d1b3c",
   "metadata": {},
   "source": [
    "（2，supervisor） 是缺失的，自动填充了！"
   ]
  },
  {
   "cell_type": "markdown",
   "id": "217bd8d8-4ba2-4e53-a8cd-30d7b897e1bd",
   "metadata": {},
   "source": [
    "3. 多对多连接\n",
    "- 顾名思义：合并的两个列内部都有重复值"
   ]
  },
  {
   "cell_type": "code",
   "execution_count": null,
   "id": "04c06a2e-1251-4e9a-a95b-71d09a639670",
   "metadata": {},
   "outputs": [],
   "source": [
    "df5 = pd.DataFrame({'group': ['Accounting', 'Accounting',\n",
    "    'Engineering', 'Engineering', 'HR', 'HR'],\n",
    "    'skills': ['math', 'spreadsheets', 'coding', 'linux',\n",
    "    'spreadsheets', 'organization']})\n",
    "print(df1, '\\n', df5)"
   ]
  },
  {
   "cell_type": "markdown",
   "id": "ae83842d-acc5-4c82-8d56-81782cc4d4f6",
   "metadata": {},
   "source": [
    "场景：显示人员的一种或者多种能力"
   ]
  },
  {
   "cell_type": "code",
   "execution_count": null,
   "id": "2e4a7e82-2f68-4bd0-b789-e3f353e2b472",
   "metadata": {},
   "outputs": [],
   "source": [
    "pd.merge(df1, df5)"
   ]
  },
  {
   "cell_type": "markdown",
   "id": "1f11c680-6185-4976-a806-d49d2621f509",
   "metadata": {},
   "source": [
    "### 3.8.3　设置数据合并的键\n",
    "- 很多情况下，目的合并的列是不同名的。merge不会自动合并。需要设置哪两个列合并"
   ]
  },
  {
   "cell_type": "markdown",
   "id": "4aad5e0f-5232-4a1e-9145-efee7b753f6c",
   "metadata": {},
   "source": [
    "**1. 参数on**\n",
    "\n",
    "用在列名相同（merge默认行为）"
   ]
  },
  {
   "cell_type": "code",
   "execution_count": null,
   "id": "7553e41e-7608-4188-82b1-c739ec4b2fca",
   "metadata": {},
   "outputs": [],
   "source": [
    "print(df1, '\\n', df2)"
   ]
  },
  {
   "cell_type": "code",
   "execution_count": null,
   "id": "dfce5b34-ffc9-4376-9d3c-df5fc39c5d59",
   "metadata": {},
   "outputs": [],
   "source": [
    "pd.merge(df1, df2, on = 'employee')"
   ]
  },
  {
   "cell_type": "markdown",
   "id": "39622114-ceb2-4755-90a8-ee1bdfabcce2",
   "metadata": {},
   "source": [
    "**2. left_on与right_on参数**\n",
    "- !! 结果中并没有直接去掉列，需要drop方法手动去掉"
   ]
  },
  {
   "cell_type": "code",
   "execution_count": 34,
   "id": "19d31ef6-6463-46be-a204-f8d42ff076ae",
   "metadata": {},
   "outputs": [
    {
     "name": "stdout",
     "output_type": "stream",
     "text": [
      "  employee        group\n",
      "0      Bob   Accounting\n",
      "1     Jake  Engineering\n",
      "2     Lisa  Engineering\n",
      "3      Sue           HR \n",
      "    name  salary\n",
      "0   Bob   70000\n",
      "1  Jake   80000\n",
      "2  Lisa  120000\n",
      "3   Sue   90000\n"
     ]
    }
   ],
   "source": [
    "df3 = pd.DataFrame({'name': ['Bob', 'Jake', 'Lisa', 'Sue'],\n",
    "    'salary': [70000, 80000, 120000, 90000]})\n",
    "print(df1, '\\n', df3)"
   ]
  },
  {
   "cell_type": "code",
   "execution_count": 35,
   "id": "848a0984-ab9c-4272-b5ca-9598ea098785",
   "metadata": {},
   "outputs": [
    {
     "data": {
      "text/html": [
       "<div>\n",
       "<style scoped>\n",
       "    .dataframe tbody tr th:only-of-type {\n",
       "        vertical-align: middle;\n",
       "    }\n",
       "\n",
       "    .dataframe tbody tr th {\n",
       "        vertical-align: top;\n",
       "    }\n",
       "\n",
       "    .dataframe thead th {\n",
       "        text-align: right;\n",
       "    }\n",
       "</style>\n",
       "<table border=\"1\" class=\"dataframe\">\n",
       "  <thead>\n",
       "    <tr style=\"text-align: right;\">\n",
       "      <th></th>\n",
       "      <th>employee</th>\n",
       "      <th>group</th>\n",
       "      <th>name</th>\n",
       "      <th>salary</th>\n",
       "    </tr>\n",
       "  </thead>\n",
       "  <tbody>\n",
       "    <tr>\n",
       "      <th>0</th>\n",
       "      <td>Bob</td>\n",
       "      <td>Accounting</td>\n",
       "      <td>Bob</td>\n",
       "      <td>70000</td>\n",
       "    </tr>\n",
       "    <tr>\n",
       "      <th>1</th>\n",
       "      <td>Jake</td>\n",
       "      <td>Engineering</td>\n",
       "      <td>Jake</td>\n",
       "      <td>80000</td>\n",
       "    </tr>\n",
       "    <tr>\n",
       "      <th>2</th>\n",
       "      <td>Lisa</td>\n",
       "      <td>Engineering</td>\n",
       "      <td>Lisa</td>\n",
       "      <td>120000</td>\n",
       "    </tr>\n",
       "    <tr>\n",
       "      <th>3</th>\n",
       "      <td>Sue</td>\n",
       "      <td>HR</td>\n",
       "      <td>Sue</td>\n",
       "      <td>90000</td>\n",
       "    </tr>\n",
       "  </tbody>\n",
       "</table>\n",
       "</div>"
      ],
      "text/plain": [
       "  employee        group  name  salary\n",
       "0      Bob   Accounting   Bob   70000\n",
       "1     Jake  Engineering  Jake   80000\n",
       "2     Lisa  Engineering  Lisa  120000\n",
       "3      Sue           HR   Sue   90000"
      ]
     },
     "execution_count": 35,
     "metadata": {},
     "output_type": "execute_result"
    }
   ],
   "source": [
    "pd.merge(df1, df3, left_on = 'employee', right_on = 'name')"
   ]
  },
  {
   "cell_type": "code",
   "execution_count": 36,
   "id": "e07635a7-ec2b-42e6-b97b-8c4f68049a5e",
   "metadata": {},
   "outputs": [
    {
     "data": {
      "text/html": [
       "<div>\n",
       "<style scoped>\n",
       "    .dataframe tbody tr th:only-of-type {\n",
       "        vertical-align: middle;\n",
       "    }\n",
       "\n",
       "    .dataframe tbody tr th {\n",
       "        vertical-align: top;\n",
       "    }\n",
       "\n",
       "    .dataframe thead th {\n",
       "        text-align: right;\n",
       "    }\n",
       "</style>\n",
       "<table border=\"1\" class=\"dataframe\">\n",
       "  <thead>\n",
       "    <tr style=\"text-align: right;\">\n",
       "      <th></th>\n",
       "      <th>employee</th>\n",
       "      <th>group</th>\n",
       "      <th>salary</th>\n",
       "    </tr>\n",
       "  </thead>\n",
       "  <tbody>\n",
       "    <tr>\n",
       "      <th>0</th>\n",
       "      <td>Bob</td>\n",
       "      <td>Accounting</td>\n",
       "      <td>70000</td>\n",
       "    </tr>\n",
       "    <tr>\n",
       "      <th>1</th>\n",
       "      <td>Jake</td>\n",
       "      <td>Engineering</td>\n",
       "      <td>80000</td>\n",
       "    </tr>\n",
       "    <tr>\n",
       "      <th>2</th>\n",
       "      <td>Lisa</td>\n",
       "      <td>Engineering</td>\n",
       "      <td>120000</td>\n",
       "    </tr>\n",
       "    <tr>\n",
       "      <th>3</th>\n",
       "      <td>Sue</td>\n",
       "      <td>HR</td>\n",
       "      <td>90000</td>\n",
       "    </tr>\n",
       "  </tbody>\n",
       "</table>\n",
       "</div>"
      ],
      "text/plain": [
       "  employee        group  salary\n",
       "0      Bob   Accounting   70000\n",
       "1     Jake  Engineering   80000\n",
       "2     Lisa  Engineering  120000\n",
       "3      Sue           HR   90000"
      ]
     },
     "execution_count": 36,
     "metadata": {},
     "output_type": "execute_result"
    }
   ],
   "source": [
    "pd.merge(df1, df3, left_on = 'employee', right_on = 'name').drop('name', axis = 1)"
   ]
  },
  {
   "cell_type": "markdown",
   "id": "60b69822-2b7e-4642-97fe-783166f8d62f",
   "metadata": {},
   "source": [
    "丢弃一列额外方式：直接取出来赋值"
   ]
  },
  {
   "cell_type": "code",
   "execution_count": null,
   "id": "7a6c3e3a-e3a6-40b8-95af-9b9b50fee321",
   "metadata": {},
   "outputs": [],
   "source": [
    "#price_table= price_table[['item_name','item_price']]"
   ]
  },
  {
   "cell_type": "markdown",
   "id": "27fadc39-3c69-483a-bb9c-92d358041c0b",
   "metadata": {},
   "source": [
    "3. left_index与right_index参数\n",
    "- 之前都是合并列。 这里合并索引\n",
    "- 索引和列同时合并，需要设置_index 和 _on"
   ]
  },
  {
   "cell_type": "code",
   "execution_count": null,
   "id": "26767fbe-f941-4fba-8587-ba13c7941016",
   "metadata": {},
   "outputs": [],
   "source": [
    "print(df1, '\\n', df2)"
   ]
  },
  {
   "cell_type": "code",
   "execution_count": null,
   "id": "3720ab2b-e77d-4c69-b560-cc3f64edddc7",
   "metadata": {},
   "outputs": [],
   "source": [
    "df1a = df1.set_index('employee') # 将employee列设置为索引\n",
    "df2a = df2.set_index('employee')\n",
    "print(df1a, '\\n', df2a)"
   ]
  },
  {
   "cell_type": "code",
   "execution_count": null,
   "id": "7ed62050-ccfc-4029-86a4-d7fda2559de1",
   "metadata": {},
   "outputs": [],
   "source": [
    "pd.merge(df1a, df2a, left_index = True, right_index = True)"
   ]
  },
  {
   "cell_type": "code",
   "execution_count": null,
   "id": "d8acd638-f440-4bc3-856b-9912e6cd9ebb",
   "metadata": {},
   "outputs": [],
   "source": [
    "print(df1a, '\\n', df3)"
   ]
  },
  {
   "cell_type": "code",
   "execution_count": null,
   "id": "6bc855d8-1944-4c49-8293-d4cdf6072d62",
   "metadata": {},
   "outputs": [],
   "source": [
    "pd.merge(df1a, df3, left_index = True, right_on = 'name') # 保留df1a索引, df3合并保留name列"
   ]
  },
  {
   "cell_type": "markdown",
   "id": "29b9ad33-4972-4bc5-b7d5-d3e581d9b6af",
   "metadata": {},
   "source": [
    "### 3.8.4　设置数据连接的集合操作规则\n",
    "- 合并两个列时候， 如果一个值出现没有在另外一个列。即需要内连接 外连接规则"
   ]
  },
  {
   "cell_type": "code",
   "execution_count": null,
   "id": "b7e97b61-86d5-4d88-a974-8c17292205f4",
   "metadata": {},
   "outputs": [],
   "source": [
    "df6 = pd.DataFrame({'name': ['Peter', 'Paul', 'Mary'],\n",
    "    'food': ['fish', 'beans', 'bread']},\n",
    "    columns=['name', 'food'])\n",
    "df7 = pd.DataFrame({'name': ['Mary', 'Joseph'],\n",
    "    'drink': ['wine', 'beer']},\n",
    "    columns=['name', 'drink'])\n",
    "print(df6); print(df7);"
   ]
  },
  {
   "cell_type": "code",
   "execution_count": null,
   "id": "441f46c4-ab25-41f5-953f-74aacf6eff19",
   "metadata": {},
   "outputs": [],
   "source": [
    "pd.merge(df6, df7) # 默认内连接,即等值连接"
   ]
  },
  {
   "cell_type": "code",
   "execution_count": null,
   "id": "3aa81392-cc9f-40ac-81b5-e47bbd794b76",
   "metadata": {},
   "outputs": [],
   "source": [
    "pd.merge(df6, df7, how = 'outer') # 外连接全连接"
   ]
  },
  {
   "cell_type": "code",
   "execution_count": null,
   "id": "833bcd91-830b-412e-b5cf-d5ccd5161bae",
   "metadata": {},
   "outputs": [],
   "source": [
    "pd.merge(df6, df7, how = 'left')"
   ]
  },
  {
   "cell_type": "markdown",
   "id": "b1aafa00-42ee-43bf-9c41-edb17d939e82",
   "metadata": {},
   "source": [
    "### 3.8.5　重复列名：suffixes参数\n",
    "- 列名重复，且不是目的合并列。 需要重命名或者添加后缀"
   ]
  },
  {
   "cell_type": "code",
   "execution_count": null,
   "id": "76d3ba19-4d7d-4a02-b386-0dce1bbd8ac6",
   "metadata": {},
   "outputs": [],
   "source": [
    "df8 = pd.DataFrame({'name': ['Bob', 'Jake', 'Lisa', 'Sue'],\n",
    "    'rank': [1, 2, 3, 4]})\n",
    "df9 = pd.DataFrame({'name': ['Bob', 'Jake', 'Lisa', 'Sue'],\n",
    "    'rank': [3, 1, 4, 2]})\n",
    "print(df8, '\\n', df9)"
   ]
  },
  {
   "cell_type": "code",
   "execution_count": null,
   "id": "db35390c-03ae-4053-be4d-03600a583a30",
   "metadata": {},
   "outputs": [],
   "source": [
    "pd.merge(df8, df9, on = 'name') # 指定了name列是目标合并列，merge会为其他重复列自动后缀"
   ]
  },
  {
   "cell_type": "code",
   "execution_count": null,
   "id": "e83c2859-d840-49c5-9805-76bcb31fb9d9",
   "metadata": {},
   "outputs": [],
   "source": [
    "pd.merge(df8, df9, on = 'name', suffixes = [\"_L\", \"_R\"])  "
   ]
  },
  {
   "cell_type": "markdown",
   "id": "c002adcb-a1a2-44c7-beaa-4ee5ae8f4066",
   "metadata": {},
   "source": [
    "### 3.8.6　案例：美国各州的统计数据\n",
    "\n",
    "任务：计算各州人口密度排名\n",
    "1. 合并pop与缩写表，显示全称\n",
    "2. 将面积表合并"
   ]
  },
  {
   "cell_type": "code",
   "execution_count": null,
   "id": "e957860a-0a33-4459-8908-5e5d258747bd",
   "metadata": {},
   "outputs": [],
   "source": [
    "pop = pd.read_csv('state-population.csv')\n",
    "areas = pd.read_csv('state-areas.csv')\n",
    "abbrevs = pd.read_csv('state-abbrevs.csv')\n",
    "print(pop.head(), '\\n', areas.head(), '\\n', abbrevs.head())"
   ]
  },
  {
   "cell_type": "code",
   "execution_count": null,
   "id": "d03fdd65-bf78-464e-a182-bb4921c927b9",
   "metadata": {},
   "outputs": [],
   "source": [
    "data = pd.merge(pop, abbrevs, left_on = 'state/region', right_on = 'abbreviation').drop('abbreviation', axis = 1)\n",
    "data"
   ]
  },
  {
   "cell_type": "code",
   "execution_count": null,
   "id": "b279cb83-5f51-42f8-b508-6e1b61b7f564",
   "metadata": {},
   "outputs": [],
   "source": [
    "data.isnull().any() # 检查字段是否有缺失"
   ]
  },
  {
   "cell_type": "code",
   "execution_count": null,
   "id": "dce29b2c-134e-4a2a-bd55-83b3f5deb50e",
   "metadata": {},
   "outputs": [],
   "source": [
    "data = pd.merge(data, areas, how = 'left')"
   ]
  },
  {
   "cell_type": "code",
   "execution_count": null,
   "id": "03dc52c6-dd27-46e1-b588-75925ca144b7",
   "metadata": {},
   "outputs": [],
   "source": [
    "data.isnull().any()"
   ]
  },
  {
   "cell_type": "code",
   "execution_count": null,
   "id": "f0a11758-af93-473f-8ae9-884c71473fe1",
   "metadata": {},
   "outputs": [],
   "source": [
    "data"
   ]
  },
  {
   "cell_type": "code",
   "execution_count": null,
   "id": "64e1b3b5-a962-4305-ae00-abcdfeaca540",
   "metadata": {},
   "outputs": [],
   "source": [
    "data2010 = data.query(\"year == 2010 & ages == 'total'\")"
   ]
  },
  {
   "cell_type": "code",
   "execution_count": null,
   "id": "55665c17-c5aa-49cb-97ae-e41444ae4e37",
   "metadata": {},
   "outputs": [],
   "source": [
    "data2010.set_index('state', inplace=True) # inplace表示原地修改\n",
    "data2010"
   ]
  },
  {
   "cell_type": "code",
   "execution_count": null,
   "id": "12e87a87-1554-41c8-9ea4-3b6c3546f5bf",
   "metadata": {},
   "outputs": [],
   "source": [
    "density = data2010['population'] / data2010['area (sq. mi)']\n",
    "density"
   ]
  },
  {
   "cell_type": "markdown",
   "id": "9aba2518-0f09-4254-ad23-0505a39429f1",
   "metadata": {},
   "source": [
    "**排序**  \n",
    ".sort_values(by='quantity', ascending=False)"
   ]
  },
  {
   "cell_type": "code",
   "execution_count": null,
   "id": "a6a15544-7b6f-46fe-9609-f462aca0f1be",
   "metadata": {},
   "outputs": [],
   "source": [
    "density.sort_values(ascending = False, inplace = True)"
   ]
  },
  {
   "cell_type": "code",
   "execution_count": null,
   "id": "515fabe7-e92f-4dbb-99e3-d1c6654795d2",
   "metadata": {},
   "outputs": [],
   "source": [
    "density.head()"
   ]
  },
  {
   "cell_type": "code",
   "execution_count": null,
   "id": "1b122ca7-5eea-4543-90ee-358874ba51a3",
   "metadata": {},
   "outputs": [],
   "source": [
    "density.tail()"
   ]
  },
  {
   "cell_type": "markdown",
   "id": "7490fd11-0eed-4d43-9a07-159686b92f2c",
   "metadata": {},
   "source": [
    "## 3.9　累计与分组\n",
    "- 统计\n",
    "- 分组groupby"
   ]
  },
  {
   "cell_type": "markdown",
   "id": "5b70ddbe-609e-4807-a186-e4e192447937",
   "metadata": {},
   "source": [
    "### 3.9.1　行星数据为例\n",
    "- 内容为2014年以来发现的外行星绕太阳系运动观测数据\n",
    "- describe方法快速描述整体统计. series、df、groupby都可以使用\n",
    "- grouby局部分析\n",
    "- GroupBy对象\n",
    "- series直接操作：value_counts()"
   ]
  },
  {
   "cell_type": "code",
   "execution_count": 22,
   "id": "c311a1ca-37bf-45b0-bfe3-853f060521ad",
   "metadata": {},
   "outputs": [
    {
     "data": {
      "text/html": [
       "<div>\n",
       "<style scoped>\n",
       "    .dataframe tbody tr th:only-of-type {\n",
       "        vertical-align: middle;\n",
       "    }\n",
       "\n",
       "    .dataframe tbody tr th {\n",
       "        vertical-align: top;\n",
       "    }\n",
       "\n",
       "    .dataframe thead th {\n",
       "        text-align: right;\n",
       "    }\n",
       "</style>\n",
       "<table border=\"1\" class=\"dataframe\">\n",
       "  <thead>\n",
       "    <tr style=\"text-align: right;\">\n",
       "      <th></th>\n",
       "      <th>method</th>\n",
       "      <th>number</th>\n",
       "      <th>orbital_period</th>\n",
       "      <th>mass</th>\n",
       "      <th>distance</th>\n",
       "      <th>year</th>\n",
       "    </tr>\n",
       "  </thead>\n",
       "  <tbody>\n",
       "    <tr>\n",
       "      <th>0</th>\n",
       "      <td>Radial Velocity</td>\n",
       "      <td>1</td>\n",
       "      <td>269.300000</td>\n",
       "      <td>7.10</td>\n",
       "      <td>77.40</td>\n",
       "      <td>2006</td>\n",
       "    </tr>\n",
       "    <tr>\n",
       "      <th>1</th>\n",
       "      <td>Radial Velocity</td>\n",
       "      <td>1</td>\n",
       "      <td>874.774000</td>\n",
       "      <td>2.21</td>\n",
       "      <td>56.95</td>\n",
       "      <td>2008</td>\n",
       "    </tr>\n",
       "    <tr>\n",
       "      <th>2</th>\n",
       "      <td>Radial Velocity</td>\n",
       "      <td>1</td>\n",
       "      <td>763.000000</td>\n",
       "      <td>2.60</td>\n",
       "      <td>19.84</td>\n",
       "      <td>2011</td>\n",
       "    </tr>\n",
       "    <tr>\n",
       "      <th>3</th>\n",
       "      <td>Radial Velocity</td>\n",
       "      <td>1</td>\n",
       "      <td>326.030000</td>\n",
       "      <td>19.40</td>\n",
       "      <td>110.62</td>\n",
       "      <td>2007</td>\n",
       "    </tr>\n",
       "    <tr>\n",
       "      <th>4</th>\n",
       "      <td>Radial Velocity</td>\n",
       "      <td>1</td>\n",
       "      <td>516.220000</td>\n",
       "      <td>10.50</td>\n",
       "      <td>119.47</td>\n",
       "      <td>2009</td>\n",
       "    </tr>\n",
       "    <tr>\n",
       "      <th>...</th>\n",
       "      <td>...</td>\n",
       "      <td>...</td>\n",
       "      <td>...</td>\n",
       "      <td>...</td>\n",
       "      <td>...</td>\n",
       "      <td>...</td>\n",
       "    </tr>\n",
       "    <tr>\n",
       "      <th>1030</th>\n",
       "      <td>Transit</td>\n",
       "      <td>1</td>\n",
       "      <td>3.941507</td>\n",
       "      <td>NaN</td>\n",
       "      <td>172.00</td>\n",
       "      <td>2006</td>\n",
       "    </tr>\n",
       "    <tr>\n",
       "      <th>1031</th>\n",
       "      <td>Transit</td>\n",
       "      <td>1</td>\n",
       "      <td>2.615864</td>\n",
       "      <td>NaN</td>\n",
       "      <td>148.00</td>\n",
       "      <td>2007</td>\n",
       "    </tr>\n",
       "    <tr>\n",
       "      <th>1032</th>\n",
       "      <td>Transit</td>\n",
       "      <td>1</td>\n",
       "      <td>3.191524</td>\n",
       "      <td>NaN</td>\n",
       "      <td>174.00</td>\n",
       "      <td>2007</td>\n",
       "    </tr>\n",
       "    <tr>\n",
       "      <th>1033</th>\n",
       "      <td>Transit</td>\n",
       "      <td>1</td>\n",
       "      <td>4.125083</td>\n",
       "      <td>NaN</td>\n",
       "      <td>293.00</td>\n",
       "      <td>2008</td>\n",
       "    </tr>\n",
       "    <tr>\n",
       "      <th>1034</th>\n",
       "      <td>Transit</td>\n",
       "      <td>1</td>\n",
       "      <td>4.187757</td>\n",
       "      <td>NaN</td>\n",
       "      <td>260.00</td>\n",
       "      <td>2008</td>\n",
       "    </tr>\n",
       "  </tbody>\n",
       "</table>\n",
       "<p>1035 rows × 6 columns</p>\n",
       "</div>"
      ],
      "text/plain": [
       "               method  number  orbital_period   mass  distance  year\n",
       "0     Radial Velocity       1      269.300000   7.10     77.40  2006\n",
       "1     Radial Velocity       1      874.774000   2.21     56.95  2008\n",
       "2     Radial Velocity       1      763.000000   2.60     19.84  2011\n",
       "3     Radial Velocity       1      326.030000  19.40    110.62  2007\n",
       "4     Radial Velocity       1      516.220000  10.50    119.47  2009\n",
       "...               ...     ...             ...    ...       ...   ...\n",
       "1030          Transit       1        3.941507    NaN    172.00  2006\n",
       "1031          Transit       1        2.615864    NaN    148.00  2007\n",
       "1032          Transit       1        3.191524    NaN    174.00  2007\n",
       "1033          Transit       1        4.125083    NaN    293.00  2008\n",
       "1034          Transit       1        4.187757    NaN    260.00  2008\n",
       "\n",
       "[1035 rows x 6 columns]"
      ]
     },
     "execution_count": 22,
     "metadata": {},
     "output_type": "execute_result"
    }
   ],
   "source": [
    "import seaborn as sns\n",
    "planets = sns.load_dataset('planets') #\n",
    "planets"
   ]
  },
  {
   "cell_type": "code",
   "execution_count": 23,
   "id": "531dab24-025d-464e-95e6-7aab8bafb7a6",
   "metadata": {},
   "outputs": [
    {
     "name": "stdout",
     "output_type": "stream",
     "text": [
      "<class 'pandas.core.frame.DataFrame'>\n",
      "RangeIndex: 1035 entries, 0 to 1034\n",
      "Data columns (total 6 columns):\n",
      " #   Column          Non-Null Count  Dtype  \n",
      "---  ------          --------------  -----  \n",
      " 0   method          1035 non-null   object \n",
      " 1   number          1035 non-null   int64  \n",
      " 2   orbital_period  992 non-null    float64\n",
      " 3   mass            513 non-null    float64\n",
      " 4   distance        808 non-null    float64\n",
      " 5   year            1035 non-null   int64  \n",
      "dtypes: float64(3), int64(2), object(1)\n",
      "memory usage: 48.6+ KB\n",
      "None\n"
     ]
    }
   ],
   "source": [
    "print(planets.info())   # 查看数据基本信息"
   ]
  },
  {
   "cell_type": "code",
   "execution_count": 24,
   "id": "514a4222-cc90-44e3-bcd0-f313de739da6",
   "metadata": {},
   "outputs": [
    {
     "name": "stdout",
     "output_type": "stream",
     "text": [
      "            number  orbital_period        mass     distance         year\n",
      "count  1035.000000      992.000000  513.000000   808.000000  1035.000000\n",
      "mean      1.785507     2002.917596    2.638161   264.069282  2009.070531\n",
      "std       1.240976    26014.728304    3.818617   733.116493     3.972567\n",
      "min       1.000000        0.090706    0.003600     1.350000  1989.000000\n",
      "25%       1.000000        5.442540    0.229000    32.560000  2007.000000\n",
      "50%       1.000000       39.979500    1.260000    55.250000  2010.000000\n",
      "75%       2.000000      526.005000    3.040000   178.500000  2012.000000\n",
      "max       7.000000   730000.000000   25.000000  8500.000000  2014.000000\n"
     ]
    }
   ],
   "source": [
    "print(planets.describe())  # 统计摘要"
   ]
  },
  {
   "cell_type": "code",
   "execution_count": 25,
   "id": "ecdfa738-a966-4fe8-bdba-202279020dc6",
   "metadata": {},
   "outputs": [
    {
     "name": "stdout",
     "output_type": "stream",
     "text": [
      "method              0\n",
      "number              0\n",
      "orbital_period     43\n",
      "mass              522\n",
      "distance          227\n",
      "year                0\n",
      "dtype: int64\n"
     ]
    }
   ],
   "source": [
    "print(planets.isnull().sum())  # 查看缺失值"
   ]
  },
  {
   "cell_type": "code",
   "execution_count": 26,
   "id": "afa8d530-8037-4eb0-b99b-151edf24ba20",
   "metadata": {},
   "outputs": [
    {
     "data": {
      "text/html": [
       "<div>\n",
       "<style scoped>\n",
       "    .dataframe tbody tr th:only-of-type {\n",
       "        vertical-align: middle;\n",
       "    }\n",
       "\n",
       "    .dataframe tbody tr th {\n",
       "        vertical-align: top;\n",
       "    }\n",
       "\n",
       "    .dataframe thead th {\n",
       "        text-align: right;\n",
       "    }\n",
       "</style>\n",
       "<table border=\"1\" class=\"dataframe\">\n",
       "  <thead>\n",
       "    <tr style=\"text-align: right;\">\n",
       "      <th></th>\n",
       "      <th>number</th>\n",
       "      <th>orbital_period</th>\n",
       "      <th>mass</th>\n",
       "      <th>distance</th>\n",
       "      <th>year</th>\n",
       "    </tr>\n",
       "  </thead>\n",
       "  <tbody>\n",
       "    <tr>\n",
       "      <th>count</th>\n",
       "      <td>498.00000</td>\n",
       "      <td>498.000000</td>\n",
       "      <td>498.000000</td>\n",
       "      <td>498.000000</td>\n",
       "      <td>498.000000</td>\n",
       "    </tr>\n",
       "    <tr>\n",
       "      <th>mean</th>\n",
       "      <td>1.73494</td>\n",
       "      <td>835.778671</td>\n",
       "      <td>2.509320</td>\n",
       "      <td>52.068213</td>\n",
       "      <td>2007.377510</td>\n",
       "    </tr>\n",
       "    <tr>\n",
       "      <th>std</th>\n",
       "      <td>1.17572</td>\n",
       "      <td>1469.128259</td>\n",
       "      <td>3.636274</td>\n",
       "      <td>46.596041</td>\n",
       "      <td>4.167284</td>\n",
       "    </tr>\n",
       "    <tr>\n",
       "      <th>min</th>\n",
       "      <td>1.00000</td>\n",
       "      <td>1.328300</td>\n",
       "      <td>0.003600</td>\n",
       "      <td>1.350000</td>\n",
       "      <td>1989.000000</td>\n",
       "    </tr>\n",
       "    <tr>\n",
       "      <th>25%</th>\n",
       "      <td>1.00000</td>\n",
       "      <td>38.272250</td>\n",
       "      <td>0.212500</td>\n",
       "      <td>24.497500</td>\n",
       "      <td>2005.000000</td>\n",
       "    </tr>\n",
       "    <tr>\n",
       "      <th>50%</th>\n",
       "      <td>1.00000</td>\n",
       "      <td>357.000000</td>\n",
       "      <td>1.245000</td>\n",
       "      <td>39.940000</td>\n",
       "      <td>2009.000000</td>\n",
       "    </tr>\n",
       "    <tr>\n",
       "      <th>75%</th>\n",
       "      <td>2.00000</td>\n",
       "      <td>999.600000</td>\n",
       "      <td>2.867500</td>\n",
       "      <td>59.332500</td>\n",
       "      <td>2011.000000</td>\n",
       "    </tr>\n",
       "    <tr>\n",
       "      <th>max</th>\n",
       "      <td>6.00000</td>\n",
       "      <td>17337.500000</td>\n",
       "      <td>25.000000</td>\n",
       "      <td>354.000000</td>\n",
       "      <td>2014.000000</td>\n",
       "    </tr>\n",
       "  </tbody>\n",
       "</table>\n",
       "</div>"
      ],
      "text/plain": [
       "          number  orbital_period        mass    distance         year\n",
       "count  498.00000      498.000000  498.000000  498.000000   498.000000\n",
       "mean     1.73494      835.778671    2.509320   52.068213  2007.377510\n",
       "std      1.17572     1469.128259    3.636274   46.596041     4.167284\n",
       "min      1.00000        1.328300    0.003600    1.350000  1989.000000\n",
       "25%      1.00000       38.272250    0.212500   24.497500  2005.000000\n",
       "50%      1.00000      357.000000    1.245000   39.940000  2009.000000\n",
       "75%      2.00000      999.600000    2.867500   59.332500  2011.000000\n",
       "max      6.00000    17337.500000   25.000000  354.000000  2014.000000"
      ]
     },
     "execution_count": 26,
     "metadata": {},
     "output_type": "execute_result"
    }
   ],
   "source": [
    "planets.dropna().describe()"
   ]
  },
  {
   "attachments": {
    "10f9ee33-54bc-4ccd-b693-976f24bc1748.png": {
     "image/png": "[encoded data removed]"
    }
   },
   "cell_type": "markdown",
   "id": "7b9f4819-7a3c-4cbc-8ca5-583d0c6ef131",
   "metadata": {},
   "source": [
    "**groupby常分为分布：分割、应用累计、组合**\n",
    "![image.png](attachment:10f9ee33-54bc-4ccd-b693-976f24bc1748.png)"
   ]
  },
  {
   "cell_type": "code",
   "execution_count": 27,
   "id": "45427875-870a-443a-9aeb-1142fb579ad6",
   "metadata": {},
   "outputs": [
    {
     "data": {
      "text/html": [
       "<div>\n",
       "<style scoped>\n",
       "    .dataframe tbody tr th:only-of-type {\n",
       "        vertical-align: middle;\n",
       "    }\n",
       "\n",
       "    .dataframe tbody tr th {\n",
       "        vertical-align: top;\n",
       "    }\n",
       "\n",
       "    .dataframe thead th {\n",
       "        text-align: right;\n",
       "    }\n",
       "</style>\n",
       "<table border=\"1\" class=\"dataframe\">\n",
       "  <thead>\n",
       "    <tr style=\"text-align: right;\">\n",
       "      <th></th>\n",
       "      <th>key</th>\n",
       "      <th>data</th>\n",
       "    </tr>\n",
       "  </thead>\n",
       "  <tbody>\n",
       "    <tr>\n",
       "      <th>0</th>\n",
       "      <td>A</td>\n",
       "      <td>0</td>\n",
       "    </tr>\n",
       "    <tr>\n",
       "      <th>1</th>\n",
       "      <td>B</td>\n",
       "      <td>1</td>\n",
       "    </tr>\n",
       "    <tr>\n",
       "      <th>2</th>\n",
       "      <td>C</td>\n",
       "      <td>2</td>\n",
       "    </tr>\n",
       "    <tr>\n",
       "      <th>3</th>\n",
       "      <td>A</td>\n",
       "      <td>3</td>\n",
       "    </tr>\n",
       "    <tr>\n",
       "      <th>4</th>\n",
       "      <td>B</td>\n",
       "      <td>4</td>\n",
       "    </tr>\n",
       "    <tr>\n",
       "      <th>5</th>\n",
       "      <td>C</td>\n",
       "      <td>5</td>\n",
       "    </tr>\n",
       "  </tbody>\n",
       "</table>\n",
       "</div>"
      ],
      "text/plain": [
       "  key  data\n",
       "0   A     0\n",
       "1   B     1\n",
       "2   C     2\n",
       "3   A     3\n",
       "4   B     4\n",
       "5   C     5"
      ]
     },
     "execution_count": 27,
     "metadata": {},
     "output_type": "execute_result"
    }
   ],
   "source": [
    "import pandas as pd\n",
    "df = pd.DataFrame({'key': ['A', 'B', 'C', 'A', 'B', 'C'],\n",
    "    'data': range(6)}, columns=['key', 'data'])\n",
    "df"
   ]
  },
  {
   "cell_type": "code",
   "execution_count": 28,
   "id": "c5418014-f17c-405d-9c7a-9974ce173850",
   "metadata": {},
   "outputs": [
    {
     "data": {
      "text/plain": [
       "<pandas.core.groupby.generic.DataFrameGroupBy object at 0x00000231752DFDA0>"
      ]
     },
     "execution_count": 28,
     "metadata": {},
     "output_type": "execute_result"
    }
   ],
   "source": [
    "df.groupby('key') # 返回的是GroupBy对象!"
   ]
  },
  {
   "cell_type": "markdown",
   "id": "b7991a21-3592-43d0-aa8f-1cb212def000",
   "metadata": {},
   "source": [
    "GroupBy对象\n",
    "- 魔力：可以看作是特殊形式DF,但是只有在累计函数计算时候，才会计算、显示。（**延迟计算**）"
   ]
  },
  {
   "cell_type": "code",
   "execution_count": null,
   "id": "7e97c422-e700-4022-b4fb-e2e0da992a15",
   "metadata": {},
   "outputs": [],
   "source": []
  },
  {
   "cell_type": "code",
   "execution_count": 29,
   "id": "630c0456-08e0-4816-a7ac-ff9c0a168ea8",
   "metadata": {},
   "outputs": [
    {
     "data": {
      "text/html": [
       "<div>\n",
       "<style scoped>\n",
       "    .dataframe tbody tr th:only-of-type {\n",
       "        vertical-align: middle;\n",
       "    }\n",
       "\n",
       "    .dataframe tbody tr th {\n",
       "        vertical-align: top;\n",
       "    }\n",
       "\n",
       "    .dataframe thead th {\n",
       "        text-align: right;\n",
       "    }\n",
       "</style>\n",
       "<table border=\"1\" class=\"dataframe\">\n",
       "  <thead>\n",
       "    <tr style=\"text-align: right;\">\n",
       "      <th></th>\n",
       "      <th>data</th>\n",
       "    </tr>\n",
       "    <tr>\n",
       "      <th>key</th>\n",
       "      <th></th>\n",
       "    </tr>\n",
       "  </thead>\n",
       "  <tbody>\n",
       "    <tr>\n",
       "      <th>A</th>\n",
       "      <td>3</td>\n",
       "    </tr>\n",
       "    <tr>\n",
       "      <th>B</th>\n",
       "      <td>5</td>\n",
       "    </tr>\n",
       "    <tr>\n",
       "      <th>C</th>\n",
       "      <td>7</td>\n",
       "    </tr>\n",
       "  </tbody>\n",
       "</table>\n",
       "</div>"
      ],
      "text/plain": [
       "     data\n",
       "key      \n",
       "A       3\n",
       "B       5\n",
       "C       7"
      ]
     },
     "execution_count": 29,
     "metadata": {},
     "output_type": "execute_result"
    }
   ],
   "source": [
    "df.groupby('key').sum()"
   ]
  },
  {
   "cell_type": "code",
   "execution_count": null,
   "id": "b057fc9a-1522-461b-9288-039971d2c02f",
   "metadata": {},
   "outputs": [],
   "source": []
  },
  {
   "cell_type": "markdown",
   "id": "2251f44b-3b99-4cd6-9590-33f1f8228458",
   "metadata": {},
   "source": [
    "1. 基本操作:按列取值，类似df  \n",
    "- 可以看作是DF集合，可以按照列取DF\n",
    "- 比如说从在a列中找出b特征最多的个数"
   ]
  },
  {
   "cell_type": "code",
   "execution_count": 30,
   "id": "87dbf30f-b792-40c1-81d0-c759aa0e9fef",
   "metadata": {},
   "outputs": [
    {
     "data": {
      "text/plain": [
       "<pandas.core.groupby.generic.DataFrameGroupBy object at 0x00000231752DF590>"
      ]
     },
     "execution_count": 30,
     "metadata": {},
     "output_type": "execute_result"
    }
   ],
   "source": [
    "planets.groupby('method')"
   ]
  },
  {
   "cell_type": "code",
   "execution_count": 31,
   "id": "6ca1c8b8-c97e-4f6a-a553-bed7a0a70e04",
   "metadata": {},
   "outputs": [
    {
     "data": {
      "text/plain": [
       "<pandas.core.groupby.generic.SeriesGroupBy object at 0x00000231752DD010>"
      ]
     },
     "execution_count": 31,
     "metadata": {},
     "output_type": "execute_result"
    }
   ],
   "source": [
    "planets.groupby('method')['orbital_period']"
   ]
  },
  {
   "cell_type": "code",
   "execution_count": 32,
   "id": "35696b5e-b52a-444f-9421-b9574ba2c654",
   "metadata": {},
   "outputs": [
    {
     "data": {
      "text/plain": [
       "method\n",
       "Astrometry                         631.180000\n",
       "Eclipse Timing Variations         4343.500000\n",
       "Imaging                          27500.000000\n",
       "Microlensing                      3300.000000\n",
       "Orbital Brightness Modulation        0.342887\n",
       "Pulsar Timing                       66.541900\n",
       "Pulsation Timing Variations       1170.000000\n",
       "Radial Velocity                    360.200000\n",
       "Transit                              5.714932\n",
       "Transit Timing Variations           57.011000\n",
       "Name: orbital_period, dtype: float64"
      ]
     },
     "execution_count": 32,
     "metadata": {},
     "output_type": "execute_result"
    }
   ],
   "source": [
    "median1 = planets.groupby('method')['orbital_period'].median()\n",
    "median1"
   ]
  },
  {
   "cell_type": "code",
   "execution_count": 33,
   "id": "b4355ae3-f5f9-4722-b7f3-0f74fa9ac30f",
   "metadata": {},
   "outputs": [
    {
     "data": {
      "text/plain": [
       "Index(['Astrometry', 'Eclipse Timing Variations', 'Imaging', 'Microlensing',\n",
       "       'Orbital Brightness Modulation', 'Pulsar Timing',\n",
       "       'Pulsation Timing Variations', 'Radial Velocity', 'Transit',\n",
       "       'Transit Timing Variations'],\n",
       "      dtype='object', name='method')"
      ]
     },
     "execution_count": 33,
     "metadata": {},
     "output_type": "execute_result"
    }
   ],
   "source": [
    "median1.index"
   ]
  },
  {
   "cell_type": "markdown",
   "id": "bc1ee271-2989-4e26-a927-c332bd0abc3a",
   "metadata": {},
   "source": [
    "可以看到分组后index是groupby, 如果要默认整数索引，通过`.reset_index`.\n",
    "- 方便后续通过列名进行操作 sort等\n",
    "- name参数为前面操作函数 重新设置列名"
   ]
  },
  {
   "cell_type": "code",
   "execution_count": 34,
   "id": "7b7f917a-70ee-4047-9d62-f6d5a065f83e",
   "metadata": {},
   "outputs": [
    {
     "data": {
      "text/html": [
       "<div>\n",
       "<style scoped>\n",
       "    .dataframe tbody tr th:only-of-type {\n",
       "        vertical-align: middle;\n",
       "    }\n",
       "\n",
       "    .dataframe tbody tr th {\n",
       "        vertical-align: top;\n",
       "    }\n",
       "\n",
       "    .dataframe thead th {\n",
       "        text-align: right;\n",
       "    }\n",
       "</style>\n",
       "<table border=\"1\" class=\"dataframe\">\n",
       "  <thead>\n",
       "    <tr style=\"text-align: right;\">\n",
       "      <th></th>\n",
       "      <th>method</th>\n",
       "      <th>orbital_period_median</th>\n",
       "    </tr>\n",
       "  </thead>\n",
       "  <tbody>\n",
       "    <tr>\n",
       "      <th>0</th>\n",
       "      <td>Astrometry</td>\n",
       "      <td>631.180000</td>\n",
       "    </tr>\n",
       "    <tr>\n",
       "      <th>1</th>\n",
       "      <td>Eclipse Timing Variations</td>\n",
       "      <td>4343.500000</td>\n",
       "    </tr>\n",
       "    <tr>\n",
       "      <th>2</th>\n",
       "      <td>Imaging</td>\n",
       "      <td>27500.000000</td>\n",
       "    </tr>\n",
       "    <tr>\n",
       "      <th>3</th>\n",
       "      <td>Microlensing</td>\n",
       "      <td>3300.000000</td>\n",
       "    </tr>\n",
       "    <tr>\n",
       "      <th>4</th>\n",
       "      <td>Orbital Brightness Modulation</td>\n",
       "      <td>0.342887</td>\n",
       "    </tr>\n",
       "    <tr>\n",
       "      <th>5</th>\n",
       "      <td>Pulsar Timing</td>\n",
       "      <td>66.541900</td>\n",
       "    </tr>\n",
       "    <tr>\n",
       "      <th>6</th>\n",
       "      <td>Pulsation Timing Variations</td>\n",
       "      <td>1170.000000</td>\n",
       "    </tr>\n",
       "    <tr>\n",
       "      <th>7</th>\n",
       "      <td>Radial Velocity</td>\n",
       "      <td>360.200000</td>\n",
       "    </tr>\n",
       "    <tr>\n",
       "      <th>8</th>\n",
       "      <td>Transit</td>\n",
       "      <td>5.714932</td>\n",
       "    </tr>\n",
       "    <tr>\n",
       "      <th>9</th>\n",
       "      <td>Transit Timing Variations</td>\n",
       "      <td>57.011000</td>\n",
       "    </tr>\n",
       "  </tbody>\n",
       "</table>\n",
       "</div>"
      ],
      "text/plain": [
       "                          method  orbital_period_median\n",
       "0                     Astrometry             631.180000\n",
       "1      Eclipse Timing Variations            4343.500000\n",
       "2                        Imaging           27500.000000\n",
       "3                   Microlensing            3300.000000\n",
       "4  Orbital Brightness Modulation               0.342887\n",
       "5                  Pulsar Timing              66.541900\n",
       "6    Pulsation Timing Variations            1170.000000\n",
       "7                Radial Velocity             360.200000\n",
       "8                        Transit               5.714932\n",
       "9      Transit Timing Variations              57.011000"
      ]
     },
     "execution_count": 34,
     "metadata": {},
     "output_type": "execute_result"
    }
   ],
   "source": [
    "planets.groupby('method')['orbital_period'].median().reset_index(name = 'orbital_period_median')"
   ]
  },
  {
   "cell_type": "code",
   "execution_count": 35,
   "id": "024ce919-8021-48d7-86cf-1b439d10f4fd",
   "metadata": {},
   "outputs": [
    {
     "data": {
      "text/html": [
       "<div>\n",
       "<style scoped>\n",
       "    .dataframe tbody tr th:only-of-type {\n",
       "        vertical-align: middle;\n",
       "    }\n",
       "\n",
       "    .dataframe tbody tr th {\n",
       "        vertical-align: top;\n",
       "    }\n",
       "\n",
       "    .dataframe thead th {\n",
       "        text-align: right;\n",
       "    }\n",
       "</style>\n",
       "<table border=\"1\" class=\"dataframe\">\n",
       "  <thead>\n",
       "    <tr style=\"text-align: right;\">\n",
       "      <th></th>\n",
       "      <th>method</th>\n",
       "      <th>orbital_period</th>\n",
       "    </tr>\n",
       "  </thead>\n",
       "  <tbody>\n",
       "    <tr>\n",
       "      <th>0</th>\n",
       "      <td>Astrometry</td>\n",
       "      <td>631.180000</td>\n",
       "    </tr>\n",
       "    <tr>\n",
       "      <th>1</th>\n",
       "      <td>Eclipse Timing Variations</td>\n",
       "      <td>4343.500000</td>\n",
       "    </tr>\n",
       "    <tr>\n",
       "      <th>2</th>\n",
       "      <td>Imaging</td>\n",
       "      <td>27500.000000</td>\n",
       "    </tr>\n",
       "    <tr>\n",
       "      <th>3</th>\n",
       "      <td>Microlensing</td>\n",
       "      <td>3300.000000</td>\n",
       "    </tr>\n",
       "    <tr>\n",
       "      <th>4</th>\n",
       "      <td>Orbital Brightness Modulation</td>\n",
       "      <td>0.342887</td>\n",
       "    </tr>\n",
       "    <tr>\n",
       "      <th>5</th>\n",
       "      <td>Pulsar Timing</td>\n",
       "      <td>66.541900</td>\n",
       "    </tr>\n",
       "    <tr>\n",
       "      <th>6</th>\n",
       "      <td>Pulsation Timing Variations</td>\n",
       "      <td>1170.000000</td>\n",
       "    </tr>\n",
       "    <tr>\n",
       "      <th>7</th>\n",
       "      <td>Radial Velocity</td>\n",
       "      <td>360.200000</td>\n",
       "    </tr>\n",
       "    <tr>\n",
       "      <th>8</th>\n",
       "      <td>Transit</td>\n",
       "      <td>5.714932</td>\n",
       "    </tr>\n",
       "    <tr>\n",
       "      <th>9</th>\n",
       "      <td>Transit Timing Variations</td>\n",
       "      <td>57.011000</td>\n",
       "    </tr>\n",
       "  </tbody>\n",
       "</table>\n",
       "</div>"
      ],
      "text/plain": [
       "                          method  orbital_period\n",
       "0                     Astrometry      631.180000\n",
       "1      Eclipse Timing Variations     4343.500000\n",
       "2                        Imaging    27500.000000\n",
       "3                   Microlensing     3300.000000\n",
       "4  Orbital Brightness Modulation        0.342887\n",
       "5                  Pulsar Timing       66.541900\n",
       "6    Pulsation Timing Variations     1170.000000\n",
       "7                Radial Velocity      360.200000\n",
       "8                        Transit        5.714932\n",
       "9      Transit Timing Variations       57.011000"
      ]
     },
     "execution_count": 35,
     "metadata": {},
     "output_type": "execute_result"
    }
   ],
   "source": [
    "planets.groupby('method')['orbital_period'].median().reset_index()"
   ]
  },
  {
   "cell_type": "code",
   "execution_count": 36,
   "id": "96a97ca8-ef9f-4e6d-b1d6-df200c4d2f7f",
   "metadata": {},
   "outputs": [
    {
     "data": {
      "text/html": [
       "<div>\n",
       "<style scoped>\n",
       "    .dataframe tbody tr th:only-of-type {\n",
       "        vertical-align: middle;\n",
       "    }\n",
       "\n",
       "    .dataframe tbody tr th {\n",
       "        vertical-align: top;\n",
       "    }\n",
       "\n",
       "    .dataframe thead th {\n",
       "        text-align: right;\n",
       "    }\n",
       "</style>\n",
       "<table border=\"1\" class=\"dataframe\">\n",
       "  <thead>\n",
       "    <tr style=\"text-align: right;\">\n",
       "      <th></th>\n",
       "      <th>method</th>\n",
       "      <th>size</th>\n",
       "    </tr>\n",
       "  </thead>\n",
       "  <tbody>\n",
       "    <tr>\n",
       "      <th>0</th>\n",
       "      <td>Astrometry</td>\n",
       "      <td>2</td>\n",
       "    </tr>\n",
       "    <tr>\n",
       "      <th>1</th>\n",
       "      <td>Eclipse Timing Variations</td>\n",
       "      <td>9</td>\n",
       "    </tr>\n",
       "    <tr>\n",
       "      <th>2</th>\n",
       "      <td>Imaging</td>\n",
       "      <td>38</td>\n",
       "    </tr>\n",
       "    <tr>\n",
       "      <th>3</th>\n",
       "      <td>Microlensing</td>\n",
       "      <td>23</td>\n",
       "    </tr>\n",
       "    <tr>\n",
       "      <th>4</th>\n",
       "      <td>Orbital Brightness Modulation</td>\n",
       "      <td>3</td>\n",
       "    </tr>\n",
       "    <tr>\n",
       "      <th>5</th>\n",
       "      <td>Pulsar Timing</td>\n",
       "      <td>5</td>\n",
       "    </tr>\n",
       "    <tr>\n",
       "      <th>6</th>\n",
       "      <td>Pulsation Timing Variations</td>\n",
       "      <td>1</td>\n",
       "    </tr>\n",
       "    <tr>\n",
       "      <th>7</th>\n",
       "      <td>Radial Velocity</td>\n",
       "      <td>553</td>\n",
       "    </tr>\n",
       "    <tr>\n",
       "      <th>8</th>\n",
       "      <td>Transit</td>\n",
       "      <td>397</td>\n",
       "    </tr>\n",
       "    <tr>\n",
       "      <th>9</th>\n",
       "      <td>Transit Timing Variations</td>\n",
       "      <td>4</td>\n",
       "    </tr>\n",
       "  </tbody>\n",
       "</table>\n",
       "</div>"
      ],
      "text/plain": [
       "                          method  size\n",
       "0                     Astrometry     2\n",
       "1      Eclipse Timing Variations     9\n",
       "2                        Imaging    38\n",
       "3                   Microlensing    23\n",
       "4  Orbital Brightness Modulation     3\n",
       "5                  Pulsar Timing     5\n",
       "6    Pulsation Timing Variations     1\n",
       "7                Radial Velocity   553\n",
       "8                        Transit   397\n",
       "9      Transit Timing Variations     4"
      ]
     },
     "execution_count": 36,
     "metadata": {},
     "output_type": "execute_result"
    }
   ],
   "source": [
    "planets.groupby('method').size().reset_index(name='size')"
   ]
  },
  {
   "cell_type": "markdown",
   "id": "d092b252-e162-441c-92b4-d398d29b5887",
   "metadata": {},
   "source": [
    "一起分组多个，比如item_name和对应价格经常对应。"
   ]
  },
  {
   "cell_type": "code",
   "execution_count": null,
   "id": "84f60e6b-0988-4d53-a5c7-75695b4cd773",
   "metadata": {},
   "outputs": [],
   "source": [
    "# chipo.groupby(['item_name', 'item_price']).size()"
   ]
  },
  {
   "cell_type": "markdown",
   "id": "ef91aa26-026a-45b3-b043-a68bc25f52e4",
   "metadata": {},
   "source": [
    "**2. 按组迭代**"
   ]
  },
  {
   "cell_type": "code",
   "execution_count": 42,
   "id": "be4097b1-bd86-4778-96fd-d8870d4eb435",
   "metadata": {},
   "outputs": [
    {
     "data": {
      "text/plain": [
       "<pandas.core.groupby.generic.DataFrameGroupBy object at 0x0000023177A84980>"
      ]
     },
     "execution_count": 42,
     "metadata": {},
     "output_type": "execute_result"
    }
   ],
   "source": [
    "planets.groupby('method')"
   ]
  },
  {
   "cell_type": "code",
   "execution_count": null,
   "id": "94764e38-b162-4652-935f-fa556787bb80",
   "metadata": {},
   "outputs": [],
   "source": [
    "# 查看某个分组数据"
   ]
  },
  {
   "cell_type": "code",
   "execution_count": 41,
   "id": "24110bcc-22e0-4d4d-895a-23cb74c070da",
   "metadata": {},
   "outputs": [
    {
     "data": {
      "text/html": [
       "<div>\n",
       "<style scoped>\n",
       "    .dataframe tbody tr th:only-of-type {\n",
       "        vertical-align: middle;\n",
       "    }\n",
       "\n",
       "    .dataframe tbody tr th {\n",
       "        vertical-align: top;\n",
       "    }\n",
       "\n",
       "    .dataframe thead th {\n",
       "        text-align: right;\n",
       "    }\n",
       "</style>\n",
       "<table border=\"1\" class=\"dataframe\">\n",
       "  <thead>\n",
       "    <tr style=\"text-align: right;\">\n",
       "      <th></th>\n",
       "      <th>method</th>\n",
       "      <th>number</th>\n",
       "      <th>orbital_period</th>\n",
       "      <th>mass</th>\n",
       "      <th>distance</th>\n",
       "      <th>year</th>\n",
       "    </tr>\n",
       "  </thead>\n",
       "  <tbody>\n",
       "    <tr>\n",
       "      <th>113</th>\n",
       "      <td>Astrometry</td>\n",
       "      <td>1</td>\n",
       "      <td>246.36</td>\n",
       "      <td>NaN</td>\n",
       "      <td>20.77</td>\n",
       "      <td>2013</td>\n",
       "    </tr>\n",
       "    <tr>\n",
       "      <th>537</th>\n",
       "      <td>Astrometry</td>\n",
       "      <td>1</td>\n",
       "      <td>1016.00</td>\n",
       "      <td>NaN</td>\n",
       "      <td>14.98</td>\n",
       "      <td>2010</td>\n",
       "    </tr>\n",
       "  </tbody>\n",
       "</table>\n",
       "</div>"
      ],
      "text/plain": [
       "         method  number  orbital_period  mass  distance  year\n",
       "113  Astrometry       1          246.36   NaN     20.77  2013\n",
       "537  Astrometry       1         1016.00   NaN     14.98  2010"
      ]
     },
     "execution_count": 41,
     "metadata": {},
     "output_type": "execute_result"
    }
   ],
   "source": [
    "planets.groupby('method').get_group('Astrometry')"
   ]
  },
  {
   "cell_type": "code",
   "execution_count": 46,
   "id": "fd2447fc-b9a4-45c6-9f8a-1e6920ba62be",
   "metadata": {},
   "outputs": [
    {
     "name": "stdout",
     "output_type": "stream",
     "text": [
      "Astrometry                     shape=(2, 6)\n",
      "Eclipse Timing Variations      shape=(9, 6)\n",
      "Imaging                        shape=(38, 6)\n",
      "Microlensing                   shape=(23, 6)\n",
      "Orbital Brightness Modulation  shape=(3, 6)\n",
      "Pulsar Timing                  shape=(5, 6)\n",
      "Pulsation Timing Variations    shape=(1, 6)\n",
      "Radial Velocity                shape=(553, 6)\n",
      "Transit                        shape=(397, 6)\n",
      "Transit Timing Variations      shape=(4, 6)\n"
     ]
    }
   ],
   "source": [
    "for (method, group) in planets.groupby('method'):\n",
    "    print(\"{0:30s} shape={1}\".format(method, group.shape))"
   ]
  },
  {
   "cell_type": "code",
   "execution_count": 47,
   "id": "0b69f4b8-ad6d-4cef-b5b9-9bcbcc65643a",
   "metadata": {},
   "outputs": [
    {
     "data": {
      "text/html": [
       "<div>\n",
       "<style scoped>\n",
       "    .dataframe tbody tr th:only-of-type {\n",
       "        vertical-align: middle;\n",
       "    }\n",
       "\n",
       "    .dataframe tbody tr th {\n",
       "        vertical-align: top;\n",
       "    }\n",
       "\n",
       "    .dataframe thead th {\n",
       "        text-align: right;\n",
       "    }\n",
       "</style>\n",
       "<table border=\"1\" class=\"dataframe\">\n",
       "  <thead>\n",
       "    <tr style=\"text-align: right;\">\n",
       "      <th></th>\n",
       "      <th>count</th>\n",
       "      <th>mean</th>\n",
       "      <th>std</th>\n",
       "      <th>min</th>\n",
       "      <th>25%</th>\n",
       "      <th>50%</th>\n",
       "      <th>75%</th>\n",
       "      <th>max</th>\n",
       "    </tr>\n",
       "    <tr>\n",
       "      <th>method</th>\n",
       "      <th></th>\n",
       "      <th></th>\n",
       "      <th></th>\n",
       "      <th></th>\n",
       "      <th></th>\n",
       "      <th></th>\n",
       "      <th></th>\n",
       "      <th></th>\n",
       "    </tr>\n",
       "  </thead>\n",
       "  <tbody>\n",
       "    <tr>\n",
       "      <th>Astrometry</th>\n",
       "      <td>2.0</td>\n",
       "      <td>2011.500000</td>\n",
       "      <td>2.121320</td>\n",
       "      <td>2010.0</td>\n",
       "      <td>2010.75</td>\n",
       "      <td>2011.5</td>\n",
       "      <td>2012.25</td>\n",
       "      <td>2013.0</td>\n",
       "    </tr>\n",
       "    <tr>\n",
       "      <th>Eclipse Timing Variations</th>\n",
       "      <td>9.0</td>\n",
       "      <td>2010.000000</td>\n",
       "      <td>1.414214</td>\n",
       "      <td>2008.0</td>\n",
       "      <td>2009.00</td>\n",
       "      <td>2010.0</td>\n",
       "      <td>2011.00</td>\n",
       "      <td>2012.0</td>\n",
       "    </tr>\n",
       "    <tr>\n",
       "      <th>Imaging</th>\n",
       "      <td>38.0</td>\n",
       "      <td>2009.131579</td>\n",
       "      <td>2.781901</td>\n",
       "      <td>2004.0</td>\n",
       "      <td>2008.00</td>\n",
       "      <td>2009.0</td>\n",
       "      <td>2011.00</td>\n",
       "      <td>2013.0</td>\n",
       "    </tr>\n",
       "    <tr>\n",
       "      <th>Microlensing</th>\n",
       "      <td>23.0</td>\n",
       "      <td>2009.782609</td>\n",
       "      <td>2.859697</td>\n",
       "      <td>2004.0</td>\n",
       "      <td>2008.00</td>\n",
       "      <td>2010.0</td>\n",
       "      <td>2012.00</td>\n",
       "      <td>2013.0</td>\n",
       "    </tr>\n",
       "    <tr>\n",
       "      <th>Orbital Brightness Modulation</th>\n",
       "      <td>3.0</td>\n",
       "      <td>2011.666667</td>\n",
       "      <td>1.154701</td>\n",
       "      <td>2011.0</td>\n",
       "      <td>2011.00</td>\n",
       "      <td>2011.0</td>\n",
       "      <td>2012.00</td>\n",
       "      <td>2013.0</td>\n",
       "    </tr>\n",
       "    <tr>\n",
       "      <th>Pulsar Timing</th>\n",
       "      <td>5.0</td>\n",
       "      <td>1998.400000</td>\n",
       "      <td>8.384510</td>\n",
       "      <td>1992.0</td>\n",
       "      <td>1992.00</td>\n",
       "      <td>1994.0</td>\n",
       "      <td>2003.00</td>\n",
       "      <td>2011.0</td>\n",
       "    </tr>\n",
       "    <tr>\n",
       "      <th>Pulsation Timing Variations</th>\n",
       "      <td>1.0</td>\n",
       "      <td>2007.000000</td>\n",
       "      <td>NaN</td>\n",
       "      <td>2007.0</td>\n",
       "      <td>2007.00</td>\n",
       "      <td>2007.0</td>\n",
       "      <td>2007.00</td>\n",
       "      <td>2007.0</td>\n",
       "    </tr>\n",
       "    <tr>\n",
       "      <th>Radial Velocity</th>\n",
       "      <td>553.0</td>\n",
       "      <td>2007.518987</td>\n",
       "      <td>4.249052</td>\n",
       "      <td>1989.0</td>\n",
       "      <td>2005.00</td>\n",
       "      <td>2009.0</td>\n",
       "      <td>2011.00</td>\n",
       "      <td>2014.0</td>\n",
       "    </tr>\n",
       "    <tr>\n",
       "      <th>Transit</th>\n",
       "      <td>397.0</td>\n",
       "      <td>2011.236776</td>\n",
       "      <td>2.077867</td>\n",
       "      <td>2002.0</td>\n",
       "      <td>2010.00</td>\n",
       "      <td>2012.0</td>\n",
       "      <td>2013.00</td>\n",
       "      <td>2014.0</td>\n",
       "    </tr>\n",
       "    <tr>\n",
       "      <th>Transit Timing Variations</th>\n",
       "      <td>4.0</td>\n",
       "      <td>2012.500000</td>\n",
       "      <td>1.290994</td>\n",
       "      <td>2011.0</td>\n",
       "      <td>2011.75</td>\n",
       "      <td>2012.5</td>\n",
       "      <td>2013.25</td>\n",
       "      <td>2014.0</td>\n",
       "    </tr>\n",
       "  </tbody>\n",
       "</table>\n",
       "</div>"
      ],
      "text/plain": [
       "                               count         mean       std     min      25%  \\\n",
       "method                                                                         \n",
       "Astrometry                       2.0  2011.500000  2.121320  2010.0  2010.75   \n",
       "Eclipse Timing Variations        9.0  2010.000000  1.414214  2008.0  2009.00   \n",
       "Imaging                         38.0  2009.131579  2.781901  2004.0  2008.00   \n",
       "Microlensing                    23.0  2009.782609  2.859697  2004.0  2008.00   \n",
       "Orbital Brightness Modulation    3.0  2011.666667  1.154701  2011.0  2011.00   \n",
       "Pulsar Timing                    5.0  1998.400000  8.384510  1992.0  1992.00   \n",
       "Pulsation Timing Variations      1.0  2007.000000       NaN  2007.0  2007.00   \n",
       "Radial Velocity                553.0  2007.518987  4.249052  1989.0  2005.00   \n",
       "Transit                        397.0  2011.236776  2.077867  2002.0  2010.00   \n",
       "Transit Timing Variations        4.0  2012.500000  1.290994  2011.0  2011.75   \n",
       "\n",
       "                                  50%      75%     max  \n",
       "method                                                  \n",
       "Astrometry                     2011.5  2012.25  2013.0  \n",
       "Eclipse Timing Variations      2010.0  2011.00  2012.0  \n",
       "Imaging                        2009.0  2011.00  2013.0  \n",
       "Microlensing                   2010.0  2012.00  2013.0  \n",
       "Orbital Brightness Modulation  2011.0  2012.00  2013.0  \n",
       "Pulsar Timing                  1994.0  2003.00  2011.0  \n",
       "Pulsation Timing Variations    2007.0  2007.00  2007.0  \n",
       "Radial Velocity                2009.0  2011.00  2014.0  \n",
       "Transit                        2012.0  2013.00  2014.0  \n",
       "Transit Timing Variations      2012.5  2013.25  2014.0  "
      ]
     },
     "execution_count": 47,
     "metadata": {},
     "output_type": "execute_result"
    }
   ],
   "source": [
    "planets.groupby('method')['year'].describe()"
   ]
  },
  {
   "cell_type": "markdown",
   "id": "52759afc-ad24-4df4-a68a-92e41cb36b6a",
   "metadata": {},
   "source": [
    "**3. 高级操作**：aggregate()、filter()、transform() 和apply()\n",
    "- 累计：一次性多个统计操作\n",
    "- 过滤\n",
    "- 转换  \n",
    "apply() 对一行或者一列的每个元素操作  \n",
    "transform() 对整个df或者列操作，确保形状不变！"
   ]
  },
  {
   "cell_type": "code",
   "execution_count": 4,
   "id": "8d044e33-0dad-4c8f-8761-958bae34bf7e",
   "metadata": {},
   "outputs": [
    {
     "data": {
      "text/html": [
       "<div>\n",
       "<style scoped>\n",
       "    .dataframe tbody tr th:only-of-type {\n",
       "        vertical-align: middle;\n",
       "    }\n",
       "\n",
       "    .dataframe tbody tr th {\n",
       "        vertical-align: top;\n",
       "    }\n",
       "\n",
       "    .dataframe thead th {\n",
       "        text-align: right;\n",
       "    }\n",
       "</style>\n",
       "<table border=\"1\" class=\"dataframe\">\n",
       "  <thead>\n",
       "    <tr style=\"text-align: right;\">\n",
       "      <th></th>\n",
       "      <th>key</th>\n",
       "      <th>data1</th>\n",
       "      <th>data2</th>\n",
       "    </tr>\n",
       "  </thead>\n",
       "  <tbody>\n",
       "    <tr>\n",
       "      <th>0</th>\n",
       "      <td>A</td>\n",
       "      <td>0</td>\n",
       "      <td>5</td>\n",
       "    </tr>\n",
       "    <tr>\n",
       "      <th>1</th>\n",
       "      <td>B</td>\n",
       "      <td>1</td>\n",
       "      <td>0</td>\n",
       "    </tr>\n",
       "    <tr>\n",
       "      <th>2</th>\n",
       "      <td>C</td>\n",
       "      <td>2</td>\n",
       "      <td>3</td>\n",
       "    </tr>\n",
       "    <tr>\n",
       "      <th>3</th>\n",
       "      <td>A</td>\n",
       "      <td>3</td>\n",
       "      <td>3</td>\n",
       "    </tr>\n",
       "    <tr>\n",
       "      <th>4</th>\n",
       "      <td>B</td>\n",
       "      <td>4</td>\n",
       "      <td>7</td>\n",
       "    </tr>\n",
       "    <tr>\n",
       "      <th>5</th>\n",
       "      <td>C</td>\n",
       "      <td>5</td>\n",
       "      <td>9</td>\n",
       "    </tr>\n",
       "  </tbody>\n",
       "</table>\n",
       "</div>"
      ],
      "text/plain": [
       "  key  data1  data2\n",
       "0   A      0      5\n",
       "1   B      1      0\n",
       "2   C      2      3\n",
       "3   A      3      3\n",
       "4   B      4      7\n",
       "5   C      5      9"
      ]
     },
     "execution_count": 4,
     "metadata": {},
     "output_type": "execute_result"
    }
   ],
   "source": [
    "import pandas as pd\n",
    "import numpy as np\n",
    "rng = np.random.RandomState(0)\n",
    "df = pd.DataFrame({'key': ['A', 'B', 'C', 'A', 'B', 'C'],\n",
    "    'data1': range(6),\n",
    "    'data2': rng.randint(0, 10, 6)},\n",
    "    columns = ['key', 'data1', 'data2'])\n",
    "df"
   ]
  },
  {
   "cell_type": "code",
   "execution_count": 9,
   "id": "cb0c68aa-5cea-44db-900a-617d9a775354",
   "metadata": {},
   "outputs": [
    {
     "data": {
      "text/html": [
       "<div>\n",
       "<style scoped>\n",
       "    .dataframe tbody tr th:only-of-type {\n",
       "        vertical-align: middle;\n",
       "    }\n",
       "\n",
       "    .dataframe tbody tr th {\n",
       "        vertical-align: top;\n",
       "    }\n",
       "\n",
       "    .dataframe thead th {\n",
       "        text-align: right;\n",
       "    }\n",
       "</style>\n",
       "<table border=\"1\" class=\"dataframe\">\n",
       "  <thead>\n",
       "    <tr style=\"text-align: right;\">\n",
       "      <th></th>\n",
       "      <th>key</th>\n",
       "      <th>data1</th>\n",
       "      <th>data2</th>\n",
       "    </tr>\n",
       "  </thead>\n",
       "  <tbody>\n",
       "    <tr>\n",
       "      <th>min</th>\n",
       "      <td>A</td>\n",
       "      <td>0</td>\n",
       "      <td>0</td>\n",
       "    </tr>\n",
       "    <tr>\n",
       "      <th>max</th>\n",
       "      <td>C</td>\n",
       "      <td>5</td>\n",
       "      <td>9</td>\n",
       "    </tr>\n",
       "  </tbody>\n",
       "</table>\n",
       "</div>"
      ],
      "text/plain": [
       "    key  data1  data2\n",
       "min   A      0      0\n",
       "max   C      5      9"
      ]
     },
     "execution_count": 9,
     "metadata": {},
     "output_type": "execute_result"
    }
   ],
   "source": [
    "df.aggregate(['min', 'max']) # 直接使用"
   ]
  },
  {
   "cell_type": "code",
   "execution_count": 3,
   "id": "a28acee6-ddff-4431-8575-e04c3bd65efb",
   "metadata": {},
   "outputs": [
    {
     "data": {
      "text/html": [
       "<div>\n",
       "<style scoped>\n",
       "    .dataframe tbody tr th:only-of-type {\n",
       "        vertical-align: middle;\n",
       "    }\n",
       "\n",
       "    .dataframe tbody tr th {\n",
       "        vertical-align: top;\n",
       "    }\n",
       "\n",
       "    .dataframe thead tr th {\n",
       "        text-align: left;\n",
       "    }\n",
       "\n",
       "    .dataframe thead tr:last-of-type th {\n",
       "        text-align: right;\n",
       "    }\n",
       "</style>\n",
       "<table border=\"1\" class=\"dataframe\">\n",
       "  <thead>\n",
       "    <tr>\n",
       "      <th></th>\n",
       "      <th colspan=\"3\" halign=\"left\">data1</th>\n",
       "      <th colspan=\"3\" halign=\"left\">data2</th>\n",
       "    </tr>\n",
       "    <tr>\n",
       "      <th></th>\n",
       "      <th>min</th>\n",
       "      <th>median</th>\n",
       "      <th>max</th>\n",
       "      <th>min</th>\n",
       "      <th>median</th>\n",
       "      <th>max</th>\n",
       "    </tr>\n",
       "    <tr>\n",
       "      <th>key</th>\n",
       "      <th></th>\n",
       "      <th></th>\n",
       "      <th></th>\n",
       "      <th></th>\n",
       "      <th></th>\n",
       "      <th></th>\n",
       "    </tr>\n",
       "  </thead>\n",
       "  <tbody>\n",
       "    <tr>\n",
       "      <th>A</th>\n",
       "      <td>0</td>\n",
       "      <td>1.5</td>\n",
       "      <td>3</td>\n",
       "      <td>3</td>\n",
       "      <td>4.0</td>\n",
       "      <td>5</td>\n",
       "    </tr>\n",
       "    <tr>\n",
       "      <th>B</th>\n",
       "      <td>1</td>\n",
       "      <td>2.5</td>\n",
       "      <td>4</td>\n",
       "      <td>0</td>\n",
       "      <td>3.5</td>\n",
       "      <td>7</td>\n",
       "    </tr>\n",
       "    <tr>\n",
       "      <th>C</th>\n",
       "      <td>2</td>\n",
       "      <td>3.5</td>\n",
       "      <td>5</td>\n",
       "      <td>3</td>\n",
       "      <td>6.0</td>\n",
       "      <td>9</td>\n",
       "    </tr>\n",
       "  </tbody>\n",
       "</table>\n",
       "</div>"
      ],
      "text/plain": [
       "    data1            data2           \n",
       "      min median max   min median max\n",
       "key                                  \n",
       "A       0    1.5   3     3    4.0   5\n",
       "B       1    2.5   4     0    3.5   7\n",
       "C       2    3.5   5     3    6.0   9"
      ]
     },
     "execution_count": 3,
     "metadata": {},
     "output_type": "execute_result"
    }
   ],
   "source": [
    "df.groupby('key').aggregate(['min', 'median', 'max']) # 可以自定义一次统计的操作"
   ]
  },
  {
   "cell_type": "code",
   "execution_count": 50,
   "id": "08296e0c-d321-4abc-a24d-7262e6caf0bf",
   "metadata": {},
   "outputs": [
    {
     "data": {
      "text/html": [
       "<div>\n",
       "<style scoped>\n",
       "    .dataframe tbody tr th:only-of-type {\n",
       "        vertical-align: middle;\n",
       "    }\n",
       "\n",
       "    .dataframe tbody tr th {\n",
       "        vertical-align: top;\n",
       "    }\n",
       "\n",
       "    .dataframe thead th {\n",
       "        text-align: right;\n",
       "    }\n",
       "</style>\n",
       "<table border=\"1\" class=\"dataframe\">\n",
       "  <thead>\n",
       "    <tr style=\"text-align: right;\">\n",
       "      <th></th>\n",
       "      <th>data1</th>\n",
       "      <th>data2</th>\n",
       "    </tr>\n",
       "    <tr>\n",
       "      <th>key</th>\n",
       "      <th></th>\n",
       "      <th></th>\n",
       "    </tr>\n",
       "  </thead>\n",
       "  <tbody>\n",
       "    <tr>\n",
       "      <th>A</th>\n",
       "      <td>2.12132</td>\n",
       "      <td>1.414214</td>\n",
       "    </tr>\n",
       "    <tr>\n",
       "      <th>B</th>\n",
       "      <td>2.12132</td>\n",
       "      <td>4.949747</td>\n",
       "    </tr>\n",
       "    <tr>\n",
       "      <th>C</th>\n",
       "      <td>2.12132</td>\n",
       "      <td>4.242641</td>\n",
       "    </tr>\n",
       "  </tbody>\n",
       "</table>\n",
       "</div>"
      ],
      "text/plain": [
       "       data1     data2\n",
       "key                   \n",
       "A    2.12132  1.414214\n",
       "B    2.12132  4.949747\n",
       "C    2.12132  4.242641"
      ]
     },
     "execution_count": 50,
     "metadata": {},
     "output_type": "execute_result"
    }
   ],
   "source": [
    "df.groupby('key').std()"
   ]
  },
  {
   "cell_type": "code",
   "execution_count": 51,
   "id": "f1fd0670-6220-4d4f-a7ba-008602653f1a",
   "metadata": {},
   "outputs": [
    {
     "data": {
      "text/html": [
       "<div>\n",
       "<style scoped>\n",
       "    .dataframe tbody tr th:only-of-type {\n",
       "        vertical-align: middle;\n",
       "    }\n",
       "\n",
       "    .dataframe tbody tr th {\n",
       "        vertical-align: top;\n",
       "    }\n",
       "\n",
       "    .dataframe thead th {\n",
       "        text-align: right;\n",
       "    }\n",
       "</style>\n",
       "<table border=\"1\" class=\"dataframe\">\n",
       "  <thead>\n",
       "    <tr style=\"text-align: right;\">\n",
       "      <th></th>\n",
       "      <th>key</th>\n",
       "      <th>data1</th>\n",
       "      <th>data2</th>\n",
       "    </tr>\n",
       "  </thead>\n",
       "  <tbody>\n",
       "    <tr>\n",
       "      <th>1</th>\n",
       "      <td>B</td>\n",
       "      <td>1</td>\n",
       "      <td>0</td>\n",
       "    </tr>\n",
       "    <tr>\n",
       "      <th>2</th>\n",
       "      <td>C</td>\n",
       "      <td>2</td>\n",
       "      <td>3</td>\n",
       "    </tr>\n",
       "    <tr>\n",
       "      <th>4</th>\n",
       "      <td>B</td>\n",
       "      <td>4</td>\n",
       "      <td>7</td>\n",
       "    </tr>\n",
       "    <tr>\n",
       "      <th>5</th>\n",
       "      <td>C</td>\n",
       "      <td>5</td>\n",
       "      <td>9</td>\n",
       "    </tr>\n",
       "  </tbody>\n",
       "</table>\n",
       "</div>"
      ],
      "text/plain": [
       "  key  data1  data2\n",
       "1   B      1      0\n",
       "2   C      2      3\n",
       "4   B      4      7\n",
       "5   C      5      9"
      ]
     },
     "execution_count": 51,
     "metadata": {},
     "output_type": "execute_result"
    }
   ],
   "source": [
    "def filter_func(x):\n",
    "    return x['data2'].std() > 4\n",
    "df.groupby('key').filter(filter_func)"
   ]
  },
  {
   "cell_type": "code",
   "execution_count": 52,
   "id": "998e3790-900b-4cf8-a660-8ec4c802ae6b",
   "metadata": {},
   "outputs": [
    {
     "data": {
      "text/html": [
       "<div>\n",
       "<style scoped>\n",
       "    .dataframe tbody tr th:only-of-type {\n",
       "        vertical-align: middle;\n",
       "    }\n",
       "\n",
       "    .dataframe tbody tr th {\n",
       "        vertical-align: top;\n",
       "    }\n",
       "\n",
       "    .dataframe thead th {\n",
       "        text-align: right;\n",
       "    }\n",
       "</style>\n",
       "<table border=\"1\" class=\"dataframe\">\n",
       "  <thead>\n",
       "    <tr style=\"text-align: right;\">\n",
       "      <th></th>\n",
       "      <th>data1</th>\n",
       "      <th>data2</th>\n",
       "    </tr>\n",
       "  </thead>\n",
       "  <tbody>\n",
       "    <tr>\n",
       "      <th>0</th>\n",
       "      <td>-1.5</td>\n",
       "      <td>1.0</td>\n",
       "    </tr>\n",
       "    <tr>\n",
       "      <th>1</th>\n",
       "      <td>-1.5</td>\n",
       "      <td>-3.5</td>\n",
       "    </tr>\n",
       "    <tr>\n",
       "      <th>2</th>\n",
       "      <td>-1.5</td>\n",
       "      <td>-3.0</td>\n",
       "    </tr>\n",
       "    <tr>\n",
       "      <th>3</th>\n",
       "      <td>1.5</td>\n",
       "      <td>-1.0</td>\n",
       "    </tr>\n",
       "    <tr>\n",
       "      <th>4</th>\n",
       "      <td>1.5</td>\n",
       "      <td>3.5</td>\n",
       "    </tr>\n",
       "    <tr>\n",
       "      <th>5</th>\n",
       "      <td>1.5</td>\n",
       "      <td>3.0</td>\n",
       "    </tr>\n",
       "  </tbody>\n",
       "</table>\n",
       "</div>"
      ],
      "text/plain": [
       "   data1  data2\n",
       "0   -1.5    1.0\n",
       "1   -1.5   -3.5\n",
       "2   -1.5   -3.0\n",
       "3    1.5   -1.0\n",
       "4    1.5    3.5\n",
       "5    1.5    3.0"
      ]
     },
     "execution_count": 52,
     "metadata": {},
     "output_type": "execute_result"
    }
   ],
   "source": [
    "df.groupby('key').transform(lambda x:x - x.mean()) # 标准化每个元素减去每组的平均值"
   ]
  },
  {
   "cell_type": "code",
   "execution_count": 73,
   "id": "2d595bc4-d3b7-4cdc-92c0-2ce68b0dee8b",
   "metadata": {},
   "outputs": [
    {
     "data": {
      "text/html": [
       "<div>\n",
       "<style scoped>\n",
       "    .dataframe tbody tr th:only-of-type {\n",
       "        vertical-align: middle;\n",
       "    }\n",
       "\n",
       "    .dataframe tbody tr th {\n",
       "        vertical-align: top;\n",
       "    }\n",
       "\n",
       "    .dataframe thead th {\n",
       "        text-align: right;\n",
       "    }\n",
       "</style>\n",
       "<table border=\"1\" class=\"dataframe\">\n",
       "  <thead>\n",
       "    <tr style=\"text-align: right;\">\n",
       "      <th></th>\n",
       "      <th></th>\n",
       "      <th>data1</th>\n",
       "      <th>data2</th>\n",
       "    </tr>\n",
       "    <tr>\n",
       "      <th>key</th>\n",
       "      <th></th>\n",
       "      <th></th>\n",
       "      <th></th>\n",
       "    </tr>\n",
       "  </thead>\n",
       "  <tbody>\n",
       "    <tr>\n",
       "      <th rowspan=\"2\" valign=\"top\">A</th>\n",
       "      <th>0</th>\n",
       "      <td>-1.5</td>\n",
       "      <td>1.0</td>\n",
       "    </tr>\n",
       "    <tr>\n",
       "      <th>3</th>\n",
       "      <td>1.5</td>\n",
       "      <td>-1.0</td>\n",
       "    </tr>\n",
       "    <tr>\n",
       "      <th rowspan=\"2\" valign=\"top\">B</th>\n",
       "      <th>1</th>\n",
       "      <td>-1.5</td>\n",
       "      <td>-3.5</td>\n",
       "    </tr>\n",
       "    <tr>\n",
       "      <th>4</th>\n",
       "      <td>1.5</td>\n",
       "      <td>3.5</td>\n",
       "    </tr>\n",
       "    <tr>\n",
       "      <th rowspan=\"2\" valign=\"top\">C</th>\n",
       "      <th>2</th>\n",
       "      <td>-1.5</td>\n",
       "      <td>-3.0</td>\n",
       "    </tr>\n",
       "    <tr>\n",
       "      <th>5</th>\n",
       "      <td>1.5</td>\n",
       "      <td>3.0</td>\n",
       "    </tr>\n",
       "  </tbody>\n",
       "</table>\n",
       "</div>"
      ],
      "text/plain": [
       "       data1  data2\n",
       "key                \n",
       "A   0   -1.5    1.0\n",
       "    3    1.5   -1.0\n",
       "B   1   -1.5   -3.5\n",
       "    4    1.5    3.5\n",
       "C   2   -1.5   -3.0\n",
       "    5    1.5    3.0"
      ]
     },
     "execution_count": 73,
     "metadata": {},
     "output_type": "execute_result"
    }
   ],
   "source": [
    "df.groupby('key').apply(lambda x:x - x.mean()) # 标准化每个元素减去每组的平均值\n"
   ]
  },
  {
   "cell_type": "code",
   "execution_count": null,
   "id": "24d0cbf0-6d76-4e26-bef0-476a518c8f3e",
   "metadata": {},
   "outputs": [],
   "source": []
  },
  {
   "cell_type": "markdown",
   "id": "434da7db-240e-4f92-bc05-64827ec8d5d0",
   "metadata": {},
   "source": [
    "4. 键分割"
   ]
  },
  {
   "cell_type": "markdown",
   "id": "097672a4-abf5-4723-a594-31e7f26e3d69",
   "metadata": {},
   "source": [
    "下面例子中，decade并不是planets中的一列， 但也可以传入进行分组"
   ]
  },
  {
   "cell_type": "code",
   "execution_count": 74,
   "id": "aceadfda-c168-403a-ab54-650e54d8df03",
   "metadata": {},
   "outputs": [
    {
     "data": {
      "text/html": [
       "<div>\n",
       "<style scoped>\n",
       "    .dataframe tbody tr th:only-of-type {\n",
       "        vertical-align: middle;\n",
       "    }\n",
       "\n",
       "    .dataframe tbody tr th {\n",
       "        vertical-align: top;\n",
       "    }\n",
       "\n",
       "    .dataframe thead th {\n",
       "        text-align: right;\n",
       "    }\n",
       "</style>\n",
       "<table border=\"1\" class=\"dataframe\">\n",
       "  <thead>\n",
       "    <tr style=\"text-align: right;\">\n",
       "      <th>decade</th>\n",
       "      <th>1980s</th>\n",
       "      <th>1990s</th>\n",
       "      <th>2000s</th>\n",
       "      <th>2010s</th>\n",
       "    </tr>\n",
       "    <tr>\n",
       "      <th>method</th>\n",
       "      <th></th>\n",
       "      <th></th>\n",
       "      <th></th>\n",
       "      <th></th>\n",
       "    </tr>\n",
       "  </thead>\n",
       "  <tbody>\n",
       "    <tr>\n",
       "      <th>Astrometry</th>\n",
       "      <td>0.0</td>\n",
       "      <td>0.0</td>\n",
       "      <td>0.0</td>\n",
       "      <td>2.0</td>\n",
       "    </tr>\n",
       "    <tr>\n",
       "      <th>Eclipse Timing Variations</th>\n",
       "      <td>0.0</td>\n",
       "      <td>0.0</td>\n",
       "      <td>5.0</td>\n",
       "      <td>10.0</td>\n",
       "    </tr>\n",
       "    <tr>\n",
       "      <th>Imaging</th>\n",
       "      <td>0.0</td>\n",
       "      <td>0.0</td>\n",
       "      <td>29.0</td>\n",
       "      <td>21.0</td>\n",
       "    </tr>\n",
       "    <tr>\n",
       "      <th>Microlensing</th>\n",
       "      <td>0.0</td>\n",
       "      <td>0.0</td>\n",
       "      <td>12.0</td>\n",
       "      <td>15.0</td>\n",
       "    </tr>\n",
       "    <tr>\n",
       "      <th>Orbital Brightness Modulation</th>\n",
       "      <td>0.0</td>\n",
       "      <td>0.0</td>\n",
       "      <td>0.0</td>\n",
       "      <td>5.0</td>\n",
       "    </tr>\n",
       "    <tr>\n",
       "      <th>Pulsar Timing</th>\n",
       "      <td>0.0</td>\n",
       "      <td>9.0</td>\n",
       "      <td>1.0</td>\n",
       "      <td>1.0</td>\n",
       "    </tr>\n",
       "    <tr>\n",
       "      <th>Pulsation Timing Variations</th>\n",
       "      <td>0.0</td>\n",
       "      <td>0.0</td>\n",
       "      <td>1.0</td>\n",
       "      <td>0.0</td>\n",
       "    </tr>\n",
       "    <tr>\n",
       "      <th>Radial Velocity</th>\n",
       "      <td>1.0</td>\n",
       "      <td>52.0</td>\n",
       "      <td>475.0</td>\n",
       "      <td>424.0</td>\n",
       "    </tr>\n",
       "    <tr>\n",
       "      <th>Transit</th>\n",
       "      <td>0.0</td>\n",
       "      <td>0.0</td>\n",
       "      <td>64.0</td>\n",
       "      <td>712.0</td>\n",
       "    </tr>\n",
       "    <tr>\n",
       "      <th>Transit Timing Variations</th>\n",
       "      <td>0.0</td>\n",
       "      <td>0.0</td>\n",
       "      <td>0.0</td>\n",
       "      <td>9.0</td>\n",
       "    </tr>\n",
       "  </tbody>\n",
       "</table>\n",
       "</div>"
      ],
      "text/plain": [
       "decade                         1980s  1990s  2000s  2010s\n",
       "method                                                   \n",
       "Astrometry                       0.0    0.0    0.0    2.0\n",
       "Eclipse Timing Variations        0.0    0.0    5.0   10.0\n",
       "Imaging                          0.0    0.0   29.0   21.0\n",
       "Microlensing                     0.0    0.0   12.0   15.0\n",
       "Orbital Brightness Modulation    0.0    0.0    0.0    5.0\n",
       "Pulsar Timing                    0.0    9.0    1.0    1.0\n",
       "Pulsation Timing Variations      0.0    0.0    1.0    0.0\n",
       "Radial Velocity                  1.0   52.0  475.0  424.0\n",
       "Transit                          0.0    0.0   64.0  712.0\n",
       "Transit Timing Variations        0.0    0.0    0.0    9.0"
      ]
     },
     "execution_count": 74,
     "metadata": {},
     "output_type": "execute_result"
    }
   ],
   "source": [
    "decade =  (planets['year'] // 10) * 10\n",
    "decade = decade.astype(str) + 's'\n",
    "decade.name = 'decade'\n",
    "planets.groupby(['method', decade])['number'].sum().unstack().fillna(0)"
   ]
  },
  {
   "cell_type": "markdown",
   "id": "56ed6263-9819-4e00-b9b0-69b91f1d4c27",
   "metadata": {},
   "source": [
    "series直接操作：`value_counts()`"
   ]
  },
  {
   "cell_type": "code",
   "execution_count": 82,
   "id": "ee65ad97-c50f-4992-b39b-10accc76d2c5",
   "metadata": {},
   "outputs": [
    {
     "data": {
      "text/plain": [
       "method\n",
       "Radial Velocity    553\n",
       "Name: count, dtype: int64"
      ]
     },
     "execution_count": 82,
     "metadata": {},
     "output_type": "execute_result"
    }
   ],
   "source": [
    "planets['method'].value_counts().head(1) # 统计一列"
   ]
  },
  {
   "cell_type": "markdown",
   "id": "b88502bc-e00f-4c1a-8dca-51a2c10382b8",
   "metadata": {},
   "source": [
    "## 3.10　数据透视表\n",
    "- 数据透视表是多维的GroupBy操作，比如二维分割 很方便\n",
    "- titantic 示例\n",
    "- "
   ]
  },
  {
   "cell_type": "markdown",
   "id": "fe0524cb-64b1-4399-9f3e-65bd7be0ce68",
   "metadata": {},
   "source": [
    "### 3.10.1 示例:titantic"
   ]
  },
  {
   "cell_type": "code",
   "execution_count": 1,
   "id": "b541d922-5d70-45ff-973f-6f6a15bf110e",
   "metadata": {},
   "outputs": [
    {
     "data": {
      "text/html": [
       "<div>\n",
       "<style scoped>\n",
       "    .dataframe tbody tr th:only-of-type {\n",
       "        vertical-align: middle;\n",
       "    }\n",
       "\n",
       "    .dataframe tbody tr th {\n",
       "        vertical-align: top;\n",
       "    }\n",
       "\n",
       "    .dataframe thead th {\n",
       "        text-align: right;\n",
       "    }\n",
       "</style>\n",
       "<table border=\"1\" class=\"dataframe\">\n",
       "  <thead>\n",
       "    <tr style=\"text-align: right;\">\n",
       "      <th></th>\n",
       "      <th>survived</th>\n",
       "      <th>pclass</th>\n",
       "      <th>sex</th>\n",
       "      <th>age</th>\n",
       "      <th>sibsp</th>\n",
       "      <th>parch</th>\n",
       "      <th>fare</th>\n",
       "      <th>embarked</th>\n",
       "      <th>class</th>\n",
       "      <th>who</th>\n",
       "      <th>adult_male</th>\n",
       "      <th>deck</th>\n",
       "      <th>embark_town</th>\n",
       "      <th>alive</th>\n",
       "      <th>alone</th>\n",
       "    </tr>\n",
       "  </thead>\n",
       "  <tbody>\n",
       "    <tr>\n",
       "      <th>0</th>\n",
       "      <td>0</td>\n",
       "      <td>3</td>\n",
       "      <td>male</td>\n",
       "      <td>22.0</td>\n",
       "      <td>1</td>\n",
       "      <td>0</td>\n",
       "      <td>7.2500</td>\n",
       "      <td>S</td>\n",
       "      <td>Third</td>\n",
       "      <td>man</td>\n",
       "      <td>True</td>\n",
       "      <td>NaN</td>\n",
       "      <td>Southampton</td>\n",
       "      <td>no</td>\n",
       "      <td>False</td>\n",
       "    </tr>\n",
       "    <tr>\n",
       "      <th>1</th>\n",
       "      <td>1</td>\n",
       "      <td>1</td>\n",
       "      <td>female</td>\n",
       "      <td>38.0</td>\n",
       "      <td>1</td>\n",
       "      <td>0</td>\n",
       "      <td>71.2833</td>\n",
       "      <td>C</td>\n",
       "      <td>First</td>\n",
       "      <td>woman</td>\n",
       "      <td>False</td>\n",
       "      <td>C</td>\n",
       "      <td>Cherbourg</td>\n",
       "      <td>yes</td>\n",
       "      <td>False</td>\n",
       "    </tr>\n",
       "    <tr>\n",
       "      <th>2</th>\n",
       "      <td>1</td>\n",
       "      <td>3</td>\n",
       "      <td>female</td>\n",
       "      <td>26.0</td>\n",
       "      <td>0</td>\n",
       "      <td>0</td>\n",
       "      <td>7.9250</td>\n",
       "      <td>S</td>\n",
       "      <td>Third</td>\n",
       "      <td>woman</td>\n",
       "      <td>False</td>\n",
       "      <td>NaN</td>\n",
       "      <td>Southampton</td>\n",
       "      <td>yes</td>\n",
       "      <td>True</td>\n",
       "    </tr>\n",
       "    <tr>\n",
       "      <th>3</th>\n",
       "      <td>1</td>\n",
       "      <td>1</td>\n",
       "      <td>female</td>\n",
       "      <td>35.0</td>\n",
       "      <td>1</td>\n",
       "      <td>0</td>\n",
       "      <td>53.1000</td>\n",
       "      <td>S</td>\n",
       "      <td>First</td>\n",
       "      <td>woman</td>\n",
       "      <td>False</td>\n",
       "      <td>C</td>\n",
       "      <td>Southampton</td>\n",
       "      <td>yes</td>\n",
       "      <td>False</td>\n",
       "    </tr>\n",
       "    <tr>\n",
       "      <th>4</th>\n",
       "      <td>0</td>\n",
       "      <td>3</td>\n",
       "      <td>male</td>\n",
       "      <td>35.0</td>\n",
       "      <td>0</td>\n",
       "      <td>0</td>\n",
       "      <td>8.0500</td>\n",
       "      <td>S</td>\n",
       "      <td>Third</td>\n",
       "      <td>man</td>\n",
       "      <td>True</td>\n",
       "      <td>NaN</td>\n",
       "      <td>Southampton</td>\n",
       "      <td>no</td>\n",
       "      <td>True</td>\n",
       "    </tr>\n",
       "  </tbody>\n",
       "</table>\n",
       "</div>"
      ],
      "text/plain": [
       "   survived  pclass     sex   age  sibsp  parch     fare embarked  class  \\\n",
       "0         0       3    male  22.0      1      0   7.2500        S  Third   \n",
       "1         1       1  female  38.0      1      0  71.2833        C  First   \n",
       "2         1       3  female  26.0      0      0   7.9250        S  Third   \n",
       "3         1       1  female  35.0      1      0  53.1000        S  First   \n",
       "4         0       3    male  35.0      0      0   8.0500        S  Third   \n",
       "\n",
       "     who  adult_male deck  embark_town alive  alone  \n",
       "0    man        True  NaN  Southampton    no  False  \n",
       "1  woman       False    C    Cherbourg   yes  False  \n",
       "2  woman       False  NaN  Southampton   yes   True  \n",
       "3  woman       False    C  Southampton   yes  False  \n",
       "4    man        True  NaN  Southampton    no   True  "
      ]
     },
     "execution_count": 1,
     "metadata": {},
     "output_type": "execute_result"
    }
   ],
   "source": [
    "import seaborn as sns\n",
    "titanic = sns.load_dataset('titanic')\n",
    "titanic.head()"
   ]
  },
  {
   "cell_type": "markdown",
   "id": "705c531c-25c5-4f39-b80e-bfba25e7d35e",
   "metadata": {},
   "source": [
    "### 3.10.2　手工制作数据透视表"
   ]
  },
  {
   "cell_type": "markdown",
   "id": "fac042d6-e8ba-4b3f-a48b-cae7ca8896f1",
   "metadata": {},
   "source": [
    "比如：现在要不同性别乘客生存率， 不同性别、船舱等级的生存率"
   ]
  },
  {
   "cell_type": "code",
   "execution_count": null,
   "id": "305025db-40e5-4fd4-ba45-0ab165a2e3c3",
   "metadata": {},
   "outputs": [],
   "source": [
    "titanic.groupby('sex')['survived'].mean()"
   ]
  },
  {
   "cell_type": "code",
   "execution_count": null,
   "id": "c1417dd3-505c-48c0-8acc-dc04fb0cfcec",
   "metadata": {},
   "outputs": [],
   "source": [
    "titanic.groupby(['sex', 'class'])['survived'].aggregate('mean').unstack()"
   ]
  },
  {
   "cell_type": "markdown",
   "id": "299f6813-cfae-45d8-8477-724661925428",
   "metadata": {},
   "source": [
    "### 3.10.3　数据透视表语法\n",
    "pivot_table来实现上面等价效果"
   ]
  },
  {
   "cell_type": "code",
   "execution_count": null,
   "id": "4a4bab03-714f-4a22-b91f-44ae18b79bc8",
   "metadata": {},
   "outputs": [],
   "source": [
    "titanic.pivot_table('survived', index = 'sex', columns = 'class')"
   ]
  },
  {
   "cell_type": "markdown",
   "id": "0292678a-c12d-4df7-bb53-0589ab0e2f0c",
   "metadata": {},
   "source": [
    "结果表明：一等舱的女性几乎全部生还，而三等舱的男性只有10之1生还。"
   ]
  },
  {
   "cell_type": "markdown",
   "id": "3e01b640-87e3-40c0-9959-da1bff41c572",
   "metadata": {},
   "source": [
    "**1. 多级数据透视表**\n",
    "- 层级索引效果"
   ]
  },
  {
   "cell_type": "markdown",
   "id": "e9c4f74b-7056-4889-b591-678effe8e00e",
   "metadata": {},
   "source": [
    "制定了 三层索引，索引侧[sex, age] ,列名侧class"
   ]
  },
  {
   "cell_type": "code",
   "execution_count": null,
   "id": "238e8dc3-49ed-40bc-ad41-a5035319a4c7",
   "metadata": {},
   "outputs": [],
   "source": [
    "age = pd.cut(titanic['age'], [0, 18, 80]) # 分段\n",
    "# print(age)\n",
    "titanic.pivot_table('survived', ['sex', age], 'class')"
   ]
  },
  {
   "cell_type": "markdown",
   "id": "d313baf4-4cc9-4748-adfe-16d2efbb4217",
   "metadata": {},
   "source": [
    "2. 其他数据透视表选项"
   ]
  },
  {
   "cell_type": "code",
   "execution_count": null,
   "id": "248d744e-cf96-4209-9329-78f0664eec3f",
   "metadata": {},
   "outputs": [],
   "source": [
    "titanic.pivot_table('survived', index = 'sex', columns = 'class', margins=True)  # margins计数分组"
   ]
  },
  {
   "cell_type": "markdown",
   "id": "9141d6c3-d663-4315-bf65-342d1d176255",
   "metadata": {},
   "source": [
    "### 3.10.4 示例:美国人的生日"
   ]
  },
  {
   "cell_type": "code",
   "execution_count": null,
   "id": "b3b75abd-a2f4-4ee4-98f5-9680b246799c",
   "metadata": {},
   "outputs": [],
   "source": [
    "births = pd.read_csv('births.csv')\n",
    "births.head()"
   ]
  },
  {
   "cell_type": "markdown",
   "id": "2749e91c-9799-4acf-801b-305af0b3c5dd",
   "metadata": {},
   "source": [
    "🗼1. 增加一列，看各年代出生男女比例"
   ]
  },
  {
   "cell_type": "code",
   "execution_count": null,
   "id": "6e907298-4cbf-4c5d-b216-00138ead9942",
   "metadata": {},
   "outputs": [],
   "source": [
    "births['decade'] = 10 * (births['year'] // 10)\n",
    "births.pivot_table('births', index = 'decade', columns = 'gender', aggfunc='sum') # aggfunc设置累计函数,默认是均值\n"
   ]
  },
  {
   "cell_type": "code",
   "execution_count": null,
   "id": "33f47a49-21c0-4241-8970-ce65904ff7c7",
   "metadata": {},
   "outputs": [],
   "source": [
    "import matplotlib.pyplot as plt\n",
    "sns.set() # 使用Seaborn风格\n",
    "births.pivot_table('births', index = 'year', columns = 'gender', aggfunc='sum').plot()\n",
    "plt.ylabel('total births this year')"
   ]
  },
  {
   "cell_type": "markdown",
   "id": "21d079a7-7810-43ed-b396-f94804467920",
   "metadata": {},
   "source": [
    "🗼2. 不同年代不同日期的日均出生数"
   ]
  },
  {
   "cell_type": "code",
   "execution_count": null,
   "id": "b6ea8dc2-c4da-4ae8-8d76-d746fa60216f",
   "metadata": {},
   "outputs": [],
   "source": [
    "births[births['day'] > 30]"
   ]
  },
  {
   "cell_type": "markdown",
   "id": "9d20eda7-b568-44f1-b631-a0b7c3db6f26",
   "metadata": {},
   "source": [
    "发现，day中有NaN"
   ]
  },
  {
   "cell_type": "code",
   "execution_count": null,
   "id": "ffff4e3a-8f2e-4b01-ba6c-0cfa00491303",
   "metadata": {},
   "outputs": [],
   "source": [
    "births.dropna(inplace = True) #原地修改"
   ]
  },
  {
   "cell_type": "code",
   "execution_count": null,
   "id": "110fca91-4e06-4569-abf7-63b31c03725c",
   "metadata": {},
   "outputs": [],
   "source": [
    "births.isnull().any()"
   ]
  },
  {
   "cell_type": "code",
   "execution_count": null,
   "id": "992dbcad-0a18-4f60-b88b-770a67d35da9",
   "metadata": {},
   "outputs": [],
   "source": [
    "births['day'].dtype"
   ]
  },
  {
   "cell_type": "code",
   "execution_count": null,
   "id": "9c4c3e08-11a4-4dfa-98cc-f65fdc45c892",
   "metadata": {},
   "outputs": [],
   "source": [
    "births['day'] = births['day'].astype(int)"
   ]
  },
  {
   "cell_type": "code",
   "execution_count": null,
   "id": "8ffe8ec2-d96b-44de-9faa-f1abd86fabcd",
   "metadata": {},
   "outputs": [],
   "source": [
    "births['day'].dtype"
   ]
  },
  {
   "cell_type": "markdown",
   "id": "b2fd5925-f4ad-4b3b-bacb-21ec4d2b2028",
   "metadata": {},
   "source": [
    "剔除异常日期，如0199 ???"
   ]
  },
  {
   "cell_type": "code",
   "execution_count": null,
   "id": "e2de2990-be82-4a0c-9adf-91d514b93a57",
   "metadata": {},
   "outputs": [],
   "source": [
    "births = births.query('1 <= day <= 31')\n",
    "births"
   ]
  },
  {
   "cell_type": "code",
   "execution_count": null,
   "id": "6a547aa9-5fbe-484c-a1b9-9064a77992cb",
   "metadata": {},
   "outputs": [],
   "source": [
    "quartiles = np.percentile(births['births'], [25, 50, 75])\n",
    "mu = quartiles[1] # 均值\n",
    "sig = 0.74 * (quartiles[2] - quartiles[0]) # 标准差估计值"
   ]
  },
  {
   "cell_type": "code",
   "execution_count": null,
   "id": "47a587cf-8bdf-497b-a7fa-45432f85af9b",
   "metadata": {},
   "outputs": [],
   "source": [
    "births = births.query('(births > @mu - 5 * @sig) & (births < @mu + 5 * @sig)')"
   ]
  },
  {
   "cell_type": "markdown",
   "id": "34205732-c2c4-4f9b-8a6b-d36db68ac203",
   "metadata": {},
   "source": [
    "创建一个日期索引"
   ]
  },
  {
   "cell_type": "code",
   "execution_count": null,
   "id": "c05f8ced-2a28-4597-95b1-e81d4fbb35f0",
   "metadata": {},
   "outputs": [],
   "source": [
    "births.index = pd.to_datetime(10000 * births.year +100 * births.month +births.day, format=\"%Y%m%d\")\n",
    "births['dayofweek'] = births.index.dayofweek\n",
    "births"
   ]
  },
  {
   "cell_type": "code",
   "execution_count": null,
   "id": "249e6e50-1708-4b5b-a6c2-cfc3667bf281",
   "metadata": {},
   "outputs": [],
   "source": [
    "births.pivot_table('births', index = 'dayofweek', columns= 'decade', aggfunc = 'mean')"
   ]
  },
  {
   "cell_type": "code",
   "execution_count": null,
   "id": "279e272e-8d47-429a-9677-07ec0d52413f",
   "metadata": {},
   "outputs": [],
   "source": [
    "births.pivot_table('births', index = 'dayofweek', columns= 'decade', aggfunc = 'mean').plot()\n",
    "plt.ylabel('mean births by day')"
   ]
  },
  {
   "cell_type": "markdown",
   "id": "93f6a7bf-b9f2-4cb7-a00e-1504b6708dc6",
   "metadata": {},
   "source": [
    "🗼3. 各年份平均每天出生人数，按照月和日两个维度分组.时间索引"
   ]
  },
  {
   "cell_type": "code",
   "execution_count": null,
   "id": "6d21fb04-d4d7-4f68-9a7d-0d270ebd757c",
   "metadata": {},
   "outputs": [],
   "source": [
    "births"
   ]
  },
  {
   "cell_type": "code",
   "execution_count": null,
   "id": "939c6fb3-7994-49a9-b380-b56b7d972fe5",
   "metadata": {},
   "outputs": [],
   "source": [
    "births_by_date = births.pivot_table('births', index = [births.index.month, births.index.day])\n",
    "births_by_date"
   ]
  },
  {
   "cell_type": "code",
   "execution_count": null,
   "id": "25993b90-c138-4889-88f6-83fc4b79e2fd",
   "metadata": {},
   "outputs": [],
   "source": [
    "births_by_date.index =[ pd.to_datetime(f\"2012{month:02}{day:02}\") for (month, day) in births_by_date.index]\n",
    "births_by_date.plot()"
   ]
  },
  {
   "cell_type": "markdown",
   "id": "2fe8af5f-4a49-4466-8e45-5dbf2949451a",
   "metadata": {},
   "source": []
  },
  {
   "cell_type": "markdown",
   "id": "06774da3-17d8-4864-bcaa-a0f7bfca1024",
   "metadata": {},
   "source": [
    "## 3.11　向量化字符串操作"
   ]
  },
  {
   "cell_type": "code",
   "execution_count": null,
   "id": "5a32ab0d-3235-4cc1-a296-791fd13dc4ff",
   "metadata": {},
   "outputs": [],
   "source": [
    "data = ['peter', 'Paul', None, 'MARY', 'gUIDO']"
   ]
  },
  {
   "cell_type": "code",
   "execution_count": null,
   "id": "d30d1a35-8db8-41e8-a2ac-47e44c5eb2ce",
   "metadata": {},
   "outputs": [],
   "source": [
    "names = pd.Series(data)\n",
    "names"
   ]
  },
  {
   "cell_type": "code",
   "execution_count": null,
   "id": "97f0ec79-074b-4ce7-be08-a0e98fddbec9",
   "metadata": {},
   "outputs": [],
   "source": [
    "names.str.capitalize()"
   ]
  },
  {
   "cell_type": "code",
   "execution_count": null,
   "id": "c32dff85-ebbd-4872-9660-b4fb81ec0e4a",
   "metadata": {},
   "outputs": [],
   "source": [
    "names.str.len()"
   ]
  },
  {
   "cell_type": "markdown",
   "id": "683be22d-befe-431b-bb2c-75eac8b05c26",
   "metadata": {},
   "source": [
    "正则化"
   ]
  },
  {
   "cell_type": "code",
   "execution_count": null,
   "id": "45455279-ed02-4afc-b90a-52489061edc9",
   "metadata": {},
   "outputs": [],
   "source": [
    "names.str.match('[A-Za-z]+')"
   ]
  },
  {
   "cell_type": "markdown",
   "id": "b0faf4ac-cc94-40f1-a90c-f81f924e8310",
   "metadata": {},
   "source": [
    "切片 分割"
   ]
  },
  {
   "cell_type": "code",
   "execution_count": null,
   "id": "5b03ceef-3d36-4610-8e44-f05ceb750116",
   "metadata": {},
   "outputs": [],
   "source": [
    "names.str[0:3]"
   ]
  },
  {
   "cell_type": "code",
   "execution_count": null,
   "id": "a3cb8264-081b-49c4-831f-3296bc9e3359",
   "metadata": {},
   "outputs": [],
   "source": [
    "names.str.split().get(-1)"
   ]
  },
  {
   "cell_type": "markdown",
   "id": "d1561955-83b4-4714-9a04-6be9fcacb4be",
   "metadata": {},
   "source": [
    "指标变量（one-hot编码）"
   ]
  },
  {
   "cell_type": "code",
   "execution_count": null,
   "id": "5deca447-8877-4fab-8c16-91ea24543b8e",
   "metadata": {},
   "outputs": [],
   "source": [
    "full_monte = pd.DataFrame({'name': names,\n",
    "    'info': ['B|C|D', 'B|D', 'A|C', 'B|D', \n",
    "    'B|C|D']})\n",
    "full_monte"
   ]
  },
  {
   "cell_type": "code",
   "execution_count": null,
   "id": "80307d1c-de51-48d6-955d-98d90d6028a2",
   "metadata": {},
   "outputs": [],
   "source": [
    "full_monte['info'].str.get_dummies('|')"
   ]
  },
  {
   "cell_type": "markdown",
   "id": "4627614f-f7e5-478a-8c07-e81c1fc2b524",
   "metadata": {},
   "source": [
    "### 3.11.3　案例：食谱数据库"
   ]
  },
  {
   "cell_type": "markdown",
   "id": "83044968-22e8-47a8-bda4-1bc8a8e9fa56",
   "metadata": {},
   "source": [
    "数据清理"
   ]
  },
  {
   "cell_type": "code",
   "execution_count": null,
   "id": "9c929b4a-0c5f-4b1b-966c-86fa289c859a",
   "metadata": {},
   "outputs": [],
   "source": [
    "try:\n",
    "    recipes = pd.read_json('recipeitems-latest.json')\n",
    "except ValueError as e:\n",
    "    print(\"ValueError:\",e) # 数据断行"
   ]
  },
  {
   "cell_type": "code",
   "execution_count": null,
   "id": "9585d1c6-303a-4557-8538-8263dffdb47d",
   "metadata": {},
   "outputs": [],
   "source": [
    "with open('recipeitems-latest.json') as f:\n",
    "    line = f.readline()\n",
    "pd.read_json(line).shape"
   ]
  },
  {
   "cell_type": "markdown",
   "id": "2c2e9884-64cd-41f4-b0d2-d17df66d0d7a",
   "metadata": {},
   "source": [
    "每一行都是json对象，[]组成json格式。\n",
    "解析到dataframe"
   ]
  },
  {
   "cell_type": "code",
   "execution_count": null,
   "id": "66417a7b-4933-4aad-8813-3a00aa304d8a",
   "metadata": {},
   "outputs": [],
   "source": [
    "with open('recipeitems-latest.json', 'r', encoding='utf-8') as f:\n",
    "    data = (line.strip() for line in f)\n",
    "    data_json = \"[{0}]\".format(','.join(data))\n",
    "recipes = pd.read_json(data_json)\n",
    "recipes.iloc[0]"
   ]
  },
  {
   "cell_type": "code",
   "execution_count": null,
   "id": "1307bf30-1f75-4f31-9519-9514b1acba85",
   "metadata": {},
   "outputs": [],
   "source": [
    "recipes['ingredients'].str.len().describe()"
   ]
  },
  {
   "cell_type": "markdown",
   "id": "4d892896-2487-44f6-98de-2e77b8005541",
   "metadata": {},
   "source": [
    "!这个字段最长居然有9000多个字符, 看看是哪个"
   ]
  },
  {
   "cell_type": "code",
   "execution_count": null,
   "id": "f147ff6a-3bc1-4950-bae9-493c4e2d0171",
   "metadata": {},
   "outputs": [],
   "source": [
    "recipes.iloc[np.argmax(recipes.ingredients.str.len())]"
   ]
  },
  {
   "cell_type": "code",
   "execution_count": null,
   "id": "630917f7-c0fe-4606-bbf4-35e2cb93d762",
   "metadata": {},
   "outputs": [],
   "source": [
    "recipes['description'].str.contains('[Bb]reakfast').sum() # 一共有3524个早餐"
   ]
  },
  {
   "cell_type": "markdown",
   "id": "901a5e95-f85d-43eb-895e-99fef04d8a9f",
   "metadata": {},
   "source": [
    "美食推荐系统\n",
    "根据用户有的食材取搜索"
   ]
  },
  {
   "cell_type": "code",
   "execution_count": null,
   "id": "ee52790b-8cda-472a-a65f-e684248df748",
   "metadata": {},
   "outputs": [],
   "source": [
    "spice_list = ['salt', 'pepper', 'oregano', 'sage', 'parsley',\n",
    "    'rosemary', 'tarragon', 'thyme', 'paprika', 'cumin']"
   ]
  },
  {
   "cell_type": "code",
   "execution_count": null,
   "id": "1cd08226-67f7-4905-b90d-75747ae3bbdf",
   "metadata": {},
   "outputs": [],
   "source": [
    "import re"
   ]
  },
  {
   "cell_type": "code",
   "execution_count": null,
   "id": "8363f094-b8da-4f16-a101-b8b88aed1b37",
   "metadata": {},
   "outputs": [],
   "source": [
    "spice_df = pd.DataFrame(dict( (spice, recipes['ingredients'].str.contains(spice, re.IGNORECASE))for spice in spice_list)) # 构建bool数组\n",
    "spice_df"
   ]
  },
  {
   "cell_type": "code",
   "execution_count": null,
   "id": "3e59b9ef-558f-4d37-9fbb-c6922a04ba6b",
   "metadata": {},
   "outputs": [],
   "source": [
    "selection = spice_df.query('parsley & paprika & sage')\n",
    "selection.index"
   ]
  },
  {
   "cell_type": "code",
   "execution_count": null,
   "id": "939a84b4-0060-455b-90f9-aa8cb456ff26",
   "metadata": {},
   "outputs": [],
   "source": [
    "recipes['name'][selection.index]"
   ]
  },
  {
   "cell_type": "markdown",
   "id": "5bd2be21-f0fe-469d-b20b-a5b12c9d5dd6",
   "metadata": {},
   "source": [
    "## 3.12　处理时间序列\n",
    "三种时间：时间戳，时间间隔（天），持续时间（s）"
   ]
  },
  {
   "cell_type": "markdown",
   "id": "6b4fe87d-8693-43f3-bc0b-f869cb9d6f5e",
   "metadata": {},
   "source": [
    "### 3.12.1　Python的日期与时间工具"
   ]
  },
  {
   "cell_type": "markdown",
   "id": "2c506368-941d-41dd-88c4-27dd7bbab626",
   "metadata": {},
   "source": [
    "1. 原生Python的日期与时间工具：datetime(标准库)与dateutil（三方）"
   ]
  },
  {
   "cell_type": "code",
   "execution_count": 1,
   "id": "618d631c-5f7e-4ebf-968a-b1bae9070d98",
   "metadata": {},
   "outputs": [
    {
     "data": {
      "text/plain": [
       "datetime.datetime(2015, 7, 4, 0, 0)"
      ]
     },
     "execution_count": 1,
     "metadata": {},
     "output_type": "execute_result"
    }
   ],
   "source": [
    "from datetime import datetime\n",
    "datetime(2015, 7, 4)"
   ]
  },
  {
   "cell_type": "code",
   "execution_count": 2,
   "id": "fc48d7f8-4d8c-4810-b67b-8ef238b3f7e6",
   "metadata": {},
   "outputs": [],
   "source": [
    "from dateutil import parser\n",
    "date = parser.parse(\"4th of July, 2015\")"
   ]
  },
  {
   "cell_type": "code",
   "execution_count": 3,
   "id": "867f644d-bba0-499d-a900-0de655b5041e",
   "metadata": {},
   "outputs": [
    {
     "data": {
      "text/plain": [
       "'Saturday'"
      ]
     },
     "execution_count": 3,
     "metadata": {},
     "output_type": "execute_result"
    }
   ],
   "source": [
    "date.strftime('%A') # 星期"
   ]
  },
  {
   "cell_type": "markdown",
   "id": "eda00801-65dd-4b60-835d-ceccbf7b3ea7",
   "metadata": {},
   "source": [
    "2. 时间类型数组：NumPy的datetime64类型\n",
    "- 是64位整数"
   ]
  },
  {
   "cell_type": "code",
   "execution_count": null,
   "id": "275fd0c9-4a77-4fc8-8f9f-8e8a00de4acb",
   "metadata": {},
   "outputs": [],
   "source": [
    "date = np.array('2015-07-04', dtype=np.datetime64)\n",
    "date"
   ]
  },
  {
   "cell_type": "code",
   "execution_count": null,
   "id": "121e23d4-237b-4840-9557-d5dfcb11f522",
   "metadata": {},
   "outputs": [],
   "source": [
    "date + np.arange(12)"
   ]
  },
  {
   "cell_type": "markdown",
   "id": "42afeb43-6294-4228-bf88-82c847665a9d",
   "metadata": {},
   "source": [
    "3. Pandas的日期与时间工具：理想与现实的最佳解决方案\n",
    "- 自己的TimeStamp对象实现\n",
    "- 可以使用一组TimeStamp对象创建时间索引"
   ]
  },
  {
   "cell_type": "code",
   "execution_count": 38,
   "id": "0a5fe283-6e34-4dbb-b87a-3106ff40b367",
   "metadata": {},
   "outputs": [
    {
     "data": {
      "text/plain": [
       "Timestamp('2015-07-04 00:00:00')"
      ]
     },
     "execution_count": 38,
     "metadata": {},
     "output_type": "execute_result"
    }
   ],
   "source": [
    "import pandas as pd\n",
    "pd.to_datetime(\"4th of July, 2015\")"
   ]
  },
  {
   "cell_type": "code",
   "execution_count": null,
   "id": "7d5919d7-81f0-4f1c-bae8-982df4c4ac2e",
   "metadata": {},
   "outputs": [],
   "source": [
    "几列合并一列"
   ]
  },
  {
   "cell_type": "code",
   "execution_count": null,
   "id": "89f6d3dc-d914-40d0-8f16-022daa23c22b",
   "metadata": {},
   "outputs": [],
   "source": [
    "# data['date'] = pd.to_datetime(data[['Yr', 'Mo', 'Dy']])"
   ]
  },
  {
   "cell_type": "markdown",
   "id": "a85760a3-3d92-4977-912a-e8f767d9b0f0",
   "metadata": {},
   "source": [
    "### 3.12.2　Pandas时间序列：用时间作索引"
   ]
  },
  {
   "cell_type": "code",
   "execution_count": 15,
   "id": "abe403ea-5dbb-40e3-b3ea-56cc03d19e38",
   "metadata": {},
   "outputs": [],
   "source": [
    "index = pd.DatetimeIndex(['2014-07-04', '2014-08-04',\n",
    "    '2015-07-04', '2015-08-04'])"
   ]
  },
  {
   "cell_type": "code",
   "execution_count": 16,
   "id": "dcc5e403-1d18-4a03-9b47-03d27dfd5c63",
   "metadata": {},
   "outputs": [
    {
     "data": {
      "text/plain": [
       "2014-07-04    0\n",
       "2014-08-04    1\n",
       "2015-07-04    2\n",
       "2015-08-04    3\n",
       "dtype: int64"
      ]
     },
     "execution_count": 16,
     "metadata": {},
     "output_type": "execute_result"
    }
   ],
   "source": [
    "data = pd.Series([0, 1, 2, 3], index=index)\n",
    "data"
   ]
  },
  {
   "cell_type": "code",
   "execution_count": 17,
   "id": "8b87e1b8-6339-4b18-91ef-7eff0ed92600",
   "metadata": {},
   "outputs": [
    {
     "data": {
      "text/plain": [
       "2015-07-04    2\n",
       "2015-08-04    3\n",
       "dtype: int64"
      ]
     },
     "execution_count": 17,
     "metadata": {},
     "output_type": "execute_result"
    }
   ],
   "source": [
    "data['2015'] # 可以直接获取一年的"
   ]
  },
  {
   "cell_type": "markdown",
   "id": "bcbe9153-5ddc-42af-8b03-3f078a6a2be2",
   "metadata": {},
   "source": [
    "### 3.12.3　Pandas时间序列数据结构\n",
    "TimeStamp, Period, Timedelta 时间结构即系列索引\n",
    "DateTimeIndex,PeriodIndex,TimedeltaIndex\n"
   ]
  },
  {
   "cell_type": "code",
   "execution_count": null,
   "id": "b8ab9977-e445-4069-8932-29c57fa691c5",
   "metadata": {},
   "outputs": [],
   "source": []
  },
  {
   "cell_type": "markdown",
   "id": "8e678053-2561-46f2-8a98-2d9acf8fccb2",
   "metadata": {},
   "source": [
    "to_datetime都是时间格式"
   ]
  },
  {
   "cell_type": "code",
   "execution_count": 42,
   "id": "7505d794-a79c-4d84-8b31-d757199b65f3",
   "metadata": {},
   "outputs": [
    {
     "data": {
      "text/plain": [
       "Timestamp('2020-01-01 00:00:00')"
      ]
     },
     "execution_count": 42,
     "metadata": {},
     "output_type": "execute_result"
    }
   ],
   "source": [
    "d = pd.to_datetime('2020',format='%Y')\n",
    "d"
   ]
  },
  {
   "cell_type": "code",
   "execution_count": 47,
   "id": "14eb944f-dae1-412d-b9ee-6efc7b416240",
   "metadata": {},
   "outputs": [
    {
     "data": {
      "text/plain": [
       "2020"
      ]
     },
     "execution_count": 47,
     "metadata": {},
     "output_type": "execute_result"
    }
   ],
   "source": [
    "d.year"
   ]
  },
  {
   "cell_type": "markdown",
   "id": "064e5d2a-df33-40ca-ab90-f384c490f445",
   "metadata": {},
   "source": [
    "支持replace修改"
   ]
  },
  {
   "cell_type": "code",
   "execution_count": 46,
   "id": "ad03a899-d3ef-4ac5-86ce-62e20e2810c9",
   "metadata": {},
   "outputs": [
    {
     "data": {
      "text/plain": [
       "Timestamp('1920-01-01 00:00:00')"
      ]
     },
     "execution_count": 46,
     "metadata": {},
     "output_type": "execute_result"
    }
   ],
   "source": [
    "d.replace(year=d.year - 100)"
   ]
  },
  {
   "cell_type": "code",
   "execution_count": 10,
   "id": "d4cb0e8f-e521-44de-9493-af15a93af74d",
   "metadata": {},
   "outputs": [],
   "source": [
    "from datetime import datetime"
   ]
  },
  {
   "cell_type": "code",
   "execution_count": 11,
   "id": "fa98eb7b-686f-4ead-9f0d-c1a7a23ac632",
   "metadata": {},
   "outputs": [
    {
     "data": {
      "text/plain": [
       "DatetimeIndex(['2015-07-03', '2015-07-04', '2015-07-06', '2015-07-07',\n",
       "               '2015-07-08'],\n",
       "              dtype='datetime64[ns]', freq=None)"
      ]
     },
     "execution_count": 11,
     "metadata": {},
     "output_type": "execute_result"
    }
   ],
   "source": [
    "dates = pd.to_datetime([datetime(2015, 7, 3), '4th of July, 2015','2015-Jul-6', '07-07-2015', '20150708'])\n",
    "dates"
   ]
  },
  {
   "cell_type": "code",
   "execution_count": 12,
   "id": "e8c5d7a6-8878-47be-8c68-3c9507d91466",
   "metadata": {},
   "outputs": [
    {
     "data": {
      "text/plain": [
       "PeriodIndex(['2015-07-03', '2015-07-04', '2015-07-06', '2015-07-07',\n",
       "             '2015-07-08'],\n",
       "            dtype='period[D]')"
      ]
     },
     "execution_count": 12,
     "metadata": {},
     "output_type": "execute_result"
    }
   ],
   "source": [
    "dates.to_period('D')"
   ]
  },
  {
   "cell_type": "code",
   "execution_count": null,
   "id": "cfa9692f-37d0-4270-9e3c-a5dd6e93bf9c",
   "metadata": {},
   "outputs": [],
   "source": [
    "dates - dates[0]"
   ]
  },
  {
   "cell_type": "markdown",
   "id": "ed4b34ce-ec8a-42e7-9e83-f86bc160bfb6",
   "metadata": {},
   "source": [
    "创建有规律时间序列"
   ]
  },
  {
   "cell_type": "code",
   "execution_count": 43,
   "id": "b96c6a54-0837-4c98-b622-a723064fd8d9",
   "metadata": {},
   "outputs": [
    {
     "data": {
      "text/plain": [
       "DatetimeIndex(['2012-01-01', '2012-01-02', '2012-01-03', '2012-01-04',\n",
       "               '2012-01-05', '2012-01-06', '2012-01-07', '2012-01-08',\n",
       "               '2012-01-09', '2012-01-10',\n",
       "               ...\n",
       "               '2012-12-23', '2012-12-24', '2012-12-25', '2012-12-26',\n",
       "               '2012-12-27', '2012-12-28', '2012-12-29', '2012-12-30',\n",
       "               '2012-12-31', '2013-01-01'],\n",
       "              dtype='datetime64[ns]', length=367, freq='D')"
      ]
     },
     "execution_count": 43,
     "metadata": {},
     "output_type": "execute_result"
    }
   ],
   "source": [
    "pd.date_range('20120101','20130101')"
   ]
  },
  {
   "cell_type": "code",
   "execution_count": null,
   "id": "b5df72fd-874a-4032-a5b8-608987e971c2",
   "metadata": {},
   "outputs": [],
   "source": [
    "pd.date_range('20140202', periods=8, freq='h')"
   ]
  },
  {
   "cell_type": "code",
   "execution_count": 44,
   "id": "8e944bad-3230-4f22-84a3-7942d194a6cf",
   "metadata": {},
   "outputs": [
    {
     "data": {
      "text/plain": [
       "PeriodIndex(['2017-01', '2017-02', '2017-03', '2017-04', '2017-05', '2017-06',\n",
       "             '2017-07', '2017-08'],\n",
       "            dtype='period[M]')"
      ]
     },
     "execution_count": 44,
     "metadata": {},
     "output_type": "execute_result"
    }
   ],
   "source": [
    "pd.period_range('201701', periods=8, freq='M')"
   ]
  },
  {
   "cell_type": "markdown",
   "id": "994dae0e-3eef-4d14-990e-780d88123c4b",
   "metadata": {},
   "source": [
    "### 3.12.4　时间频率与偏移量"
   ]
  },
  {
   "cell_type": "code",
   "execution_count": null,
   "id": "46b618f5-0c61-4c43-8880-09f5a41f64db",
   "metadata": {},
   "outputs": [],
   "source": [
    "pd.timedelta_range(0, periods=9, freq='2h30t') #间隔2消失的偏移量"
   ]
  },
  {
   "cell_type": "markdown",
   "id": "ae74f8d9-6e12-4eaa-b0d7-6fe249984ec2",
   "metadata": {},
   "source": [
    "### 3.12.5　重新取样、迁移和窗口"
   ]
  },
  {
   "cell_type": "code",
   "execution_count": null,
   "id": "f8aac2cb-5f2e-4698-8364-b7166d720275",
   "metadata": {},
   "outputs": [],
   "source": [
    "from pandas_datareader import data\n",
    "goog = data.DataReader('GOOGL', start='2019-1-1',data_source='stooq')\n",
    "goog.head()"
   ]
  },
  {
   "cell_type": "code",
   "execution_count": null,
   "id": "041eecbf-91d5-4508-8b0f-51ab7bd5c543",
   "metadata": {},
   "outputs": [],
   "source": [
    "goog['Close']"
   ]
  },
  {
   "cell_type": "code",
   "execution_count": null,
   "id": "5bb69d06-f710-4049-b6d6-d0c0cb1f1574",
   "metadata": {},
   "outputs": [],
   "source": [
    "goog['Close'].plot()"
   ]
  },
  {
   "cell_type": "markdown",
   "id": "e2c18ae2-2511-4cf9-b07f-a6efac09a287",
   "metadata": {},
   "source": [
    "resample以数据累计基础\n",
    "asfreq以数据取样基础"
   ]
  },
  {
   "cell_type": "code",
   "execution_count": null,
   "id": "6bae4a6b-87f3-41db-a87f-369162d5f70e",
   "metadata": {},
   "outputs": [],
   "source": [
    "goog['Close'].plot()\n",
    "goog['Close'].resample('BA').mean().plot(style = ':') # 上一年的均值\n",
    "goog['Close'].asfreq('BA').plot(style = '--') # 年末最后工作日值"
   ]
  },
  {
   "cell_type": "code",
   "execution_count": null,
   "id": "83bec598-0f65-46c6-b7cb-960418a433fe",
   "metadata": {},
   "outputs": [],
   "source": [
    "goog_close = goog['Close']\n",
    "data = goog_close.iloc[:10]\n",
    "data.asfreq('D').plot(style = '-o') # 生成时间序列,包含休息天\n",
    "data.asfreq('D', method='bfill').plot(style = '--') # 向后填充"
   ]
  },
  {
   "cell_type": "markdown",
   "id": "73e2e4e8-34d3-4c05-9d1e-033f5850cd17",
   "metadata": {},
   "source": [
    "时间迁移："
   ]
  },
  {
   "cell_type": "code",
   "execution_count": null,
   "id": "d0c92f49-a576-451a-81f8-4fdbc9245b99",
   "metadata": {},
   "outputs": [],
   "source": [
    "data = goog_close.asfreq('D', method='bfill')"
   ]
  },
  {
   "cell_type": "code",
   "execution_count": null,
   "id": "0cfabb37-d864-42fb-a2ba-f90893c8f568",
   "metadata": {},
   "outputs": [],
   "source": [
    "data.plot()\n",
    "data.shift(120).plot() # 向后迁移\n",
    "\n",
    "# 设置图例与标签\n",
    "local_max = pd.to_datetime('2007-11-05')\n",
    "offset = pd.Timedelta(120, 'D')"
   ]
  },
  {
   "cell_type": "markdown",
   "id": "8c2a8f6e-6c96-4bb8-92ef-4277ae92cda2",
   "metadata": {},
   "source": [
    "3. 移动时间窗口"
   ]
  },
  {
   "cell_type": "code",
   "execution_count": null,
   "id": "6665bdc6-21ac-4431-94e7-efe1e60f704c",
   "metadata": {},
   "outputs": [],
   "source": [
    "rolling = goog_close.rolling(365, center=True)\n",
    "data = pd.DataFrame({'input': goog_close,\n",
    "    'one-year rolling_mean': rolling.mean(),\n",
    "    'one-year rolling_std': rolling.std()})\n",
    "ax = data.plot(style=['-', '--', ':'])\n",
    "ax.lines[0].set_alpha(0.3)"
   ]
  },
  {
   "cell_type": "markdown",
   "id": "56744961-78ba-4293-8c40-2168b5b8acc2",
   "metadata": {},
   "source": [
    "### 3.12.7　案例：美国西雅图自行车统计数据的可视化\n",
    "弗莱蒙特桥每小时通行的自行车数量"
   ]
  },
  {
   "cell_type": "code",
   "execution_count": 18,
   "id": "fac676cb-d913-4f66-b73e-c54c6065c380",
   "metadata": {},
   "outputs": [
    {
     "name": "stderr",
     "output_type": "stream",
     "text": [
      "C:\\Users\\63517\\AppData\\Local\\Temp\\ipykernel_15928\\361130387.py:2: UserWarning: Could not infer format, so each element will be parsed individually, falling back to `dateutil`. To ensure parsing is consistent and as-expected, please specify a format.\n",
      "  data = pd.read_csv('Fremont_Bridge_Bicycle_Counter.csv', index_col='Date', parse_dates=True)\n"
     ]
    },
    {
     "data": {
      "text/html": [
       "<div>\n",
       "<style scoped>\n",
       "    .dataframe tbody tr th:only-of-type {\n",
       "        vertical-align: middle;\n",
       "    }\n",
       "\n",
       "    .dataframe tbody tr th {\n",
       "        vertical-align: top;\n",
       "    }\n",
       "\n",
       "    .dataframe thead th {\n",
       "        text-align: right;\n",
       "    }\n",
       "</style>\n",
       "<table border=\"1\" class=\"dataframe\">\n",
       "  <thead>\n",
       "    <tr style=\"text-align: right;\">\n",
       "      <th></th>\n",
       "      <th>Fremont Bridge Sidewalks, south of N 34th St</th>\n",
       "      <th>Fremont Bridge Sidewalks, south of N 34th St Cyclist West Sidewalk</th>\n",
       "      <th>Fremont Bridge Sidewalks, south of N 34th St Cyclist East Sidewalk</th>\n",
       "    </tr>\n",
       "    <tr>\n",
       "      <th>Date</th>\n",
       "      <th></th>\n",
       "      <th></th>\n",
       "      <th></th>\n",
       "    </tr>\n",
       "  </thead>\n",
       "  <tbody>\n",
       "    <tr>\n",
       "      <th>2012-10-02 13:00:00</th>\n",
       "      <td>55.0</td>\n",
       "      <td>7.0</td>\n",
       "      <td>48.0</td>\n",
       "    </tr>\n",
       "    <tr>\n",
       "      <th>2012-10-02 14:00:00</th>\n",
       "      <td>130.0</td>\n",
       "      <td>55.0</td>\n",
       "      <td>75.0</td>\n",
       "    </tr>\n",
       "    <tr>\n",
       "      <th>2012-10-02 15:00:00</th>\n",
       "      <td>152.0</td>\n",
       "      <td>81.0</td>\n",
       "      <td>71.0</td>\n",
       "    </tr>\n",
       "    <tr>\n",
       "      <th>2012-10-02 16:00:00</th>\n",
       "      <td>278.0</td>\n",
       "      <td>167.0</td>\n",
       "      <td>111.0</td>\n",
       "    </tr>\n",
       "    <tr>\n",
       "      <th>2012-10-02 17:00:00</th>\n",
       "      <td>563.0</td>\n",
       "      <td>393.0</td>\n",
       "      <td>170.0</td>\n",
       "    </tr>\n",
       "  </tbody>\n",
       "</table>\n",
       "</div>"
      ],
      "text/plain": [
       "                     Fremont Bridge Sidewalks, south of N 34th St  \\\n",
       "Date                                                                \n",
       "2012-10-02 13:00:00                                          55.0   \n",
       "2012-10-02 14:00:00                                         130.0   \n",
       "2012-10-02 15:00:00                                         152.0   \n",
       "2012-10-02 16:00:00                                         278.0   \n",
       "2012-10-02 17:00:00                                         563.0   \n",
       "\n",
       "                     Fremont Bridge Sidewalks, south of N 34th St Cyclist West Sidewalk  \\\n",
       "Date                                                                                      \n",
       "2012-10-02 13:00:00                                                7.0                    \n",
       "2012-10-02 14:00:00                                               55.0                    \n",
       "2012-10-02 15:00:00                                               81.0                    \n",
       "2012-10-02 16:00:00                                              167.0                    \n",
       "2012-10-02 17:00:00                                              393.0                    \n",
       "\n",
       "                     Fremont Bridge Sidewalks, south of N 34th St Cyclist East Sidewalk  \n",
       "Date                                                                                     \n",
       "2012-10-02 13:00:00                                               48.0                   \n",
       "2012-10-02 14:00:00                                               75.0                   \n",
       "2012-10-02 15:00:00                                               71.0                   \n",
       "2012-10-02 16:00:00                                              111.0                   \n",
       "2012-10-02 17:00:00                                              170.0                   "
      ]
     },
     "execution_count": 18,
     "metadata": {},
     "output_type": "execute_result"
    }
   ],
   "source": [
    "import pandas as pd\n",
    "data = pd.read_csv('Fremont_Bridge_Bicycle_Counter.csv', index_col='Date', parse_dates=True)\n",
    "data.head()"
   ]
  },
  {
   "cell_type": "code",
   "execution_count": null,
   "id": "ac2b2934-996f-40b4-88da-9b723620473c",
   "metadata": {},
   "outputs": [],
   "source": [
    "data.columns = ['total','West', 'East']"
   ]
  },
  {
   "cell_type": "code",
   "execution_count": null,
   "id": "6107ca8c-6dd5-4326-9f50-8f0d86a71cd6",
   "metadata": {},
   "outputs": [],
   "source": [
    "data.dropna().describe()"
   ]
  },
  {
   "cell_type": "code",
   "execution_count": null,
   "id": "0eb7166f-e2bf-492b-9e3f-f808863b4785",
   "metadata": {},
   "outputs": [],
   "source": [
    "data.plot() # 每hour自行车数量"
   ]
  },
  {
   "cell_type": "markdown",
   "id": "20a0df04-af23-4e69-bed4-c76d5c30520f",
   "metadata": {},
   "source": [
    "---  \n",
    "> `resample()`用于对时间序列数据（即索引DatetimeIndex）重新采样，可以指定时间间隔聚合数据。\n"
   ]
  },
  {
   "cell_type": "code",
   "execution_count": 1,
   "id": "590b8589-76f0-41fd-b24b-9414653a1bbf",
   "metadata": {},
   "outputs": [
    {
     "data": {
      "text/html": [
       "<div>\n",
       "<style scoped>\n",
       "    .dataframe tbody tr th:only-of-type {\n",
       "        vertical-align: middle;\n",
       "    }\n",
       "\n",
       "    .dataframe tbody tr th {\n",
       "        vertical-align: top;\n",
       "    }\n",
       "\n",
       "    .dataframe thead th {\n",
       "        text-align: right;\n",
       "    }\n",
       "</style>\n",
       "<table border=\"1\" class=\"dataframe\">\n",
       "  <thead>\n",
       "    <tr style=\"text-align: right;\">\n",
       "      <th></th>\n",
       "      <th>value</th>\n",
       "    </tr>\n",
       "  </thead>\n",
       "  <tbody>\n",
       "    <tr>\n",
       "      <th>2000-01-01</th>\n",
       "      <td>90</td>\n",
       "    </tr>\n",
       "    <tr>\n",
       "      <th>2000-01-02</th>\n",
       "      <td>31</td>\n",
       "    </tr>\n",
       "    <tr>\n",
       "      <th>2000-01-03</th>\n",
       "      <td>51</td>\n",
       "    </tr>\n",
       "    <tr>\n",
       "      <th>2000-01-04</th>\n",
       "      <td>31</td>\n",
       "    </tr>\n",
       "    <tr>\n",
       "      <th>2000-01-05</th>\n",
       "      <td>70</td>\n",
       "    </tr>\n",
       "    <tr>\n",
       "      <th>...</th>\n",
       "      <td>...</td>\n",
       "    </tr>\n",
       "    <tr>\n",
       "      <th>2002-09-22</th>\n",
       "      <td>66</td>\n",
       "    </tr>\n",
       "    <tr>\n",
       "      <th>2002-09-23</th>\n",
       "      <td>29</td>\n",
       "    </tr>\n",
       "    <tr>\n",
       "      <th>2002-09-24</th>\n",
       "      <td>40</td>\n",
       "    </tr>\n",
       "    <tr>\n",
       "      <th>2002-09-25</th>\n",
       "      <td>94</td>\n",
       "    </tr>\n",
       "    <tr>\n",
       "      <th>2002-09-26</th>\n",
       "      <td>27</td>\n",
       "    </tr>\n",
       "  </tbody>\n",
       "</table>\n",
       "<p>1000 rows × 1 columns</p>\n",
       "</div>"
      ],
      "text/plain": [
       "            value\n",
       "2000-01-01     90\n",
       "2000-01-02     31\n",
       "2000-01-03     51\n",
       "2000-01-04     31\n",
       "2000-01-05     70\n",
       "...           ...\n",
       "2002-09-22     66\n",
       "2002-09-23     29\n",
       "2002-09-24     40\n",
       "2002-09-25     94\n",
       "2002-09-26     27\n",
       "\n",
       "[1000 rows x 1 columns]"
      ]
     },
     "execution_count": 1,
     "metadata": {},
     "output_type": "execute_result"
    }
   ],
   "source": [
    "import pandas as pd\n",
    "import numpy as np\n",
    "\n",
    "# 创建示例数据\n",
    "dates = pd.date_range(start='2000-01-01', periods=1000, freq='D')\n",
    "data = pd.DataFrame({'value': np.random.randint(1, 100, size=1000)}, index=dates)\n",
    "\n",
    "# 1. 按月求和\n",
    "data.resample('ME').sum()\n",
    "\n",
    "# 2. 按季度求均值\n",
    "data.resample('QE').mean()\n",
    "\n",
    "# 3. 按 10 年聚合\n",
    "data.resample('10YS').sum()\n",
    "\n",
    "# 4. 重新采样，并前向填充缺失值\n",
    "data.resample('D').ffill()\n"
   ]
  },
  {
   "cell_type": "markdown",
   "id": "91c53eff-702e-4f3e-a7c5-d514c646c500",
   "metadata": {},
   "source": [
    "---"
   ]
  },
  {
   "cell_type": "code",
   "execution_count": 19,
   "id": "31ee017a-1992-41bd-9d45-21487ba5070e",
   "metadata": {},
   "outputs": [
    {
     "data": {
      "text/plain": [
       "<Axes: xlabel='Date'>"
      ]
     },
     "execution_count": 19,
     "metadata": {},
     "output_type": "execute_result"
    },
    {
     "data": {
      "image/png": "[encoded data removed]",
      "text/plain": [
       "<Figure size 640x480 with 1 Axes>"
      ]
     },
     "metadata": {},
     "output_type": "display_data"
    }
   ],
   "source": [
    "weekly = data.resample('W').sum()\n",
    "weekly.plot(style = ['-','--',':'])"
   ]
  },
  {
   "cell_type": "code",
   "execution_count": null,
   "id": "f16b805a-4dd2-4e48-b72d-54d723d5a9b2",
   "metadata": {},
   "outputs": [],
   "source": [
    "daily = data.resample('D').sum() #日\n",
    "daily.rolling(30, center=True).mean().plot(style=[':', '--', '-']) # 30日移动平均"
   ]
  },
  {
   "cell_type": "markdown",
   "id": "72404a3b-7438-4653-ba53-a4adc419d96e",
   "metadata": {},
   "source": [
    "平滑"
   ]
  },
  {
   "cell_type": "code",
   "execution_count": null,
   "id": "cf8d6e76-d141-457d-b23b-07ed2ccb470a",
   "metadata": {},
   "outputs": [],
   "source": [
    "daily.rolling(50, win_type='gaussian').sum(std=10).plot(style=[':', '--', '-']);"
   ]
  },
  {
   "cell_type": "markdown",
   "id": "d2b51adf-eb25-47dd-941b-b77740030f2d",
   "metadata": {},
   "source": [
    "## 3.13　高性能Pandas：eval()与query()\n",
    "直接运行c语言"
   ]
  },
  {
   "cell_type": "markdown",
   "id": "4c9a3d95-7a97-48aa-8108-d4b07a94a994",
   "metadata": {},
   "source": [
    "### 3.13.1　query()与eval()的设计动机：复合代数式"
   ]
  },
  {
   "cell_type": "code",
   "execution_count": null,
   "id": "ab001c97-1adf-48eb-8994-0328583fcda2",
   "metadata": {},
   "outputs": [],
   "source": [
    "import numpy as np\n",
    "rng = np.random.RandomState(42)\n",
    "x = rng.rand(100000)\n",
    "y = rng.rand(100000)\n",
    "%timeit x+y # %timeit单行代码"
   ]
  },
  {
   "cell_type": "markdown",
   "id": "f810eaee-2b18-45bd-a8af-76986654d1ce",
   "metadata": {},
   "source": [
    "但处理复合式子很慢，  这样情景对于大数组应该采用更高效的方式"
   ]
  },
  {
   "cell_type": "code",
   "execution_count": null,
   "id": "44957a75-83f1-4553-81e1-4bf93f11d499",
   "metadata": {},
   "outputs": [],
   "source": [
    "mask = (x > 0.5) & (y < 0.5)"
   ]
  },
  {
   "cell_type": "markdown",
   "id": "d6c90100-c960-4658-a6d6-4392728ed8c7",
   "metadata": {},
   "source": [
    "### 3.13.2　用pandas.eval()实现高性能运算\n",
    "用字符串的代数式 代替了 运算表达式"
   ]
  },
  {
   "cell_type": "code",
   "execution_count": 32,
   "id": "53fbab7c-3241-4516-9fed-97c55a24c9e9",
   "metadata": {},
   "outputs": [],
   "source": [
    "import numpy as np\n",
    "import pandas as pd\n",
    "nrows, ncols = 100000, 100 \n",
    "rng = np.random.RandomState(42) \n",
    "df1, df2, df3, df4 = (pd.DataFrame(rng.rand(nrows, ncols)) \n",
    "                     for i in range(4))"
   ]
  },
  {
   "cell_type": "markdown",
   "id": "e664cd68-f6d2-46bc-987b-a27a548fa1a4",
   "metadata": {},
   "source": [
    "普通方法计算和"
   ]
  },
  {
   "cell_type": "code",
   "execution_count": 33,
   "id": "68531214-913f-4a6d-890a-446c94cce07c",
   "metadata": {},
   "outputs": [
    {
     "name": "stdout",
     "output_type": "stream",
     "text": [
      "46.3 ms ± 5.12 ms per loop (mean ± std. dev. of 7 runs, 10 loops each)\n"
     ]
    }
   ],
   "source": [
    "%timeit df1+df2+df3+df4"
   ]
  },
  {
   "cell_type": "markdown",
   "id": "3a3d8fd3-3907-49ec-ba91-2328ccc5648b",
   "metadata": {},
   "source": [
    "eval字符串代数式计算"
   ]
  },
  {
   "cell_type": "code",
   "execution_count": 34,
   "id": "3ff93b60-1818-4a80-b689-75e39daeff9d",
   "metadata": {},
   "outputs": [
    {
     "name": "stdout",
     "output_type": "stream",
     "text": [
      "16.6 ms ± 595 µs per loop (mean ± std. dev. of 7 runs, 100 loops each)\n"
     ]
    }
   ],
   "source": [
    "%timeit pd.eval('df1+df2+df3+df4')"
   ]
  },
  {
   "cell_type": "markdown",
   "id": "7fb40162-9d57-4408-b274-5d8c88bbac7d",
   "metadata": {},
   "source": [
    "!明显eval速度快一倍"
   ]
  },
  {
   "cell_type": "markdown",
   "id": "0739031d-fc9f-4d00-b589-969b9d558c52",
   "metadata": {},
   "source": [
    "**pd.eval()支持的运算**"
   ]
  },
  {
   "cell_type": "code",
   "execution_count": 35,
   "id": "bfa413d5-df14-4464-8c30-bc99c903a2a0",
   "metadata": {},
   "outputs": [],
   "source": [
    "df1, df2, df3, df4, df5 = (pd.DataFrame(rng.randint(0, 1000, (100, 3))) for i in range(5))"
   ]
  },
  {
   "cell_type": "markdown",
   "id": "1f981791-ded7-4553-b0c9-7192b0418695",
   "metadata": {},
   "source": [
    "1. 算数运算"
   ]
  },
  {
   "cell_type": "code",
   "execution_count": 36,
   "id": "71a70d86-7dc4-473c-a36d-197df833c5fd",
   "metadata": {},
   "outputs": [
    {
     "data": {
      "text/plain": [
       "True"
      ]
     },
     "execution_count": 36,
     "metadata": {},
     "output_type": "execute_result"
    }
   ],
   "source": [
    "result1 = -df1 * df2 / (df3 + df4) - df5 \n",
    "result2 = pd.eval('-df1 * df2 / (df3 + df4) - df5') \n",
    "np.allclose(result1, result2) # 检查是否近似相等"
   ]
  },
  {
   "cell_type": "markdown",
   "id": "6f7381c8-a4d6-488a-b763-b2bbf09ab4b7",
   "metadata": {},
   "source": [
    "2. 比较运算"
   ]
  },
  {
   "cell_type": "code",
   "execution_count": 37,
   "id": "dc6e19d9-fe7a-4207-b141-1fab1ebb5755",
   "metadata": {},
   "outputs": [
    {
     "data": {
      "text/plain": [
       "True"
      ]
     },
     "execution_count": 37,
     "metadata": {},
     "output_type": "execute_result"
    }
   ],
   "source": [
    "result1 = (df1 < df2) & (df2 <= df3) & (df3 != df4) \n",
    "result2 = pd.eval('df1 < df2 <= df3 != df4') \n",
    "np.allclose(result1, result2) "
   ]
  },
  {
   "cell_type": "markdown",
   "id": "0f0fc65f-9163-45fe-8f24-2f0efbf8b06d",
   "metadata": {},
   "source": [
    "3. 位运算"
   ]
  },
  {
   "cell_type": "code",
   "execution_count": 38,
   "id": "3d41874e-61c6-4f59-8f35-2e5f1d730416",
   "metadata": {},
   "outputs": [
    {
     "data": {
      "text/plain": [
       "True"
      ]
     },
     "execution_count": 38,
     "metadata": {},
     "output_type": "execute_result"
    }
   ],
   "source": [
    "result1 = (df1 < 0.5) & (df2 < 0.5) | (df3 < df4) \n",
    "result2 = pd.eval('(df1 < 0.5) & (df2 < 0.5) | (df3 < df4)') \n",
    "np.allclose(result1, result2) "
   ]
  },
  {
   "cell_type": "code",
   "execution_count": 39,
   "id": "9f5d9b8c-cced-48d1-99cd-174199744a73",
   "metadata": {},
   "outputs": [
    {
     "data": {
      "text/plain": [
       "True"
      ]
     },
     "execution_count": 39,
     "metadata": {},
     "output_type": "execute_result"
    }
   ],
   "source": [
    "result3 = pd.eval('(df1 < 0.5) and (df2 < 0.5) or (df3 < df4)') \n",
    "np.allclose(result1, result3) "
   ]
  },
  {
   "cell_type": "markdown",
   "id": "77bed152-84e6-41e9-af17-881f3f9d13a2",
   "metadata": {},
   "source": [
    "4.  对象属性与索引"
   ]
  },
  {
   "cell_type": "code",
   "execution_count": 40,
   "id": "d34cc526-3af3-457a-85f4-55ec96bac5ec",
   "metadata": {},
   "outputs": [
    {
     "name": "stdout",
     "output_type": "stream",
     "text": [
      "0    841\n",
      "1    729\n",
      "2    937\n",
      "dtype: int32\n"
     ]
    },
    {
     "data": {
      "text/plain": [
       "True"
      ]
     },
     "execution_count": 40,
     "metadata": {},
     "output_type": "execute_result"
    }
   ],
   "source": [
    "result1 = df2.T[0] + df3.iloc[1] \n",
    "print(result1)\n",
    "result2 = pd.eval('df2.T[0] + df3.iloc[1]') \n",
    "np.allclose(result1, result2) "
   ]
  },
  {
   "cell_type": "markdown",
   "id": "c0fba928-8f01-4600-9920-7bfddca08ec4",
   "metadata": {},
   "source": [
    "### 3.13.3　用DataFrame.eval()实现列间运算\n",
    "eval可以直接用列名计算！"
   ]
  },
  {
   "cell_type": "code",
   "execution_count": 42,
   "id": "fb137d94-319c-479e-ba29-7ba018e5e171",
   "metadata": {},
   "outputs": [
    {
     "data": {
      "text/html": [
       "<div>\n",
       "<style scoped>\n",
       "    .dataframe tbody tr th:only-of-type {\n",
       "        vertical-align: middle;\n",
       "    }\n",
       "\n",
       "    .dataframe tbody tr th {\n",
       "        vertical-align: top;\n",
       "    }\n",
       "\n",
       "    .dataframe thead th {\n",
       "        text-align: right;\n",
       "    }\n",
       "</style>\n",
       "<table border=\"1\" class=\"dataframe\">\n",
       "  <thead>\n",
       "    <tr style=\"text-align: right;\">\n",
       "      <th></th>\n",
       "      <th>A</th>\n",
       "      <th>B</th>\n",
       "      <th>C</th>\n",
       "    </tr>\n",
       "  </thead>\n",
       "  <tbody>\n",
       "    <tr>\n",
       "      <th>0</th>\n",
       "      <td>0.375506</td>\n",
       "      <td>0.406939</td>\n",
       "      <td>0.069938</td>\n",
       "    </tr>\n",
       "    <tr>\n",
       "      <th>1</th>\n",
       "      <td>0.069087</td>\n",
       "      <td>0.235615</td>\n",
       "      <td>0.154374</td>\n",
       "    </tr>\n",
       "    <tr>\n",
       "      <th>2</th>\n",
       "      <td>0.677945</td>\n",
       "      <td>0.433839</td>\n",
       "      <td>0.652324</td>\n",
       "    </tr>\n",
       "    <tr>\n",
       "      <th>3</th>\n",
       "      <td>0.264038</td>\n",
       "      <td>0.808055</td>\n",
       "      <td>0.347197</td>\n",
       "    </tr>\n",
       "    <tr>\n",
       "      <th>4</th>\n",
       "      <td>0.589161</td>\n",
       "      <td>0.252418</td>\n",
       "      <td>0.557789</td>\n",
       "    </tr>\n",
       "  </tbody>\n",
       "</table>\n",
       "</div>"
      ],
      "text/plain": [
       "          A         B         C\n",
       "0  0.375506  0.406939  0.069938\n",
       "1  0.069087  0.235615  0.154374\n",
       "2  0.677945  0.433839  0.652324\n",
       "3  0.264038  0.808055  0.347197\n",
       "4  0.589161  0.252418  0.557789"
      ]
     },
     "execution_count": 42,
     "metadata": {},
     "output_type": "execute_result"
    }
   ],
   "source": [
    "df = pd.DataFrame(rng.rand(1000, 3), columns=['A', 'B', 'C']) \n",
    "df.head() "
   ]
  },
  {
   "cell_type": "markdown",
   "id": "5dccb409-cff9-4e1f-88de-8b87122d726d",
   "metadata": {},
   "source": [
    "正常的eval写法， 通过.引用列（属性）"
   ]
  },
  {
   "cell_type": "code",
   "execution_count": 43,
   "id": "206f33a8-cd23-4cac-86b8-e0da05dad9ad",
   "metadata": {},
   "outputs": [
    {
     "data": {
      "text/plain": [
       "True"
      ]
     },
     "execution_count": 43,
     "metadata": {},
     "output_type": "execute_result"
    }
   ],
   "source": [
    "result1 = (df['A'] + df['B']) / (df['C'] - 1) \n",
    "result2 = pd.eval(\"(df.A + df.B) / (df.C - 1)\") \n",
    "np.allclose(result1, result2) "
   ]
  },
  {
   "cell_type": "markdown",
   "id": "bc47ebe4-4667-4029-816e-d978ca51f030",
   "metadata": {},
   "source": [
    "更加简洁的，通过df调用eval"
   ]
  },
  {
   "cell_type": "code",
   "execution_count": 44,
   "id": "0a18c8d6-850a-40f0-9ac3-6712e7f7b96e",
   "metadata": {},
   "outputs": [
    {
     "data": {
      "text/plain": [
       "True"
      ]
     },
     "execution_count": 44,
     "metadata": {},
     "output_type": "execute_result"
    }
   ],
   "source": [
    "result3 = df.eval('(A + B) / (C - 1)') \n",
    "np.allclose(result1, result3) "
   ]
  },
  {
   "cell_type": "markdown",
   "id": "8bdd2e81-e6aa-48f4-bd9a-9848487606bb",
   "metadata": {},
   "source": [
    "其他常见使用：\n",
    "1. 使用df.eval增加列"
   ]
  },
  {
   "cell_type": "code",
   "execution_count": 45,
   "id": "b5079244-666c-468a-8f97-57308e1b42a9",
   "metadata": {},
   "outputs": [
    {
     "data": {
      "text/html": [
       "<div>\n",
       "<style scoped>\n",
       "    .dataframe tbody tr th:only-of-type {\n",
       "        vertical-align: middle;\n",
       "    }\n",
       "\n",
       "    .dataframe tbody tr th {\n",
       "        vertical-align: top;\n",
       "    }\n",
       "\n",
       "    .dataframe thead th {\n",
       "        text-align: right;\n",
       "    }\n",
       "</style>\n",
       "<table border=\"1\" class=\"dataframe\">\n",
       "  <thead>\n",
       "    <tr style=\"text-align: right;\">\n",
       "      <th></th>\n",
       "      <th>A</th>\n",
       "      <th>B</th>\n",
       "      <th>C</th>\n",
       "      <th>D</th>\n",
       "    </tr>\n",
       "  </thead>\n",
       "  <tbody>\n",
       "    <tr>\n",
       "      <th>0</th>\n",
       "      <td>0.375506</td>\n",
       "      <td>0.406939</td>\n",
       "      <td>0.069938</td>\n",
       "      <td>11.187620</td>\n",
       "    </tr>\n",
       "    <tr>\n",
       "      <th>1</th>\n",
       "      <td>0.069087</td>\n",
       "      <td>0.235615</td>\n",
       "      <td>0.154374</td>\n",
       "      <td>1.973796</td>\n",
       "    </tr>\n",
       "    <tr>\n",
       "      <th>2</th>\n",
       "      <td>0.677945</td>\n",
       "      <td>0.433839</td>\n",
       "      <td>0.652324</td>\n",
       "      <td>1.704344</td>\n",
       "    </tr>\n",
       "    <tr>\n",
       "      <th>3</th>\n",
       "      <td>0.264038</td>\n",
       "      <td>0.808055</td>\n",
       "      <td>0.347197</td>\n",
       "      <td>3.087857</td>\n",
       "    </tr>\n",
       "    <tr>\n",
       "      <th>4</th>\n",
       "      <td>0.589161</td>\n",
       "      <td>0.252418</td>\n",
       "      <td>0.557789</td>\n",
       "      <td>1.508776</td>\n",
       "    </tr>\n",
       "  </tbody>\n",
       "</table>\n",
       "</div>"
      ],
      "text/plain": [
       "          A         B         C          D\n",
       "0  0.375506  0.406939  0.069938  11.187620\n",
       "1  0.069087  0.235615  0.154374   1.973796\n",
       "2  0.677945  0.433839  0.652324   1.704344\n",
       "3  0.264038  0.808055  0.347197   3.087857\n",
       "4  0.589161  0.252418  0.557789   1.508776"
      ]
     },
     "execution_count": 45,
     "metadata": {},
     "output_type": "execute_result"
    }
   ],
   "source": [
    "df.eval('D = (A + B) / C', inplace= True)\n",
    "df.head()"
   ]
  },
  {
   "cell_type": "markdown",
   "id": "de426ea8-49e4-4401-8bfa-0161674f9ff5",
   "metadata": {},
   "source": [
    "2. df.eval通过@使用局部变量， 而不仅是上面的列名"
   ]
  },
  {
   "cell_type": "code",
   "execution_count": 46,
   "id": "bd76dea6-fc85-4b7b-ad7d-182ade9f3cf0",
   "metadata": {},
   "outputs": [
    {
     "data": {
      "text/plain": [
       "True"
      ]
     },
     "execution_count": 46,
     "metadata": {},
     "output_type": "execute_result"
    }
   ],
   "source": [
    "column_mean = df.mean(1) \n",
    "result1 = df['A'] + column_mean \n",
    "result2 = df.eval('A + @column_mean') \n",
    "np.allclose(result1, result2) "
   ]
  },
  {
   "cell_type": "markdown",
   "id": "cbe27d3a-4484-4f5b-a2b0-3e53262e1fd8",
   "metadata": {},
   "source": [
    "### 3.13.4　DataFrame.query()方法\n",
    "更加简化之间的eval查询过滤运算"
   ]
  },
  {
   "cell_type": "markdown",
   "id": "705da147-6f90-4feb-9a49-9636294e839a",
   "metadata": {},
   "source": [
    "eval过滤写法"
   ]
  },
  {
   "cell_type": "code",
   "execution_count": 51,
   "id": "4ad7a2b7-aefd-4216-bda8-753716fc3c95",
   "metadata": {},
   "outputs": [
    {
     "data": {
      "text/plain": [
       "True"
      ]
     },
     "execution_count": 51,
     "metadata": {},
     "output_type": "execute_result"
    }
   ],
   "source": [
    "result1 = df[(df.A < 0.5) & (df.B < 0.5)] \n",
    "result2 = pd.eval('df[(df.A < 0.5) & (df.B < 0.5)]') \n",
    "np.allclose(result1, result2) \n"
   ]
  },
  {
   "cell_type": "code",
   "execution_count": 52,
   "id": "baa8e466-c0a4-40c5-93cb-bf158a71f20e",
   "metadata": {},
   "outputs": [
    {
     "ename": "AttributeError",
     "evalue": "'Series' object has no attribute 'query'",
     "output_type": "error",
     "traceback": [
      "\u001b[1;31m---------------------------------------------------------------------------\u001b[0m",
      "\u001b[1;31mAttributeError\u001b[0m                            Traceback (most recent call last)",
      "Cell \u001b[1;32mIn[52], line 1\u001b[0m\n\u001b[1;32m----> 1\u001b[0m \u001b[43mdf\u001b[49m\u001b[38;5;241;43m.\u001b[39;49m\u001b[43mA\u001b[49m\u001b[38;5;241;43m.\u001b[39;49m\u001b[43mquery\u001b[49m(\u001b[38;5;124m'\u001b[39m\u001b[38;5;124m<0.5\u001b[39m\u001b[38;5;124m'\u001b[39m)\n",
      "File \u001b[1;32md:\\miniconda3\\Lib\\site-packages\\pandas\\core\\generic.py:6299\u001b[0m, in \u001b[0;36mNDFrame.__getattr__\u001b[1;34m(self, name)\u001b[0m\n\u001b[0;32m   6292\u001b[0m \u001b[38;5;28;01mif\u001b[39;00m (\n\u001b[0;32m   6293\u001b[0m     name \u001b[38;5;129;01mnot\u001b[39;00m \u001b[38;5;129;01min\u001b[39;00m \u001b[38;5;28mself\u001b[39m\u001b[38;5;241m.\u001b[39m_internal_names_set\n\u001b[0;32m   6294\u001b[0m     \u001b[38;5;129;01mand\u001b[39;00m name \u001b[38;5;129;01mnot\u001b[39;00m \u001b[38;5;129;01min\u001b[39;00m \u001b[38;5;28mself\u001b[39m\u001b[38;5;241m.\u001b[39m_metadata\n\u001b[0;32m   6295\u001b[0m     \u001b[38;5;129;01mand\u001b[39;00m name \u001b[38;5;129;01mnot\u001b[39;00m \u001b[38;5;129;01min\u001b[39;00m \u001b[38;5;28mself\u001b[39m\u001b[38;5;241m.\u001b[39m_accessors\n\u001b[0;32m   6296\u001b[0m     \u001b[38;5;129;01mand\u001b[39;00m \u001b[38;5;28mself\u001b[39m\u001b[38;5;241m.\u001b[39m_info_axis\u001b[38;5;241m.\u001b[39m_can_hold_identifiers_and_holds_name(name)\n\u001b[0;32m   6297\u001b[0m ):\n\u001b[0;32m   6298\u001b[0m     \u001b[38;5;28;01mreturn\u001b[39;00m \u001b[38;5;28mself\u001b[39m[name]\n\u001b[1;32m-> 6299\u001b[0m \u001b[38;5;28;01mreturn\u001b[39;00m \u001b[38;5;28;43mobject\u001b[39;49m\u001b[38;5;241;43m.\u001b[39;49m\u001b[38;5;21;43m__getattribute__\u001b[39;49m\u001b[43m(\u001b[49m\u001b[38;5;28;43mself\u001b[39;49m\u001b[43m,\u001b[49m\u001b[43m \u001b[49m\u001b[43mname\u001b[49m\u001b[43m)\u001b[49m\n",
      "\u001b[1;31mAttributeError\u001b[0m: 'Series' object has no attribute 'query'"
     ]
    }
   ],
   "source": [
    "df.A.query('<0.5')"
   ]
  },
  {
   "cell_type": "markdown",
   "id": "710f12d4-5a2f-4df6-b1f2-7db40fdb7dab",
   "metadata": {},
   "source": [
    "query写法"
   ]
  },
  {
   "cell_type": "code",
   "execution_count": 48,
   "id": "4b1616bf-fe2c-4863-bd2d-2784590d3521",
   "metadata": {},
   "outputs": [
    {
     "data": {
      "text/plain": [
       "True"
      ]
     },
     "execution_count": 48,
     "metadata": {},
     "output_type": "execute_result"
    }
   ],
   "source": [
    "Cmean = df['C'].mean() \n",
    "result1 = df[(df.A < Cmean) & (df.B < Cmean)] \n",
    "result2 = df.query('A < @Cmean and B < @Cmean') \n",
    "np.allclose(result1, result2) "
   ]
  },
  {
   "cell_type": "code",
   "execution_count": 49,
   "id": "fae6edaf-6b5e-4622-a58c-e21f294449a3",
   "metadata": {},
   "outputs": [
    {
     "ename": "ValueError",
     "evalue": "operands could not be broadcast together with shapes (235,4) (231,4) ",
     "output_type": "error",
     "traceback": [
      "\u001b[1;31m---------------------------------------------------------------------------\u001b[0m",
      "\u001b[1;31mValueError\u001b[0m                                Traceback (most recent call last)",
      "Cell \u001b[1;32mIn[49], line 2\u001b[0m\n\u001b[0;32m      1\u001b[0m result2 \u001b[38;5;241m=\u001b[39m df\u001b[38;5;241m.\u001b[39mquery(\u001b[38;5;124m'\u001b[39m\u001b[38;5;124mA < 0.5 and B < 0.5\u001b[39m\u001b[38;5;124m'\u001b[39m) \n\u001b[1;32m----> 2\u001b[0m \u001b[43mnp\u001b[49m\u001b[38;5;241;43m.\u001b[39;49m\u001b[43mallclose\u001b[49m\u001b[43m(\u001b[49m\u001b[43mresult1\u001b[49m\u001b[43m,\u001b[49m\u001b[43m \u001b[49m\u001b[43mresult2\u001b[49m\u001b[43m)\u001b[49m \n",
      "File \u001b[1;32md:\\miniconda3\\Lib\\site-packages\\numpy\\_core\\numeric.py:2329\u001b[0m, in \u001b[0;36mallclose\u001b[1;34m(a, b, rtol, atol, equal_nan)\u001b[0m\n\u001b[0;32m   2243\u001b[0m \u001b[38;5;129m@array_function_dispatch\u001b[39m(_allclose_dispatcher)\n\u001b[0;32m   2244\u001b[0m \u001b[38;5;28;01mdef\u001b[39;00m \u001b[38;5;21mallclose\u001b[39m(a, b, rtol\u001b[38;5;241m=\u001b[39m\u001b[38;5;241m1.e-5\u001b[39m, atol\u001b[38;5;241m=\u001b[39m\u001b[38;5;241m1.e-8\u001b[39m, equal_nan\u001b[38;5;241m=\u001b[39m\u001b[38;5;28;01mFalse\u001b[39;00m):\n\u001b[0;32m   2245\u001b[0m \u001b[38;5;250m    \u001b[39m\u001b[38;5;124;03m\"\"\"\u001b[39;00m\n\u001b[0;32m   2246\u001b[0m \u001b[38;5;124;03m    Returns True if two arrays are element-wise equal within a tolerance.\u001b[39;00m\n\u001b[0;32m   2247\u001b[0m \n\u001b[1;32m   (...)\u001b[0m\n\u001b[0;32m   2327\u001b[0m \n\u001b[0;32m   2328\u001b[0m \u001b[38;5;124;03m    \"\"\"\u001b[39;00m\n\u001b[1;32m-> 2329\u001b[0m     res \u001b[38;5;241m=\u001b[39m \u001b[38;5;28mall\u001b[39m(\u001b[43misclose\u001b[49m\u001b[43m(\u001b[49m\u001b[43ma\u001b[49m\u001b[43m,\u001b[49m\u001b[43m \u001b[49m\u001b[43mb\u001b[49m\u001b[43m,\u001b[49m\u001b[43m \u001b[49m\u001b[43mrtol\u001b[49m\u001b[38;5;241;43m=\u001b[39;49m\u001b[43mrtol\u001b[49m\u001b[43m,\u001b[49m\u001b[43m \u001b[49m\u001b[43matol\u001b[49m\u001b[38;5;241;43m=\u001b[39;49m\u001b[43matol\u001b[49m\u001b[43m,\u001b[49m\u001b[43m \u001b[49m\u001b[43mequal_nan\u001b[49m\u001b[38;5;241;43m=\u001b[39;49m\u001b[43mequal_nan\u001b[49m\u001b[43m)\u001b[49m)\n\u001b[0;32m   2330\u001b[0m     \u001b[38;5;28;01mreturn\u001b[39;00m builtins\u001b[38;5;241m.\u001b[39mbool(res)\n",
      "File \u001b[1;32md:\\miniconda3\\Lib\\site-packages\\numpy\\_core\\numeric.py:2447\u001b[0m, in \u001b[0;36misclose\u001b[1;34m(a, b, rtol, atol, equal_nan)\u001b[0m\n\u001b[0;32m   2444\u001b[0m     y \u001b[38;5;241m=\u001b[39m \u001b[38;5;28mfloat\u001b[39m(y)\n\u001b[0;32m   2446\u001b[0m \u001b[38;5;28;01mwith\u001b[39;00m errstate(invalid\u001b[38;5;241m=\u001b[39m\u001b[38;5;124m'\u001b[39m\u001b[38;5;124mignore\u001b[39m\u001b[38;5;124m'\u001b[39m):\n\u001b[1;32m-> 2447\u001b[0m     result \u001b[38;5;241m=\u001b[39m (less_equal(\u001b[38;5;28mabs\u001b[39m(\u001b[43mx\u001b[49m\u001b[38;5;241;43m-\u001b[39;49m\u001b[43my\u001b[49m), atol \u001b[38;5;241m+\u001b[39m rtol \u001b[38;5;241m*\u001b[39m \u001b[38;5;28mabs\u001b[39m(y))\n\u001b[0;32m   2448\u001b[0m               \u001b[38;5;241m&\u001b[39m isfinite(y)\n\u001b[0;32m   2449\u001b[0m               \u001b[38;5;241m|\u001b[39m (x \u001b[38;5;241m==\u001b[39m y))\n\u001b[0;32m   2450\u001b[0m     \u001b[38;5;28;01mif\u001b[39;00m equal_nan:\n\u001b[0;32m   2451\u001b[0m         result \u001b[38;5;241m|\u001b[39m\u001b[38;5;241m=\u001b[39m isnan(x) \u001b[38;5;241m&\u001b[39m isnan(y)\n",
      "\u001b[1;31mValueError\u001b[0m: operands could not be broadcast together with shapes (235,4) (231,4) "
     ]
    }
   ],
   "source": [
    "result2 = df.query('A < 0.5 and B < 0.5') \n",
    "np.allclose(result1, result2) "
   ]
  },
  {
   "cell_type": "code",
   "execution_count": 50,
   "id": "0a9145de-0a2b-4034-8fa0-a58ffbd47783",
   "metadata": {},
   "outputs": [
    {
     "ename": "SyntaxError",
     "evalue": "invalid syntax (1951995059.py, line 1)",
     "output_type": "error",
     "traceback": [
      "\u001b[1;36m  Cell \u001b[1;32mIn[50], line 1\u001b[1;36m\u001b[0m\n\u001b[1;33m    df[]\u001b[0m\n\u001b[1;37m       ^\u001b[0m\n\u001b[1;31mSyntaxError\u001b[0m\u001b[1;31m:\u001b[0m invalid syntax\n"
     ]
    }
   ],
   "source": [
    "df[]"
   ]
  },
  {
   "cell_type": "code",
   "execution_count": null,
   "id": "f30b8e1d-fea8-4c76-b4d2-446183a02e3e",
   "metadata": {},
   "outputs": [],
   "source": []
  },
  {
   "cell_type": "markdown",
   "id": "9bd29b0d-cc85-4af3-81f4-d0b817eaca2e",
   "metadata": {},
   "source": [
    "# 未分类"
   ]
  },
  {
   "cell_type": "code",
   "execution_count": null,
   "id": "bc35076c-dc57-4bd0-9fd2-a44aa3e72375",
   "metadata": {},
   "outputs": [],
   "source": [
    "apply 计算长度\n",
    "#data['文本长度'] = data['新闻'].apply(len)"
   ]
  },
  {
   "cell_type": "code",
   "execution_count": 3,
   "id": "cba3269c-bd6f-4556-a672-92b2e6d59801",
   "metadata": {},
   "outputs": [
    {
     "data": {
      "text/html": [
       "<div>\n",
       "<style scoped>\n",
       "    .dataframe tbody tr th:only-of-type {\n",
       "        vertical-align: middle;\n",
       "    }\n",
       "\n",
       "    .dataframe tbody tr th {\n",
       "        vertical-align: top;\n",
       "    }\n",
       "\n",
       "    .dataframe thead th {\n",
       "        text-align: right;\n",
       "    }\n",
       "</style>\n",
       "<table border=\"1\" class=\"dataframe\">\n",
       "  <thead>\n",
       "    <tr style=\"text-align: right;\">\n",
       "      <th></th>\n",
       "      <th>count</th>\n",
       "    </tr>\n",
       "    <tr>\n",
       "      <th>name</th>\n",
       "      <th></th>\n",
       "    </tr>\n",
       "  </thead>\n",
       "  <tbody>\n",
       "    <tr>\n",
       "      <th>GOGO</th>\n",
       "      <td>122</td>\n",
       "    </tr>\n",
       "    <tr>\n",
       "      <th>papa</th>\n",
       "      <td>3</td>\n",
       "    </tr>\n",
       "    <tr>\n",
       "      <th>jkjk</th>\n",
       "      <td>4</td>\n",
       "    </tr>\n",
       "  </tbody>\n",
       "</table>\n",
       "</div>"
      ],
      "text/plain": [
       "      count\n",
       "name       \n",
       "GOGO    122\n",
       "papa      3\n",
       "jkjk      4"
      ]
     },
     "execution_count": 3,
     "metadata": {},
     "output_type": "execute_result"
    }
   ],
   "source": [
    "import pandas as pd\n",
    "names =pd.DataFrame(\n",
    "    {\n",
    "        'name': ['GOGO','papa','jkjk'],\n",
    "        'count':[122,3,4]\n",
    "    }\n",
    ")\n",
    "names.set_index('name')"
   ]
  },
  {
   "cell_type": "code",
   "execution_count": 5,
   "id": "2b0471dc-9864-48fe-9585-e9dcdf9e50a7",
   "metadata": {},
   "outputs": [
    {
     "data": {
      "text/plain": [
       "0"
      ]
     },
     "execution_count": 5,
     "metadata": {},
     "output_type": "execute_result"
    }
   ],
   "source": [
    "names['count'].idxmax() # 不好用！ 只能返回一个索引"
   ]
  },
  {
   "cell_type": "code",
   "execution_count": null,
   "id": "53d0bc8f-be76-4a94-be5c-a015571ee0e6",
   "metadata": {},
   "outputs": [],
   "source": []
  },
  {
   "cell_type": "markdown",
   "id": "6c067f50-2d68-4927-ae81-c34d03f3359d",
   "metadata": {},
   "source": [
    "## 3.14 绘图接口\n",
    "pandas 的绘图功能通过 `plot()` 方法实现，底层依赖 matplotlib，适用于 Series 和 DataFrame。\n",
    "- Series：单列数据，索引自动作 x 轴，值作 y 轴。\n",
    "- DataFrame：多列数据，可指定 x 和 y 列，或默认用索引作 x 轴。\n",
    "\n",
    "通过 `kind` 参数指定：\n",
    "- `line`：折线图（默认）\n",
    "- `bar`：柱状图\n",
    "- `pie`：饼图\n",
    "- `scatter`：散点图（DataFrame 更常用）\n",
    "- `area`：面积图\n",
    "- `box`：箱线图\n",
    "\n",
    "通过参数设置样式：\n",
    "- `title`：图表标题\n",
    "- `color`：颜色\n",
    "- `figsize`：大小\n"
   ]
  },
  {
   "cell_type": "code",
   "execution_count": null,
   "id": "eae93a21-6fb0-45a7-95b7-dfadbb38bcb5",
   "metadata": {},
   "outputs": [],
   "source": []
  }
 ],
 "metadata": {
  "kernelspec": {
   "display_name": "Python 3 (ipykernel)",
   "language": "python",
   "name": "python3"
  },
  "language_info": {
   "codemirror_mode": {
    "name": "ipython",
    "version": 3
   },
   "file_extension": ".py",
   "mimetype": "text/x-python",
   "name": "python",
   "nbconvert_exporter": "python",
   "pygments_lexer": "ipython3",
   "version": "3.12.9"
  }
 },
 "nbformat": 4,
 "nbformat_minor": 5
}
