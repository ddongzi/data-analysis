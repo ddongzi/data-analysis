{
 "cells": [
  {
   "cell_type": "markdown",
   "id": "10c4d900-8e18-4b6c-9efa-6f8aefa08239",
   "metadata": {},
   "source": [
    "稀疏矩阵存储"
   ]
  },
  {
   "cell_type": "code",
   "execution_count": 1,
   "id": "dea1d311-9fb8-439f-a651-9fb142053dc3",
   "metadata": {},
   "outputs": [
    {
     "name": "stdout",
     "output_type": "stream",
     "text": [
      "[[0 0 3 0 0]\n",
      " [0 0 0 0 0]\n",
      " [4 0 0 5 0]\n",
      " [0 0 0 0 0]\n",
      " [0 0 6 0 0]]\n",
      "[0 2 2 4]\n",
      "[2 0 3 2]\n",
      "[3 4 5 6]\n"
     ]
    }
   ],
   "source": [
    "import numpy as np\n",
    "from scipy import sparse\n",
    "\n",
    "# 1️⃣ 记录非零元素的行索引\n",
    "row = np.array([0, 2, 2, 4])  # 3 在第0行，4 在第2行，5 在第2行，6 在第4行\n",
    "\n",
    "# 2️⃣ 记录非零元素的列索引\n",
    "col = np.array([2, 0, 3, 2])  # 3 在第2列，4 在第0列，5 在第3列，6 在第2列\n",
    "\n",
    "# 3️⃣ 记录非零元素的值\n",
    "data = np.array([3, 4, 5, 6])  # 这些索引位置对应的值\n",
    "\n",
    "# 4️⃣ 生成 5x5 的稀疏矩阵\n",
    "matrix = sparse.coo_matrix((data, (row, col)), shape=(5, 5))\n",
    "\n",
    "# 打印矩阵\n",
    "print(matrix.toarray())  # 转换回普通的二维数组看下\n",
    "print(matrix.row)\n",
    "print(matrix.col)\n",
    "print(matrix.data)\n"
   ]
  },
  {
   "cell_type": "code",
   "execution_count": null,
   "id": "4db7f8e9-575f-47e3-a9e7-f76ccb957933",
   "metadata": {},
   "outputs": [],
   "source": []
  },
  {
   "cell_type": "markdown",
   "id": "7832e189-740c-46c6-871c-30108fc150a5",
   "metadata": {},
   "source": [
    "# stats.norm"
   ]
  },
  {
   "cell_type": "code",
   "execution_count": 8,
   "id": "6810db5e-ee71-4c84-9fda-fd3c62a49ec2",
   "metadata": {},
   "outputs": [],
   "source": [
    "from scipy.stats import norm"
   ]
  },
  {
   "cell_type": "markdown",
   "id": "66caf734-c3e6-4e16-be53-b097a776ceb7",
   "metadata": {},
   "source": [
    "pdf cdf !"
   ]
  },
  {
   "cell_type": "markdown",
   "id": "a92ce97b-2597-4908-b032-582d97758cbb",
   "metadata": {},
   "source": [
    "## pdf\n",
    "\n",
    "```python\n",
    "norm.pdf(x, loc=μ, scale=σ)\n",
    "```"
   ]
  },
  {
   "cell_type": "code",
   "execution_count": 3,
   "id": "b25dc856-3506-49b2-8c97-0f56ceb993f1",
   "metadata": {},
   "outputs": [
    {
     "data": {
      "text/plain": [
       "np.float64(0.3989422804014327)"
      ]
     },
     "execution_count": 3,
     "metadata": {},
     "output_type": "execute_result"
    }
   ],
   "source": [
    "norm.pdf(0)"
   ]
  },
  {
   "cell_type": "code",
   "execution_count": 4,
   "id": "f4688310-3135-47d9-9c76-a066238d110a",
   "metadata": {},
   "outputs": [
    {
     "data": {
      "text/plain": [
       "np.float64(0.3989422804014327)"
      ]
     },
     "execution_count": 4,
     "metadata": {},
     "output_type": "execute_result"
    }
   ],
   "source": [
    "norm.pdf(0,0,1)"
   ]
  },
  {
   "cell_type": "code",
   "execution_count": 5,
   "id": "7273771e-9b7c-48c4-95f8-0bc467775d8e",
   "metadata": {},
   "outputs": [
    {
     "data": {
      "text/plain": [
       "np.float64(0.24197072451914337)"
      ]
     },
     "execution_count": 5,
     "metadata": {},
     "output_type": "execute_result"
    }
   ],
   "source": [
    "norm.pdf(1)"
   ]
  },
  {
   "cell_type": "code",
   "execution_count": 7,
   "id": "0ab79c66-eeb1-494b-8c35-861ab95e960d",
   "metadata": {},
   "outputs": [
    {
     "data": {
      "text/plain": [
       "[<matplotlib.lines.Line2D at 0x1985ccde420>]"
      ]
     },
     "execution_count": 7,
     "metadata": {},
     "output_type": "execute_result"
    },
    {
     "data": {
      "image/png": "[encoded data removed]",
      "text/plain": [
       "<Figure size 640x480 with 1 Axes>"
      ]
     },
     "metadata": {},
     "output_type": "display_data"
    }
   ],
   "source": [
    "import matplotlib.pyplot as plt\n",
    "import numpy as np\n",
    "x = np.linspace(-10,10,100)\n",
    "y = norm.pdf(x)\n",
    "plt.plot(x,y)"
   ]
  },
  {
   "cell_type": "code",
   "execution_count": null,
   "id": "a5378147-12d4-4c36-8d6a-3c30ecf812ae",
   "metadata": {},
   "outputs": [],
   "source": []
  }
 ],
 "metadata": {
  "kernelspec": {
   "display_name": "Python 3 (ipykernel)",
   "language": "python",
   "name": "python3"
  },
  "language_info": {
   "codemirror_mode": {
    "name": "ipython",
    "version": 3
   },
   "file_extension": ".py",
   "mimetype": "text/x-python",
   "name": "python",
   "nbconvert_exporter": "python",
   "pygments_lexer": "ipython3",
   "version": "3.12.9"
  }
 },
 "nbformat": 4,
 "nbformat_minor": 5
}
