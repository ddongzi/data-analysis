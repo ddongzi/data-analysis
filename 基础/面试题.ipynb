{
 "cells": [
  {
   "cell_type": "markdown",
   "id": "4f396460-93db-4bb9-b65e-9644422ccf09",
   "metadata": {},
   "source": [
    "# 基础语法"
   ]
  },
  {
   "cell_type": "markdown",
   "id": "a827d3a2-0ef2-4f64-a2d1-215f393d57ee",
   "metadata": {},
   "source": [
    "## 1. Python的可变数据类型和不可变数据类型？\n",
    "可变不可变指的是内存中的值是否可以被改变  \n",
    "可变数据类型有列表、字典和集合；不可变数据类型有整数、浮点数、字符串、元组和布尔值。  \n",
    "可变对象可以在原来地址上修改元素，不可变则不行(即不能在自己身上增删改)，若要修改可以使用对象拼接赋值给新的对象，总之不能修改自身  \n",
    "\n"
   ]
  },
  {
   "cell_type": "markdown",
   "id": "a88a56c8-0e82-442f-af1d-d122dc1fd425",
   "metadata": {},
   "source": [
    "## 2. Python的内置数据结构？   \n",
    "列表，集合，元组，字典      \n",
    "list：有序可修改。通过索引进行查找、切片。使用方括号[ ]表示；\n",
    "tuple：有序不可修改。可查询、切片操作。元组将多样的对象集合到一起，通过索引进行查找。用小括号（ ）表示；   \n",
    "set：集合，无序可修改，无重复，无索引，不能跟列表一样切片。自动去重。使用set（[ ]）表示；   \n",
    "dict：字典是一组key-value，通过key查找，无顺序，用{ }表示。"
   ]
  },
  {
   "cell_type": "markdown",
   "id": "75563c02-b416-49b5-8e9c-50f757a9214e",
   "metadata": {},
   "source": [
    "## 3. 字符串\n"
   ]
  },
  {
   "cell_type": "markdown",
   "id": "09d5fa65-d940-4579-a0eb-f7c346762fc0",
   "metadata": {},
   "source": [
    "### 3.1 操作"
   ]
  },
  {
   "cell_type": "code",
   "execution_count": 3,
   "id": "27e1753c-94a9-45b9-9729-62356ca819fa",
   "metadata": {},
   "outputs": [
    {
     "name": "stdout",
     "output_type": "stream",
     "text": [
      "olleh\n"
     ]
    },
    {
     "data": {
      "text/plain": [
       "'olleh'"
      ]
     },
     "execution_count": 3,
     "metadata": {},
     "output_type": "execute_result"
    }
   ],
   "source": [
    "s = 'hello'\n",
    "print(s[::-1]) # 方法1：切片器\n",
    "''.join(reversed(s)) #  方法2：其中reversed返回迭代器对象 "
   ]
  },
  {
   "cell_type": "markdown",
   "id": "16943c40-4ce4-4a3c-a783-ec2b46a99ff7",
   "metadata": {},
   "source": [
    "### 3.2 str用处"
   ]
  },
  {
   "cell_type": "markdown",
   "id": "cf66cdaf-4191-400d-9209-eda59c40d950",
   "metadata": {},
   "source": [
    "**1. Python 原生 `str` 对象**\n",
    "在 Python 中，`str` 是一种 **不可变（immutable）** 的序列类型：\n",
    "```python\n",
    "text = \"Hello, World!\"\n",
    "print(type(text))  # <class 'str'>\n",
    "```\n",
    "\n",
    "**常见的 `str` 方法：**\n",
    "```python\n",
    "text.lower()       # 'hello, world!'\n",
    "text.upper()       # 'HELLO, WORLD!'\n",
    "text.replace(\"World\", \"Python\")  # 'Hello, Python!'\n",
    "text.split(\", \")   # ['Hello', 'World!']\n",
    "```\n",
    "\n",
    "\n",
    "**2. Pandas 的 `.str` 访问器**\n",
    "在 **Pandas** 中，`Series` 里的 **每个元素** 都是 `str`，但不能直接用 Python 原生 `str` 方法，而是要用 **`.str` 访问器**：\n",
    "```python\n",
    "import pandas as pd\n",
    "df = pd.DataFrame({'col': ['apple', 'banana', 'cherry']})\n",
    "\n",
    "# 错误 ❌（直接调用 str 方法）\n",
    "df['col'].upper()  # AttributeError: 'Series' object has no attribute 'upper'\n",
    "\n",
    "# 正确 ✅（使用 .str 访问器）\n",
    "df['col'].str.upper()\n",
    "```\n",
    "Pandas 的 `.str` 访问器 **批量应用** `str` 方法，相当于对 **Series 里的每个元素** 调用 Python 原生 `str` 方法。\n",
    "\n",
    "\n",
    "总结：\n",
    "| 环境 | 使用方式 |\n",
    "|------|---------|\n",
    "| Python `str` | 直接用 `text.upper()` |\n",
    "| Pandas `Series` | 用 `.str.upper()` |\n",
    "\n",
    "---"
   ]
  },
  {
   "cell_type": "markdown",
   "id": "e2511487-2541-4f16-97af-8facbc0e4421",
   "metadata": {},
   "source": [
    "## 3.3 格式化字符串\n",
    "- f：字符串插值，格式化输出\n",
    "- r: 原始字符串,不会对\\转义，用于正则、路径\n",
    "- b: 字节字符串，用于二进制数据"
   ]
  },
  {
   "cell_type": "code",
   "execution_count": 4,
   "id": "7061899d-1ffb-4c4c-b20e-76b02dcb00cf",
   "metadata": {},
   "outputs": [
    {
     "name": "stdout",
     "output_type": "stream",
     "text": [
      "My name is Alice and I am 25.00 years old.\n"
     ]
    }
   ],
   "source": [
    "name = \"Alice\"\n",
    "age = 25\n",
    "print(f\"My name is {name} and I am {age:.2f} years old.\")"
   ]
  },
  {
   "cell_type": "code",
   "execution_count": 6,
   "id": "ae3fab01-c830-4200-afee-ce0b44d828a8",
   "metadata": {},
   "outputs": [
    {
     "name": "stdout",
     "output_type": "stream",
     "text": [
      "C:\\Users\\Alice\\Documents\\new_file.txt\n"
     ]
    }
   ],
   "source": [
    "print(r\"C:\\Users\\Alice\\Documents\\new_file.txt\")"
   ]
  },
  {
   "cell_type": "code",
   "execution_count": 7,
   "id": "a8ec83d9-47ac-4d1e-880e-937e3c58df0d",
   "metadata": {},
   "outputs": [
    {
     "name": "stdout",
     "output_type": "stream",
     "text": [
      "b'hello'\n",
      "104\n",
      "hello\n"
     ]
    }
   ],
   "source": [
    "byte_data = b\"hello\"\n",
    "print(byte_data)  \n",
    "# 输出: b'hello'\n",
    "\n",
    "print(byte_data[0])  \n",
    "# 输出: 104 （'h' 的 ASCII 值）\n",
    "\n",
    "# 转换回普通字符串\n",
    "print(byte_data.decode(\"utf-8\"))  \n",
    "# 输出: hello\n"
   ]
  },
  {
   "cell_type": "markdown",
   "id": "71a4abd6-9f3c-4456-9f7e-66cb39fcb909",
   "metadata": {},
   "source": [
    "## 4. 最大最小数值、特殊值\n",
    "整数：无最大最小限制，sys.maxsize 给出系统相关的参考值。超出后会自动处理，**不会溢出**  \n",
    "浮点数：最大值约 1.8e308，最小正值约 2.2e-308，用 sys.float_info 获取。超出后会表示为无穷！  "
   ]
  },
  {
   "cell_type": "code",
   "execution_count": 23,
   "id": "4c4af698-b08a-4388-99fd-2b42fafb0cb9",
   "metadata": {},
   "outputs": [
    {
     "name": "stdout",
     "output_type": "stream",
     "text": [
      "9223372036854775807\n",
      "-9223372036854775808\n",
      "1.7976931348623157e+308\n",
      "2.2250738585072014e-308\n",
      "inf\n",
      "-inf\n",
      "nan\n"
     ]
    }
   ],
   "source": [
    "import sys\n",
    "print(sys.maxsize) # 整数最大值：2^63-1\n",
    "print(-sys.maxsize-1) # 整数最小值\n",
    "print(sys.float_info.max) # 浮点最大值\n",
    "print(sys.float_info.min) # 浮点最小值\n",
    "# 特殊值\n",
    "print(float('inf'))  # 无穷大\n",
    "print(float('-inf')) # 负无穷大\n",
    "print(float('nan'))  # 非数字"
   ]
  },
  {
   "cell_type": "markdown",
   "id": "b731a63c-6e17-409b-896a-5cc9a58a4c01",
   "metadata": {},
   "source": [
    "## 5. 列表\n",
    "\n",
    "- sorted() vs. sort()\n",
    "- extend(iterable): 将可迭代对象中的元素添加到列表的末尾。   "
   ]
  },
  {
   "cell_type": "markdown",
   "id": "a388841c-78c6-48f0-a92d-cd1ada32d9ea",
   "metadata": {},
   "source": [
    "### 5.1 排序"
   ]
  },
  {
   "cell_type": "code",
   "execution_count": 37,
   "id": "5ac0c85b-5776-4dff-8e10-2d15604de602",
   "metadata": {},
   "outputs": [
    {
     "name": "stdout",
     "output_type": "stream",
     "text": [
      "Sorted lines: ['apple', 'banana', 'cherry']\n",
      "Reversed words: ['big', 'world', 'hello']\n"
     ]
    }
   ],
   "source": [
    "lines = [\"banana\", \"apple\", \"cherry\"]\n",
    "lines = sorted(lines)  # 返回排序后的新列表，不修改原列表\n",
    "# lines.sort()  # 原地排序，修改原列表\n",
    "print(\"Sorted lines:\", lines)\n",
    "\n",
    "words = ['hello', 'world', 'big']\n",
    "words.reverse()  # 原地翻转，修改 words 本身\n",
    "print(\"Reversed words:\", words)"
   ]
  },
  {
   "cell_type": "markdown",
   "id": "58ed8cee-3bb0-4349-938e-126553b26caf",
   "metadata": {},
   "source": [
    "### 5.2 增：append, extend"
   ]
  },
  {
   "cell_type": "code",
   "execution_count": 40,
   "id": "b4030a25-7521-4268-9876-5063526a88cd",
   "metadata": {},
   "outputs": [
    {
     "name": "stdout",
     "output_type": "stream",
     "text": [
      "[['folder', 'subfolder', 'file.txt']]\n",
      "[['folder', 'subfolder', 'file2.txt']]\n"
     ]
    }
   ],
   "source": [
    "ls = []  \n",
    "path = [\"folder\", \"subfolder\", \"file.txt\"]\n",
    "ls.append(path[:])  # 追加 path 的拷贝，后续修改 path 不影响 ls\n",
    "path[2] = 'file1.txt'\n",
    "print(ls)\n",
    "\n",
    "ls1 = []\n",
    "path = [\"folder\", \"subfolder\", \"file.txt\"]\n",
    "ls1.append(path)  # 直接追加 path，后续修改 path 会影响 ls 中的值\n",
    "path[2] = 'file2.txt'\n",
    "print(ls1)"
   ]
  },
  {
   "cell_type": "code",
   "execution_count": 44,
   "id": "14ca3ea6-79f7-42f1-87af-2526489b9b3e",
   "metadata": {},
   "outputs": [
    {
     "name": "stdout",
     "output_type": "stream",
     "text": [
      "['folder', 'subfolder', 'file.txt']\n"
     ]
    }
   ],
   "source": [
    "lst = []\n",
    "path = [\"folder\", \"subfolder\", \"file.txt\"]\n",
    "lst.extend(path) # 追加的是拷贝，不影响后续修改。 等同于append(path[:])\n",
    "path[2] = 'file3.txt'\n",
    "print(lst)"
   ]
  },
  {
   "cell_type": "markdown",
   "id": "d469fd07-f3d2-4f36-b6e4-71572edd5f9b",
   "metadata": {},
   "source": [
    "### 5.3 去重\n",
    "- 列表不可哈希，所以作为数组元素，**所以不能放入set**，得先把元素转为元组， 元组可以hash"
   ]
  },
  {
   "cell_type": "code",
   "execution_count": 52,
   "id": "64f8a82c-f118-4077-b071-33d480700cd6",
   "metadata": {},
   "outputs": [
    {
     "name": "stdout",
     "output_type": "stream",
     "text": [
      "[1, 2, 3]\n"
     ]
    },
    {
     "data": {
      "text/plain": [
       "{(1, 2)}"
      ]
     },
     "execution_count": 52,
     "metadata": {},
     "output_type": "execute_result"
    }
   ],
   "source": [
    "ls = [1, 2, 3, 2]\n",
    "print(list(set(ls)))\n",
    "\n",
    "# 元素为列表 去重\n",
    "ls = [[1,2], [1,2]]\n",
    "set([tuple(l) for l in ls])"
   ]
  },
  {
   "cell_type": "markdown",
   "id": "36b90cb0-81a2-4d38-9db5-43091b4fbb8f",
   "metadata": {},
   "source": [
    "## 6. del 删除\n",
    "删除的是变量 （是引用）（指针）"
   ]
  },
  {
   "cell_type": "code",
   "execution_count": 55,
   "id": "42ab6155-801a-42ba-beb0-2260778eb583",
   "metadata": {},
   "outputs": [
    {
     "name": "stdout",
     "output_type": "stream",
     "text": [
      "[1, 2, 3]\n",
      "[0, 2, 3]\n"
     ]
    }
   ],
   "source": [
    "a = [1, 2, 3]\n",
    "b = a\n",
    "del a\n",
    "print(b)\n",
    "\n",
    "a = [0, 2, 2, 3]\n",
    "a.remove(2)\t# remove只是列表的一个方法\n",
    "print(a)  # 输出 [0, 2, 3]"
   ]
  },
  {
   "cell_type": "markdown",
   "id": "a8762076-f0c4-499f-b2e6-e095027b1739",
   "metadata": {},
   "source": [
    "## 7. 字符串"
   ]
  },
  {
   "cell_type": "code",
   "execution_count": 60,
   "id": "6ff618fc-be68-4530-ad30-fc31a91f7ed7",
   "metadata": {},
   "outputs": [],
   "source": [
    "s = \" hello world. \"\n",
    "s.strip() # 去除字符串首尾的空白字符\n",
    "t = ['hello', 'world']\n",
    "s=' '.join(t)\n",
    "s.replace('  ',' ')\t\t\n",
    "ls=s.split()\t# 将字符串分割为单词列表"
   ]
  },
  {
   "cell_type": "markdown",
   "id": "6cb00802-de5b-4400-b159-a332df88f6ec",
   "metadata": {},
   "source": [
    "## 8. 真假判断\n",
    "### 8.1 假情况\n",
    "False、None、空字符串\"\"、数字0、空列表[\\]、空字典{}或空元组()  \n"
   ]
  },
  {
   "cell_type": "code",
   "execution_count": 66,
   "id": "9145fdd2-2260-4e2f-a981-73930b65dd70",
   "metadata": {},
   "outputs": [
    {
     "name": "stdout",
     "output_type": "stream",
     "text": [
      "假\n"
     ]
    }
   ],
   "source": [
    "stack = None\n",
    "if not stack: #当stack为NOne  \n",
    "    print('假')"
   ]
  },
  {
   "cell_type": "markdown",
   "id": "8c11b34c-dd42-4495-bc9c-54459629a838",
   "metadata": {},
   "source": [
    "### 8.2 is和== 的区别\n",
    "is判断两个对象的内存地址是否相同, == 判断两个对象的值是否相同"
   ]
  },
  {
   "cell_type": "code",
   "execution_count": 1,
   "id": "135ccfe4-6907-4794-a6d4-34c57ab99d3b",
   "metadata": {},
   "outputs": [
    {
     "data": {
      "text/plain": [
       "True"
      ]
     },
     "execution_count": 1,
     "metadata": {},
     "output_type": "execute_result"
    }
   ],
   "source": [
    "a1 = 'a'\n",
    "a2 = 'a'\n",
    "a1 is a2\n",
    "a1 == a2"
   ]
  },
  {
   "cell_type": "markdown",
   "id": "2ab8b31b-2b90-4e21-8647-1f72e4fe1b6a",
   "metadata": {},
   "source": [
    "### 8.3 python , numpy, pandas 逻辑运算比较"
   ]
  },
  {
   "cell_type": "markdown",
   "id": "bbdf3d85-8c83-44ec-b431-ef5f3d4be52d",
   "metadata": {},
   "source": [
    "**1. Python 原生逻辑运算**\n",
    "| 逻辑运算 | 关键字 | 示例 | 适用对象 | 是否支持向量化 |\n",
    "|----------|--------|------|----------|--------------|\n",
    "| **与 (AND)** | `and` | `True and False` → `False` | **单个布尔值** (`bool`) | ❌ 不支持 |\n",
    "| **或 (OR)** | `or` | `True or False` → `True` | **单个布尔值** (`bool`) | ❌ 不支持 |\n",
    "| **非 (NOT)** | `not` | `not True` → `False` | **单个布尔值** (`bool`) | ❌ 不支持 |\n",
    "\n",
    "✅ **适用于**：控制流（`if` 语句、`while` 循环）\n",
    "\n",
    "⚠️ **不要用于**：NumPy 数组和 Pandas Series，会报错！\n",
    "\n",
    "---\n",
    "\n",
    "**2. NumPy 逻辑运算**\n",
    "| 逻辑运算 | 关键字 | 示例 | 适用对象 | 是否支持向量化 |\n",
    "|----------|--------|------|----------|--------------|\n",
    "| **与 (AND)** | `&` | `(arr > 5) & (arr < 10)` | **NumPy 数组** (`ndarray`) | ✅ 支持 |\n",
    "| **或 (OR)** | \\| | `(arr < 3) \\| (arr > 8)` | **NumPy 数组** (`ndarray`) | ✅ 支持 |\n",
    "| **非 (NOT)** | `~` | `~(arr > 5)` | **NumPy 数组** (`ndarray`) | ✅ 支持 |\n",
    "\n",
    "✅ **适用于**：数组计算，数学运算，矩阵操作\n",
    "\n",
    "⚠️ **括号必须加，否则优先级错误**\n",
    "\n",
    "---\n",
    "\n",
    "**3. Pandas 逻辑运算**\n",
    "| 逻辑运算 | 关键字 | 示例 | 适用对象 | 是否支持向量化 |\n",
    "|----------|--------|------|----------|--------------|\n",
    "| **与 (AND)** | `&` | `(df['A'] > 5) & (df['B'] < 10)` | **Pandas Series, DataFrame** | ✅ 支持 |\n",
    "| **或 (OR)** | `|` | `(df['A'] < 3) | (df['B'] > 8)` | **Pandas Series, DataFrame** | ✅ 支持 |\n",
    "| **非 (NOT)** | `~` | `~(df['A'] > 5)` | **Pandas Series, DataFrame** | ✅ 支持 |\n",
    "\n",
    "✅ **适用于**：数据筛选、条件查询\n",
    "\n",
    "⚠️ **不要用 `and` / `or`，必须用 `&` / `|` 并加括号**\n",
    "\n",
    "---\n",
    "\n",
    "**结论 & 实际建议**\n",
    "| 适用场景 | 推荐使用 |\n",
    "|----------|---------|\n",
    "| **控制流 (`if`, `while`)** | Python 关键字 `and`, `or`, `not` |\n",
    "| **NumPy 数组 (ndarray) 计算** | `&`, `|`, `~` 并加括号 |\n",
    "| **Pandas 数据筛选 (DataFrame, Series)** | `&`, `|`, `~` 并加括号 |\n",
    "\n",
    "**最佳实践**\n",
    "- **Python 控制流**\n",
    "  ```python\n",
    "  if x > 5 and y < 10:\n",
    "      print(\"Valid\")\n",
    "  ```\n",
    "- **NumPy 数组运算**\n",
    "  ```python\n",
    "  import numpy as np\n",
    "  arr = np.array([1, 6, 8])\n",
    "  result = arr[(arr > 5) & (arr < 10)]  # ✅ 正确\n",
    "  ```\n",
    "- **Pandas 数据筛选**\n",
    "  ```python\n",
    "  import pandas as pd\n",
    "  df = pd.DataFrame({'A': [1, 6, 8], 'B': [3, 9, 2]})\n",
    "  result = df[(df['A'] > 5) & (df['B'] < 10)]  # ✅ 正确\n",
    "  ```\n",
    "\n",
    "**⚡ 记住：**\n",
    "1. `and` / `or` / `not` 只适用于**单个布尔值**。\n",
    "2. **NumPy 和 Pandas 必须用 `&` / `|` / `~`，并加括号**。\n",
    "3. **数据筛选建议用 `.loc[]` 提高可读性**：\n",
    "   ```python\n",
    "   df.loc[(df['A'] > 5) & (df['B'] < 10)]\n",
    "   ```\n",
    "\n",
    "掌握这些，就能写出高效、正确的 Python 逻辑运算！ 🚀\n",
    "\n",
    "---"
   ]
  },
  {
   "cell_type": "markdown",
   "id": "6b88de68-8a56-4620-8e92-d379bbcdf423",
   "metadata": {},
   "source": [
    "## 9. 可迭代对象iterable\n",
    "就是可以逐个返回元素的可以 用for的"
   ]
  },
  {
   "cell_type": "markdown",
   "id": "8087f48e-d20f-4412-a8d8-297be70fa9ca",
   "metadata": {},
   "source": [
    "list、tuple、str、set、dict、range、文件对象、迭代器、生成器"
   ]
  },
  {
   "cell_type": "code",
   "execution_count": null,
   "id": "9e208bb3-0f37-45c0-94b4-9e06554f2ea6",
   "metadata": {},
   "outputs": [],
   "source": []
  },
  {
   "cell_type": "code",
   "execution_count": null,
   "id": "7a19a05c-35ad-43f3-8522-a24870e0fb31",
   "metadata": {},
   "outputs": [],
   "source": []
  },
  {
   "cell_type": "code",
   "execution_count": null,
   "id": "0b4c65bd-0561-403b-9602-b4d76c940da1",
   "metadata": {},
   "outputs": [],
   "source": []
  },
  {
   "cell_type": "markdown",
   "id": "7d0e7b9e-3918-47da-8d46-7299d6dfe8ae",
   "metadata": {},
   "source": [
    "## 10. 字典\n",
    "### 10.1 键\n",
    "字典的*键必须是不可变*的类型。不可以使用列表作为键。字典键的常见类型包括整数、浮点数、字符串、元组等不可变类型。  "
   ]
  },
  {
   "cell_type": "code",
   "execution_count": 71,
   "id": "a10bd4b0-a596-488d-ae64-79e21be85b62",
   "metadata": {},
   "outputs": [],
   "source": [
    "my_dict = {1: 'one', 2: 'two', 3: 'three'} # 键为整数\n",
    "another_dict = {'apple': 3, 'banana': 5, 'orange': 2} # 键为字符串\n",
    "yet_another_dict = {(1, 2): 'tuple_key', (3, 4): 'another_tuple_key'} # 键为元组\n",
    "my_dict = {('John', 25): 'value1', ('Alice', 30): 'value2'} # 键位元组"
   ]
  },
  {
   "cell_type": "markdown",
   "id": "959d0133-e436-4460-bd30-13bf9d5784bf",
   "metadata": {},
   "source": [
    "### 10.2 根据key排序: `sorted()`\n",
    "在`sorted()`函数中指定要排序的元组列表和一个函数，可以是lambda，参数是item \n",
    "`sorted()`返回排序好的元组列表"
   ]
  },
  {
   "cell_type": "code",
   "execution_count": 80,
   "id": "7230e73e-925e-4482-b087-65c41788380f",
   "metadata": {},
   "outputs": [
    {
     "name": "stdout",
     "output_type": "stream",
     "text": [
      "dict_items([('apple', 10), ('orange', 5), ('banana', 20), ('grape', 7)])\n",
      "[('apple', 10), ('banana', 20), ('grape', 7), ('orange', 5)]\n",
      "{'apple': 10, 'banana': 20, 'grape': 7, 'orange': 5}\n"
     ]
    }
   ],
   "source": [
    "my_dict = {'apple': 10, 'orange': 5, 'banana': 20, 'grape': 7}\n",
    "print(my_dict.items()) # 元组列表\n",
    "\n",
    "s = sorted(my_dict.items(), key = lambda x: x[0]) # 排序元组列表\n",
    "print(s)\n",
    "\n",
    "sorted_dict = dict(s) # 元组列表转为字典\n",
    "print(sorted_dict)\n",
    "\n",
    "# key函数\n",
    "def get_key(item):\n",
    "    return item[0]\n"
   ]
  },
  {
   "cell_type": "markdown",
   "id": "f827524f-e50c-4871-a98d-8ff89e240c4c",
   "metadata": {},
   "source": [
    "## 11. 推导\n",
    "可以从一个数据序列构建另一个新的数据序列的结构体。 常见 从列表 推到 字典等"
   ]
  },
  {
   "cell_type": "code",
   "execution_count": 96,
   "id": "f72852f6-a5f9-48c3-9612-75144bb0aa42",
   "metadata": {},
   "outputs": [
    {
     "name": "stdout",
     "output_type": "stream",
     "text": [
      "[0, 3, 6, 9, 12, 15, 18, 21, 24, 27]\n",
      "{'Bob': 3, 'Tom': 3, 'alice': 5, 'Jerry': 5, 'Wendy': 5, 'Smith': 5}\n",
      "{'TOM', 'JERRY', 'BOB', 'ALICE', 'WENDY', 'SMITH'}\n",
      "('bob', 'tom', 'alice', 'jerry', 'wendy', 'smith')\n"
     ]
    }
   ],
   "source": [
    "names = ['Bob','Tom','alice','Jerry','Wendy','Smith']\n",
    "\n",
    "# 列表推导式\n",
    "new=[ name.upper() for name in names]\n",
    "multiples = [i for i in range(30) if i % 3== 0] # 3 的倍数\n",
    "print(multiples)\n",
    "#字典推导式\n",
    "dic={name:len(name) for name in names}\n",
    "print(dic)\n",
    "# 集合推导式\n",
    "sett={name.upper() for name in names}\n",
    "print(sett)\n",
    "# 元组推导式\n",
    "tt = tuple(name.lower() for name in names)\n",
    "print(tt)  # ('alice', 'bob', 'charlie')\n",
    "\n"
   ]
  },
  {
   "cell_type": "markdown",
   "id": "f8c89e00-ded8-4a97-a3f0-57ede9581b4f",
   "metadata": {},
   "source": [
    "> !! 这个不是元组推导， 这个是生成器表达式。 可以通过遍历、转换才能看到内容。 且只能用一次"
   ]
  },
  {
   "cell_type": "code",
   "execution_count": 269,
   "id": "7e1cb463-a5e3-4258-b3d9-6762a16d78e0",
   "metadata": {},
   "outputs": [
    {
     "name": "stdout",
     "output_type": "stream",
     "text": [
      "<generator object <genexpr> at 0x000002A51DDA1FF0>\n",
      "['apple', 'con', 'ele']\n",
      "set()\n",
      "()\n"
     ]
    }
   ],
   "source": [
    "tt = (name.lower() for name in names)\n",
    "print(tt)  # ('alice', 'bob', 'charlie')\n",
    "print(list(tt))\n",
    "\n",
    "print(set(tt))\n",
    "print(tuple(tt))\n"
   ]
  },
  {
   "cell_type": "markdown",
   "id": "9505e793-9f88-4801-a7b9-31150321aedb",
   "metadata": {},
   "source": [
    "## 21. 循环\n"
   ]
  },
  {
   "cell_type": "code",
   "execution_count": 270,
   "id": "74908a85-907c-4030-b486-270df7df9cc4",
   "metadata": {},
   "outputs": [
    {
     "name": "stdout",
     "output_type": "stream",
     "text": [
      "0\n",
      "1\n",
      "2\n",
      "3\n",
      "4\n",
      "5\n"
     ]
    }
   ],
   "source": [
    "for i in range(6):\n",
    "    print(i)\n",
    "    i += 1# 这一行对循环没有影响"
   ]
  },
  {
   "cell_type": "markdown",
   "id": "2aa6a921-447a-4150-b5d6-6515e06ef13a",
   "metadata": {},
   "source": [
    "## 13. 迭代器\n",
    "迭代器是一个可以记住遍历位置的对象。  \n",
    "通过迭代器返回当前元素。  \n",
    "迭代器有两个基本的方法：iter() 和 next()。  \n",
    "许多内置对象都是可迭代的，例如列表、元组、字符串等。  \n"
   ]
  },
  {
   "cell_type": "code",
   "execution_count": 227,
   "id": "53bbf376-b1ec-4d37-8797-6131054f58bb",
   "metadata": {
    "jp-MarkdownHeadingCollapsed": true
   },
   "outputs": [
    {
     "name": "stdout",
     "output_type": "stream",
     "text": [
      "1\n",
      "2\n",
      "3\n",
      "4\n"
     ]
    }
   ],
   "source": [
    "class MyIterator:\n",
    "    def __init__(self,data):\n",
    "        self.data=data\n",
    "        self.index=0\n",
    "    # 返回迭代器自身\n",
    "    def __iter__(self):\n",
    "        return self\n",
    "    # 返回下一个元素\n",
    "    def __next__(self):\n",
    "        if self.index<len(self.data):\n",
    "            result = self.data[self.index]\n",
    "            self.index += 1\n",
    "            return result\n",
    "        else:\n",
    "            raise StopIteration\n",
    "my_list=[1,2,3,4]\n",
    "my_custom_iterator = MyIterator(my_list)\n",
    "for element in my_custom_iterator:\n",
    "    print(element)"
   ]
  },
  {
   "cell_type": "markdown",
   "id": "db77ef17-2a51-4396-b77e-506c7ebb2679",
   "metadata": {},
   "source": [
    "## 14. map(),filter(),reduce()\n",
    "⚡对可迭代对象进行 转换、筛选、聚合\n",
    "- `map()` & `filter()` **返回可迭代对象**（需 `list()` 解析）。  \n",
    "- `reduce()` **返回单个值**，需手动 `import`。  \n",
    "- **偏函数式编程**，适合数据处理（但 `map/filter` 可用列表推导式代替）"
   ]
  },
  {
   "cell_type": "code",
   "execution_count": 239,
   "id": "6f232b2d-b2e4-4631-8bd2-e96d77fbc086",
   "metadata": {},
   "outputs": [
    {
     "name": "stdout",
     "output_type": "stream",
     "text": [
      "<map object at 0x000002A51E4714E0>\n",
      "[6, 5, 4]\n",
      "<filter object at 0x000002A51E471270>\n",
      "['Conr']\n"
     ]
    }
   ],
   "source": [
    "# 数据转换\n",
    "names = ['Alibba', 'Baudu', 'Conr']\n",
    "print(map(lambda x:len(x),names))\n",
    "lens=list(map(lambda x:len(x),names))\n",
    "print(lens)\n",
    "\n",
    "# 筛选\n",
    "print(filter(lambda x:len(x)<5, names))\n",
    "smalls = list(filter(lambda x:len(x)<5, names))\n",
    "print(smalls)\n",
    "\n"
   ]
  },
  {
   "cell_type": "code",
   "execution_count": 241,
   "id": "e6d6b971-6512-4f35-9689-55e6ba7b048c",
   "metadata": {},
   "outputs": [
    {
     "name": "stdout",
     "output_type": "stream",
     "text": [
      "24\n"
     ]
    }
   ],
   "source": [
    "# reduce()\n",
    "from functools import reduce\n",
    "numbers = [1, 2, 3, 4]\n",
    "product = reduce(lambda x, y: x * y, numbers)\n",
    "print(product)  # 24（1*2*3*4）"
   ]
  },
  {
   "cell_type": "markdown",
   "id": "b3c2c0e5-46d0-4de6-b2d6-fd466bbef750",
   "metadata": {},
   "source": [
    "## 15.遍历技巧\n"
   ]
  },
  {
   "cell_type": "markdown",
   "id": "c9706f46-c91e-4d46-a266-dccd75729a1b",
   "metadata": {},
   "source": [
    "### 15.1. 字典遍历\n",
    "字典中遍历时，关键字和对应的值可以使用 items() 方法同时解读出来："
   ]
  },
  {
   "cell_type": "code",
   "execution_count": 243,
   "id": "416045e4-693f-4d89-8050-3a7edea98f67",
   "metadata": {},
   "outputs": [
    {
     "name": "stdout",
     "output_type": "stream",
     "text": [
      "a\n",
      "b\n",
      "gallahad the pure\n",
      "robin the brave\n"
     ]
    }
   ],
   "source": [
    "for k in {'a':1,'b':2} :\n",
    "    print(k)\n",
    "knights = {'gallahad': 'the pure', 'robin': 'the brave'}\n",
    "for k,v in knights.items():\n",
    "    print(k,v)"
   ]
  },
  {
   "cell_type": "markdown",
   "id": "134318cd-5dab-43c7-a310-02f45ac5fa85",
   "metadata": {},
   "source": [
    "### 15.2 序列遍历\n",
    "- 序列中遍历时，索引位置和对应值可以使用 enumerate() 函数同时得到.  \n",
    "- 同时遍历两个或更多的序列，可以使用 zip() 组合:"
   ]
  },
  {
   "cell_type": "code",
   "execution_count": 247,
   "id": "f261bfff-7612-410e-a708-a312cb11b91a",
   "metadata": {},
   "outputs": [
    {
     "name": "stdout",
     "output_type": "stream",
     "text": [
      "0 apple\n",
      "1 con\n",
      "2 ele\n"
     ]
    }
   ],
   "source": [
    "names = ['apple', 'con', 'ele']\n",
    "for i, name in enumerate(names):\n",
    "    print(i, name)"
   ]
  },
  {
   "cell_type": "code",
   "execution_count": 248,
   "id": "9488c755-a794-46e2-9c4d-ff961ec1e0a6",
   "metadata": {},
   "outputs": [
    {
     "name": "stdout",
     "output_type": "stream",
     "text": [
      "apple\n",
      "con\n",
      "ele\n"
     ]
    }
   ],
   "source": [
    "for f in sorted(set(names)): # 有序遍历\n",
    "    print(f)"
   ]
  },
  {
   "cell_type": "code",
   "execution_count": 249,
   "id": "ee065516-9947-48ae-9042-0828b637a4f5",
   "metadata": {},
   "outputs": [
    {
     "name": "stdout",
     "output_type": "stream",
     "text": [
      "name lancelot\n",
      "quest the holy grail\n",
      "favorite color blue\n"
     ]
    }
   ],
   "source": [
    "questions = ['name', 'quest', 'favorite color']\n",
    "answers = ['lancelot', 'the holy grail', 'blue']\n",
    "for q, a in zip(questions, answers):\n",
    "    print(q, a)"
   ]
  },
  {
   "cell_type": "markdown",
   "id": "75ce576a-1520-42c2-9338-95975da53025",
   "metadata": {},
   "source": [
    "## 16. 输入输出\n",
    "\n"
   ]
  },
  {
   "cell_type": "markdown",
   "id": "801074bf-e5f4-42e0-ae04-346e4cc71947",
   "metadata": {},
   "source": [
    "### 16.1. 文件读写"
   ]
  },
  {
   "cell_type": "code",
   "execution_count": 255,
   "id": "5e1fad08-a206-4a11-8b23-9515572fbe07",
   "metadata": {},
   "outputs": [
    {
     "name": "stdout",
     "output_type": "stream",
     "text": [
      "[]\n"
     ]
    }
   ],
   "source": [
    "f=open('temp.txt','w')\n",
    "f.write(' python open file \\n nandwnowdoi')\n",
    "f.close()\n",
    "\n",
    "f=open('temp.txt','r')\n",
    "l = f.read() # 按字符串。\n",
    "ls=f.readlines() # 按行数组\n",
    "print(ls)"
   ]
  },
  {
   "cell_type": "markdown",
   "id": "cdccd85d-911b-48c8-9eb9-2725690a6a12",
   "metadata": {},
   "source": [
    "## 18. 拷贝：\n",
    "主要**针对复杂对象（例如嵌套的列表或字典）中的子对象**的复制方式而言。  "
   ]
  },
  {
   "cell_type": "code",
   "execution_count": 264,
   "id": "116d6444-3a98-46b7-bc57-5afe053d7ccb",
   "metadata": {},
   "outputs": [
    {
     "name": "stdout",
     "output_type": "stream",
     "text": [
      "[{'name': 'john', 'age': 11}, {'name': 'trump', 'age': 33}]\n",
      "[{'name': 'john', 'age': 11}, {'name': 'trump', 'age': 33}]\n"
     ]
    }
   ],
   "source": [
    "persons = [{'name': 'john', 'age':11}, {'name': 'trump', 'age':22}]\n",
    "pcopy = persons.copy()\n",
    "pcopy[1]['age'] = 33\n",
    "print(persons)\n",
    "print(pcopy) # 操作的是指针引用， 所以修改一致。"
   ]
  },
  {
   "cell_type": "code",
   "execution_count": 265,
   "id": "5bdf5d62-b2d3-44b9-aca6-44af90ce3a6c",
   "metadata": {},
   "outputs": [
    {
     "name": "stdout",
     "output_type": "stream",
     "text": [
      "[[1, 2], [3333, 4]]\n",
      "[[1, 2], [3, 4]]\n"
     ]
    }
   ],
   "source": [
    "import copy\n",
    "lst = [[1, 2], [3, 4]]\n",
    "deep_lst = copy.deepcopy(lst)  # 正确做法\n",
    "deep_lst[1][0] = 3333\n",
    "print(deep_lst)\n",
    "print(lst)"
   ]
  },
  {
   "cell_type": "markdown",
   "id": "c9b9db19-28a8-471a-b6f9-3b804c748b7e",
   "metadata": {},
   "source": [
    "## 19.集合\n"
   ]
  },
  {
   "cell_type": "code",
   "execution_count": 268,
   "id": "ab8a36b5-8106-47fe-8985-3324bd8e8a6b",
   "metadata": {},
   "outputs": [],
   "source": [
    "x = 99\n",
    "s = set()\n",
    "s.add(x)\n",
    "s.remove( x )\n",
    "s.clear()"
   ]
  },
  {
   "cell_type": "markdown",
   "id": "fe4284ec-baf7-4166-b48c-7f1e5a0815d6",
   "metadata": {},
   "source": [
    "## 20. 生成器\n",
    "生成器（Generator）是一种**特殊的迭代器**，它允许按需生成值，  \n",
    "生成器使用 yield 关键字来**实现暂停和恢复执行**，允许函数在每次产生值后暂停并在下一次调用时继续执行。  \n",
    "定义生成器：  \n",
    "- 生成器函数:使用 yield 关键字的函数。\n",
    "- **生成器表达式** : 类似于列表推导式，但使用圆括号。  \n",
    "\n",
    "yield和return：  \n",
    "- 相同点：都是返回程序的执行结果；\n",
    "- 区别：yield返回结果但程序还没有结束，return返回结果表示程序已经结束执行"
   ]
  },
  {
   "cell_type": "code",
   "execution_count": 271,
   "id": "f0d78306-dda0-4d5b-b1e1-cf218c819225",
   "metadata": {},
   "outputs": [
    {
     "name": "stdout",
     "output_type": "stream",
     "text": [
      "1\n",
      "2\n",
      "3\n",
      "1\n",
      "2\n",
      "3\n"
     ]
    }
   ],
   "source": [
    "# 方法1：生成器函数\n",
    "def my_generator():\n",
    "    yield 1\n",
    "    yield 2\n",
    "    yield 3\n",
    "gen = my_generator()\n",
    "print(next(gen))  # 输出: 1\n",
    "print(next(gen))  # 输出: 2\n",
    "print(next(gen))  # 输出: 3\n",
    "\n",
    "# 方法2：生成器表达式\n",
    "gen = (x for x in range(1, 4))\n",
    "print(next(gen))  # 输出: 1\n",
    "print(next(gen))  # 输出: 2\n",
    "print(next(gen))  # 输出: 3"
   ]
  },
  {
   "cell_type": "markdown",
   "id": "255f30fc-1cc8-472c-9a73-b29e355c15ba",
   "metadata": {},
   "source": [
    "## 22. 不定⻓参数\n",
    "在不确定需要传多少参数时使用，args表示位置参数，元组形式保存，kwargs表示关键字参数"
   ]
  },
  {
   "cell_type": "code",
   "execution_count": 274,
   "id": "46e0fe79-97ec-4859-bc0b-e68f674628ce",
   "metadata": {},
   "outputs": [
    {
     "name": "stdout",
     "output_type": "stream",
     "text": [
      "不在缓存中\n",
      "Calculating result...\n",
      "不在缓存中\n",
      "Calculating result...\n",
      "5\n",
      "5\n",
      "9\n"
     ]
    }
   ],
   "source": [
    "def cache(func):\n",
    "    # 缓存计算结果的字典\n",
    "    cached_results = {}\n",
    "    \n",
    "    # 装饰器的包装函数\n",
    "    def wrapper(*args, **kwargs):\n",
    "        # 使用输入参数构建唯一的键\n",
    "        key = (args, tuple(kwargs.items()))\n",
    "        \n",
    "        # 如果缓存中不存在对应键的结果\n",
    "        if key not in cached_results:\n",
    "            print('不在缓存中')\n",
    "            # 调用被装饰的函数，并将结果缓存起来\n",
    "            cached_results[key] = func(*args, **kwargs)\n",
    "        \n",
    "        # 返回缓存中的结果\n",
    "        return cached_results[key]\n",
    "    \n",
    "    # 返回装饰后的函数\n",
    "    return wrapper\n",
    "@cache\n",
    "def add(x, y):\n",
    "    print(\"Calculating result...\")\n",
    "    return x + y\n",
    "\n",
    "result1 = add(2, 3)  # 计算并缓存结果\n",
    "result2 = add(2, 3)  # 直接从缓存中获取结果，不再计算\n",
    "result3 = add(4, 5)  # 计算并缓存新的结果\n",
    "\n",
    "print(result1)  # 输出: 5\n",
    "print(result2)  # 输出: 5\n",
    "print(result3)  # 输出: 9"
   ]
  },
  {
   "cell_type": "markdown",
   "id": "b22181aa-1f37-45e9-89b2-a2a146b71581",
   "metadata": {},
   "source": [
    "## 24. with\n",
    "- with 语句用于对文件、网络连接、线程锁等资源进行管理.  \n",
    "- with原理：跟着上下文。"
   ]
  },
  {
   "cell_type": "code",
   "execution_count": 285,
   "id": "1b5042a5-4330-4eaf-9d3d-b2c25d0f97fc",
   "metadata": {},
   "outputs": [
    {
     "name": "stdout",
     "output_type": "stream",
     "text": [
      "进入上下文\n",
      "执行代码块\n",
      "退出上下文\n"
     ]
    }
   ],
   "source": [
    "class MyContext:\n",
    "    def __enter__(self):\n",
    "        print(\"进入上下文\")\n",
    "        return self\n",
    "\n",
    "    def __exit__(self, exc_type, exc_val, exc_tb):\n",
    "        print(\"退出上下文\")\n",
    "\n",
    "with MyContext():\n",
    "    print(\"执行代码块\")\n"
   ]
  },
  {
   "cell_type": "markdown",
   "id": "82ba4118-b8c0-45cb-9c6b-9c9706cb0172",
   "metadata": {},
   "source": [
    "### 24.1. 文件\n",
    "- 异常时候自动关闭\n",
    "- with块外自动关闭文件"
   ]
  },
  {
   "cell_type": "code",
   "execution_count": 3,
   "id": "e89f7e94-e00c-4644-9a47-78c942532725",
   "metadata": {},
   "outputs": [],
   "source": [
    "with open('test.log', 'r') as f:\n",
    "    f.read()\n",
    "# f.read() 此时已经关闭了"
   ]
  },
  {
   "cell_type": "code",
   "execution_count": 6,
   "id": "c5904bc9-2fd3-45d9-a55a-05f6da4db420",
   "metadata": {},
   "outputs": [
    {
     "ename": "PermissionError",
     "evalue": "[Errno 13] Permission denied: 'hellodir'",
     "output_type": "error",
     "traceback": [
      "\u001b[1;31m---------------------------------------------------------------------------\u001b[0m",
      "\u001b[1;31mPermissionError\u001b[0m                           Traceback (most recent call last)",
      "Cell \u001b[1;32mIn[6], line 2\u001b[0m\n\u001b[0;32m      1\u001b[0m os\u001b[38;5;241m.\u001b[39mmakedirs(\u001b[38;5;124m'\u001b[39m\u001b[38;5;124mhellodir\u001b[39m\u001b[38;5;124m'\u001b[39m)\n\u001b[1;32m----> 2\u001b[0m \u001b[38;5;28;01mwith\u001b[39;00m \u001b[38;5;28;43mopen\u001b[39;49m\u001b[43m(\u001b[49m\u001b[38;5;124;43m'\u001b[39;49m\u001b[38;5;124;43mhellodir\u001b[39;49m\u001b[38;5;124;43m'\u001b[39;49m\u001b[43m,\u001b[49m\u001b[43m \u001b[49m\u001b[38;5;124;43m'\u001b[39;49m\u001b[38;5;124;43mr\u001b[39;49m\u001b[38;5;124;43m'\u001b[39;49m\u001b[43m)\u001b[49m \u001b[38;5;28;01mas\u001b[39;00m f:\n\u001b[0;32m      3\u001b[0m     f\u001b[38;5;241m.\u001b[39mread()\n",
      "File \u001b[1;32md:\\miniconda3\\Lib\\site-packages\\IPython\\core\\interactiveshell.py:286\u001b[0m, in \u001b[0;36m_modified_open\u001b[1;34m(file, *args, **kwargs)\u001b[0m\n\u001b[0;32m    279\u001b[0m \u001b[38;5;28;01mif\u001b[39;00m file \u001b[38;5;129;01min\u001b[39;00m {\u001b[38;5;241m0\u001b[39m, \u001b[38;5;241m1\u001b[39m, \u001b[38;5;241m2\u001b[39m}:\n\u001b[0;32m    280\u001b[0m     \u001b[38;5;28;01mraise\u001b[39;00m \u001b[38;5;167;01mValueError\u001b[39;00m(\n\u001b[0;32m    281\u001b[0m         \u001b[38;5;124mf\u001b[39m\u001b[38;5;124m\"\u001b[39m\u001b[38;5;124mIPython won\u001b[39m\u001b[38;5;124m'\u001b[39m\u001b[38;5;124mt let you open fd=\u001b[39m\u001b[38;5;132;01m{\u001b[39;00mfile\u001b[38;5;132;01m}\u001b[39;00m\u001b[38;5;124m by default \u001b[39m\u001b[38;5;124m\"\u001b[39m\n\u001b[0;32m    282\u001b[0m         \u001b[38;5;124m\"\u001b[39m\u001b[38;5;124mas it is likely to crash IPython. If you know what you are doing, \u001b[39m\u001b[38;5;124m\"\u001b[39m\n\u001b[0;32m    283\u001b[0m         \u001b[38;5;124m\"\u001b[39m\u001b[38;5;124myou can use builtins\u001b[39m\u001b[38;5;124m'\u001b[39m\u001b[38;5;124m open.\u001b[39m\u001b[38;5;124m\"\u001b[39m\n\u001b[0;32m    284\u001b[0m     )\n\u001b[1;32m--> 286\u001b[0m \u001b[38;5;28;01mreturn\u001b[39;00m \u001b[43mio_open\u001b[49m\u001b[43m(\u001b[49m\u001b[43mfile\u001b[49m\u001b[43m,\u001b[49m\u001b[43m \u001b[49m\u001b[38;5;241;43m*\u001b[39;49m\u001b[43margs\u001b[49m\u001b[43m,\u001b[49m\u001b[43m \u001b[49m\u001b[38;5;241;43m*\u001b[39;49m\u001b[38;5;241;43m*\u001b[39;49m\u001b[43mkwargs\u001b[49m\u001b[43m)\u001b[49m\n",
      "\u001b[1;31mPermissionError\u001b[0m: [Errno 13] Permission denied: 'hellodir'"
     ]
    }
   ],
   "source": [
    "os.makedirs('hellodir')\n",
    "with open('hellodir', 'r') as f:\n",
    "    f.read()"
   ]
  },
  {
   "cell_type": "markdown",
   "id": "bdca85da-e531-4e6b-adc3-867962bf5cc5",
   "metadata": {},
   "source": [
    "### 24.2. 线程锁子\n",
    "- with块内线程安全\n",
    "- 离开后自动释放"
   ]
  },
  {
   "cell_type": "code",
   "execution_count": 283,
   "id": "ad9e92d9-0072-4fd2-9c1e-c5316e5cea06",
   "metadata": {},
   "outputs": [
    {
     "name": "stdout",
     "output_type": "stream",
     "text": [
      "线程安全操作\n"
     ]
    }
   ],
   "source": [
    "import threading\n",
    "lock = threading.Lock()\n",
    "\n",
    "with lock:  # 自动上锁 & 释放\n",
    "    print(\"线程安全操作\")"
   ]
  },
  {
   "cell_type": "markdown",
   "id": "6b7af167-257f-46aa-b714-d47876f42248",
   "metadata": {},
   "source": [
    "### 24.3. 数据库"
   ]
  },
  {
   "cell_type": "code",
   "execution_count": 323,
   "id": "06eaf789-6fc2-455e-8f89-acd1499afca4",
   "metadata": {},
   "outputs": [
    {
     "ename": "OperationalError",
     "evalue": "no such table: users",
     "output_type": "error",
     "traceback": [
      "\u001b[1;31m---------------------------------------------------------------------------\u001b[0m",
      "\u001b[1;31mOperationalError\u001b[0m                          Traceback (most recent call last)",
      "Cell \u001b[1;32mIn[323], line 4\u001b[0m\n\u001b[0;32m      2\u001b[0m \u001b[38;5;28;01mwith\u001b[39;00m sqlite3\u001b[38;5;241m.\u001b[39mconnect(\u001b[38;5;124m\"\u001b[39m\u001b[38;5;124mdatabase.db\u001b[39m\u001b[38;5;124m\"\u001b[39m) \u001b[38;5;28;01mas\u001b[39;00m conn:\n\u001b[0;32m      3\u001b[0m     cursor \u001b[38;5;241m=\u001b[39m conn\u001b[38;5;241m.\u001b[39mcursor()\n\u001b[1;32m----> 4\u001b[0m     \u001b[43mcursor\u001b[49m\u001b[38;5;241;43m.\u001b[39;49m\u001b[43mexecute\u001b[49m\u001b[43m(\u001b[49m\u001b[38;5;124;43m\"\u001b[39;49m\u001b[38;5;124;43mSELECT * FROM users\u001b[39;49m\u001b[38;5;124;43m\"\u001b[39;49m\u001b[43m)\u001b[49m\n\u001b[0;32m      5\u001b[0m     result \u001b[38;5;241m=\u001b[39m cursor\u001b[38;5;241m.\u001b[39mfetchall()\n\u001b[0;32m      6\u001b[0m \u001b[38;5;66;03m# 离开 `with` 块，连接 **自动提交 & 关闭**\u001b[39;00m\n",
      "\u001b[1;31mOperationalError\u001b[0m: no such table: users"
     ]
    }
   ],
   "source": [
    "import sqlite3\n",
    "with sqlite3.connect(\"database.db\") as conn:\n",
    "    cursor = conn.cursor()\n",
    "    cursor.execute(\"SELECT * FROM users\")\n",
    "    result = cursor.fetchall()\n",
    "# 离开 `with` 块，连接 **自动提交 & 关闭**"
   ]
  },
  {
   "cell_type": "markdown",
   "id": "57c35f77-9cb2-4027-8e46-7df745948432",
   "metadata": {},
   "source": [
    "## 25. 异常处理"
   ]
  },
  {
   "cell_type": "code",
   "execution_count": 329,
   "id": "aac8ccae-299a-4ca6-bcc0-7181f2984268",
   "metadata": {},
   "outputs": [
    {
     "name": "stdout",
     "output_type": "stream",
     "text": [
      "除数不能为 0\n",
      "无论是否异常，都会执行\n"
     ]
    }
   ],
   "source": [
    "try:\n",
    "    x = 1 / 0 # 触发 ZeroDivisionError\n",
    "except ZeroDivisionError:\n",
    "    print(\"除数不能为 0\")  # 处理异常\n",
    "else:\n",
    "    print(\"计算成功:\", result)  # 只有 try 代码成功执行，才会进入 else\n",
    "finally: # 资源释放\n",
    "    print(\"无论是否异常，都会执行\")  "
   ]
  },
  {
   "cell_type": "markdown",
   "id": "25da15cc-2b25-494a-bf5a-ebaecf647ea1",
   "metadata": {},
   "source": [
    "### 25.2. 捕获多个异常"
   ]
  },
  {
   "cell_type": "code",
   "execution_count": 330,
   "id": "a61eb7ef-1a2b-4a3e-bf23-d04e15571847",
   "metadata": {},
   "outputs": [
    {
     "name": "stdout",
     "output_type": "stream",
     "text": [
      "发生错误: invalid literal for int() with base 10: 'abc'\n"
     ]
    }
   ],
   "source": [
    "try:\n",
    "    num = int(\"abc\")  # ValueError\n",
    "except (ZeroDivisionError, ValueError) as e:\n",
    "    print(f\"发生错误: {e}\")  # 统一处理\n"
   ]
  },
  {
   "cell_type": "markdown",
   "id": "2225c749-3b7e-4153-a3bf-81a1362e9f8e",
   "metadata": {},
   "source": [
    "### 25.3 自定义异常"
   ]
  },
  {
   "cell_type": "code",
   "execution_count": 332,
   "id": "9c6cefee-0061-4469-9993-a9023a6a1681",
   "metadata": {},
   "outputs": [
    {
     "name": "stdout",
     "output_type": "stream",
     "text": [
      "捕获异常: 自定义错误\n"
     ]
    }
   ],
   "source": [
    "class MyError(Exception):\n",
    "    pass\n",
    "try:\n",
    "    raise MyError('自定义错误')\n",
    "except MyError as e:\n",
    "    print(f\"捕获异常: {e}\")\n"
   ]
  },
  {
   "cell_type": "code",
   "execution_count": null,
   "id": "272192e0-a39c-44a8-8e8e-a41b0182bc16",
   "metadata": {},
   "outputs": [],
   "source": []
  },
  {
   "cell_type": "markdown",
   "id": "11f7d437-46af-497f-a332-bb36461a4546",
   "metadata": {},
   "source": [
    "## 26 数字"
   ]
  },
  {
   "cell_type": "markdown",
   "id": "bacce39e-86d3-4bcd-a84c-cd0bcaf978c1",
   "metadata": {},
   "source": [
    "1. python数值中的下划线只是增强可读性"
   ]
  },
  {
   "cell_type": "code",
   "execution_count": 1,
   "id": "60d03676-c40b-47ce-ae8f-681bb6c0b025",
   "metadata": {},
   "outputs": [],
   "source": [
    "a = 100_000  # 等价于 100000\n",
    "b = 1_234_567  # 等价于 1234567\n",
    "c = 0b1010_0101  # 二进制 10100101，等价于 165\n",
    "d=5e-3"
   ]
  },
  {
   "cell_type": "code",
   "execution_count": null,
   "id": "6bf2a61b-a072-4a39-b813-3a5f31bcd307",
   "metadata": {},
   "outputs": [],
   "source": []
  },
  {
   "cell_type": "markdown",
   "id": "13d9426b-8e5c-493c-8d10-3acd1005d4e6",
   "metadata": {},
   "source": [
    "## 27 range对象\n",
    "- 内置的不可变序列, 用于生成等差序列\n",
    "- 可以索引切片\n",
    "- 不是列表\n",
    "- 高效，惰性计算，需要时候才加载内存"
   ]
  },
  {
   "cell_type": "code",
   "execution_count": 10,
   "id": "360def70-eaf6-453a-b963-9cc106645869",
   "metadata": {},
   "outputs": [
    {
     "data": {
      "text/plain": [
       "range"
      ]
     },
     "execution_count": 10,
     "metadata": {},
     "output_type": "execute_result"
    }
   ],
   "source": [
    "type(range(5))"
   ]
  },
  {
   "cell_type": "code",
   "execution_count": 11,
   "id": "e2d4ddbe-c00f-4848-baf1-5fa9814c4386",
   "metadata": {},
   "outputs": [
    {
     "data": {
      "text/plain": [
       "range(0, 1)"
      ]
     },
     "execution_count": 11,
     "metadata": {},
     "output_type": "execute_result"
    }
   ],
   "source": [
    "range(5)[:1]"
   ]
  },
  {
   "cell_type": "code",
   "execution_count": 12,
   "id": "dce41f6d-6566-4b59-a94f-17e390be8186",
   "metadata": {},
   "outputs": [
    {
     "data": {
      "text/plain": [
       "48"
      ]
     },
     "execution_count": 12,
     "metadata": {},
     "output_type": "execute_result"
    }
   ],
   "source": [
    "import sys\n",
    "big = range(10**9)\n",
    "sys.getsizeof(big) # 并不是全部内存"
   ]
  },
  {
   "cell_type": "code",
   "execution_count": null,
   "id": "beca97c7-d805-488b-b3b6-e868c1a00919",
   "metadata": {},
   "outputs": [],
   "source": []
  },
  {
   "cell_type": "markdown",
   "id": "ec47d150-7ff1-4787-9506-fbb8c771d4fb",
   "metadata": {},
   "source": [
    "## 30. np.sum vs. sum"
   ]
  },
  {
   "cell_type": "code",
   "execution_count": 14,
   "id": "5ccf9607-de1c-4ea8-a7f4-5be9cd9f2feb",
   "metadata": {},
   "outputs": [
    {
     "name": "stdout",
     "output_type": "stream",
     "text": [
      "Help on _ArrayFunctionDispatcher in module numpy:\n",
      "\n",
      "sum(a, axis=None, dtype=None, out=None, keepdims=<no value>, initial=<no value>, where=<no value>)\n",
      "    Sum of array elements over a given axis.\n",
      "\n",
      "    Parameters\n",
      "    ----------\n",
      "    a : array_like\n",
      "        Elements to sum.\n",
      "    axis : None or int or tuple of ints, optional\n",
      "        Axis or axes along which a sum is performed.  The default,\n",
      "        axis=None, will sum all of the elements of the input array.  If\n",
      "        axis is negative it counts from the last to the first axis. If\n",
      "        axis is a tuple of ints, a sum is performed on all of the axes\n",
      "        specified in the tuple instead of a single axis or all the axes as\n",
      "        before.\n",
      "    dtype : dtype, optional\n",
      "        The type of the returned array and of the accumulator in which the\n",
      "        elements are summed.  The dtype of `a` is used by default unless `a`\n",
      "        has an integer dtype of less precision than the default platform\n",
      "        integer.  In that case, if `a` is signed then the platform integer\n",
      "        is used while if `a` is unsigned then an unsigned integer of the\n",
      "        same precision as the platform integer is used.\n",
      "    out : ndarray, optional\n",
      "        Alternative output array in which to place the result. It must have\n",
      "        the same shape as the expected output, but the type of the output\n",
      "        values will be cast if necessary.\n",
      "    keepdims : bool, optional\n",
      "        If this is set to True, the axes which are reduced are left\n",
      "        in the result as dimensions with size one. With this option,\n",
      "        the result will broadcast correctly against the input array.\n",
      "\n",
      "        If the default value is passed, then `keepdims` will not be\n",
      "        passed through to the `sum` method of sub-classes of\n",
      "        `ndarray`, however any non-default value will be.  If the\n",
      "        sub-class' method does not implement `keepdims` any\n",
      "        exceptions will be raised.\n",
      "    initial : scalar, optional\n",
      "        Starting value for the sum. See `~numpy.ufunc.reduce` for details.\n",
      "    where : array_like of bool, optional\n",
      "        Elements to include in the sum. See `~numpy.ufunc.reduce` for details.\n",
      "\n",
      "    Returns\n",
      "    -------\n",
      "    sum_along_axis : ndarray\n",
      "        An array with the same shape as `a`, with the specified\n",
      "        axis removed.   If `a` is a 0-d array, or if `axis` is None, a scalar\n",
      "        is returned.  If an output array is specified, a reference to\n",
      "        `out` is returned.\n",
      "\n",
      "    See Also\n",
      "    --------\n",
      "    ndarray.sum : Equivalent method.\n",
      "    add: ``numpy.add.reduce`` equivalent function.\n",
      "    cumsum : Cumulative sum of array elements.\n",
      "    trapezoid : Integration of array values using composite trapezoidal rule.\n",
      "\n",
      "    mean, average\n",
      "\n",
      "    Notes\n",
      "    -----\n",
      "    Arithmetic is modular when using integer types, and no error is\n",
      "    raised on overflow.\n",
      "\n",
      "    The sum of an empty array is the neutral element 0:\n",
      "\n",
      "    >>> np.sum([])\n",
      "    0.0\n",
      "\n",
      "    For floating point numbers the numerical precision of sum (and\n",
      "    ``np.add.reduce``) is in general limited by directly adding each number\n",
      "    individually to the result causing rounding errors in every step.\n",
      "    However, often numpy will use a  numerically better approach (partial\n",
      "    pairwise summation) leading to improved precision in many use-cases.\n",
      "    This improved precision is always provided when no ``axis`` is given.\n",
      "    When ``axis`` is given, it will depend on which axis is summed.\n",
      "    Technically, to provide the best speed possible, the improved precision\n",
      "    is only used when the summation is along the fast axis in memory.\n",
      "    Note that the exact precision may vary depending on other parameters.\n",
      "    In contrast to NumPy, Python's ``math.fsum`` function uses a slower but\n",
      "    more precise approach to summation.\n",
      "    Especially when summing a large number of lower precision floating point\n",
      "    numbers, such as ``float32``, numerical errors can become significant.\n",
      "    In such cases it can be advisable to use `dtype=\"float64\"` to use a higher\n",
      "    precision for the output.\n",
      "\n",
      "    Examples\n",
      "    --------\n",
      "    >>> import numpy as np\n",
      "    >>> np.sum([0.5, 1.5])\n",
      "    2.0\n",
      "    >>> np.sum([0.5, 0.7, 0.2, 1.5], dtype=np.int32)\n",
      "    np.int32(1)\n",
      "    >>> np.sum([[0, 1], [0, 5]])\n",
      "    6\n",
      "    >>> np.sum([[0, 1], [0, 5]], axis=0)\n",
      "    array([0, 6])\n",
      "    >>> np.sum([[0, 1], [0, 5]], axis=1)\n",
      "    array([1, 5])\n",
      "    >>> np.sum([[0, 1], [np.nan, 5]], where=[False, True], axis=1)\n",
      "    array([1., 5.])\n",
      "\n",
      "    If the accumulator is too small, overflow occurs:\n",
      "\n",
      "    >>> np.ones(128, dtype=np.int8).sum(dtype=np.int8)\n",
      "    np.int8(-128)\n",
      "\n",
      "    You can also start the sum with a value other than zero:\n",
      "\n",
      "    >>> np.sum([10], initial=5)\n",
      "    15\n",
      "\n",
      "Help on built-in function sum in module builtins:\n",
      "\n",
      "sum(iterable, /, start=0)\n",
      "    Return the sum of a 'start' value (default: 0) plus an iterable of numbers\n",
      "\n",
      "    When the iterable is empty, return the start value.\n",
      "    This function is intended specifically for use with numeric values and may\n",
      "    reject non-numeric types.\n",
      "\n"
     ]
    }
   ],
   "source": [
    "import numpy as np\n",
    "help(np.sum)\n",
    "help(sum)"
   ]
  },
  {
   "cell_type": "markdown",
   "id": "eb8bf30e-1edc-4c4e-afff-4d1175ea801b",
   "metadata": {},
   "source": [
    "---"
   ]
  },
  {
   "cell_type": "markdown",
   "id": "1306c644-85a7-412a-b2e1-195428608245",
   "metadata": {},
   "source": [
    "## 31. 解包*\n"
   ]
  },
  {
   "cell_type": "code",
   "execution_count": 1,
   "id": "2533716b-808d-41ea-be73-65c7726b820a",
   "metadata": {},
   "outputs": [],
   "source": [
    "import numpy as np\n",
    "data = np.random.randn(3,4)\n",
    "data += np.random.randn(*data.shape)"
   ]
  },
  {
   "cell_type": "markdown",
   "id": "8cf4275e-7bc9-417e-a3af-ded25bb72dab",
   "metadata": {},
   "source": [
    "## 32. 内置函数"
   ]
  },
  {
   "cell_type": "code",
   "execution_count": 1,
   "id": "2a59f2bc-3af1-4ec8-903b-a3d24c1f8452",
   "metadata": {},
   "outputs": [
    {
     "data": {
      "text/plain": [
       "['In',\n",
       " 'Out',\n",
       " '_',\n",
       " '__',\n",
       " '___',\n",
       " '__builtin__',\n",
       " '__builtins__',\n",
       " '__doc__',\n",
       " '__loader__',\n",
       " '__name__',\n",
       " '__package__',\n",
       " '__session__',\n",
       " '__spec__',\n",
       " '_dh',\n",
       " '_i',\n",
       " '_i1',\n",
       " '_ih',\n",
       " '_ii',\n",
       " '_iii',\n",
       " '_oh',\n",
       " 'exit',\n",
       " 'get_ipython',\n",
       " 'open',\n",
       " 'quit']"
      ]
     },
     "execution_count": 1,
     "metadata": {},
     "output_type": "execute_result"
    }
   ],
   "source": [
    "# 查看对象的属性和方法\n",
    "# 查看模块的函数常用\n",
    "dir()"
   ]
  },
  {
   "cell_type": "code",
   "execution_count": 2,
   "id": "00ae5af9-4e1a-4715-8302-379abe7538b7",
   "metadata": {},
   "outputs": [
    {
     "data": {
      "text/plain": [
       "['DirEntry',\n",
       " 'F_OK',\n",
       " 'GenericAlias',\n",
       " 'Mapping',\n",
       " 'MutableMapping',\n",
       " 'O_APPEND',\n",
       " 'O_BINARY',\n",
       " 'O_CREAT',\n",
       " 'O_EXCL',\n",
       " 'O_NOINHERIT',\n",
       " 'O_RANDOM',\n",
       " 'O_RDONLY',\n",
       " 'O_RDWR',\n",
       " 'O_SEQUENTIAL',\n",
       " 'O_SHORT_LIVED',\n",
       " 'O_TEMPORARY',\n",
       " 'O_TEXT',\n",
       " 'O_TRUNC',\n",
       " 'O_WRONLY',\n",
       " 'P_DETACH',\n",
       " 'P_NOWAIT',\n",
       " 'P_NOWAITO',\n",
       " 'P_OVERLAY',\n",
       " 'P_WAIT',\n",
       " 'PathLike',\n",
       " 'R_OK',\n",
       " 'SEEK_CUR',\n",
       " 'SEEK_END',\n",
       " 'SEEK_SET',\n",
       " 'TMP_MAX',\n",
       " 'W_OK',\n",
       " 'X_OK',\n",
       " '_AddedDllDirectory',\n",
       " '_Environ',\n",
       " '__all__',\n",
       " '__builtins__',\n",
       " '__cached__',\n",
       " '__doc__',\n",
       " '__file__',\n",
       " '__loader__',\n",
       " '__name__',\n",
       " '__package__',\n",
       " '__spec__',\n",
       " '_check_methods',\n",
       " '_execvpe',\n",
       " '_exists',\n",
       " '_exit',\n",
       " '_fspath',\n",
       " '_get_exports_list',\n",
       " '_walk',\n",
       " '_wrap_close',\n",
       " 'abc',\n",
       " 'abort',\n",
       " 'access',\n",
       " 'add_dll_directory',\n",
       " 'altsep',\n",
       " 'chdir',\n",
       " 'chmod',\n",
       " 'close',\n",
       " 'closerange',\n",
       " 'cpu_count',\n",
       " 'curdir',\n",
       " 'defpath',\n",
       " 'device_encoding',\n",
       " 'devnull',\n",
       " 'dup',\n",
       " 'dup2',\n",
       " 'environ',\n",
       " 'error',\n",
       " 'execl',\n",
       " 'execle',\n",
       " 'execlp',\n",
       " 'execlpe',\n",
       " 'execv',\n",
       " 'execve',\n",
       " 'execvp',\n",
       " 'execvpe',\n",
       " 'extsep',\n",
       " 'fdopen',\n",
       " 'fsdecode',\n",
       " 'fsencode',\n",
       " 'fspath',\n",
       " 'fstat',\n",
       " 'fsync',\n",
       " 'ftruncate',\n",
       " 'get_exec_path',\n",
       " 'get_handle_inheritable',\n",
       " 'get_inheritable',\n",
       " 'get_terminal_size',\n",
       " 'getcwd',\n",
       " 'getcwdb',\n",
       " 'getenv',\n",
       " 'getlogin',\n",
       " 'getpid',\n",
       " 'getppid',\n",
       " 'isatty',\n",
       " 'kill',\n",
       " 'linesep',\n",
       " 'link',\n",
       " 'listdir',\n",
       " 'lseek',\n",
       " 'lstat',\n",
       " 'makedirs',\n",
       " 'mkdir',\n",
       " 'name',\n",
       " 'open',\n",
       " 'pardir',\n",
       " 'path',\n",
       " 'pathsep',\n",
       " 'pipe',\n",
       " 'popen',\n",
       " 'putenv',\n",
       " 'read',\n",
       " 'readlink',\n",
       " 'remove',\n",
       " 'removedirs',\n",
       " 'rename',\n",
       " 'renames',\n",
       " 'replace',\n",
       " 'rmdir',\n",
       " 'scandir',\n",
       " 'sep',\n",
       " 'set_handle_inheritable',\n",
       " 'set_inheritable',\n",
       " 'spawnl',\n",
       " 'spawnle',\n",
       " 'spawnv',\n",
       " 'spawnve',\n",
       " 'st',\n",
       " 'startfile',\n",
       " 'stat',\n",
       " 'stat_result',\n",
       " 'statvfs_result',\n",
       " 'strerror',\n",
       " 'supports_bytes_environ',\n",
       " 'supports_dir_fd',\n",
       " 'supports_effective_ids',\n",
       " 'supports_fd',\n",
       " 'supports_follow_symlinks',\n",
       " 'symlink',\n",
       " 'sys',\n",
       " 'system',\n",
       " 'terminal_size',\n",
       " 'times',\n",
       " 'times_result',\n",
       " 'truncate',\n",
       " 'umask',\n",
       " 'uname_result',\n",
       " 'unlink',\n",
       " 'unsetenv',\n",
       " 'urandom',\n",
       " 'utime',\n",
       " 'waitpid',\n",
       " 'waitstatus_to_exitcode',\n",
       " 'walk',\n",
       " 'write']"
      ]
     },
     "execution_count": 2,
     "metadata": {},
     "output_type": "execute_result"
    }
   ],
   "source": [
    "import os\n",
    "dir(os)"
   ]
  },
  {
   "cell_type": "markdown",
   "id": "eb271962-e27e-4a93-b225-f69bf8fda999",
   "metadata": {},
   "source": [
    "# 常用模块"
   ]
  },
  {
   "cell_type": "markdown",
   "id": "ee06802e-219c-484e-a906-db69c3b9cf69",
   "metadata": {},
   "source": [
    "## 1. logging\n",
    "相比 print()，logging 更灵活，支持 日志级别（INFO、ERROR 等）、日志格式化、写入文件、多线程安全，适用于生产环境的日志管理。"
   ]
  },
  {
   "cell_type": "code",
   "execution_count": 103,
   "id": "d8660da0-453c-4677-981a-fb873b833090",
   "metadata": {},
   "outputs": [],
   "source": [
    "import logging\n",
    "\n",
    "logging.basicConfig(filename=\"test.log\",level=logging.INFO)\n",
    "logging.debug('debug message')\n",
    "logging.info(\"info message\")\n",
    "logging.warning('warn message')\n",
    "logging.error(\"error message\")\n",
    "logging.critical('critical message')"
   ]
  },
  {
   "cell_type": "markdown",
   "id": "da73305e-882f-4ab3-8b51-89d4ee9d0ebb",
   "metadata": {},
   "source": [
    "## 2. os"
   ]
  },
  {
   "cell_type": "markdown",
   "id": "20e61015-c3ae-4cfe-a9d8-fb2597ac4bb1",
   "metadata": {},
   "source": [
    "### 2.1. 文件/目录"
   ]
  },
  {
   "cell_type": "code",
   "execution_count": 7,
   "id": "d69fec38-f11b-483e-a924-c96f097f86ef",
   "metadata": {},
   "outputs": [
    {
     "name": "stdout",
     "output_type": "stream",
     "text": [
      "D:\\ML\\基础\n"
     ]
    },
    {
     "data": {
      "text/plain": [
       "'dir\\\\file.txt'"
      ]
     },
     "execution_count": 7,
     "metadata": {},
     "output_type": "execute_result"
    }
   ],
   "source": [
    "import os\n",
    "os.makedirs(\"test_dir\", exist_ok=True)  # 创建目录, \n",
    "#os.remove(\"test.log\")  # 删除文件\n",
    "os.rmdir(\"test_dir\")  # 删除空目录\n",
    "print(os.getcwd())  # 获取当前工作目录\n",
    "os.path.join(\"dir\", \"file.txt\")  # 拼接路径，跨平台适配"
   ]
  },
  {
   "cell_type": "code",
   "execution_count": 13,
   "id": "db7517b0-2e87-4d2d-b91d-42d857fb90ec",
   "metadata": {},
   "outputs": [
    {
     "name": "stdout",
     "output_type": "stream",
     "text": [
      "D:\\ML\\基础 ['.ipynb_checkpoints', 'data', 'directory_path', 'hellodir', 'temp.foo', 'test'] ['archive.zip', 'archive_name.zip', 'data.json', 'database.db', 'destination.txt', 'temp.txt', 'test.log', '面试题.ipynb'] \n",
      "\n",
      "D:\\ML\\基础\\.ipynb_checkpoints [] ['source-checkpoint.txt', 'test-checkpoint.log', '面试题-checkpoint.ipynb'] \n",
      "\n",
      "D:\\ML\\基础\\data [] [] \n",
      "\n",
      "D:\\ML\\基础\\directory_path [] [] \n",
      "\n",
      "D:\\ML\\基础\\hellodir [] [] \n",
      "\n",
      "D:\\ML\\基础\\temp.foo [] [] \n",
      "\n",
      "D:\\ML\\基础\\test [] [] \n",
      "\n"
     ]
    }
   ],
   "source": [
    "# 递归遍历\n",
    "for root,dirs,files in os.walk(os.getcwd()):\n",
    "    print(root, dirs, files,'\\n') # 当前root有哪些目录，文件\n",
    "    for f in files:\n",
    "        full_path = os.path.join(root, f)\n"
   ]
  },
  {
   "cell_type": "code",
   "execution_count": 2,
   "id": "02f2e3c8-9c54-469c-b9b5-653fc3fac8c5",
   "metadata": {},
   "outputs": [
    {
     "name": "stdout",
     "output_type": "stream",
     "text": [
      "Help on function makedirs in module os:\n",
      "\n",
      "makedirs(name, mode=511, exist_ok=False)\n",
      "    makedirs(name [, mode=0o777][, exist_ok=False])\n",
      "\n",
      "    Super-mkdir; create a leaf directory and all intermediate ones.  Works like\n",
      "    mkdir, except that any intermediate path segment (not just the rightmost)\n",
      "    will be created if it does not exist. If the target directory already\n",
      "    exists, raise an OSError if exist_ok is False. Otherwise no exception is\n",
      "    raised.  This is recursive.\n",
      "\n"
     ]
    }
   ],
   "source": [
    "help(os.makedirs)"
   ]
  },
  {
   "cell_type": "markdown",
   "id": "d63a58df-2082-4b84-b944-bba285197cb1",
   "metadata": {},
   "source": [
    "### 2.2. 环境变量"
   ]
  },
  {
   "cell_type": "code",
   "execution_count": 115,
   "id": "7515bd0c-fa34-44cc-9dca-c758ac5939df",
   "metadata": {},
   "outputs": [
    {
     "name": "stdout",
     "output_type": "stream",
     "text": [
      "D:\\miniconda3;D:\\miniconda3\\Library\\mingw-w64\\bin;D:\\miniconda3\\Library\\usr\\bin;D:\\miniconda3\\Library\\bin;D:\\miniconda3\\Scripts;D:\\miniconda3\\bin;D:\\miniconda3\\condabin;C:\\WINDOWS\\system32;C:\\WINDOWS;C:\\WINDOWS\\System32\\Wbem;C:\\WINDOWS\\System32\\WindowsPowerShell\\v1.0;C:\\WINDOWS\\System32\\OpenSSH;D:\\Git\\cmd;D:\\nodejs;C:\\Program Files\\Calibre2;C:\\Program Files\\Docker\\Docker\\resources\\bin;C:\\Program Files (x86)\\Microsoft SQL Server\\160\\DTS\\Binn;C:\\Program Files (x86)\\Microsoft SQL Server\\160\\Tools\\Binn;C:\\Program Files\\Microsoft SQL Server\\160\\Tools\\Binn;C:\\Program Files\\Microsoft SQL Server\\Client SDK\\ODBC\\170\\Tools\\Binn;C:\\Program Files\\Microsoft SQL Server\\160\\DTS\\Binn;C:\\Users\\63517\\AppData\\Local\\Microsoft\\WindowsApps;C:\\Users\\63517\\AppData\\Roaming\\npm;.\n"
     ]
    },
    {
     "data": {
      "text/plain": [
       "'value'"
      ]
     },
     "execution_count": 115,
     "metadata": {},
     "output_type": "execute_result"
    }
   ],
   "source": [
    "print(os.getenv(\"PATH\"))  # 获取环境变量\n",
    "os.environ[\"MY_VAR\"] = \"value\"  # 设置环境变量\n",
    "os.environ.pop(\"MY_VAR\", None) # 删除环境变量"
   ]
  },
  {
   "cell_type": "markdown",
   "id": "7e3bbdad-3ab6-4a5b-899b-38f20135d041",
   "metadata": {},
   "source": [
    "### 2.3. 执行系统命令"
   ]
  },
  {
   "cell_type": "code",
   "execution_count": 118,
   "id": "c6d24cf3-6501-44ad-8421-7768077ebfc2",
   "metadata": {},
   "outputs": [
    {
     "data": {
      "text/plain": [
       "1"
      ]
     },
     "execution_count": 118,
     "metadata": {},
     "output_type": "execute_result"
    }
   ],
   "source": [
    "os.system(\"ls\")  # 运行 shell 命令（不推荐，安全性低）"
   ]
  },
  {
   "cell_type": "markdown",
   "id": "81a2b588-8e8b-43da-9e8c-40fab9e9e830",
   "metadata": {},
   "source": [
    "### 2.4. 进程控制"
   ]
  },
  {
   "cell_type": "code",
   "execution_count": 121,
   "id": "22f71409-76aa-4cf4-a490-1c9c4663d966",
   "metadata": {},
   "outputs": [
    {
     "data": {
      "text/plain": [
       "11776"
      ]
     },
     "execution_count": 121,
     "metadata": {},
     "output_type": "execute_result"
    }
   ],
   "source": [
    "os.getpid()  # 获取当前进程 ID\n",
    "#os.fork()  # 创建子进程（仅 Unix）"
   ]
  },
  {
   "cell_type": "markdown",
   "id": "95ada1d4-df30-4c4e-b299-65039c0ff13e",
   "metadata": {},
   "source": [
    "## 3. sys\n",
    "提供与 Python 解释器和系统交互的功能，如 命令行参数、标准输入输出、解释器信息、退出程序 等。"
   ]
  },
  {
   "cell_type": "markdown",
   "id": "44a34884-255c-4429-bf27-79bc930cb3b5",
   "metadata": {},
   "source": [
    "### 3.1. 命令行参数 "
   ]
  },
  {
   "cell_type": "code",
   "execution_count": 126,
   "id": "8f221adf-3a48-4e0f-955c-80f4b237b071",
   "metadata": {},
   "outputs": [
    {
     "name": "stdout",
     "output_type": "stream",
     "text": [
      "['D:\\\\miniconda3\\\\Lib\\\\site-packages\\\\ipykernel_launcher.py', '-f', 'C:\\\\Users\\\\63517\\\\AppData\\\\Roaming\\\\jupyter\\\\runtime\\\\kernel-097bcc1d-fad0-4452-ae0c-9e8826d7ab1a.json']\n"
     ]
    }
   ],
   "source": [
    "import sys\n",
    "print(sys.argv)  # 当前程序命令行参数"
   ]
  },
  {
   "cell_type": "markdown",
   "id": "6a52044c-01d3-43b7-905b-07f32a5199e4",
   "metadata": {},
   "source": [
    "### 3.2. 程序退出"
   ]
  },
  {
   "cell_type": "code",
   "execution_count": 129,
   "id": "08e0fb07-6b46-4235-9287-04d94536fc36",
   "metadata": {},
   "outputs": [
    {
     "ename": "SystemExit",
     "evalue": "0",
     "output_type": "error",
     "traceback": [
      "An exception has occurred, use %tb to see the full traceback.\n",
      "\u001b[1;31mSystemExit\u001b[0m\u001b[1;31m:\u001b[0m 0\n"
     ]
    }
   ],
   "source": [
    "sys.exit(0)  # 0 表示正常退出，非 0 表示异常"
   ]
  },
  {
   "cell_type": "markdown",
   "id": "47507d69-1b0b-4c1f-a7fe-a2a008a0f091",
   "metadata": {},
   "source": [
    "### 3.3. 标准输入输出"
   ]
  },
  {
   "cell_type": "code",
   "execution_count": 132,
   "id": "7eeec871-4247-4229-93dc-de098f468b7f",
   "metadata": {},
   "outputs": [
    {
     "name": "stdout",
     "output_type": "stream",
     "text": [
      "Hello\n"
     ]
    },
    {
     "name": "stderr",
     "output_type": "stream",
     "text": [
      "Error message\n"
     ]
    },
    {
     "data": {
      "text/plain": [
       "14"
      ]
     },
     "execution_count": 132,
     "metadata": {},
     "output_type": "execute_result"
    }
   ],
   "source": [
    "sys.stdout.write(\"Hello\\n\")  # 标准输出\n",
    "sys.stderr.write(\"Error message\\n\")  # 标准错误"
   ]
  },
  {
   "cell_type": "markdown",
   "id": "a7e67667-42f4-4511-899b-60dd1a6e0450",
   "metadata": {},
   "source": [
    "### 3.4. 解释器信息"
   ]
  },
  {
   "cell_type": "code",
   "execution_count": 135,
   "id": "782fe1c8-6a9f-40b8-b056-24ed8bb70712",
   "metadata": {},
   "outputs": [
    {
     "name": "stdout",
     "output_type": "stream",
     "text": [
      "3.12.9 | packaged by Anaconda, Inc. | (main, Feb  6 2025, 18:49:16) [MSC v.1929 64 bit (AMD64)]\n",
      "win32\n"
     ]
    }
   ],
   "source": [
    "print(sys.version)  # Python 版本\n",
    "print(sys.platform)  # 当前操作系统"
   ]
  },
  {
   "cell_type": "markdown",
   "id": "84c33265-efb2-4ec5-85e7-87a530852d4c",
   "metadata": {},
   "source": [
    "## 3. shutil\n",
    "简化的文件操作模块，提供了 文件和目录的复制、移动、删除 等功能，常用于 文件管理和批量操作。"
   ]
  },
  {
   "cell_type": "markdown",
   "id": "55f57f41-575f-444c-bc49-504f02ca37c4",
   "metadata": {},
   "source": [
    "### 3.1. 复制"
   ]
  },
  {
   "cell_type": "code",
   "execution_count": 141,
   "id": "9ae1d15a-80f2-4649-8139-be00ebba6696",
   "metadata": {},
   "outputs": [
    {
     "data": {
      "text/plain": [
       "'destination.txt'"
      ]
     },
     "execution_count": 141,
     "metadata": {},
     "output_type": "execute_result"
    }
   ],
   "source": [
    "import shutil\n",
    "shutil.copy(\"source.txt\", \"destination.txt\")  # 复制文件\n",
    "shutil.copy2(\"source.txt\", \"destination.txt\")  # 复制文件并保留元数据"
   ]
  },
  {
   "cell_type": "code",
   "execution_count": 144,
   "id": "49a4bb5f-fabf-4305-9ad2-da0a90cae57b",
   "metadata": {},
   "outputs": [],
   "source": [
    "import shutil\n",
    "shutil.copytree(\"source_dir\", \"destination_dir\")  # 复制整个目录及其内容"
   ]
  },
  {
   "cell_type": "markdown",
   "id": "135164fe-63f6-4f1a-90da-e6585de212c4",
   "metadata": {},
   "source": [
    "### 3.2. 移动文件或目录"
   ]
  },
  {
   "cell_type": "code",
   "execution_count": 145,
   "id": "c711c9ec-c947-4a8c-9bf0-a196f00a1e21",
   "metadata": {},
   "outputs": [
    {
     "ename": "FileNotFoundError",
     "evalue": "[WinError 2] 系统找不到指定的文件。",
     "output_type": "error",
     "traceback": [
      "\u001b[1;31m---------------------------------------------------------------------------\u001b[0m",
      "\u001b[1;31mFileNotFoundError\u001b[0m                         Traceback (most recent call last)",
      "File \u001b[1;32mD:\\miniconda3\\Lib\\shutil.py:847\u001b[0m, in \u001b[0;36mmove\u001b[1;34m(src, dst, copy_function)\u001b[0m\n\u001b[0;32m    846\u001b[0m \u001b[38;5;28;01mtry\u001b[39;00m:\n\u001b[1;32m--> 847\u001b[0m     \u001b[43mos\u001b[49m\u001b[38;5;241;43m.\u001b[39;49m\u001b[43mrename\u001b[49m\u001b[43m(\u001b[49m\u001b[43msrc\u001b[49m\u001b[43m,\u001b[49m\u001b[43m \u001b[49m\u001b[43mreal_dst\u001b[49m\u001b[43m)\u001b[49m\n\u001b[0;32m    848\u001b[0m \u001b[38;5;28;01mexcept\u001b[39;00m \u001b[38;5;167;01mOSError\u001b[39;00m:\n",
      "\u001b[1;31mFileNotFoundError\u001b[0m: [WinError 2] 系统找不到指定的文件。: 'source.txt' -> 'destination.txt'",
      "\nDuring handling of the above exception, another exception occurred:\n",
      "\u001b[1;31mFileNotFoundError\u001b[0m                         Traceback (most recent call last)",
      "Cell \u001b[1;32mIn[145], line 2\u001b[0m\n\u001b[0;32m      1\u001b[0m \u001b[38;5;28;01mimport\u001b[39;00m \u001b[38;5;21;01mshutil\u001b[39;00m\n\u001b[1;32m----> 2\u001b[0m \u001b[43mshutil\u001b[49m\u001b[38;5;241;43m.\u001b[39;49m\u001b[43mmove\u001b[49m\u001b[43m(\u001b[49m\u001b[38;5;124;43m\"\u001b[39;49m\u001b[38;5;124;43msource.txt\u001b[39;49m\u001b[38;5;124;43m\"\u001b[39;49m\u001b[43m,\u001b[49m\u001b[43m \u001b[49m\u001b[38;5;124;43m\"\u001b[39;49m\u001b[38;5;124;43mdestination.txt\u001b[39;49m\u001b[38;5;124;43m\"\u001b[39;49m\u001b[43m)\u001b[49m  \u001b[38;5;66;03m# 移动文件或目录\u001b[39;00m\n",
      "File \u001b[1;32mD:\\miniconda3\\Lib\\shutil.py:867\u001b[0m, in \u001b[0;36mmove\u001b[1;34m(src, dst, copy_function)\u001b[0m\n\u001b[0;32m    865\u001b[0m         rmtree(src)\n\u001b[0;32m    866\u001b[0m     \u001b[38;5;28;01melse\u001b[39;00m:\n\u001b[1;32m--> 867\u001b[0m         \u001b[43mcopy_function\u001b[49m\u001b[43m(\u001b[49m\u001b[43msrc\u001b[49m\u001b[43m,\u001b[49m\u001b[43m \u001b[49m\u001b[43mreal_dst\u001b[49m\u001b[43m)\u001b[49m\n\u001b[0;32m    868\u001b[0m         os\u001b[38;5;241m.\u001b[39munlink(src)\n\u001b[0;32m    869\u001b[0m \u001b[38;5;28;01mreturn\u001b[39;00m real_dst\n",
      "File \u001b[1;32mD:\\miniconda3\\Lib\\shutil.py:460\u001b[0m, in \u001b[0;36mcopy2\u001b[1;34m(src, dst, follow_symlinks)\u001b[0m\n\u001b[0;32m    458\u001b[0m     flags \u001b[38;5;241m|\u001b[39m\u001b[38;5;241m=\u001b[39m _winapi\u001b[38;5;241m.\u001b[39mCOPY_FILE_COPY_SYMLINK\n\u001b[0;32m    459\u001b[0m \u001b[38;5;28;01mtry\u001b[39;00m:\n\u001b[1;32m--> 460\u001b[0m     \u001b[43m_winapi\u001b[49m\u001b[38;5;241;43m.\u001b[39;49m\u001b[43mCopyFile2\u001b[49m\u001b[43m(\u001b[49m\u001b[43msrc_\u001b[49m\u001b[43m,\u001b[49m\u001b[43m \u001b[49m\u001b[43mdst_\u001b[49m\u001b[43m,\u001b[49m\u001b[43m \u001b[49m\u001b[43mflags\u001b[49m\u001b[43m)\u001b[49m\n\u001b[0;32m    461\u001b[0m     \u001b[38;5;28;01mreturn\u001b[39;00m dst\n\u001b[0;32m    462\u001b[0m \u001b[38;5;28;01mexcept\u001b[39;00m \u001b[38;5;167;01mOSError\u001b[39;00m \u001b[38;5;28;01mas\u001b[39;00m exc:\n",
      "\u001b[1;31mFileNotFoundError\u001b[0m: [WinError 2] 系统找不到指定的文件。"
     ]
    }
   ],
   "source": [
    "import shutil\n",
    "shutil.move(\"source.txt\", \"destination.txt\")  # 移动文件或目录"
   ]
  },
  {
   "cell_type": "markdown",
   "id": "d2c91220-fe64-479c-b4a0-453417a3a357",
   "metadata": {},
   "source": [
    "### 3.3. 压缩"
   ]
  },
  {
   "cell_type": "code",
   "execution_count": 150,
   "id": "39c3e20f-60bd-47d3-9ac1-b827117d144b",
   "metadata": {},
   "outputs": [],
   "source": [
    "shutil.make_archive(\"archive\", \"zip\", \"directory_path\")  # 创建压缩包\n",
    "shutil.unpack_archive(\"archive.zip\", \"destination_dir\")  # 解压文件"
   ]
  },
  {
   "cell_type": "markdown",
   "id": "8e3a16a8-f9a1-4153-946a-e8693cd33866",
   "metadata": {},
   "source": [
    "## 4. glob文件查找\n",
    "glob 模块用于 查找匹配指定模式的文件路径，支持 通配符（如 *、?、[]），常用于 文件路径匹配和批量操作。"
   ]
  },
  {
   "cell_type": "markdown",
   "id": "f3542b65-01fd-4c59-86c7-55c887089e0a",
   "metadata": {},
   "source": [
    "### 4.1. 查找匹配的文件："
   ]
  },
  {
   "cell_type": "code",
   "execution_count": 154,
   "id": "c89d4d6e-0d1b-4ae3-9930-a67570e2b06c",
   "metadata": {},
   "outputs": [
    {
     "name": "stdout",
     "output_type": "stream",
     "text": [
      "['destination.txt']\n",
      "['.\\\\archive.zip', '.\\\\archive_name.zip', '.\\\\destination.txt', '.\\\\directory_path', '.\\\\temp.foo', '.\\\\test', '.\\\\test.log', '.\\\\面试题.ipynb']\n"
     ]
    }
   ],
   "source": [
    "import glob\n",
    "files = glob.glob(\"*.txt\")  # 查找当前目录下所有的 .txt 文件\n",
    "print(files)  \n",
    "files = glob.glob(\"./*\")  # 查找 'dir' 目录下的所有文件和目录\n",
    "print(files)"
   ]
  },
  {
   "cell_type": "markdown",
   "id": "e5a4fbb1-baf6-4dfd-94b6-0df1052c333f",
   "metadata": {},
   "source": [
    "### 4.2. 递归查找"
   ]
  },
  {
   "cell_type": "code",
   "execution_count": 155,
   "id": "001ac877-a52a-479b-9280-b12605c42425",
   "metadata": {},
   "outputs": [
    {
     "name": "stdout",
     "output_type": "stream",
     "text": [
      "['destination.txt']\n"
     ]
    }
   ],
   "source": [
    "files = glob.glob(\"**/*.txt\", recursive=True)  # 查找所有子目录中的 .txt 文件\n",
    "print(files)"
   ]
  },
  {
   "cell_type": "markdown",
   "id": "88fad51a-9d9b-4e40-bddf-bcc00766b50f",
   "metadata": {},
   "source": [
    "## 5. re\n",
    "`re` 模块是 Python 的 **正则表达式模块**，用于处理 **字符串模式匹配**，支持 **查找、替换、分割** 等操作，广泛应用于文本处理和数据清洗。"
   ]
  },
  {
   "cell_type": "markdown",
   "id": "87e7bba1-c194-4a23-a9f8-be01f26b597f",
   "metadata": {},
   "source": [
    "### 5.1. 匹配"
   ]
  },
  {
   "cell_type": "code",
   "execution_count": 168,
   "id": "6ba4cd8c-910c-4c3d-960d-9f72d7b7cb85",
   "metadata": {},
   "outputs": [
    {
     "name": "stdout",
     "output_type": "stream",
     "text": [
      "123\n",
      "123\n",
      "['100', '200']\n"
     ]
    }
   ],
   "source": [
    "import re\n",
    "pattern = r\"\\d+\"\n",
    "match = re.match(pattern, \"123abc\") # 从头匹配\n",
    "print(match.group())\n",
    "\n",
    "text = \"Hello 123, world 456\"\n",
    "match = re.search(r\"\\d+\", text) # 任意开始匹配 一个\n",
    "print(match.group())  # 123\n",
    "\n",
    "text = \"The price is 100 dollars and 200 yen.\"\n",
    "matches = re.findall(r\"\\d+\", text) # 任意开始匹配 多个\n",
    "print(matches)"
   ]
  },
  {
   "cell_type": "markdown",
   "id": "91930f82-b9b6-4095-9c59-a802253db505",
   "metadata": {},
   "source": [
    "### 5.2. 替换"
   ]
  },
  {
   "cell_type": "code",
   "execution_count": 169,
   "id": "07f98316-d101-4186-9a44-7b3070d4b4ee",
   "metadata": {},
   "outputs": [
    {
     "name": "stdout",
     "output_type": "stream",
     "text": [
      "I have many apples. many bars.\n"
     ]
    }
   ],
   "source": [
    "text = \"I have 100 apples. 200 bars.\"\n",
    "result = re.sub(r\"\\d+\", \"many\", text) # 替换匹配（findall)\n",
    "print(result)"
   ]
  },
  {
   "cell_type": "markdown",
   "id": "743b95b0-5cec-4b46-a054-7c4cb8f0813c",
   "metadata": {},
   "source": [
    "### 5.3. 分割"
   ]
  },
  {
   "cell_type": "code",
   "execution_count": 171,
   "id": "796cd6df-7c80-43b0-9a18-b2b8aa337c3b",
   "metadata": {},
   "outputs": [
    {
     "name": "stdout",
     "output_type": "stream",
     "text": [
      "['apple', 'orange', 'banana', 'grape']\n"
     ]
    }
   ],
   "source": [
    "text = \"apple,orange;banana grape\"\n",
    "result = re.split(r\"[,; ]\", text)  # 按逗号、分号和空格分割\n",
    "print(result)\n"
   ]
  },
  {
   "cell_type": "markdown",
   "id": "9f9c91bf-77f8-4466-8c5f-2a7116703999",
   "metadata": {},
   "source": [
    "## 6. math\n"
   ]
  },
  {
   "cell_type": "code",
   "execution_count": 172,
   "id": "3f95533b-2a2a-4eaa-ad89-e659e4b695fa",
   "metadata": {},
   "outputs": [
    {
     "name": "stdout",
     "output_type": "stream",
     "text": [
      "4.0\n",
      "5\n",
      "4\n",
      "5.0\n",
      "120\n",
      "8.0\n",
      "2.718281828459045\n",
      "3.0\n",
      "2.0\n",
      "0.49999999999999994\n",
      "0.5000000000000001\n",
      "0.9999999999999999\n",
      "3.141592653589793\n",
      "2.718281828459045\n"
     ]
    }
   ],
   "source": [
    "\n",
    "import math\n",
    "print(math.sqrt(16))   # 4.0，平方根\n",
    "print(math.ceil(4.2))  # 5，向上取整\n",
    "print(math.floor(4.8)) # 4，向下取整\n",
    "print(math.fabs(-5))   # 5.0，绝对值\n",
    "print(math.factorial(5)) # 120，阶乘\n",
    "\n",
    "print(math.pow(2, 3))    # 8.0，2^3\n",
    "print(math.exp(1))       # e^1\n",
    "print(math.log(8, 2))    # 3.0，以 2 为底的对数\n",
    "print(math.log10(100))   # 2.0，以 10 为底的对数\n",
    "\n",
    "print(math.sin(math.radians(30)))  # 0.5\n",
    "print(math.cos(math.radians(60)))  # 0.5\n",
    "print(math.tan(math.radians(45)))  # 1.0\n",
    "\n",
    "print(math.pi)   # 3.141592653589793\n",
    "print(math.e)    # 2.718281828459045\n"
   ]
  },
  {
   "cell_type": "markdown",
   "id": "9233c04e-0957-46e7-b244-04b2e3f86b70",
   "metadata": {},
   "source": [
    "## 6. random"
   ]
  },
  {
   "cell_type": "markdown",
   "id": "80cd788f-65ce-4042-8d55-479fe5486843",
   "metadata": {},
   "source": [
    "### 6.1. 随机数生成"
   ]
  },
  {
   "cell_type": "code",
   "execution_count": 182,
   "id": "f74cb319-f5ad-4fe4-9038-9407ad012251",
   "metadata": {},
   "outputs": [
    {
     "name": "stdout",
     "output_type": "stream",
     "text": [
      "0.6394267984578837\n",
      "1\n",
      "3.9662019990393316\n"
     ]
    }
   ],
   "source": [
    "import random\n",
    "random.seed(42)  # 设置种子，确保随机数可复现\n",
    "print(random.random())  # 生成 0~1 之间的随机浮点数\n",
    "print(random.randint(1, 10))  # 生成 1~10 之间的随机整数（包含 10）\n",
    "print(random.uniform(1, 5))  # 生成 1~5 之间的随机浮点数"
   ]
  },
  {
   "cell_type": "markdown",
   "id": "645be19c-5052-45c7-8e23-6f5813ff5f1d",
   "metadata": {},
   "source": [
    "### 6.2. 随机选择"
   ]
  },
  {
   "cell_type": "code",
   "execution_count": 183,
   "id": "e18a5d01-ab57-4ff9-a340-b691b851aef2",
   "metadata": {},
   "outputs": [
    {
     "name": "stdout",
     "output_type": "stream",
     "text": [
      "apple\n",
      "['apple', 'cherry']\n",
      "['cherry', 'apple']\n"
     ]
    }
   ],
   "source": [
    "items = ['apple', 'banana', 'cherry']\n",
    "print(random.choice(items))\n",
    "print(random.choices(items, k=2)) # 随机选择 2 个元素（可重复）\n",
    "print(random.sample(items, 2))  # 随机选择 2 个不同元素"
   ]
  },
  {
   "cell_type": "markdown",
   "id": "283cf6df-d156-4a22-82c3-eb5989a2e54a",
   "metadata": {},
   "source": [
    "### 6.3. 打乱"
   ]
  },
  {
   "cell_type": "code",
   "execution_count": 184,
   "id": "fbb8cc78-4ab1-4f64-8843-2979eaf01c13",
   "metadata": {},
   "outputs": [
    {
     "name": "stdout",
     "output_type": "stream",
     "text": [
      "[2, 3, 1, 4, 5]\n"
     ]
    }
   ],
   "source": [
    "numbers = [1, 2, 3, 4, 5]\n",
    "random.shuffle(numbers)  # 原地打乱顺序\n",
    "print(numbers)"
   ]
  },
  {
   "cell_type": "markdown",
   "id": "fb7c9326-c63a-4b92-99a0-7b7a9f222925",
   "metadata": {},
   "source": [
    "## 7. datetime, time\n",
    "- `datetime`：处理日期和时间，如 **获取当前时间、格式化、计算时间差**。  \n",
    "- `time`：处理 **时间戳、延时、CPU 计时**，更底层。 "
   ]
  },
  {
   "cell_type": "markdown",
   "id": "2860f0f7-b929-4e5a-875d-182798e91b12",
   "metadata": {},
   "source": [
    "### 7.1. 获取当前日期时间"
   ]
  },
  {
   "cell_type": "code",
   "execution_count": 334,
   "id": "abb95a0b-b286-4fa6-9134-2fbc76e4519f",
   "metadata": {},
   "outputs": [
    {
     "name": "stdout",
     "output_type": "stream",
     "text": [
      "2025-03-06 18:14:34.384855\n"
     ]
    },
    {
     "ename": "TypeError",
     "evalue": "unbound method datetime.date() needs an argument",
     "output_type": "error",
     "traceback": [
      "\u001b[1;31m---------------------------------------------------------------------------\u001b[0m",
      "\u001b[1;31mTypeError\u001b[0m                                 Traceback (most recent call last)",
      "Cell \u001b[1;32mIn[334], line 4\u001b[0m\n\u001b[0;32m      2\u001b[0m now \u001b[38;5;241m=\u001b[39m datetime\u001b[38;5;241m.\u001b[39mnow()\n\u001b[0;32m      3\u001b[0m \u001b[38;5;28mprint\u001b[39m(now)\n\u001b[1;32m----> 4\u001b[0m \u001b[43mdatetime\u001b[49m\u001b[38;5;241;43m.\u001b[39;49m\u001b[43mdate\u001b[49m\u001b[43m(\u001b[49m\u001b[43m)\u001b[49m\n",
      "\u001b[1;31mTypeError\u001b[0m: unbound method datetime.date() needs an argument"
     ]
    }
   ],
   "source": [
    "from datetime import datetime\n",
    "now = datetime.now()\n",
    "print(now)\n",
    "datetime.date()"
   ]
  },
  {
   "cell_type": "markdown",
   "id": "2e415521-2583-4198-b4fb-4eb44c976d44",
   "metadata": {},
   "source": [
    "### 7.2. 自定义日期"
   ]
  },
  {
   "cell_type": "code",
   "execution_count": 339,
   "id": "cae26a56-1ccd-47de-8b75-84ad86c66778",
   "metadata": {},
   "outputs": [
    {
     "name": "stdout",
     "output_type": "stream",
     "text": [
      "2025-03-06 14:39:00\n"
     ]
    },
    {
     "data": {
      "text/plain": [
       "datetime.date(2025, 1, 1)"
      ]
     },
     "execution_count": 339,
     "metadata": {},
     "output_type": "execute_result"
    }
   ],
   "source": [
    "from datetime import datetime\n",
    "from datetime import date\n",
    "dt = datetime(2025, 3, 6, 14, 39)\n",
    "print(dt)\n",
    "dt = date(year = 2025, month=1,day=1) # 日期\n",
    "dt\n"
   ]
  },
  {
   "cell_type": "markdown",
   "id": "a45a141f-eabd-4579-bf1d-48b6e8ab6936",
   "metadata": {},
   "source": [
    "### 7.3. 格式化日期"
   ]
  },
  {
   "cell_type": "code",
   "execution_count": 192,
   "id": "3851593d-b9bd-48ee-bd8c-01f1d8729fa0",
   "metadata": {},
   "outputs": [
    {
     "name": "stdout",
     "output_type": "stream",
     "text": [
      "2025-03-06 15:49:51\n"
     ]
    }
   ],
   "source": [
    "print(now.strftime(\"%Y-%m-%d %H:%M:%S\"))  # 2025-03-06 12:34:56"
   ]
  },
  {
   "cell_type": "markdown",
   "id": "9d0c94ce-ce62-4113-b33c-b5cb24765132",
   "metadata": {},
   "source": [
    "### 7.4. 解析字符串为日期对象"
   ]
  },
  {
   "cell_type": "code",
   "execution_count": 197,
   "id": "3f2a7c3b-4307-4989-a14f-60697b98bc6c",
   "metadata": {},
   "outputs": [
    {
     "data": {
      "text/plain": [
       "datetime.datetime(2025, 3, 6, 14, 30)"
      ]
     },
     "execution_count": 197,
     "metadata": {},
     "output_type": "execute_result"
    }
   ],
   "source": [
    "dt = datetime.strptime(\"2025-03-06 14:30\", \"%Y-%m-%d %H:%M\") # 日期对象\n",
    "dt"
   ]
  },
  {
   "cell_type": "markdown",
   "id": "ed1f5b56-4e61-4ebf-b693-5e2fcd683a0c",
   "metadata": {},
   "source": [
    "### 7.5. 计算时间差"
   ]
  },
  {
   "cell_type": "code",
   "execution_count": 198,
   "id": "f926e3d6-c4f6-41b9-8b9f-22e9716d9ed9",
   "metadata": {},
   "outputs": [
    {
     "data": {
      "text/plain": [
       "datetime.datetime(2025, 3, 7, 15, 49, 51, 761006)"
      ]
     },
     "execution_count": 198,
     "metadata": {},
     "output_type": "execute_result"
    }
   ],
   "source": [
    "from datetime import timedelta\n",
    "tomorrow = now + timedelta(days=1)\n",
    "tomorrow"
   ]
  },
  {
   "cell_type": "markdown",
   "id": "ed25372b-ae91-4909-95fe-4b65018e7b44",
   "metadata": {},
   "source": [
    "### 7.6. 获取时间戳"
   ]
  },
  {
   "cell_type": "code",
   "execution_count": 200,
   "id": "4f57ca03-611b-455b-a049-13b1fffc96e2",
   "metadata": {},
   "outputs": [
    {
     "name": "stdout",
     "output_type": "stream",
     "text": [
      "1741247747.0378256\n"
     ]
    }
   ],
   "source": [
    "import time\n",
    "print(time.time())"
   ]
  },
  {
   "cell_type": "markdown",
   "id": "eb949c5f-0429-4503-a9b8-77e540c711a3",
   "metadata": {},
   "source": [
    "### 7.7. sleep"
   ]
  },
  {
   "cell_type": "code",
   "execution_count": 202,
   "id": "d52138f1-8f52-4a56-9104-a877977a3ed6",
   "metadata": {},
   "outputs": [],
   "source": [
    "time.sleep(2)"
   ]
  },
  {
   "cell_type": "markdown",
   "id": "9f3d9519-cc55-4b0d-925c-771c0f7957f9",
   "metadata": {},
   "source": [
    "### 7.8. 时间戳格式化"
   ]
  },
  {
   "cell_type": "code",
   "execution_count": 207,
   "id": "94898d4c-1c85-4426-87f9-8e6f058af423",
   "metadata": {},
   "outputs": [
    {
     "name": "stdout",
     "output_type": "stream",
     "text": [
      "2025-03-06 15:59:15\n"
     ]
    },
    {
     "data": {
      "text/plain": [
       "'Thu Mar  6 15:59:15 2025'"
      ]
     },
     "execution_count": 207,
     "metadata": {},
     "output_type": "execute_result"
    }
   ],
   "source": [
    "print(time.strftime(\"%Y-%m-%d %H:%M:%S\"))  # 自定义格式化\n",
    "time.ctime(time.time()) # 正常格式化"
   ]
  },
  {
   "cell_type": "markdown",
   "id": "f3acc325-9d78-4669-a4c9-bb4bc26c23a1",
   "metadata": {},
   "source": [
    "## 8. zlib压缩"
   ]
  },
  {
   "cell_type": "code",
   "execution_count": 210,
   "id": "6e31273f-fc74-4816-9009-d716047be83f",
   "metadata": {},
   "outputs": [
    {
     "name": "stdout",
     "output_type": "stream",
     "text": [
      "41\n",
      "37\n"
     ]
    },
    {
     "data": {
      "text/plain": [
       "226805979"
      ]
     },
     "execution_count": 210,
     "metadata": {},
     "output_type": "execute_result"
    }
   ],
   "source": [
    "import zlib\n",
    "s=b'witch which has which witches wrist watch'\n",
    "print(len(s))\n",
    "t=zlib.compress(s)\n",
    "print(len(t))\n",
    "zlib.crc32(s)"
   ]
  },
  {
   "cell_type": "markdown",
   "id": "d7681473-dec6-41cc-bdde-a320953f4f8c",
   "metadata": {},
   "source": [
    "## 9. json"
   ]
  },
  {
   "cell_type": "markdown",
   "id": "eab378c7-33e5-4003-834c-2b9e5490c5eb",
   "metadata": {},
   "source": [
    "### 9.1. 对象序列、反序列 json字符串"
   ]
  },
  {
   "cell_type": "code",
   "execution_count": 221,
   "id": "503b5eba-afc7-4365-8ffe-839f60c2c793",
   "metadata": {},
   "outputs": [
    {
     "name": "stdout",
     "output_type": "stream",
     "text": [
      "{\"name\": \"Alice\", \"age\": 25, \"city\": \"New York\"}\n",
      "{\n",
      "    \"name\": \"Alice\",\n",
      "    \"age\": 25,\n",
      "    \"city\": \"New York\"\n",
      "}\n",
      "Alice\n"
     ]
    }
   ],
   "source": [
    "import json\n",
    "data = {\"name\": \"Alice\", \"age\": 25, \"city\": \"New York\"}\n",
    "json_str = json.dumps(data)  # 转换为 JSON 字符串\n",
    "print(json_str)  # '{\"name\": \"Alice\", \"age\": 25, \"city\": \"New York\"}'\n",
    "print(json.dumps(data, indent=4))  # 生成格式化 JSON， 缩进换行\n",
    "\n",
    "data = json.loads(json_str)  # 解析 JSON 字符串\n",
    "print(data[\"name\"])  # Alice"
   ]
  },
  {
   "cell_type": "markdown",
   "id": "8a5f9652-85d5-4f7a-91ea-e0393c185c1c",
   "metadata": {},
   "source": [
    "### 9.2. 对象序列、反序列 json文件"
   ]
  },
  {
   "cell_type": "code",
   "execution_count": 301,
   "id": "5a765191-54be-4c07-b3e1-b4e46e44d5b9",
   "metadata": {},
   "outputs": [],
   "source": [
    "import json\n",
    "# 写入json文件\n",
    "with open('data.json', 'w') as f:\n",
    "    json.dump(data, f)\n",
    "\n",
    "# 读取 JSON 文件\n",
    "with open(\"data.json\", \"r\") as f:\n",
    "   data = json.load(f)\n"
   ]
  },
  {
   "cell_type": "markdown",
   "id": "17c81270-2cf8-42d5-84fd-0af8d39a7f88",
   "metadata": {},
   "source": [
    "## 10. itertools迭代工具\n",
    "适用大规模数据处理，排列组合、无限迭代"
   ]
  },
  {
   "cell_type": "markdown",
   "id": "e194d816-9cf6-4d2c-9a31-f25cb7c5c7e1",
   "metadata": {},
   "source": [
    "1. 排列组合"
   ]
  },
  {
   "cell_type": "code",
   "execution_count": 20,
   "id": "deac79a5-5988-4809-bdb1-e54812f84b85",
   "metadata": {},
   "outputs": [
    {
     "name": "stdout",
     "output_type": "stream",
     "text": [
      "[(1, 2), (1, 3), (2, 3)]\n",
      "[(1, 2), (1, 3), (2, 1), (2, 3), (3, 1), (3, 2)]\n"
     ]
    }
   ],
   "source": [
    "import itertools\n",
    "combinations = list(itertools.combinations([1,2,3],2))\n",
    "print(combinations)  # [(1, 2), (1, 3), (2, 3)]\n",
    "\n",
    "permutations = list(itertools.permutations([1, 2, 3], 2))\n",
    "print(permutations)  "
   ]
  },
  {
   "cell_type": "code",
   "execution_count": null,
   "id": "5986d71d-1236-49f4-b411-552065b6ecb1",
   "metadata": {},
   "outputs": [],
   "source": []
  },
  {
   "cell_type": "markdown",
   "id": "74e07064-08a0-4a4d-9185-12ec129a97e9",
   "metadata": {},
   "source": [
    "2. 无限迭代"
   ]
  },
  {
   "cell_type": "code",
   "execution_count": 24,
   "id": "1bd53346-7cbe-4f46-9754-c0a6c15c067e",
   "metadata": {},
   "outputs": [
    {
     "name": "stdout",
     "output_type": "stream",
     "text": [
      "a\n",
      "b\n",
      "c\n",
      "a\n",
      "b\n"
     ]
    }
   ],
   "source": [
    "# cycle无限循环\n",
    "c = itertools.cycle(['a','b','c'])\n",
    "for _ in range(5):\n",
    "    print(next(c))"
   ]
  },
  {
   "cell_type": "code",
   "execution_count": 26,
   "id": "ae1a1769-9b94-4355-948f-70b4017964b1",
   "metadata": {},
   "outputs": [
    {
     "name": "stdout",
     "output_type": "stream",
     "text": [
      "10\n",
      "12\n",
      "14\n",
      "16\n",
      "18\n",
      "20\n",
      "22\n"
     ]
    }
   ],
   "source": [
    "# 无限递增\n",
    "for i in itertools.count(start=10, step=2):\n",
    "    print(i)\n",
    "    if i>20:\n",
    "        break"
   ]
  },
  {
   "cell_type": "code",
   "execution_count": 28,
   "id": "14c3d34a-ccee-4d63-94ae-29246beeb264",
   "metadata": {},
   "outputs": [
    {
     "name": "stdout",
     "output_type": "stream",
     "text": [
      "['hello', 'hello', 'hello']\n"
     ]
    }
   ],
   "source": [
    "# 重复元素\n",
    "r = itertools.repeat('hello',3)\n",
    "print(list(r))"
   ]
  },
  {
   "cell_type": "markdown",
   "id": "42cd957e-fb4f-4a42-8af5-3ff0c4e29b9a",
   "metadata": {},
   "source": [
    "---"
   ]
  },
  {
   "cell_type": "markdown",
   "id": "d25f9ce2-0ba0-43a8-a137-e1930bc8ff0a",
   "metadata": {},
   "source": [
    "# 多线程\n",
    "GIL（全局解释器锁） 限制了 Python 线程的并行计算，适用于 I/O 密集型 而非 CPU 密集型 任务。"
   ]
  },
  {
   "cell_type": "markdown",
   "id": "1fa8993b-2ebc-4c2f-867d-6dede22978d9",
   "metadata": {},
   "source": [
    "## 1. 线程创建、启动"
   ]
  },
  {
   "cell_type": "code",
   "execution_count": 303,
   "id": "69a7e4da-60f9-4ae4-90fc-4427d3330275",
   "metadata": {},
   "outputs": [
    {
     "name": "stdout",
     "output_type": "stream",
     "text": [
      "线程执行中\n"
     ]
    }
   ],
   "source": [
    "import threading\n",
    "def task():\n",
    "    print(\"线程执行中\")\n",
    "t = threading.Thread(target=task)  # 创建线程\n",
    "t.start()  # 启动线程\n",
    "t.join()  # 等待线程结束\n"
   ]
  },
  {
   "cell_type": "markdown",
   "id": "b75111d1-3e3f-4b21-91ea-565fa435300a",
   "metadata": {},
   "source": [
    "## 2. Lock 线程锁"
   ]
  },
  {
   "cell_type": "code",
   "execution_count": 304,
   "id": "d9421838-7102-400b-a63c-705e9cb4b9de",
   "metadata": {},
   "outputs": [
    {
     "name": "stdout",
     "output_type": "stream",
     "text": [
      "2\n"
     ]
    }
   ],
   "source": [
    "lock = threading.Lock()\n",
    "counter = 0\n",
    "\n",
    "def safe_increment():\n",
    "    global counter\n",
    "    with lock:  # 自动上锁 & 释放\n",
    "        counter += 1\n",
    "\n",
    "t1 = threading.Thread(target=safe_increment)\n",
    "t2 = threading.Thread(target=safe_increment)\n",
    "t1.start(); \n",
    "t2.start()\n",
    "t1.join();\n",
    "t2.join()\n",
    "print(counter)"
   ]
  },
  {
   "cell_type": "markdown",
   "id": "0db6d9ce-c895-43ce-af5b-735a7888544d",
   "metadata": {},
   "source": [
    "## 3. ThreadPoolExecutor 线程池\n",
    "更好的执行，"
   ]
  },
  {
   "cell_type": "code",
   "execution_count": 307,
   "id": "7c75cd11-130e-4ffa-8115-15fc8cc00ae2",
   "metadata": {},
   "outputs": [
    {
     "name": "stdout",
     "output_type": "stream",
     "text": [
      "[0, 1, 4, 9, 16]\n"
     ]
    }
   ],
   "source": [
    "from concurrent.futures import ThreadPoolExecutor\n",
    "def task(n):\n",
    "    return n*n\n",
    "\n",
    "results = []\n",
    "with ThreadPoolExecutor(max_workers=5) as executor:\n",
    "    results = list(executor.map(task, range(5))) # executor.map方法，task执行5次，参数分别为后面的0,1,2,3,4\n",
    "print(results)"
   ]
  },
  {
   "cell_type": "code",
   "execution_count": null,
   "id": "e41882e9-da6f-470e-a799-966adc9a218c",
   "metadata": {},
   "outputs": [],
   "source": []
  },
  {
   "cell_type": "markdown",
   "id": "0de5be27-cff6-439b-86f5-06753c21dac0",
   "metadata": {},
   "source": [
    "# 面向对象\n",
    "Python **支持面向对象编程**（OOP），主要概念包括 **类（Class）、对象（Object）、封装、继承、多态**。  "
   ]
  },
  {
   "cell_type": "markdown",
   "id": "2b7ac013-6766-4306-a408-65624365f0ea",
   "metadata": {},
   "source": [
    "变量命名空间和作用域\n"
   ]
  },
  {
   "cell_type": "code",
   "execution_count": 10,
   "id": "f76a2c9e-c43e-4461-919b-53f18bbf05f5",
   "metadata": {},
   "outputs": [
    {
     "name": "stdout",
     "output_type": "stream",
     "text": [
      "after do_Local :  scope var\n",
      "after do_nonlocal :  do nonlocal var\n",
      "after do_global :  do nonlocal var\n",
      "In global scope :  do global var\n"
     ]
    }
   ],
   "source": [
    "def scope_test():\n",
    "    def do_local():\n",
    "        var = 'do local var'\n",
    "    def do_nonlocal():\n",
    "        nonlocal var\n",
    "        var = 'do nonlocal var'\n",
    "\n",
    "    def do_global():\n",
    "        global var\n",
    "        var = 'do global var'\n",
    "    var = 'scope var'\n",
    "    do_local()\n",
    "    print('after do_Local : ', var) \n",
    "    do_nonlocal()\n",
    "    print('after do_nonlocal : ', var)\n",
    "    do_global()\n",
    "    print('after do_global : ', var)\n",
    "\n",
    "scope_test()\n",
    "# print(var) # if we don't have global, name 'var' is not defined\n",
    "print('In global scope : ', var)"
   ]
  },
  {
   "cell_type": "markdown",
   "id": "39d3bbb8-cf97-442d-bedd-0999d6545f51",
   "metadata": {},
   "source": [
    "注意的是：   nonlocal说明变量在外层作用域改变；global说明变量在模块层面改变"
   ]
  },
  {
   "cell_type": "markdown",
   "id": "3d01a4d5-6dba-40c0-9612-7304f135af98",
   "metadata": {},
   "source": [
    "类"
   ]
  },
  {
   "cell_type": "code",
   "execution_count": 15,
   "id": "d62db5a3-6d4e-43e2-855c-bd8ff9a83cfc",
   "metadata": {},
   "outputs": [],
   "source": [
    "class MYClass:\n",
    "    \"\"\" 这是一个类\n",
    "    \"\"\"\n",
    "    i = 1\n",
    "    def f(self):\n",
    "        return 'hello'"
   ]
  },
  {
   "cell_type": "code",
   "execution_count": 18,
   "id": "738e04a1-8265-403a-8bc4-55829a59201f",
   "metadata": {},
   "outputs": [
    {
     "name": "stdout",
     "output_type": "stream",
     "text": [
      "类属性 <function MYClass.f at 0x000001F87E5B4CA0> 1  这是一个类\n",
      "    \n"
     ]
    }
   ],
   "source": [
    "print('类属性', MYClass.f, MYClass.i, MYClass.__doc__)"
   ]
  },
  {
   "cell_type": "markdown",
   "id": "5241a411-af6a-4bbc-9789-6b75f6b725b2",
   "metadata": {},
   "source": []
  },
  {
   "cell_type": "markdown",
   "id": "322cf814-0fca-4f15-9ef6-1877e48064ff",
   "metadata": {},
   "source": [
    "__init__ 初始化类对象"
   ]
  },
  {
   "cell_type": "code",
   "execution_count": 19,
   "id": "70bda8c5-afc8-4697-9ee5-5208c2f7603c",
   "metadata": {},
   "outputs": [],
   "source": [
    "class MYClass:\n",
    "    counter = 1\n",
    "    def f(self):\n",
    "        pass"
   ]
  },
  {
   "cell_type": "code",
   "execution_count": 23,
   "id": "34acf120-ccf3-4042-ba39-aca4c942ddea",
   "metadata": {},
   "outputs": [
    {
     "name": "stdout",
     "output_type": "stream",
     "text": [
      "对象属性: 1 \t <bound method MYClass.f of <__main__.MYClass object at 0x000001F87EA803A0>>\n",
      "类属性: 1 \t <function MYClass.f at 0x000001F87E5B49D0>\n"
     ]
    }
   ],
   "source": [
    "x = MYClass()\n",
    "print('对象属性:', x.counter, '\\t', x.f)\n",
    "print('类属性:', MYClass.counter, '\\t', MYClass.f)"
   ]
  },
  {
   "cell_type": "markdown",
   "id": "29a998ae-dcb6-4f23-a894-bd7cbd0f8838",
   "metadata": {},
   "source": [
    "可以看到: 对于数据属性，类和对象等价。方法属性，两者却完全不同。但是 x.f() 等价于 MYClass.f(x)"
   ]
  },
  {
   "cell_type": "code",
   "execution_count": 28,
   "id": "8f661044-f51d-4e12-ba58-6d59316460bf",
   "metadata": {},
   "outputs": [
    {
     "name": "stdout",
     "output_type": "stream",
     "text": [
      "方法属性的对比！ \n",
      " <bound method MYClass.f of <__main__.MYClass object at 0x000001F87EA803A0>> \n",
      " <function MYClass.f at 0x000001F87E5B49D0> \n",
      " None\n"
     ]
    }
   ],
   "source": [
    "print('方法属性的对比！', '\\n', x.f, '\\n', MYClass.f, '\\n',  MYClass.f(x))"
   ]
  },
  {
   "cell_type": "code",
   "execution_count": null,
   "id": "3650d9e0-f506-4204-aa02-305374779467",
   "metadata": {},
   "outputs": [],
   "source": []
  },
  {
   "cell_type": "markdown",
   "id": "072d86e0-29d5-4283-8ccd-7d4330b1bc29",
   "metadata": {},
   "source": [
    "错误使用类属性和对象属性："
   ]
  },
  {
   "cell_type": "code",
   "execution_count": 40,
   "id": "47020c17-4fb2-4df2-a419-52ab80eb250e",
   "metadata": {},
   "outputs": [],
   "source": []
  },
  {
   "cell_type": "code",
   "execution_count": 42,
   "id": "9b70a31f-8e1b-4fd8-95c9-05a8a71f6916",
   "metadata": {},
   "outputs": [
    {
     "name": "stdout",
     "output_type": "stream",
     "text": [
      "['dog', 'cat'] ['dog', 'cat'] ['dog', 'cat']\n"
     ]
    }
   ],
   "source": [
    "class Animal:\n",
    "    tricks = [] # 数据类属性\n",
    "    def __init__(self, name):\n",
    "        self.name = name\n",
    "    def t(self):\n",
    "        self.tricks.append(self.name)\n",
    "dog = Animal('dog')\n",
    "dog.t()\n",
    "cat = Animal('cat')\n",
    "cat.t()\n",
    "print(Animal.tricks, dog.tricks, cat.tricks)"
   ]
  },
  {
   "cell_type": "markdown",
   "id": "57e9f4b7-7413-42a4-a7d9-2620f29a546a",
   "metadata": {},
   "source": [
    "对象属性和类属性冲突时候， 对象属性访问优先选择实例，且不影响类属性的。"
   ]
  },
  {
   "cell_type": "code",
   "execution_count": 46,
   "id": "38f971ba-3473-4d34-8c18-8ce77ac64290",
   "metadata": {},
   "outputs": [
    {
     "name": "stdout",
     "output_type": "stream",
     "text": [
      "animal\n",
      "animal dog\n"
     ]
    }
   ],
   "source": [
    "class Animal:\n",
    "    name = 'animal'\n",
    "dog = Animal()\n",
    "print(dog.name)\n",
    "dog.name = 'dog'\n",
    "print(Animal.name, dog.name)"
   ]
  },
  {
   "cell_type": "markdown",
   "id": "215e63fa-6766-47f6-b9dd-17e2aa1786a9",
   "metadata": {},
   "source": [
    "## 2. 封装\n",
    "私有属性. 通过定义getter/setter控制访问。"
   ]
  },
  {
   "cell_type": "code",
   "execution_count": 314,
   "id": "0322935a-3166-43ee-b849-cd34c809953d",
   "metadata": {},
   "outputs": [
    {
     "name": "stdout",
     "output_type": "stream",
     "text": [
      "30\n"
     ]
    }
   ],
   "source": [
    "class Person:\n",
    "    def __init__(self, name, age):\n",
    "        self.name = name\n",
    "        self.__age = age\n",
    "    def get_age(self):\n",
    "        return self.__age\n",
    "p = Person(\"张三\", 30)\n",
    "print(p.get_age())  # 30\n",
    "# print(p.__age)  # ❌ 报错，外部无法访问"
   ]
  },
  {
   "cell_type": "markdown",
   "id": "5bf5f42d-49b9-4e05-a87c-e62b1b2c6109",
   "metadata": {},
   "source": [
    "## 3. 继承"
   ]
  },
  {
   "cell_type": "code",
   "execution_count": 317,
   "id": "2e659c74-957c-4c54-81a6-235fd1c3de03",
   "metadata": {},
   "outputs": [
    {
     "name": "stdout",
     "output_type": "stream",
     "text": [
      "哈士奇 汪汪！\n"
     ]
    }
   ],
   "source": [
    "class Dog(Animal): # 继承\n",
    "    def speak(self): # 重写父亲方法\n",
    "        return f\"{self.name} 汪汪！\"\n",
    "d = Dog(\"哈士奇\")\n",
    "print(d.speak())  # 哈士奇 汪汪叫"
   ]
  },
  {
   "cell_type": "markdown",
   "id": "f7556758-0868-4233-89ca-4d8d635262ea",
   "metadata": {},
   "source": [
    "## 4. 多态"
   ]
  },
  {
   "cell_type": "code",
   "execution_count": 321,
   "id": "5916255f-8a4c-435e-9678-98acc85f58e0",
   "metadata": {},
   "outputs": [
    {
     "name": "stdout",
     "output_type": "stream",
     "text": [
      "小狗 汪汪！\n",
      "小猫 喵喵！\n"
     ]
    }
   ],
   "source": [
    "class Cat(Animal):\n",
    "    def speak(self):\n",
    "        return f\"{self.name} 喵喵！\"\n",
    "animals = [Dog(\"小狗\"), Cat(\"小猫\")]\n",
    "for a in animals:\n",
    "    print(a.speak()) # 提升为父类，  自动调用不同子类的重写方法。"
   ]
  },
  {
   "cell_type": "markdown",
   "id": "92ddcff7-823b-4bff-8a28-330ccbda2661",
   "metadata": {},
   "source": [
    "## 5. super父类调用"
   ]
  },
  {
   "cell_type": "code",
   "execution_count": 322,
   "id": "bf530d5a-b6e5-45a7-8079-ba4ec961e743",
   "metadata": {},
   "outputs": [],
   "source": [
    "class Fly(Animal):\n",
    "    def __init__(self, name, color):\n",
    "        super().__init__(name) # 父亲构造\n",
    "        self.color = color"
   ]
  },
  {
   "cell_type": "markdown",
   "id": "a26ec83c-933d-49fc-9da0-3be1705c2e27",
   "metadata": {},
   "source": [
    "❓__class__, __name__"
   ]
  },
  {
   "cell_type": "markdown",
   "id": "83dcee38-55df-490f-9b5c-ef33699acaec",
   "metadata": {},
   "source": [
    "# 面试题"
   ]
  },
  {
   "cell_type": "markdown",
   "id": "0de8b121-62a9-447b-b37e-8c4b5afe0596",
   "metadata": {},
   "source": [
    "1. 输入某年某月某日，判断这一天是这一年的第几天？"
   ]
  },
  {
   "cell_type": "code",
   "execution_count": 346,
   "id": "b8777603-9edb-4286-b27b-e8e1e179f541",
   "metadata": {},
   "outputs": [
    {
     "name": "stdin",
     "output_type": "stream",
     "text": [
      "year: 2020\n",
      "month: 2\n",
      "day: 3\n"
     ]
    },
    {
     "data": {
      "text/plain": [
       "33"
      ]
     },
     "execution_count": 346,
     "metadata": {},
     "output_type": "execute_result"
    }
   ],
   "source": [
    "import datetime\n",
    "def dayofyear():\n",
    "    year = input(\"year:\")\n",
    "    month = input(\"month:\")\n",
    "    day = input(\"day:\")\n",
    "    date1 = datetime.date(year = int(year), month = int(month), day = int(day))\n",
    "    date2 = datetime.date(year = int(year), month = 1, day = 1)\n",
    "    return (date1 - date2).days\n",
    "dayofyear()"
   ]
  },
  {
   "cell_type": "markdown",
   "id": "2d1e777d-d26f-4ca3-8b13-ed1b42fd6807",
   "metadata": {},
   "source": [
    "## 函数参数"
   ]
  },
  {
   "cell_type": "code",
   "execution_count": 11,
   "id": "1f41b44c-23ea-4745-a38c-560744a8e7ca",
   "metadata": {},
   "outputs": [],
   "source": [
    "def f(pos1, pos2, /, pos_or_kwd, *, kwd1, kwd2):\n",
    "    pass"
   ]
  },
  {
   "cell_type": "code",
   "execution_count": 16,
   "id": "7c4c9d9e-65f1-4cd2-a519-bba783383f21",
   "metadata": {},
   "outputs": [],
   "source": [
    "def f(pos_arg, *v_turple_args,  default_arg = 'Hello', **v_dict_args,):\n",
    "    \"\"\" 参数的三种调用情况：位置参数、关键字参数、使用默认参数\n",
    "    \n",
    "    \"\"\"\n",
    "    print(pos_arg, default_arg, v_turple_args, v_dict_args)"
   ]
  },
  {
   "cell_type": "code",
   "execution_count": 17,
   "id": "d1f95325-032f-4d2a-8c22-4a58e6033692",
   "metadata": {},
   "outputs": [
    {
     "name": "stdout",
     "output_type": "stream",
     "text": [
      "1 go ((1, 2), {'name': 'dong'}) {}\n"
     ]
    }
   ],
   "source": [
    "f(1,  (1,2), {'name': 'dong'},default_arg= 'go')"
   ]
  },
  {
   "cell_type": "markdown",
   "id": "c1748aa9-e4b7-4b4d-9cc8-53514d8fca05",
   "metadata": {},
   "source": [
    "默认值参数只计算一次，但是对于可变对象就不一样了。"
   ]
  },
  {
   "cell_type": "code",
   "execution_count": 3,
   "id": "58a846c0-4b51-46cf-bd82-00a8ed3eee98",
   "metadata": {},
   "outputs": [
    {
     "name": "stdout",
     "output_type": "stream",
     "text": [
      "5\n"
     ]
    }
   ],
   "source": [
    "i = 5\n",
    "def f(i = 5):\n",
    "    return i\n",
    "i = 6\n",
    "print(f())"
   ]
  },
  {
   "cell_type": "code",
   "execution_count": 4,
   "id": "732413c0-51e7-4e7e-82db-655dcc30968a",
   "metadata": {},
   "outputs": [
    {
     "name": "stdout",
     "output_type": "stream",
     "text": [
      "[1]\n",
      "[1, 2]\n",
      "[1, 2, 3]\n"
     ]
    }
   ],
   "source": [
    "def f(e, l = []):\n",
    "    l.append(e)\n",
    "    return l\n",
    "print(f(1))\n",
    "print(f(2))\n",
    "print(f(3))"
   ]
  },
  {
   "cell_type": "markdown",
   "id": "4fa94c50-8f40-4426-912d-c998c58886a1",
   "metadata": {},
   "source": [
    "/ 和 * 参数限制"
   ]
  },
  {
   "cell_type": "code",
   "execution_count": 33,
   "id": "aafcf737-dd2c-40e0-bcfc-7dcfeda50116",
   "metadata": {},
   "outputs": [],
   "source": [
    "def standard_arg(arg):\n",
    "    print(arg)\n",
    "def pos_only_arg(arg, /):\n",
    "    print(arg)\n",
    "def kwd_only_arg(*, arg):\n",
    "    print(arg)\n",
    "def combine_arg(pos_only, /, pos_or_kwd, *, kwd_only):\n",
    "    print(pos_only, pos_or_kwd, kwd_only)"
   ]
  },
  {
   "cell_type": "code",
   "execution_count": 28,
   "id": "fc527832-3e97-4ee5-875c-71c796dbf8d0",
   "metadata": {},
   "outputs": [
    {
     "name": "stdout",
     "output_type": "stream",
     "text": [
      "1\n"
     ]
    }
   ],
   "source": [
    "standard_arg(1)"
   ]
  },
  {
   "cell_type": "code",
   "execution_count": 29,
   "id": "f0256bfb-a662-4c87-a9eb-a9ee5587bc01",
   "metadata": {},
   "outputs": [
    {
     "name": "stdout",
     "output_type": "stream",
     "text": [
      "1\n"
     ]
    }
   ],
   "source": [
    "standard_arg(arg = 1)"
   ]
  },
  {
   "cell_type": "code",
   "execution_count": 26,
   "id": "7669b043-fcb8-46ac-8421-5daff802ebde",
   "metadata": {},
   "outputs": [
    {
     "name": "stdout",
     "output_type": "stream",
     "text": [
      "1\n"
     ]
    }
   ],
   "source": [
    "pos_only_arg(1)"
   ]
  },
  {
   "cell_type": "code",
   "execution_count": 27,
   "id": "8e5062c6-28ad-4599-a6a9-832d09ccd261",
   "metadata": {},
   "outputs": [
    {
     "ename": "TypeError",
     "evalue": "pos_only_arg() got some positional-only arguments passed as keyword arguments: 'arg'",
     "output_type": "error",
     "traceback": [
      "\u001b[0;31m---------------------------------------------------------------------------\u001b[0m",
      "\u001b[0;31mTypeError\u001b[0m                                 Traceback (most recent call last)",
      "Cell \u001b[0;32mIn[27], line 1\u001b[0m\n\u001b[0;32m----> 1\u001b[0m \u001b[43mpos_only_arg\u001b[49m\u001b[43m(\u001b[49m\u001b[43marg\u001b[49m\u001b[43m \u001b[49m\u001b[38;5;241;43m=\u001b[39;49m\u001b[43m \u001b[49m\u001b[38;5;241;43m1\u001b[39;49m\u001b[43m)\u001b[49m\n",
      "\u001b[0;31mTypeError\u001b[0m: pos_only_arg() got some positional-only arguments passed as keyword arguments: 'arg'"
     ]
    }
   ],
   "source": [
    "pos_only_arg(arg = 1)"
   ]
  },
  {
   "cell_type": "code",
   "execution_count": 31,
   "id": "7d52a03e-c6f1-4827-bcbb-f1c2d4a0a968",
   "metadata": {},
   "outputs": [
    {
     "ename": "TypeError",
     "evalue": "kwd_only_arg() takes 0 positional arguments but 1 was given",
     "output_type": "error",
     "traceback": [
      "\u001b[0;31m---------------------------------------------------------------------------\u001b[0m",
      "\u001b[0;31mTypeError\u001b[0m                                 Traceback (most recent call last)",
      "Cell \u001b[0;32mIn[31], line 1\u001b[0m\n\u001b[0;32m----> 1\u001b[0m \u001b[43mkwd_only_arg\u001b[49m\u001b[43m(\u001b[49m\u001b[38;5;241;43m1\u001b[39;49m\u001b[43m)\u001b[49m\n",
      "\u001b[0;31mTypeError\u001b[0m: kwd_only_arg() takes 0 positional arguments but 1 was given"
     ]
    }
   ],
   "source": [
    "kwd_only_arg(1)"
   ]
  },
  {
   "cell_type": "code",
   "execution_count": 32,
   "id": "6342f451-07d0-45c1-a6fc-4d5dc6def295",
   "metadata": {},
   "outputs": [
    {
     "name": "stdout",
     "output_type": "stream",
     "text": [
      "1\n"
     ]
    }
   ],
   "source": [
    "kwd_only_arg(arg=1)"
   ]
  },
  {
   "cell_type": "code",
   "execution_count": 34,
   "id": "987e9055-1d79-4e59-8a84-b65042edde28",
   "metadata": {},
   "outputs": [
    {
     "name": "stdout",
     "output_type": "stream",
     "text": [
      "1 2 3\n"
     ]
    }
   ],
   "source": [
    "combine_arg(1, 2, kwd_only=3)"
   ]
  },
  {
   "cell_type": "code",
   "execution_count": 35,
   "id": "9baa67ff-55c5-49c3-82c6-21e2181120bd",
   "metadata": {},
   "outputs": [
    {
     "name": "stdout",
     "output_type": "stream",
     "text": [
      "1 2 3\n"
     ]
    }
   ],
   "source": [
    "combine_arg(1, pos_or_kwd=2, kwd_only= 3)"
   ]
  },
  {
   "cell_type": "markdown",
   "id": "d579083a-366e-405d-b81f-f6fd6fec3285",
   "metadata": {},
   "source": [
    "形参标注"
   ]
  },
  {
   "cell_type": "code",
   "execution_count": 36,
   "id": "c7784b77-6b65-450e-a4a4-b5a1f37e6a6c",
   "metadata": {},
   "outputs": [],
   "source": [
    "def f(i : int, s : str = 'eggs') -> str:\n",
    "    print(i, s)"
   ]
  },
  {
   "cell_type": "code",
   "execution_count": null,
   "id": "b6f06ae8-29c0-4b2b-b497-5fe2a5945821",
   "metadata": {},
   "outputs": [],
   "source": []
  }
 ],
 "metadata": {
  "kernelspec": {
   "display_name": "Python 3 (ipykernel)",
   "language": "python",
   "name": "python3"
  },
  "language_info": {
   "codemirror_mode": {
    "name": "ipython",
    "version": 3
   },
   "file_extension": ".py",
   "mimetype": "text/x-python",
   "name": "python",
   "nbconvert_exporter": "python",
   "pygments_lexer": "ipython3",
   "version": "3.9.23"
  }
 },
 "nbformat": 4,
 "nbformat_minor": 5
}
